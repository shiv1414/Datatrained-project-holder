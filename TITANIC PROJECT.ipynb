{
 "cells": [
  {
   "cell_type": "code",
   "execution_count": 189,
   "id": "4c89d2d7",
   "metadata": {},
   "outputs": [],
   "source": [
    "import pandas as pd \n",
    "import numpy as np\n",
    "import matplotlib.pyplot as plt\n",
    "import seaborn as sns\n",
    "\n",
    "import warnings\n",
    "warnings.filterwarnings('ignore')"
   ]
  },
  {
   "cell_type": "code",
   "execution_count": 190,
   "id": "80bd365e",
   "metadata": {},
   "outputs": [
    {
     "data": {
      "text/html": [
       "<div>\n",
       "<style scoped>\n",
       "    .dataframe tbody tr th:only-of-type {\n",
       "        vertical-align: middle;\n",
       "    }\n",
       "\n",
       "    .dataframe tbody tr th {\n",
       "        vertical-align: top;\n",
       "    }\n",
       "\n",
       "    .dataframe thead th {\n",
       "        text-align: right;\n",
       "    }\n",
       "</style>\n",
       "<table border=\"1\" class=\"dataframe\">\n",
       "  <thead>\n",
       "    <tr style=\"text-align: right;\">\n",
       "      <th></th>\n",
       "      <th>PassengerId</th>\n",
       "      <th>Survived</th>\n",
       "      <th>Pclass</th>\n",
       "      <th>Name</th>\n",
       "      <th>Sex</th>\n",
       "      <th>Age</th>\n",
       "      <th>SibSp</th>\n",
       "      <th>Parch</th>\n",
       "      <th>Ticket</th>\n",
       "      <th>Fare</th>\n",
       "      <th>Cabin</th>\n",
       "      <th>Embarked</th>\n",
       "    </tr>\n",
       "  </thead>\n",
       "  <tbody>\n",
       "    <tr>\n",
       "      <th>0</th>\n",
       "      <td>1</td>\n",
       "      <td>0</td>\n",
       "      <td>3</td>\n",
       "      <td>Braund, Mr. Owen Harris</td>\n",
       "      <td>male</td>\n",
       "      <td>22.0</td>\n",
       "      <td>1</td>\n",
       "      <td>0</td>\n",
       "      <td>A/5 21171</td>\n",
       "      <td>7.2500</td>\n",
       "      <td>NaN</td>\n",
       "      <td>S</td>\n",
       "    </tr>\n",
       "    <tr>\n",
       "      <th>1</th>\n",
       "      <td>2</td>\n",
       "      <td>1</td>\n",
       "      <td>1</td>\n",
       "      <td>Cumings, Mrs. John Bradley (Florence Briggs Th...</td>\n",
       "      <td>female</td>\n",
       "      <td>38.0</td>\n",
       "      <td>1</td>\n",
       "      <td>0</td>\n",
       "      <td>PC 17599</td>\n",
       "      <td>71.2833</td>\n",
       "      <td>C85</td>\n",
       "      <td>C</td>\n",
       "    </tr>\n",
       "    <tr>\n",
       "      <th>2</th>\n",
       "      <td>3</td>\n",
       "      <td>1</td>\n",
       "      <td>3</td>\n",
       "      <td>Heikkinen, Miss. Laina</td>\n",
       "      <td>female</td>\n",
       "      <td>26.0</td>\n",
       "      <td>0</td>\n",
       "      <td>0</td>\n",
       "      <td>STON/O2. 3101282</td>\n",
       "      <td>7.9250</td>\n",
       "      <td>NaN</td>\n",
       "      <td>S</td>\n",
       "    </tr>\n",
       "    <tr>\n",
       "      <th>3</th>\n",
       "      <td>4</td>\n",
       "      <td>1</td>\n",
       "      <td>1</td>\n",
       "      <td>Futrelle, Mrs. Jacques Heath (Lily May Peel)</td>\n",
       "      <td>female</td>\n",
       "      <td>35.0</td>\n",
       "      <td>1</td>\n",
       "      <td>0</td>\n",
       "      <td>113803</td>\n",
       "      <td>53.1000</td>\n",
       "      <td>C123</td>\n",
       "      <td>S</td>\n",
       "    </tr>\n",
       "    <tr>\n",
       "      <th>4</th>\n",
       "      <td>5</td>\n",
       "      <td>0</td>\n",
       "      <td>3</td>\n",
       "      <td>Allen, Mr. William Henry</td>\n",
       "      <td>male</td>\n",
       "      <td>35.0</td>\n",
       "      <td>0</td>\n",
       "      <td>0</td>\n",
       "      <td>373450</td>\n",
       "      <td>8.0500</td>\n",
       "      <td>NaN</td>\n",
       "      <td>S</td>\n",
       "    </tr>\n",
       "    <tr>\n",
       "      <th>...</th>\n",
       "      <td>...</td>\n",
       "      <td>...</td>\n",
       "      <td>...</td>\n",
       "      <td>...</td>\n",
       "      <td>...</td>\n",
       "      <td>...</td>\n",
       "      <td>...</td>\n",
       "      <td>...</td>\n",
       "      <td>...</td>\n",
       "      <td>...</td>\n",
       "      <td>...</td>\n",
       "      <td>...</td>\n",
       "    </tr>\n",
       "    <tr>\n",
       "      <th>886</th>\n",
       "      <td>887</td>\n",
       "      <td>0</td>\n",
       "      <td>2</td>\n",
       "      <td>Montvila, Rev. Juozas</td>\n",
       "      <td>male</td>\n",
       "      <td>27.0</td>\n",
       "      <td>0</td>\n",
       "      <td>0</td>\n",
       "      <td>211536</td>\n",
       "      <td>13.0000</td>\n",
       "      <td>NaN</td>\n",
       "      <td>S</td>\n",
       "    </tr>\n",
       "    <tr>\n",
       "      <th>887</th>\n",
       "      <td>888</td>\n",
       "      <td>1</td>\n",
       "      <td>1</td>\n",
       "      <td>Graham, Miss. Margaret Edith</td>\n",
       "      <td>female</td>\n",
       "      <td>19.0</td>\n",
       "      <td>0</td>\n",
       "      <td>0</td>\n",
       "      <td>112053</td>\n",
       "      <td>30.0000</td>\n",
       "      <td>B42</td>\n",
       "      <td>S</td>\n",
       "    </tr>\n",
       "    <tr>\n",
       "      <th>888</th>\n",
       "      <td>889</td>\n",
       "      <td>0</td>\n",
       "      <td>3</td>\n",
       "      <td>Johnston, Miss. Catherine Helen \"Carrie\"</td>\n",
       "      <td>female</td>\n",
       "      <td>NaN</td>\n",
       "      <td>1</td>\n",
       "      <td>2</td>\n",
       "      <td>W./C. 6607</td>\n",
       "      <td>23.4500</td>\n",
       "      <td>NaN</td>\n",
       "      <td>S</td>\n",
       "    </tr>\n",
       "    <tr>\n",
       "      <th>889</th>\n",
       "      <td>890</td>\n",
       "      <td>1</td>\n",
       "      <td>1</td>\n",
       "      <td>Behr, Mr. Karl Howell</td>\n",
       "      <td>male</td>\n",
       "      <td>26.0</td>\n",
       "      <td>0</td>\n",
       "      <td>0</td>\n",
       "      <td>111369</td>\n",
       "      <td>30.0000</td>\n",
       "      <td>C148</td>\n",
       "      <td>C</td>\n",
       "    </tr>\n",
       "    <tr>\n",
       "      <th>890</th>\n",
       "      <td>891</td>\n",
       "      <td>0</td>\n",
       "      <td>3</td>\n",
       "      <td>Dooley, Mr. Patrick</td>\n",
       "      <td>male</td>\n",
       "      <td>32.0</td>\n",
       "      <td>0</td>\n",
       "      <td>0</td>\n",
       "      <td>370376</td>\n",
       "      <td>7.7500</td>\n",
       "      <td>NaN</td>\n",
       "      <td>Q</td>\n",
       "    </tr>\n",
       "  </tbody>\n",
       "</table>\n",
       "<p>891 rows × 12 columns</p>\n",
       "</div>"
      ],
      "text/plain": [
       "     PassengerId  Survived  Pclass  \\\n",
       "0              1         0       3   \n",
       "1              2         1       1   \n",
       "2              3         1       3   \n",
       "3              4         1       1   \n",
       "4              5         0       3   \n",
       "..           ...       ...     ...   \n",
       "886          887         0       2   \n",
       "887          888         1       1   \n",
       "888          889         0       3   \n",
       "889          890         1       1   \n",
       "890          891         0       3   \n",
       "\n",
       "                                                  Name     Sex   Age  SibSp  \\\n",
       "0                              Braund, Mr. Owen Harris    male  22.0      1   \n",
       "1    Cumings, Mrs. John Bradley (Florence Briggs Th...  female  38.0      1   \n",
       "2                               Heikkinen, Miss. Laina  female  26.0      0   \n",
       "3         Futrelle, Mrs. Jacques Heath (Lily May Peel)  female  35.0      1   \n",
       "4                             Allen, Mr. William Henry    male  35.0      0   \n",
       "..                                                 ...     ...   ...    ...   \n",
       "886                              Montvila, Rev. Juozas    male  27.0      0   \n",
       "887                       Graham, Miss. Margaret Edith  female  19.0      0   \n",
       "888           Johnston, Miss. Catherine Helen \"Carrie\"  female   NaN      1   \n",
       "889                              Behr, Mr. Karl Howell    male  26.0      0   \n",
       "890                                Dooley, Mr. Patrick    male  32.0      0   \n",
       "\n",
       "     Parch            Ticket     Fare Cabin Embarked  \n",
       "0        0         A/5 21171   7.2500   NaN        S  \n",
       "1        0          PC 17599  71.2833   C85        C  \n",
       "2        0  STON/O2. 3101282   7.9250   NaN        S  \n",
       "3        0            113803  53.1000  C123        S  \n",
       "4        0            373450   8.0500   NaN        S  \n",
       "..     ...               ...      ...   ...      ...  \n",
       "886      0            211536  13.0000   NaN        S  \n",
       "887      0            112053  30.0000   B42        S  \n",
       "888      2        W./C. 6607  23.4500   NaN        S  \n",
       "889      0            111369  30.0000  C148        C  \n",
       "890      0            370376   7.7500   NaN        Q  \n",
       "\n",
       "[891 rows x 12 columns]"
      ]
     },
     "execution_count": 190,
     "metadata": {},
     "output_type": "execute_result"
    }
   ],
   "source": [
    "data = pd.read_csv('https://raw.githubusercontent.com/dsrscientist/dataset1/master/titanic_train.csv')\n",
    "data"
   ]
  },
  {
   "cell_type": "code",
   "execution_count": 191,
   "id": "73bde00a",
   "metadata": {},
   "outputs": [
    {
     "data": {
      "text/html": [
       "<div>\n",
       "<style scoped>\n",
       "    .dataframe tbody tr th:only-of-type {\n",
       "        vertical-align: middle;\n",
       "    }\n",
       "\n",
       "    .dataframe tbody tr th {\n",
       "        vertical-align: top;\n",
       "    }\n",
       "\n",
       "    .dataframe thead th {\n",
       "        text-align: right;\n",
       "    }\n",
       "</style>\n",
       "<table border=\"1\" class=\"dataframe\">\n",
       "  <thead>\n",
       "    <tr style=\"text-align: right;\">\n",
       "      <th></th>\n",
       "      <th>PassengerId</th>\n",
       "      <th>Survived</th>\n",
       "      <th>Pclass</th>\n",
       "      <th>Name</th>\n",
       "      <th>Sex</th>\n",
       "      <th>Age</th>\n",
       "      <th>SibSp</th>\n",
       "      <th>Parch</th>\n",
       "      <th>Ticket</th>\n",
       "      <th>Fare</th>\n",
       "      <th>Cabin</th>\n",
       "      <th>Embarked</th>\n",
       "    </tr>\n",
       "  </thead>\n",
       "  <tbody>\n",
       "    <tr>\n",
       "      <th>281</th>\n",
       "      <td>282</td>\n",
       "      <td>0</td>\n",
       "      <td>3</td>\n",
       "      <td>Olsson, Mr. Nils Johan Goransson</td>\n",
       "      <td>male</td>\n",
       "      <td>28.0</td>\n",
       "      <td>0</td>\n",
       "      <td>0</td>\n",
       "      <td>347464</td>\n",
       "      <td>7.8542</td>\n",
       "      <td>NaN</td>\n",
       "      <td>S</td>\n",
       "    </tr>\n",
       "    <tr>\n",
       "      <th>860</th>\n",
       "      <td>861</td>\n",
       "      <td>0</td>\n",
       "      <td>3</td>\n",
       "      <td>Hansen, Mr. Claus Peter</td>\n",
       "      <td>male</td>\n",
       "      <td>41.0</td>\n",
       "      <td>2</td>\n",
       "      <td>0</td>\n",
       "      <td>350026</td>\n",
       "      <td>14.1083</td>\n",
       "      <td>NaN</td>\n",
       "      <td>S</td>\n",
       "    </tr>\n",
       "    <tr>\n",
       "      <th>259</th>\n",
       "      <td>260</td>\n",
       "      <td>1</td>\n",
       "      <td>2</td>\n",
       "      <td>Parrish, Mrs. (Lutie Davis)</td>\n",
       "      <td>female</td>\n",
       "      <td>50.0</td>\n",
       "      <td>0</td>\n",
       "      <td>1</td>\n",
       "      <td>230433</td>\n",
       "      <td>26.0000</td>\n",
       "      <td>NaN</td>\n",
       "      <td>S</td>\n",
       "    </tr>\n",
       "    <tr>\n",
       "      <th>158</th>\n",
       "      <td>159</td>\n",
       "      <td>0</td>\n",
       "      <td>3</td>\n",
       "      <td>Smiljanic, Mr. Mile</td>\n",
       "      <td>male</td>\n",
       "      <td>NaN</td>\n",
       "      <td>0</td>\n",
       "      <td>0</td>\n",
       "      <td>315037</td>\n",
       "      <td>8.6625</td>\n",
       "      <td>NaN</td>\n",
       "      <td>S</td>\n",
       "    </tr>\n",
       "    <tr>\n",
       "      <th>184</th>\n",
       "      <td>185</td>\n",
       "      <td>1</td>\n",
       "      <td>3</td>\n",
       "      <td>Kink-Heilmann, Miss. Luise Gretchen</td>\n",
       "      <td>female</td>\n",
       "      <td>4.0</td>\n",
       "      <td>0</td>\n",
       "      <td>2</td>\n",
       "      <td>315153</td>\n",
       "      <td>22.0250</td>\n",
       "      <td>NaN</td>\n",
       "      <td>S</td>\n",
       "    </tr>\n",
       "    <tr>\n",
       "      <th>123</th>\n",
       "      <td>124</td>\n",
       "      <td>1</td>\n",
       "      <td>2</td>\n",
       "      <td>Webber, Miss. Susan</td>\n",
       "      <td>female</td>\n",
       "      <td>32.5</td>\n",
       "      <td>0</td>\n",
       "      <td>0</td>\n",
       "      <td>27267</td>\n",
       "      <td>13.0000</td>\n",
       "      <td>E101</td>\n",
       "      <td>S</td>\n",
       "    </tr>\n",
       "  </tbody>\n",
       "</table>\n",
       "</div>"
      ],
      "text/plain": [
       "     PassengerId  Survived  Pclass                                 Name  \\\n",
       "281          282         0       3     Olsson, Mr. Nils Johan Goransson   \n",
       "860          861         0       3              Hansen, Mr. Claus Peter   \n",
       "259          260         1       2          Parrish, Mrs. (Lutie Davis)   \n",
       "158          159         0       3                  Smiljanic, Mr. Mile   \n",
       "184          185         1       3  Kink-Heilmann, Miss. Luise Gretchen   \n",
       "123          124         1       2                  Webber, Miss. Susan   \n",
       "\n",
       "        Sex   Age  SibSp  Parch  Ticket     Fare Cabin Embarked  \n",
       "281    male  28.0      0      0  347464   7.8542   NaN        S  \n",
       "860    male  41.0      2      0  350026  14.1083   NaN        S  \n",
       "259  female  50.0      0      1  230433  26.0000   NaN        S  \n",
       "158    male   NaN      0      0  315037   8.6625   NaN        S  \n",
       "184  female   4.0      0      2  315153  22.0250   NaN        S  \n",
       "123  female  32.5      0      0   27267  13.0000  E101        S  "
      ]
     },
     "execution_count": 191,
     "metadata": {},
     "output_type": "execute_result"
    }
   ],
   "source": [
    "data.sample(6)"
   ]
  },
  {
   "cell_type": "code",
   "execution_count": 192,
   "id": "61f5b260",
   "metadata": {},
   "outputs": [
    {
     "data": {
      "text/plain": [
       "Index(['PassengerId', 'Survived', 'Pclass', 'Name', 'Sex', 'Age', 'SibSp',\n",
       "       'Parch', 'Ticket', 'Fare', 'Cabin', 'Embarked'],\n",
       "      dtype='object')"
      ]
     },
     "execution_count": 192,
     "metadata": {},
     "output_type": "execute_result"
    }
   ],
   "source": [
    "data.columns"
   ]
  },
  {
   "cell_type": "code",
   "execution_count": 193,
   "id": "3d9da2a5",
   "metadata": {},
   "outputs": [
    {
     "data": {
      "text/plain": [
       "PassengerId      int64\n",
       "Survived         int64\n",
       "Pclass           int64\n",
       "Name            object\n",
       "Sex             object\n",
       "Age            float64\n",
       "SibSp            int64\n",
       "Parch            int64\n",
       "Ticket          object\n",
       "Fare           float64\n",
       "Cabin           object\n",
       "Embarked        object\n",
       "dtype: object"
      ]
     },
     "execution_count": 193,
     "metadata": {},
     "output_type": "execute_result"
    }
   ],
   "source": [
    "data.dtypes"
   ]
  },
  {
   "cell_type": "code",
   "execution_count": 194,
   "id": "72987995",
   "metadata": {},
   "outputs": [
    {
     "data": {
      "text/plain": [
       "PassengerId      0\n",
       "Survived         0\n",
       "Pclass           0\n",
       "Name             0\n",
       "Sex              0\n",
       "Age            177\n",
       "SibSp            0\n",
       "Parch            0\n",
       "Ticket           0\n",
       "Fare             0\n",
       "Cabin          687\n",
       "Embarked         2\n",
       "dtype: int64"
      ]
     },
     "execution_count": 194,
     "metadata": {},
     "output_type": "execute_result"
    }
   ],
   "source": [
    "data.isnull().sum()"
   ]
  },
  {
   "cell_type": "code",
   "execution_count": 195,
   "id": "403167cf",
   "metadata": {},
   "outputs": [
    {
     "data": {
      "text/plain": [
       "(891, 12)"
      ]
     },
     "execution_count": 195,
     "metadata": {},
     "output_type": "execute_result"
    }
   ],
   "source": [
    "data.shape"
   ]
  },
  {
   "cell_type": "code",
   "execution_count": 196,
   "id": "eebcff2e",
   "metadata": {},
   "outputs": [
    {
     "data": {
      "text/html": [
       "<div>\n",
       "<style scoped>\n",
       "    .dataframe tbody tr th:only-of-type {\n",
       "        vertical-align: middle;\n",
       "    }\n",
       "\n",
       "    .dataframe tbody tr th {\n",
       "        vertical-align: top;\n",
       "    }\n",
       "\n",
       "    .dataframe thead th {\n",
       "        text-align: right;\n",
       "    }\n",
       "</style>\n",
       "<table border=\"1\" class=\"dataframe\">\n",
       "  <thead>\n",
       "    <tr style=\"text-align: right;\">\n",
       "      <th></th>\n",
       "      <th>PassengerId</th>\n",
       "      <th>Survived</th>\n",
       "      <th>Pclass</th>\n",
       "      <th>Age</th>\n",
       "      <th>SibSp</th>\n",
       "      <th>Parch</th>\n",
       "      <th>Fare</th>\n",
       "    </tr>\n",
       "  </thead>\n",
       "  <tbody>\n",
       "    <tr>\n",
       "      <th>count</th>\n",
       "      <td>891.000000</td>\n",
       "      <td>891.000000</td>\n",
       "      <td>891.000000</td>\n",
       "      <td>714.000000</td>\n",
       "      <td>891.000000</td>\n",
       "      <td>891.000000</td>\n",
       "      <td>891.000000</td>\n",
       "    </tr>\n",
       "    <tr>\n",
       "      <th>mean</th>\n",
       "      <td>446.000000</td>\n",
       "      <td>0.383838</td>\n",
       "      <td>2.308642</td>\n",
       "      <td>29.699118</td>\n",
       "      <td>0.523008</td>\n",
       "      <td>0.381594</td>\n",
       "      <td>32.204208</td>\n",
       "    </tr>\n",
       "    <tr>\n",
       "      <th>std</th>\n",
       "      <td>257.353842</td>\n",
       "      <td>0.486592</td>\n",
       "      <td>0.836071</td>\n",
       "      <td>14.526497</td>\n",
       "      <td>1.102743</td>\n",
       "      <td>0.806057</td>\n",
       "      <td>49.693429</td>\n",
       "    </tr>\n",
       "    <tr>\n",
       "      <th>min</th>\n",
       "      <td>1.000000</td>\n",
       "      <td>0.000000</td>\n",
       "      <td>1.000000</td>\n",
       "      <td>0.420000</td>\n",
       "      <td>0.000000</td>\n",
       "      <td>0.000000</td>\n",
       "      <td>0.000000</td>\n",
       "    </tr>\n",
       "    <tr>\n",
       "      <th>25%</th>\n",
       "      <td>223.500000</td>\n",
       "      <td>0.000000</td>\n",
       "      <td>2.000000</td>\n",
       "      <td>20.125000</td>\n",
       "      <td>0.000000</td>\n",
       "      <td>0.000000</td>\n",
       "      <td>7.910400</td>\n",
       "    </tr>\n",
       "    <tr>\n",
       "      <th>50%</th>\n",
       "      <td>446.000000</td>\n",
       "      <td>0.000000</td>\n",
       "      <td>3.000000</td>\n",
       "      <td>28.000000</td>\n",
       "      <td>0.000000</td>\n",
       "      <td>0.000000</td>\n",
       "      <td>14.454200</td>\n",
       "    </tr>\n",
       "    <tr>\n",
       "      <th>75%</th>\n",
       "      <td>668.500000</td>\n",
       "      <td>1.000000</td>\n",
       "      <td>3.000000</td>\n",
       "      <td>38.000000</td>\n",
       "      <td>1.000000</td>\n",
       "      <td>0.000000</td>\n",
       "      <td>31.000000</td>\n",
       "    </tr>\n",
       "    <tr>\n",
       "      <th>max</th>\n",
       "      <td>891.000000</td>\n",
       "      <td>1.000000</td>\n",
       "      <td>3.000000</td>\n",
       "      <td>80.000000</td>\n",
       "      <td>8.000000</td>\n",
       "      <td>6.000000</td>\n",
       "      <td>512.329200</td>\n",
       "    </tr>\n",
       "  </tbody>\n",
       "</table>\n",
       "</div>"
      ],
      "text/plain": [
       "       PassengerId    Survived      Pclass         Age       SibSp  \\\n",
       "count   891.000000  891.000000  891.000000  714.000000  891.000000   \n",
       "mean    446.000000    0.383838    2.308642   29.699118    0.523008   \n",
       "std     257.353842    0.486592    0.836071   14.526497    1.102743   \n",
       "min       1.000000    0.000000    1.000000    0.420000    0.000000   \n",
       "25%     223.500000    0.000000    2.000000   20.125000    0.000000   \n",
       "50%     446.000000    0.000000    3.000000   28.000000    0.000000   \n",
       "75%     668.500000    1.000000    3.000000   38.000000    1.000000   \n",
       "max     891.000000    1.000000    3.000000   80.000000    8.000000   \n",
       "\n",
       "            Parch        Fare  \n",
       "count  891.000000  891.000000  \n",
       "mean     0.381594   32.204208  \n",
       "std      0.806057   49.693429  \n",
       "min      0.000000    0.000000  \n",
       "25%      0.000000    7.910400  \n",
       "50%      0.000000   14.454200  \n",
       "75%      0.000000   31.000000  \n",
       "max      6.000000  512.329200  "
      ]
     },
     "execution_count": 196,
     "metadata": {},
     "output_type": "execute_result"
    }
   ],
   "source": [
    "data.describe()"
   ]
  },
  {
   "cell_type": "code",
   "execution_count": 197,
   "id": "f626074c",
   "metadata": {},
   "outputs": [
    {
     "data": {
      "text/plain": [
       "0    549\n",
       "1    342\n",
       "Name: Survived, dtype: int64"
      ]
     },
     "execution_count": 197,
     "metadata": {},
     "output_type": "execute_result"
    }
   ],
   "source": [
    "data['Survived'].value_counts()"
   ]
  },
  {
   "cell_type": "code",
   "execution_count": 198,
   "id": "3bba0980",
   "metadata": {},
   "outputs": [
    {
     "data": {
      "text/plain": [
       "<AxesSubplot:xlabel='Survived', ylabel='count'>"
      ]
     },
     "execution_count": 198,
     "metadata": {},
     "output_type": "execute_result"
    },
    {
     "data": {
      "image/png": "[encoded data removed]",
      "text/plain": [
       "<Figure size 432x288 with 1 Axes>"
      ]
     },
     "metadata": {
      "needs_background": "light"
     },
     "output_type": "display_data"
    }
   ],
   "source": [
    "#visualization \n",
    "from matplotlib import pyplot as plt\n",
    "import seaborn as sns\n",
    "sns.countplot(data['Survived'])"
   ]
  },
  {
   "cell_type": "code",
   "execution_count": 199,
   "id": "8997f869",
   "metadata": {},
   "outputs": [
    {
     "data": {
      "text/plain": [
       "<AxesSubplot:xlabel='Pclass', ylabel='count'>"
      ]
     },
     "execution_count": 199,
     "metadata": {},
     "output_type": "execute_result"
    },
    {
     "data": {
      "image/png": "[encoded data removed]",
      "text/plain": [
       "<Figure size 432x288 with 1 Axes>"
      ]
     },
     "metadata": {
      "needs_background": "light"
     },
     "output_type": "display_data"
    }
   ],
   "source": [
    "sns.countplot(data['Pclass'])"
   ]
  },
  {
   "cell_type": "code",
   "execution_count": 200,
   "id": "7c472f94",
   "metadata": {},
   "outputs": [
    {
     "data": {
      "text/plain": [
       "<AxesSubplot:xlabel='Survived', ylabel='count'>"
      ]
     },
     "execution_count": 200,
     "metadata": {},
     "output_type": "execute_result"
    },
    {
     "data": {
      "image/png": "[encoded data removed]",
      "text/plain": [
       "<Figure size 432x288 with 1 Axes>"
      ]
     },
     "metadata": {
      "needs_background": "light"
     },
     "output_type": "display_data"
    }
   ],
   "source": [
    "sns.countplot(x = 'Survived', hue = 'Sex', data = data)"
   ]
  },
  {
   "cell_type": "code",
   "execution_count": 201,
   "id": "39941a79",
   "metadata": {},
   "outputs": [
    {
     "data": {
      "text/plain": [
       "<AxesSubplot:xlabel='Survived', ylabel='count'>"
      ]
     },
     "execution_count": 201,
     "metadata": {},
     "output_type": "execute_result"
    },
    {
     "data": {
      "image/png": "[encoded data removed]",
      "text/plain": [
       "<Figure size 432x288 with 1 Axes>"
      ]
     },
     "metadata": {
      "needs_background": "light"
     },
     "output_type": "display_data"
    }
   ],
   "source": [
    "sns.countplot(x = \"Survived\", hue = 'Pclass', data =data)"
   ]
  },
  {
   "cell_type": "code",
   "execution_count": 202,
   "id": "3871a175",
   "metadata": {},
   "outputs": [
    {
     "data": {
      "text/plain": [
       "<AxesSubplot:xlabel='Sex', ylabel='Pclass'>"
      ]
     },
     "execution_count": 202,
     "metadata": {},
     "output_type": "execute_result"
    },
    {
     "data": {
      "image/png": "[encoded data removed]",
      "text/plain": [
       "<Figure size 720x504 with 1 Axes>"
      ]
     },
     "metadata": {
      "needs_background": "light"
     },
     "output_type": "display_data"
    }
   ],
   "source": [
    "plt.figure(figsize=(10,7))\n",
    "sns.boxplot(x = 'Sex', y = 'Pclass', data = data)"
   ]
  },
  {
   "cell_type": "code",
   "execution_count": 203,
   "id": "869658cc",
   "metadata": {},
   "outputs": [
    {
     "data": {
      "image/png": "[encoded data removed]",
      "text/plain": [
       "<Figure size 1080x1080 with 9 Axes>"
      ]
     },
     "metadata": {
      "needs_background": "light"
     },
     "output_type": "display_data"
    }
   ],
   "source": [
    "hist = data.hist(figsize = (15,15))"
   ]
  },
  {
   "cell_type": "code",
   "execution_count": 204,
   "id": "d8805bac",
   "metadata": {},
   "outputs": [
    {
     "name": "stdout",
     "output_type": "stream",
     "text": [
      "<class 'pandas.core.frame.DataFrame'>\n",
      "RangeIndex: 891 entries, 0 to 890\n",
      "Data columns (total 12 columns):\n",
      " #   Column       Non-Null Count  Dtype  \n",
      "---  ------       --------------  -----  \n",
      " 0   PassengerId  891 non-null    int64  \n",
      " 1   Survived     891 non-null    int64  \n",
      " 2   Pclass       891 non-null    int64  \n",
      " 3   Name         891 non-null    object \n",
      " 4   Sex          891 non-null    object \n",
      " 5   Age          714 non-null    float64\n",
      " 6   SibSp        891 non-null    int64  \n",
      " 7   Parch        891 non-null    int64  \n",
      " 8   Ticket       891 non-null    object \n",
      " 9   Fare         891 non-null    float64\n",
      " 10  Cabin        204 non-null    object \n",
      " 11  Embarked     889 non-null    object \n",
      "dtypes: float64(2), int64(5), object(5)\n",
      "memory usage: 83.7+ KB\n"
     ]
    }
   ],
   "source": [
    "data.info()"
   ]
  },
  {
   "cell_type": "code",
   "execution_count": 205,
   "id": "f46b00db",
   "metadata": {},
   "outputs": [],
   "source": [
    "data = data.drop(['Name','PassengerId', 'Ticket', 'Fare', 'Cabin'], axis =1)"
   ]
  },
  {
   "cell_type": "code",
   "execution_count": 206,
   "id": "fd3c55d6",
   "metadata": {},
   "outputs": [
    {
     "data": {
      "text/html": [
       "<div>\n",
       "<style scoped>\n",
       "    .dataframe tbody tr th:only-of-type {\n",
       "        vertical-align: middle;\n",
       "    }\n",
       "\n",
       "    .dataframe tbody tr th {\n",
       "        vertical-align: top;\n",
       "    }\n",
       "\n",
       "    .dataframe thead th {\n",
       "        text-align: right;\n",
       "    }\n",
       "</style>\n",
       "<table border=\"1\" class=\"dataframe\">\n",
       "  <thead>\n",
       "    <tr style=\"text-align: right;\">\n",
       "      <th></th>\n",
       "      <th>Survived</th>\n",
       "      <th>Pclass</th>\n",
       "      <th>Sex</th>\n",
       "      <th>Age</th>\n",
       "      <th>SibSp</th>\n",
       "      <th>Parch</th>\n",
       "      <th>Embarked</th>\n",
       "    </tr>\n",
       "  </thead>\n",
       "  <tbody>\n",
       "    <tr>\n",
       "      <th>0</th>\n",
       "      <td>0</td>\n",
       "      <td>3</td>\n",
       "      <td>male</td>\n",
       "      <td>22.0</td>\n",
       "      <td>1</td>\n",
       "      <td>0</td>\n",
       "      <td>S</td>\n",
       "    </tr>\n",
       "    <tr>\n",
       "      <th>1</th>\n",
       "      <td>1</td>\n",
       "      <td>1</td>\n",
       "      <td>female</td>\n",
       "      <td>38.0</td>\n",
       "      <td>1</td>\n",
       "      <td>0</td>\n",
       "      <td>C</td>\n",
       "    </tr>\n",
       "    <tr>\n",
       "      <th>2</th>\n",
       "      <td>1</td>\n",
       "      <td>3</td>\n",
       "      <td>female</td>\n",
       "      <td>26.0</td>\n",
       "      <td>0</td>\n",
       "      <td>0</td>\n",
       "      <td>S</td>\n",
       "    </tr>\n",
       "    <tr>\n",
       "      <th>3</th>\n",
       "      <td>1</td>\n",
       "      <td>1</td>\n",
       "      <td>female</td>\n",
       "      <td>35.0</td>\n",
       "      <td>1</td>\n",
       "      <td>0</td>\n",
       "      <td>S</td>\n",
       "    </tr>\n",
       "    <tr>\n",
       "      <th>4</th>\n",
       "      <td>0</td>\n",
       "      <td>3</td>\n",
       "      <td>male</td>\n",
       "      <td>35.0</td>\n",
       "      <td>0</td>\n",
       "      <td>0</td>\n",
       "      <td>S</td>\n",
       "    </tr>\n",
       "    <tr>\n",
       "      <th>5</th>\n",
       "      <td>0</td>\n",
       "      <td>3</td>\n",
       "      <td>male</td>\n",
       "      <td>NaN</td>\n",
       "      <td>0</td>\n",
       "      <td>0</td>\n",
       "      <td>Q</td>\n",
       "    </tr>\n",
       "  </tbody>\n",
       "</table>\n",
       "</div>"
      ],
      "text/plain": [
       "   Survived  Pclass     Sex   Age  SibSp  Parch Embarked\n",
       "0         0       3    male  22.0      1      0        S\n",
       "1         1       1  female  38.0      1      0        C\n",
       "2         1       3  female  26.0      0      0        S\n",
       "3         1       1  female  35.0      1      0        S\n",
       "4         0       3    male  35.0      0      0        S\n",
       "5         0       3    male   NaN      0      0        Q"
      ]
     },
     "execution_count": 206,
     "metadata": {},
     "output_type": "execute_result"
    }
   ],
   "source": [
    "data.head(6)"
   ]
  },
  {
   "cell_type": "code",
   "execution_count": 207,
   "id": "705b79c9",
   "metadata": {},
   "outputs": [
    {
     "data": {
      "text/plain": [
       "Survived      0\n",
       "Pclass        0\n",
       "Sex           0\n",
       "Age         177\n",
       "SibSp         0\n",
       "Parch         0\n",
       "Embarked      2\n",
       "dtype: int64"
      ]
     },
     "execution_count": 207,
     "metadata": {},
     "output_type": "execute_result"
    }
   ],
   "source": [
    "data.isnull().sum()"
   ]
  },
  {
   "cell_type": "code",
   "execution_count": 208,
   "id": "1c29377f",
   "metadata": {},
   "outputs": [],
   "source": [
    "# we can impute in the age column by their mean"
   ]
  },
  {
   "cell_type": "code",
   "execution_count": 209,
   "id": "c290e12c",
   "metadata": {},
   "outputs": [],
   "source": [
    "data['Age']= data['Age'].fillna(data['Age'].mean())"
   ]
  },
  {
   "cell_type": "code",
   "execution_count": 210,
   "id": "54c40a0a",
   "metadata": {},
   "outputs": [
    {
     "data": {
      "text/plain": [
       "Survived    0\n",
       "Pclass      0\n",
       "Sex         0\n",
       "Age         0\n",
       "SibSp       0\n",
       "Parch       0\n",
       "Embarked    2\n",
       "dtype: int64"
      ]
     },
     "execution_count": 210,
     "metadata": {},
     "output_type": "execute_result"
    }
   ],
   "source": [
    "data.isnull().sum()"
   ]
  },
  {
   "cell_type": "code",
   "execution_count": 211,
   "id": "2cdaadea",
   "metadata": {},
   "outputs": [],
   "source": [
    "data.Embarked= data.Embarked.fillna('Q')"
   ]
  },
  {
   "cell_type": "code",
   "execution_count": 212,
   "id": "56bd4da8",
   "metadata": {},
   "outputs": [
    {
     "data": {
      "text/plain": [
       "Survived    0\n",
       "Pclass      0\n",
       "Sex         0\n",
       "Age         0\n",
       "SibSp       0\n",
       "Parch       0\n",
       "Embarked    0\n",
       "dtype: int64"
      ]
     },
     "execution_count": 212,
     "metadata": {},
     "output_type": "execute_result"
    }
   ],
   "source": [
    "data.isnull().sum()"
   ]
  },
  {
   "cell_type": "code",
   "execution_count": 213,
   "id": "f5a66c26",
   "metadata": {},
   "outputs": [
    {
     "name": "stdout",
     "output_type": "stream",
     "text": [
      "['male' 'female']\n",
      "['S' 'C' 'Q']\n"
     ]
    }
   ],
   "source": [
    "#converting categorical value to numeric\n",
    "print(data['Sex'].unique())\n",
    "print(data['Embarked'].unique())"
   ]
  },
  {
   "cell_type": "code",
   "execution_count": 214,
   "id": "4b555f5a",
   "metadata": {},
   "outputs": [],
   "source": [
    "sex = ['male', 'female']\n",
    "embarked = ['Q', 'S', 'C']\n",
    "from sklearn.preprocessing import LabelEncoder\n",
    "le = LabelEncoder()\n",
    "le = le.fit(sex)\n",
    "data['Sex'] = le.fit_transform(data['Sex'].astype(str))\n",
    "\n",
    "le = le.fit(embarked)\n",
    "data['Embarked'] = le.fit_transform(data['Embarked'].astype(str))"
   ]
  },
  {
   "cell_type": "code",
   "execution_count": 215,
   "id": "504b0f9a",
   "metadata": {},
   "outputs": [
    {
     "data": {
      "text/html": [
       "<div>\n",
       "<style scoped>\n",
       "    .dataframe tbody tr th:only-of-type {\n",
       "        vertical-align: middle;\n",
       "    }\n",
       "\n",
       "    .dataframe tbody tr th {\n",
       "        vertical-align: top;\n",
       "    }\n",
       "\n",
       "    .dataframe thead th {\n",
       "        text-align: right;\n",
       "    }\n",
       "</style>\n",
       "<table border=\"1\" class=\"dataframe\">\n",
       "  <thead>\n",
       "    <tr style=\"text-align: right;\">\n",
       "      <th></th>\n",
       "      <th>Survived</th>\n",
       "      <th>Pclass</th>\n",
       "      <th>Sex</th>\n",
       "      <th>Age</th>\n",
       "      <th>SibSp</th>\n",
       "      <th>Parch</th>\n",
       "      <th>Embarked</th>\n",
       "    </tr>\n",
       "  </thead>\n",
       "  <tbody>\n",
       "    <tr>\n",
       "      <th>0</th>\n",
       "      <td>0</td>\n",
       "      <td>3</td>\n",
       "      <td>1</td>\n",
       "      <td>22.000000</td>\n",
       "      <td>1</td>\n",
       "      <td>0</td>\n",
       "      <td>2</td>\n",
       "    </tr>\n",
       "    <tr>\n",
       "      <th>1</th>\n",
       "      <td>1</td>\n",
       "      <td>1</td>\n",
       "      <td>0</td>\n",
       "      <td>38.000000</td>\n",
       "      <td>1</td>\n",
       "      <td>0</td>\n",
       "      <td>0</td>\n",
       "    </tr>\n",
       "    <tr>\n",
       "      <th>2</th>\n",
       "      <td>1</td>\n",
       "      <td>3</td>\n",
       "      <td>0</td>\n",
       "      <td>26.000000</td>\n",
       "      <td>0</td>\n",
       "      <td>0</td>\n",
       "      <td>2</td>\n",
       "    </tr>\n",
       "    <tr>\n",
       "      <th>3</th>\n",
       "      <td>1</td>\n",
       "      <td>1</td>\n",
       "      <td>0</td>\n",
       "      <td>35.000000</td>\n",
       "      <td>1</td>\n",
       "      <td>0</td>\n",
       "      <td>2</td>\n",
       "    </tr>\n",
       "    <tr>\n",
       "      <th>4</th>\n",
       "      <td>0</td>\n",
       "      <td>3</td>\n",
       "      <td>1</td>\n",
       "      <td>35.000000</td>\n",
       "      <td>0</td>\n",
       "      <td>0</td>\n",
       "      <td>2</td>\n",
       "    </tr>\n",
       "    <tr>\n",
       "      <th>5</th>\n",
       "      <td>0</td>\n",
       "      <td>3</td>\n",
       "      <td>1</td>\n",
       "      <td>29.699118</td>\n",
       "      <td>0</td>\n",
       "      <td>0</td>\n",
       "      <td>1</td>\n",
       "    </tr>\n",
       "  </tbody>\n",
       "</table>\n",
       "</div>"
      ],
      "text/plain": [
       "   Survived  Pclass  Sex        Age  SibSp  Parch  Embarked\n",
       "0         0       3    1  22.000000      1      0         2\n",
       "1         1       1    0  38.000000      1      0         0\n",
       "2         1       3    0  26.000000      0      0         2\n",
       "3         1       1    0  35.000000      1      0         2\n",
       "4         0       3    1  35.000000      0      0         2\n",
       "5         0       3    1  29.699118      0      0         1"
      ]
     },
     "execution_count": 215,
     "metadata": {},
     "output_type": "execute_result"
    }
   ],
   "source": [
    "data.head(6)"
   ]
  },
  {
   "cell_type": "code",
   "execution_count": 231,
   "id": "5697dfa3",
   "metadata": {},
   "outputs": [
    {
     "name": "stdout",
     "output_type": "stream",
     "text": [
      "[1 0 3 4 2 5 8]\n",
      "[0 1 2 5 3 4 6]\n"
     ]
    }
   ],
   "source": [
    "print(data['SibSp'].unique())\n",
    "print(data['Parch'].unique())"
   ]
  },
  {
   "cell_type": "code",
   "execution_count": 216,
   "id": "9fb92e3f",
   "metadata": {},
   "outputs": [
    {
     "data": {
      "text/html": [
       "<div>\n",
       "<style scoped>\n",
       "    .dataframe tbody tr th:only-of-type {\n",
       "        vertical-align: middle;\n",
       "    }\n",
       "\n",
       "    .dataframe tbody tr th {\n",
       "        vertical-align: top;\n",
       "    }\n",
       "\n",
       "    .dataframe thead th {\n",
       "        text-align: right;\n",
       "    }\n",
       "</style>\n",
       "<table border=\"1\" class=\"dataframe\">\n",
       "  <thead>\n",
       "    <tr style=\"text-align: right;\">\n",
       "      <th></th>\n",
       "      <th>Survived</th>\n",
       "      <th>Pclass</th>\n",
       "      <th>Sex</th>\n",
       "      <th>Age</th>\n",
       "      <th>SibSp</th>\n",
       "      <th>Parch</th>\n",
       "      <th>Embarked</th>\n",
       "    </tr>\n",
       "  </thead>\n",
       "  <tbody>\n",
       "    <tr>\n",
       "      <th>Survived</th>\n",
       "      <td>1.000000</td>\n",
       "      <td>-0.338481</td>\n",
       "      <td>-0.543351</td>\n",
       "      <td>-0.069809</td>\n",
       "      <td>-0.035322</td>\n",
       "      <td>0.081629</td>\n",
       "      <td>-0.171249</td>\n",
       "    </tr>\n",
       "    <tr>\n",
       "      <th>Pclass</th>\n",
       "      <td>-0.338481</td>\n",
       "      <td>1.000000</td>\n",
       "      <td>0.131900</td>\n",
       "      <td>-0.331339</td>\n",
       "      <td>0.083081</td>\n",
       "      <td>0.018443</td>\n",
       "      <td>0.166521</td>\n",
       "    </tr>\n",
       "    <tr>\n",
       "      <th>Sex</th>\n",
       "      <td>-0.543351</td>\n",
       "      <td>0.131900</td>\n",
       "      <td>1.000000</td>\n",
       "      <td>0.084153</td>\n",
       "      <td>-0.114631</td>\n",
       "      <td>-0.245489</td>\n",
       "      <td>0.112094</td>\n",
       "    </tr>\n",
       "    <tr>\n",
       "      <th>Age</th>\n",
       "      <td>-0.069809</td>\n",
       "      <td>-0.331339</td>\n",
       "      <td>0.084153</td>\n",
       "      <td>1.000000</td>\n",
       "      <td>-0.232625</td>\n",
       "      <td>-0.179191</td>\n",
       "      <td>-0.031178</td>\n",
       "    </tr>\n",
       "    <tr>\n",
       "      <th>SibSp</th>\n",
       "      <td>-0.035322</td>\n",
       "      <td>0.083081</td>\n",
       "      <td>-0.114631</td>\n",
       "      <td>-0.232625</td>\n",
       "      <td>1.000000</td>\n",
       "      <td>0.414838</td>\n",
       "      <td>0.069568</td>\n",
       "    </tr>\n",
       "    <tr>\n",
       "      <th>Parch</th>\n",
       "      <td>0.081629</td>\n",
       "      <td>0.018443</td>\n",
       "      <td>-0.245489</td>\n",
       "      <td>-0.179191</td>\n",
       "      <td>0.414838</td>\n",
       "      <td>1.000000</td>\n",
       "      <td>0.041137</td>\n",
       "    </tr>\n",
       "    <tr>\n",
       "      <th>Embarked</th>\n",
       "      <td>-0.171249</td>\n",
       "      <td>0.166521</td>\n",
       "      <td>0.112094</td>\n",
       "      <td>-0.031178</td>\n",
       "      <td>0.069568</td>\n",
       "      <td>0.041137</td>\n",
       "      <td>1.000000</td>\n",
       "    </tr>\n",
       "  </tbody>\n",
       "</table>\n",
       "</div>"
      ],
      "text/plain": [
       "          Survived    Pclass       Sex       Age     SibSp     Parch  Embarked\n",
       "Survived  1.000000 -0.338481 -0.543351 -0.069809 -0.035322  0.081629 -0.171249\n",
       "Pclass   -0.338481  1.000000  0.131900 -0.331339  0.083081  0.018443  0.166521\n",
       "Sex      -0.543351  0.131900  1.000000  0.084153 -0.114631 -0.245489  0.112094\n",
       "Age      -0.069809 -0.331339  0.084153  1.000000 -0.232625 -0.179191 -0.031178\n",
       "SibSp    -0.035322  0.083081 -0.114631 -0.232625  1.000000  0.414838  0.069568\n",
       "Parch     0.081629  0.018443 -0.245489 -0.179191  0.414838  1.000000  0.041137\n",
       "Embarked -0.171249  0.166521  0.112094 -0.031178  0.069568  0.041137  1.000000"
      ]
     },
     "execution_count": 216,
     "metadata": {},
     "output_type": "execute_result"
    }
   ],
   "source": [
    "data.corr()"
   ]
  },
  {
   "cell_type": "code",
   "execution_count": 217,
   "id": "d737db99",
   "metadata": {},
   "outputs": [
    {
     "data": {
      "text/plain": [
       "<AxesSubplot:>"
      ]
     },
     "execution_count": 217,
     "metadata": {},
     "output_type": "execute_result"
    },
    {
     "data": {
      "image/png": "[encoded data removed]",
      "text/plain": [
       "<Figure size 864x648 with 2 Axes>"
      ]
     },
     "metadata": {
      "needs_background": "light"
     },
     "output_type": "display_data"
    }
   ],
   "source": [
    "import matplotlib.pyplot as plt\n",
    "plt.figure(figsize=(12,9))\n",
    "sns.heatmap(data.corr(),annot= True,linewidth=0.1,linecolor='black',fmt=\"0.2f\")"
   ]
  },
  {
   "cell_type": "code",
   "execution_count": 218,
   "id": "010b40ea",
   "metadata": {},
   "outputs": [
    {
     "data": {
      "image/png": "[encoded data removed]",
      "text/plain": [
       "<Figure size 1080x720 with 7 Axes>"
      ]
     },
     "metadata": {},
     "output_type": "display_data"
    }
   ],
   "source": [
    "plt.figure(figsize = (15,10),facecolor = \"red\")\n",
    "plotnumber = 1\n",
    "for column in data:\n",
    "    if plotnumber<=7:\n",
    "        ax=plt.subplot(2,4,plotnumber)\n",
    "        sns.distplot(data[column])\n",
    "        plt.xlabel(column,fontsize=14)\n",
    "        \n",
    "    plotnumber+=1\n",
    "plt.show()"
   ]
  },
  {
   "cell_type": "code",
   "execution_count": 225,
   "id": "238c625b",
   "metadata": {},
   "outputs": [],
   "source": [
    "# now we can chevk the outliers in the continous data colummns"
   ]
  },
  {
   "cell_type": "code",
   "execution_count": 228,
   "id": "cf96a5cf",
   "metadata": {},
   "outputs": [],
   "source": [
    "df_features = data.drop('Survived',axis=1)"
   ]
  },
  {
   "cell_type": "code",
   "execution_count": 229,
   "id": "7d21fe35",
   "metadata": {},
   "outputs": [
    {
     "data": {
      "image/png": "[encoded data removed]",
      "text/plain": [
       "<Figure size 936x576 with 6 Axes>"
      ]
     },
     "metadata": {
      "needs_background": "light"
     },
     "output_type": "display_data"
    }
   ],
   "source": [
    "plt.figure(figsize = (13,8))\n",
    "plotnumber = 1\n",
    "for column in df_features:\n",
    "    if plotnumber<=7:\n",
    "        plt.subplot(2,4,plotnumber)\n",
    "        ax=sns.boxplot(data=df_features[column])\n",
    "        plt.xlabel(column,fontsize=15)\n",
    "        \n",
    "    plotnumber+=1\n",
    "plt.show()"
   ]
  },
  {
   "cell_type": "code",
   "execution_count": 232,
   "id": "6055d031",
   "metadata": {},
   "outputs": [
    {
     "data": {
      "text/plain": [
       "(891, 7)"
      ]
     },
     "execution_count": 232,
     "metadata": {},
     "output_type": "execute_result"
    }
   ],
   "source": [
    "data.shape"
   ]
  },
  {
   "cell_type": "code",
   "execution_count": 233,
   "id": "d0b6019d",
   "metadata": {},
   "outputs": [],
   "source": [
    "from scipy.stats import zscore"
   ]
  },
  {
   "cell_type": "code",
   "execution_count": 234,
   "id": "f8b3c3cc",
   "metadata": {},
   "outputs": [
    {
     "data": {
      "text/plain": [
       "(array([ 13,  16,  25,  50,  59,  68,  71,  86,  96, 116, 119, 159, 164,\n",
       "        167, 171, 180, 182, 201, 233, 261, 266, 278, 324, 360, 386, 437,\n",
       "        438, 480, 493, 541, 542, 567, 610, 630, 638, 672, 678, 683, 686,\n",
       "        736, 745, 774, 787, 792, 813, 824, 846, 850, 851, 858, 863, 885],\n",
       "       dtype=int64),\n",
       " array([2, 1, 2, 1, 1, 1, 1, 2, 0, 0, 1, 1, 1, 2, 1, 1, 1, 1, 1, 1, 1, 1,\n",
       "        1, 2, 1, 2, 2, 1, 0, 1, 1, 2, 2, 0, 2, 0, 2, 1, 1, 2, 0, 2, 1, 1,\n",
       "        1, 1, 1, 1, 0, 2, 1, 2], dtype=int64))"
      ]
     },
     "execution_count": 234,
     "metadata": {},
     "output_type": "execute_result"
    }
   ],
   "source": [
    "z_score = zscore(data[['Age','SibSp','Parch']])\n",
    "abs_z_score = np.abs(z_score)\n",
    "threshold=3\n",
    "np.where(abs_z_score>3)"
   ]
  },
  {
   "cell_type": "code",
   "execution_count": 235,
   "id": "f9595dc2",
   "metadata": {},
   "outputs": [
    {
     "data": {
      "text/html": [
       "<div>\n",
       "<style scoped>\n",
       "    .dataframe tbody tr th:only-of-type {\n",
       "        vertical-align: middle;\n",
       "    }\n",
       "\n",
       "    .dataframe tbody tr th {\n",
       "        vertical-align: top;\n",
       "    }\n",
       "\n",
       "    .dataframe thead th {\n",
       "        text-align: right;\n",
       "    }\n",
       "</style>\n",
       "<table border=\"1\" class=\"dataframe\">\n",
       "  <thead>\n",
       "    <tr style=\"text-align: right;\">\n",
       "      <th></th>\n",
       "      <th>Survived</th>\n",
       "      <th>Pclass</th>\n",
       "      <th>Sex</th>\n",
       "      <th>Age</th>\n",
       "      <th>SibSp</th>\n",
       "      <th>Parch</th>\n",
       "      <th>Embarked</th>\n",
       "    </tr>\n",
       "  </thead>\n",
       "  <tbody>\n",
       "    <tr>\n",
       "      <th>0</th>\n",
       "      <td>0</td>\n",
       "      <td>3</td>\n",
       "      <td>1</td>\n",
       "      <td>22.000000</td>\n",
       "      <td>1</td>\n",
       "      <td>0</td>\n",
       "      <td>2</td>\n",
       "    </tr>\n",
       "    <tr>\n",
       "      <th>1</th>\n",
       "      <td>1</td>\n",
       "      <td>1</td>\n",
       "      <td>0</td>\n",
       "      <td>38.000000</td>\n",
       "      <td>1</td>\n",
       "      <td>0</td>\n",
       "      <td>0</td>\n",
       "    </tr>\n",
       "    <tr>\n",
       "      <th>2</th>\n",
       "      <td>1</td>\n",
       "      <td>3</td>\n",
       "      <td>0</td>\n",
       "      <td>26.000000</td>\n",
       "      <td>0</td>\n",
       "      <td>0</td>\n",
       "      <td>2</td>\n",
       "    </tr>\n",
       "    <tr>\n",
       "      <th>3</th>\n",
       "      <td>1</td>\n",
       "      <td>1</td>\n",
       "      <td>0</td>\n",
       "      <td>35.000000</td>\n",
       "      <td>1</td>\n",
       "      <td>0</td>\n",
       "      <td>2</td>\n",
       "    </tr>\n",
       "    <tr>\n",
       "      <th>4</th>\n",
       "      <td>0</td>\n",
       "      <td>3</td>\n",
       "      <td>1</td>\n",
       "      <td>35.000000</td>\n",
       "      <td>0</td>\n",
       "      <td>0</td>\n",
       "      <td>2</td>\n",
       "    </tr>\n",
       "    <tr>\n",
       "      <th>...</th>\n",
       "      <td>...</td>\n",
       "      <td>...</td>\n",
       "      <td>...</td>\n",
       "      <td>...</td>\n",
       "      <td>...</td>\n",
       "      <td>...</td>\n",
       "      <td>...</td>\n",
       "    </tr>\n",
       "    <tr>\n",
       "      <th>886</th>\n",
       "      <td>0</td>\n",
       "      <td>2</td>\n",
       "      <td>1</td>\n",
       "      <td>27.000000</td>\n",
       "      <td>0</td>\n",
       "      <td>0</td>\n",
       "      <td>2</td>\n",
       "    </tr>\n",
       "    <tr>\n",
       "      <th>887</th>\n",
       "      <td>1</td>\n",
       "      <td>1</td>\n",
       "      <td>0</td>\n",
       "      <td>19.000000</td>\n",
       "      <td>0</td>\n",
       "      <td>0</td>\n",
       "      <td>2</td>\n",
       "    </tr>\n",
       "    <tr>\n",
       "      <th>888</th>\n",
       "      <td>0</td>\n",
       "      <td>3</td>\n",
       "      <td>0</td>\n",
       "      <td>29.699118</td>\n",
       "      <td>1</td>\n",
       "      <td>2</td>\n",
       "      <td>2</td>\n",
       "    </tr>\n",
       "    <tr>\n",
       "      <th>889</th>\n",
       "      <td>1</td>\n",
       "      <td>1</td>\n",
       "      <td>1</td>\n",
       "      <td>26.000000</td>\n",
       "      <td>0</td>\n",
       "      <td>0</td>\n",
       "      <td>0</td>\n",
       "    </tr>\n",
       "    <tr>\n",
       "      <th>890</th>\n",
       "      <td>0</td>\n",
       "      <td>3</td>\n",
       "      <td>1</td>\n",
       "      <td>32.000000</td>\n",
       "      <td>0</td>\n",
       "      <td>0</td>\n",
       "      <td>1</td>\n",
       "    </tr>\n",
       "  </tbody>\n",
       "</table>\n",
       "<p>839 rows × 7 columns</p>\n",
       "</div>"
      ],
      "text/plain": [
       "     Survived  Pclass  Sex        Age  SibSp  Parch  Embarked\n",
       "0           0       3    1  22.000000      1      0         2\n",
       "1           1       1    0  38.000000      1      0         0\n",
       "2           1       3    0  26.000000      0      0         2\n",
       "3           1       1    0  35.000000      1      0         2\n",
       "4           0       3    1  35.000000      0      0         2\n",
       "..        ...     ...  ...        ...    ...    ...       ...\n",
       "886         0       2    1  27.000000      0      0         2\n",
       "887         1       1    0  19.000000      0      0         2\n",
       "888         0       3    0  29.699118      1      2         2\n",
       "889         1       1    1  26.000000      0      0         0\n",
       "890         0       3    1  32.000000      0      0         1\n",
       "\n",
       "[839 rows x 7 columns]"
      ]
     },
     "execution_count": 235,
     "metadata": {},
     "output_type": "execute_result"
    }
   ],
   "source": [
    "fil_entry = (abs_z_score<3).all(axis=1)\n",
    "data = data[fil_entry]\n",
    "data"
   ]
  },
  {
   "cell_type": "code",
   "execution_count": 236,
   "id": "1089ac1a",
   "metadata": {},
   "outputs": [],
   "source": [
    "# as the data having more categorical data so we are not checking the outliers and skewness as it is invalid operation"
   ]
  },
  {
   "cell_type": "code",
   "execution_count": 237,
   "id": "c1b5711f",
   "metadata": {},
   "outputs": [],
   "source": [
    "# seprating the columns into features and target\n",
    "x= data.drop(\"Survived\",axis=1)\n",
    "y= data[\"Survived\"]"
   ]
  },
  {
   "cell_type": "code",
   "execution_count": 238,
   "id": "79473e16",
   "metadata": {},
   "outputs": [],
   "source": [
    "from statsmodels.stats.outliers_influence import variance_inflation_factor"
   ]
  },
  {
   "cell_type": "code",
   "execution_count": 239,
   "id": "2368a883",
   "metadata": {},
   "outputs": [],
   "source": [
    "from sklearn.preprocessing import StandardScaler\n",
    "sc = StandardScaler()\n",
    "x_scaled= sc.fit_transform(x)"
   ]
  },
  {
   "cell_type": "code",
   "execution_count": 240,
   "id": "c160ae9e",
   "metadata": {},
   "outputs": [
    {
     "data": {
      "text/plain": [
       "6"
      ]
     },
     "execution_count": 240,
     "metadata": {},
     "output_type": "execute_result"
    }
   ],
   "source": [
    "x_scaled.shape[1]"
   ]
  },
  {
   "cell_type": "code",
   "execution_count": 241,
   "id": "a5ec1bc7",
   "metadata": {},
   "outputs": [
    {
     "data": {
      "text/html": [
       "<div>\n",
       "<style scoped>\n",
       "    .dataframe tbody tr th:only-of-type {\n",
       "        vertical-align: middle;\n",
       "    }\n",
       "\n",
       "    .dataframe tbody tr th {\n",
       "        vertical-align: top;\n",
       "    }\n",
       "\n",
       "    .dataframe thead th {\n",
       "        text-align: right;\n",
       "    }\n",
       "</style>\n",
       "<table border=\"1\" class=\"dataframe\">\n",
       "  <thead>\n",
       "    <tr style=\"text-align: right;\">\n",
       "      <th></th>\n",
       "      <th>vif</th>\n",
       "      <th>features</th>\n",
       "    </tr>\n",
       "  </thead>\n",
       "  <tbody>\n",
       "    <tr>\n",
       "      <th>0</th>\n",
       "      <td>1.214391</td>\n",
       "      <td>Pclass</td>\n",
       "    </tr>\n",
       "    <tr>\n",
       "      <th>1</th>\n",
       "      <td>1.122560</td>\n",
       "      <td>Sex</td>\n",
       "    </tr>\n",
       "    <tr>\n",
       "      <th>2</th>\n",
       "      <td>1.248867</td>\n",
       "      <td>Age</td>\n",
       "    </tr>\n",
       "    <tr>\n",
       "      <th>3</th>\n",
       "      <td>1.160643</td>\n",
       "      <td>SibSp</td>\n",
       "    </tr>\n",
       "    <tr>\n",
       "      <th>4</th>\n",
       "      <td>1.265525</td>\n",
       "      <td>Parch</td>\n",
       "    </tr>\n",
       "    <tr>\n",
       "      <th>5</th>\n",
       "      <td>1.037083</td>\n",
       "      <td>Embarked</td>\n",
       "    </tr>\n",
       "  </tbody>\n",
       "</table>\n",
       "</div>"
      ],
      "text/plain": [
       "        vif  features\n",
       "0  1.214391    Pclass\n",
       "1  1.122560       Sex\n",
       "2  1.248867       Age\n",
       "3  1.160643     SibSp\n",
       "4  1.265525     Parch\n",
       "5  1.037083  Embarked"
      ]
     },
     "execution_count": 241,
     "metadata": {},
     "output_type": "execute_result"
    }
   ],
   "source": [
    "vif = pd.DataFrame()\n",
    "vif[\"vif\"] = [variance_inflation_factor(x_scaled,i) for i in range(x_scaled.shape[1])]\n",
    "vif[\"features\"] = x.columns\n",
    "\n",
    "vif"
   ]
  },
  {
   "cell_type": "code",
   "execution_count": 242,
   "id": "2ad4aefe",
   "metadata": {},
   "outputs": [],
   "source": [
    "# as the vif value is not greater than the 5 sol there is no multicollinearity"
   ]
  },
  {
   "cell_type": "code",
   "execution_count": 246,
   "id": "5946d28d",
   "metadata": {},
   "outputs": [],
   "source": [
    "from sklearn.linear_model import LogisticRegression\n",
    "lr = LogisticRegression()\n",
    "from sklearn.metrics import accuracy_score,confusion_matrix, roc_curve, roc_auc_score,classification_report\n",
    "from sklearn.model_selection import train_test_split"
   ]
  },
  {
   "cell_type": "code",
   "execution_count": 251,
   "id": "00a08be4",
   "metadata": {},
   "outputs": [],
   "source": [
    "x_train, x_test, y_train, y_test=train_test_split(x,y,test_size=.20,random_state=i)"
   ]
  },
  {
   "cell_type": "code",
   "execution_count": 252,
   "id": "94dcea7e",
   "metadata": {},
   "outputs": [
    {
     "name": "stdout",
     "output_type": "stream",
     "text": [
      "At random state 0 the training accuracy is {0.7883755588673621}\n",
      "At random state 0 the testing accuracy is {0.8214285714285714}\n",
      "\n",
      "\n",
      "At random state 1 the training accuracy is {0.7883755588673621}\n",
      "At random state 1 the testing accuracy is {0.8392857142857143}\n",
      "\n",
      "\n",
      "At random state 2 the training accuracy is {0.789865871833085}\n",
      "At random state 2 the testing accuracy is {0.8273809523809523}\n",
      "\n",
      "\n",
      "At random state 3 the training accuracy is {0.7988077496274217}\n",
      "At random state 3 the testing accuracy is {0.7916666666666666}\n",
      "\n",
      "\n",
      "At random state 4 the training accuracy is {0.8047690014903129}\n",
      "At random state 4 the testing accuracy is {0.7678571428571429}\n",
      "\n",
      "\n",
      "At random state 5 the training accuracy is {0.7988077496274217}\n",
      "At random state 5 the testing accuracy is {0.7976190476190477}\n",
      "\n",
      "\n",
      "At random state 6 the training accuracy is {0.8062593144560357}\n",
      "At random state 6 the testing accuracy is {0.7619047619047619}\n",
      "\n",
      "\n",
      "At random state 7 the training accuracy is {0.7958271236959762}\n",
      "At random state 7 the testing accuracy is {0.8035714285714286}\n",
      "\n",
      "\n",
      "At random state 8 the training accuracy is {0.7913561847988078}\n",
      "At random state 8 the testing accuracy is {0.8214285714285714}\n",
      "\n",
      "\n",
      "At random state 9 the training accuracy is {0.7943368107302533}\n",
      "At random state 9 the testing accuracy is {0.8095238095238095}\n",
      "\n",
      "\n",
      "At random state 10 the training accuracy is {0.7853949329359166}\n",
      "At random state 10 the testing accuracy is {0.8511904761904762}\n",
      "\n",
      "\n",
      "At random state 11 the training accuracy is {0.8002980625931445}\n",
      "At random state 11 the testing accuracy is {0.7916666666666666}\n",
      "\n",
      "\n",
      "At random state 12 the training accuracy is {0.7988077496274217}\n",
      "At random state 12 the testing accuracy is {0.7857142857142857}\n",
      "\n",
      "\n",
      "At random state 13 the training accuracy is {0.7928464977645305}\n",
      "At random state 13 the testing accuracy is {0.8214285714285714}\n",
      "\n",
      "\n",
      "At random state 14 the training accuracy is {0.8002980625931445}\n",
      "At random state 14 the testing accuracy is {0.7559523809523809}\n",
      "\n",
      "\n",
      "At random state 15 the training accuracy is {0.7958271236959762}\n",
      "At random state 15 the testing accuracy is {0.7976190476190477}\n",
      "\n",
      "\n",
      "At random state 16 the training accuracy is {0.797317436661699}\n",
      "At random state 16 the testing accuracy is {0.8035714285714286}\n",
      "\n",
      "\n",
      "At random state 17 the training accuracy is {0.7988077496274217}\n",
      "At random state 17 the testing accuracy is {0.7857142857142857}\n",
      "\n",
      "\n",
      "At random state 18 the training accuracy is {0.7988077496274217}\n",
      "At random state 18 the testing accuracy is {0.7976190476190477}\n",
      "\n",
      "\n",
      "At random state 19 the training accuracy is {0.7988077496274217}\n",
      "At random state 19 the testing accuracy is {0.8035714285714286}\n",
      "\n",
      "\n",
      "At random state 20 the training accuracy is {0.8062593144560357}\n",
      "At random state 20 the testing accuracy is {0.7738095238095238}\n",
      "\n",
      "\n",
      "At random state 21 the training accuracy is {0.8032786885245902}\n",
      "At random state 21 the testing accuracy is {0.7559523809523809}\n",
      "\n",
      "\n",
      "At random state 22 the training accuracy is {0.797317436661699}\n",
      "At random state 22 the testing accuracy is {0.7976190476190477}\n",
      "\n",
      "\n",
      "At random state 23 the training accuracy is {0.8002980625931445}\n",
      "At random state 23 the testing accuracy is {0.7619047619047619}\n",
      "\n",
      "\n",
      "At random state 24 the training accuracy is {0.7913561847988078}\n",
      "At random state 24 the testing accuracy is {0.8392857142857143}\n",
      "\n",
      "\n",
      "At random state 25 the training accuracy is {0.8047690014903129}\n",
      "At random state 25 the testing accuracy is {0.7678571428571429}\n",
      "\n",
      "\n",
      "At random state 26 the training accuracy is {0.8062593144560357}\n",
      "At random state 26 the testing accuracy is {0.7619047619047619}\n",
      "\n",
      "\n",
      "At random state 27 the training accuracy is {0.8062593144560357}\n",
      "At random state 27 the testing accuracy is {0.7678571428571429}\n",
      "\n",
      "\n",
      "At random state 28 the training accuracy is {0.8002980625931445}\n",
      "At random state 28 the testing accuracy is {0.8035714285714286}\n",
      "\n",
      "\n",
      "At random state 29 the training accuracy is {0.7958271236959762}\n",
      "At random state 29 the testing accuracy is {0.7916666666666666}\n",
      "\n",
      "\n",
      "At random state 30 the training accuracy is {0.8002980625931445}\n",
      "At random state 30 the testing accuracy is {0.7797619047619048}\n",
      "\n",
      "\n",
      "At random state 31 the training accuracy is {0.7958271236959762}\n",
      "At random state 31 the testing accuracy is {0.8095238095238095}\n",
      "\n",
      "\n",
      "At random state 32 the training accuracy is {0.8002980625931445}\n",
      "At random state 32 the testing accuracy is {0.7857142857142857}\n",
      "\n",
      "\n",
      "At random state 33 the training accuracy is {0.789865871833085}\n",
      "At random state 33 the testing accuracy is {0.8154761904761905}\n",
      "\n",
      "\n",
      "At random state 34 the training accuracy is {0.8017883755588674}\n",
      "At random state 34 the testing accuracy is {0.7738095238095238}\n",
      "\n",
      "\n",
      "At random state 35 the training accuracy is {0.7958271236959762}\n",
      "At random state 35 the testing accuracy is {0.8273809523809523}\n",
      "\n",
      "\n",
      "At random state 36 the training accuracy is {0.7988077496274217}\n",
      "At random state 36 the testing accuracy is {0.7857142857142857}\n",
      "\n",
      "\n",
      "At random state 37 the training accuracy is {0.7853949329359166}\n",
      "At random state 37 the testing accuracy is {0.8452380952380952}\n",
      "\n",
      "\n",
      "At random state 38 the training accuracy is {0.7928464977645305}\n",
      "At random state 38 the testing accuracy is {0.8095238095238095}\n",
      "\n",
      "\n",
      "At random state 39 the training accuracy is {0.7943368107302533}\n",
      "At random state 39 the testing accuracy is {0.8154761904761905}\n",
      "\n",
      "\n",
      "At random state 40 the training accuracy is {0.8032786885245902}\n",
      "At random state 40 the testing accuracy is {0.7559523809523809}\n",
      "\n",
      "\n",
      "At random state 41 the training accuracy is {0.8181818181818182}\n",
      "At random state 41 the testing accuracy is {0.7083333333333334}\n",
      "\n",
      "\n",
      "At random state 42 the training accuracy is {0.8002980625931445}\n",
      "At random state 42 the testing accuracy is {0.7916666666666666}\n",
      "\n",
      "\n",
      "At random state 43 the training accuracy is {0.8092399403874814}\n",
      "At random state 43 the testing accuracy is {0.7559523809523809}\n",
      "\n",
      "\n",
      "At random state 44 the training accuracy is {0.7988077496274217}\n",
      "At random state 44 the testing accuracy is {0.7678571428571429}\n",
      "\n",
      "\n",
      "At random state 45 the training accuracy is {0.8077496274217586}\n",
      "At random state 45 the testing accuracy is {0.7678571428571429}\n",
      "\n",
      "\n",
      "At random state 46 the training accuracy is {0.7883755588673621}\n",
      "At random state 46 the testing accuracy is {0.8214285714285714}\n",
      "\n",
      "\n",
      "At random state 47 the training accuracy is {0.7883755588673621}\n",
      "At random state 47 the testing accuracy is {0.8392857142857143}\n",
      "\n",
      "\n",
      "At random state 48 the training accuracy is {0.8017883755588674}\n",
      "At random state 48 the testing accuracy is {0.75}\n",
      "\n",
      "\n",
      "At random state 49 the training accuracy is {0.7883755588673621}\n",
      "At random state 49 the testing accuracy is {0.8095238095238095}\n",
      "\n",
      "\n",
      "At random state 50 the training accuracy is {0.789865871833085}\n",
      "At random state 50 the testing accuracy is {0.8154761904761905}\n",
      "\n",
      "\n",
      "At random state 51 the training accuracy is {0.8032786885245902}\n",
      "At random state 51 the testing accuracy is {0.7738095238095238}\n",
      "\n",
      "\n",
      "At random state 52 the training accuracy is {0.8032786885245902}\n",
      "At random state 52 the testing accuracy is {0.7380952380952381}\n",
      "\n",
      "\n",
      "At random state 53 the training accuracy is {0.8017883755588674}\n",
      "At random state 53 the testing accuracy is {0.7797619047619048}\n",
      "\n",
      "\n",
      "At random state 54 the training accuracy is {0.797317436661699}\n",
      "At random state 54 the testing accuracy is {0.8035714285714286}\n",
      "\n",
      "\n",
      "At random state 55 the training accuracy is {0.8032786885245902}\n",
      "At random state 55 the testing accuracy is {0.7738095238095238}\n",
      "\n",
      "\n",
      "At random state 56 the training accuracy is {0.7958271236959762}\n",
      "At random state 56 the testing accuracy is {0.8035714285714286}\n",
      "\n",
      "\n",
      "At random state 57 the training accuracy is {0.7853949329359166}\n",
      "At random state 57 the testing accuracy is {0.8392857142857143}\n",
      "\n",
      "\n",
      "At random state 58 the training accuracy is {0.7928464977645305}\n",
      "At random state 58 the testing accuracy is {0.8214285714285714}\n",
      "\n",
      "\n",
      "At random state 59 the training accuracy is {0.7928464977645305}\n",
      "At random state 59 the testing accuracy is {0.8095238095238095}\n",
      "\n",
      "\n",
      "At random state 60 the training accuracy is {0.8017883755588674}\n",
      "At random state 60 the testing accuracy is {0.7857142857142857}\n",
      "\n",
      "\n",
      "At random state 61 the training accuracy is {0.7988077496274217}\n",
      "At random state 61 the testing accuracy is {0.8035714285714286}\n",
      "\n",
      "\n",
      "At random state 62 the training accuracy is {0.8032786885245902}\n",
      "At random state 62 the testing accuracy is {0.7738095238095238}\n",
      "\n",
      "\n",
      "At random state 63 the training accuracy is {0.8032786885245902}\n",
      "At random state 63 the testing accuracy is {0.7738095238095238}\n",
      "\n",
      "\n",
      "At random state 64 the training accuracy is {0.8017883755588674}\n",
      "At random state 64 the testing accuracy is {0.7976190476190477}\n",
      "\n",
      "\n",
      "At random state 65 the training accuracy is {0.7943368107302533}\n",
      "At random state 65 the testing accuracy is {0.7976190476190477}\n",
      "\n",
      "\n",
      "At random state 66 the training accuracy is {0.7883755588673621}\n",
      "At random state 66 the testing accuracy is {0.8333333333333334}\n",
      "\n",
      "\n",
      "At random state 67 the training accuracy is {0.8077496274217586}\n",
      "At random state 67 the testing accuracy is {0.7559523809523809}\n",
      "\n",
      "\n",
      "At random state 68 the training accuracy is {0.7958271236959762}\n",
      "At random state 68 the testing accuracy is {0.8095238095238095}\n",
      "\n",
      "\n",
      "At random state 69 the training accuracy is {0.7988077496274217}\n",
      "At random state 69 the testing accuracy is {0.7916666666666666}\n",
      "\n",
      "\n",
      "At random state 70 the training accuracy is {0.7958271236959762}\n",
      "At random state 70 the testing accuracy is {0.8154761904761905}\n",
      "\n",
      "\n",
      "At random state 71 the training accuracy is {0.8002980625931445}\n",
      "At random state 71 the testing accuracy is {0.7916666666666666}\n",
      "\n",
      "\n",
      "At random state 72 the training accuracy is {0.8152011922503726}\n",
      "At random state 72 the testing accuracy is {0.7380952380952381}\n",
      "\n",
      "\n",
      "At random state 73 the training accuracy is {0.7943368107302533}\n",
      "At random state 73 the testing accuracy is {0.8035714285714286}\n",
      "\n",
      "\n",
      "At random state 74 the training accuracy is {0.7943368107302533}\n",
      "At random state 74 the testing accuracy is {0.7976190476190477}\n",
      "\n",
      "\n",
      "At random state 75 the training accuracy is {0.7943368107302533}\n",
      "At random state 75 the testing accuracy is {0.8214285714285714}\n",
      "\n",
      "\n",
      "At random state 76 the training accuracy is {0.7958271236959762}\n",
      "At random state 76 the testing accuracy is {0.7976190476190477}\n",
      "\n",
      "\n",
      "At random state 77 the training accuracy is {0.8032786885245902}\n",
      "At random state 77 the testing accuracy is {0.7916666666666666}\n",
      "\n",
      "\n",
      "At random state 78 the training accuracy is {0.8047690014903129}\n",
      "At random state 78 the testing accuracy is {0.7797619047619048}\n",
      "\n",
      "\n",
      "At random state 79 the training accuracy is {0.8032786885245902}\n",
      "At random state 79 the testing accuracy is {0.7619047619047619}\n",
      "\n",
      "\n",
      "At random state 80 the training accuracy is {0.7883755588673621}\n",
      "At random state 80 the testing accuracy is {0.8154761904761905}\n",
      "\n",
      "\n",
      "At random state 81 the training accuracy is {0.7928464977645305}\n",
      "At random state 81 the testing accuracy is {0.8035714285714286}\n",
      "\n",
      "\n",
      "At random state 82 the training accuracy is {0.797317436661699}\n",
      "At random state 82 the testing accuracy is {0.7976190476190477}\n",
      "\n",
      "\n",
      "At random state 83 the training accuracy is {0.797317436661699}\n",
      "At random state 83 the testing accuracy is {0.7976190476190477}\n",
      "\n",
      "\n",
      "At random state 84 the training accuracy is {0.8092399403874814}\n",
      "At random state 84 the testing accuracy is {0.7619047619047619}\n",
      "\n",
      "\n",
      "At random state 85 the training accuracy is {0.8032786885245902}\n",
      "At random state 85 the testing accuracy is {0.7797619047619048}\n",
      "\n",
      "\n",
      "At random state 86 the training accuracy is {0.7928464977645305}\n",
      "At random state 86 the testing accuracy is {0.8095238095238095}\n",
      "\n",
      "\n",
      "At random state 87 the training accuracy is {0.8137108792846498}\n",
      "At random state 87 the testing accuracy is {0.7380952380952381}\n",
      "\n",
      "\n",
      "At random state 88 the training accuracy is {0.8047690014903129}\n",
      "At random state 88 the testing accuracy is {0.7797619047619048}\n",
      "\n",
      "\n",
      "At random state 89 the training accuracy is {0.7988077496274217}\n",
      "At random state 89 the testing accuracy is {0.7738095238095238}\n",
      "\n",
      "\n",
      "At random state 90 the training accuracy is {0.7943368107302533}\n",
      "At random state 90 the testing accuracy is {0.8035714285714286}\n",
      "\n",
      "\n",
      "At random state 91 the training accuracy is {0.7824143070044709}\n",
      "At random state 91 the testing accuracy is {0.8630952380952381}\n",
      "\n",
      "\n",
      "At random state 92 the training accuracy is {0.797317436661699}\n",
      "At random state 92 the testing accuracy is {0.7916666666666666}\n",
      "\n",
      "\n",
      "At random state 93 the training accuracy is {0.8017883755588674}\n",
      "At random state 93 the testing accuracy is {0.7857142857142857}\n",
      "\n",
      "\n",
      "At random state 94 the training accuracy is {0.8017883755588674}\n",
      "At random state 94 the testing accuracy is {0.7857142857142857}\n",
      "\n",
      "\n",
      "At random state 95 the training accuracy is {0.7943368107302533}\n",
      "At random state 95 the testing accuracy is {0.7678571428571429}\n",
      "\n",
      "\n",
      "At random state 96 the training accuracy is {0.8077496274217586}\n",
      "At random state 96 the testing accuracy is {0.7440476190476191}\n",
      "\n",
      "\n",
      "At random state 97 the training accuracy is {0.7749627421758569}\n",
      "At random state 97 the testing accuracy is {0.8452380952380952}\n",
      "\n",
      "\n",
      "At random state 98 the training accuracy is {0.7958271236959762}\n",
      "At random state 98 the testing accuracy is {0.8035714285714286}\n",
      "\n",
      "\n",
      "At random state 99 the training accuracy is {0.8047690014903129}\n",
      "At random state 99 the testing accuracy is {0.7678571428571429}\n",
      "\n",
      "\n"
     ]
    }
   ],
   "source": [
    "for i in range(0,100):\n",
    "    x_train,x_test,y_train,y_test=train_test_split(x,y,test_size=0.2,random_state=i)\n",
    "    lr.fit(x_train,y_train)\n",
    "    pred_train = lr.predict(x_train)\n",
    "    pred_test = lr.predict(x_test)\n",
    "    print(\"At random state\",i , \"the training accuracy is\",  {accuracy_score(y_train,pred_train)})\n",
    "    \n",
    "    print(\"At random state\",i , \"the testing accuracy is\" , {accuracy_score(y_test,pred_test)})\n",
    "    print(\"\\n\")"
   ]
  },
  {
   "cell_type": "code",
   "execution_count": 258,
   "id": "8430d266",
   "metadata": {},
   "outputs": [],
   "source": [
    "x_train, x_test, y_train, y_test=train_test_split(x,y,test_size=.20,random_state=91)"
   ]
  },
  {
   "cell_type": "code",
   "execution_count": 259,
   "id": "2cc284be",
   "metadata": {},
   "outputs": [
    {
     "name": "stdout",
     "output_type": "stream",
     "text": [
      "Accuracy 86.30952380952381\n",
      "[[89 10]\n",
      " [13 56]]\n",
      "              precision    recall  f1-score   support\n",
      "\n",
      "           0       0.87      0.90      0.89        99\n",
      "           1       0.85      0.81      0.83        69\n",
      "\n",
      "    accuracy                           0.86       168\n",
      "   macro avg       0.86      0.86      0.86       168\n",
      "weighted avg       0.86      0.86      0.86       168\n",
      "\n"
     ]
    }
   ],
   "source": [
    "lr = LogisticRegression()\n",
    "lr.fit(x_train,y_train)\n",
    "pred_lr=lr.predict(x_test)\n",
    "print(\"Accuracy\",accuracy_score(y_test,pred_lr)*100)\n",
    "print(confusion_matrix(y_test,pred_lr))\n",
    "print(classification_report(y_test,pred_lr))"
   ]
  },
  {
   "cell_type": "code",
   "execution_count": 265,
   "id": "79f24cd5",
   "metadata": {},
   "outputs": [],
   "source": [
    "Test_accuracy = accuracy_score(y_test,pred_lr)"
   ]
  },
  {
   "cell_type": "code",
   "execution_count": 263,
   "id": "bd7b73d0",
   "metadata": {},
   "outputs": [],
   "source": [
    "from sklearn.model_selection import cross_val_score"
   ]
  },
  {
   "cell_type": "code",
   "execution_count": 269,
   "id": "cf0cc78b",
   "metadata": {},
   "outputs": [
    {
     "name": "stdout",
     "output_type": "stream",
     "text": [
      "At cross fold 3 the cv score is 0.7926224611708482 and accuracy score for testing is 0.8630952380952381\n",
      "\n",
      "\n",
      "At cross fold 4 the cv score is 0.7962121212121213 and accuracy score for testing is 0.8630952380952381\n",
      "\n",
      "\n",
      "At cross fold 5 the cv score is 0.7938337610493299 and accuracy score for testing is 0.8630952380952381\n",
      "\n",
      "\n",
      "At cross fold 6 the cv score is 0.7926430284343953 and accuracy score for testing is 0.8630952380952381\n",
      "\n",
      "\n",
      "At cross fold 7 the cv score is 0.7938375350140056 and accuracy score for testing is 0.8630952380952381\n",
      "\n",
      "\n",
      "At cross fold 8 the cv score is 0.7962339743589744 and accuracy score for testing is 0.8630952380952381\n",
      "\n",
      "\n",
      "At cross fold 9 the cv score is 0.794999872899667 and accuracy score for testing is 0.8630952380952381\n",
      "\n",
      "\n"
     ]
    }
   ],
   "source": [
    "for j in range(3,10):\n",
    "    cv_score = cross_val_score(lr,x,y,cv=j)\n",
    "    cv_mean = cv_score.mean()\n",
    "    print(\"At cross fold\",j, \"the cv score is\",cv_mean,\"and accuracy score for testing is\", Test_accuracy)\n",
    "    print(\"\\n\")   "
   ]
  },
  {
   "cell_type": "code",
   "execution_count": 270,
   "id": "40d5db0b",
   "metadata": {},
   "outputs": [],
   "source": [
    "# ROC CURVE \n",
    "\n",
    "fpr,tpr,thresholds = roc_curve(y_test,pred_lr)"
   ]
  },
  {
   "cell_type": "code",
   "execution_count": 271,
   "id": "eb1dba51",
   "metadata": {},
   "outputs": [
    {
     "name": "stdout",
     "output_type": "stream",
     "text": [
      "THRESHOLDS= [2 1 0]\n",
      "True positive rate= [0.        0.8115942 1.       ]\n",
      "FAlse positive rate= [0.        0.1010101 1.       ]\n"
     ]
    }
   ],
   "source": [
    "print('THRESHOLDS=',thresholds)\n",
    "print('True positive rate=',tpr)\n",
    "print('FAlse positive rate=',fpr)\n"
   ]
  },
  {
   "cell_type": "code",
   "execution_count": 272,
   "id": "5d1fc5f8",
   "metadata": {},
   "outputs": [
    {
     "data": {
      "image/png": "[encoded data removed]",
      "text/plain": [
       "<Figure size 432x288 with 1 Axes>"
      ]
     },
     "metadata": {
      "needs_background": "light"
     },
     "output_type": "display_data"
    }
   ],
   "source": [
    "plt.plot(fpr,tpr,color = 'orange',label='ROC')\n",
    "plt.plot([0,1],[0,1],color = 'darkblue',linestyle='--')\n",
    "plt.xlabel('FAlse positive rate')\n",
    "plt.ylabel('True positive rate')\n",
    "plt.title('Receiver operating characterstics(ROC)curve')\n",
    "plt.legend()\n",
    "plt.show()"
   ]
  },
  {
   "cell_type": "code",
   "execution_count": 274,
   "id": "4f213691",
   "metadata": {},
   "outputs": [
    {
     "name": "stdout",
     "output_type": "stream",
     "text": [
      "0.8552920509442249\n"
     ]
    }
   ],
   "source": [
    "# lets chk area it is covering(AUC)\n",
    "auc_score = roc_auc_score(y_test,pred_lr)\n",
    "print(auc_score)"
   ]
  },
  {
   "cell_type": "code",
   "execution_count": 275,
   "id": "03f582d6",
   "metadata": {},
   "outputs": [],
   "source": [
    "# now we trying with Decision tree classifier"
   ]
  },
  {
   "cell_type": "code",
   "execution_count": 277,
   "id": "7f389948",
   "metadata": {},
   "outputs": [],
   "source": [
    "from sklearn.tree import DecisionTreeClassifier"
   ]
  },
  {
   "cell_type": "code",
   "execution_count": 278,
   "id": "b3f8b3c2",
   "metadata": {},
   "outputs": [
    {
     "name": "stdout",
     "output_type": "stream",
     "text": [
      "Accuracy 83.33333333333334\n",
      "[[90  9]\n",
      " [19 50]]\n",
      "              precision    recall  f1-score   support\n",
      "\n",
      "           0       0.83      0.91      0.87        99\n",
      "           1       0.85      0.72      0.78        69\n",
      "\n",
      "    accuracy                           0.83       168\n",
      "   macro avg       0.84      0.82      0.82       168\n",
      "weighted avg       0.83      0.83      0.83       168\n",
      "\n"
     ]
    }
   ],
   "source": [
    "dt = DecisionTreeClassifier()\n",
    "dt.fit(x_train,y_train)\n",
    "pred_dt=dt.predict(x_test)\n",
    "print(\"Accuracy\",accuracy_score(y_test,pred_dt)*100)\n",
    "print(confusion_matrix(y_test,pred_dt))\n",
    "print(classification_report(y_test,pred_dt))"
   ]
  },
  {
   "cell_type": "code",
   "execution_count": 289,
   "id": "a3b38c1f",
   "metadata": {},
   "outputs": [
    {
     "name": "stdout",
     "output_type": "stream",
     "text": [
      "Cross Validation Score of Decision TREE model is :- 0.7914385514684916\n"
     ]
    }
   ],
   "source": [
    "scr_DT = cross_val_score(dt,x,y,cv=5)\n",
    "print(\"Cross Validation Score of Decision TREE model is :-\",scr_DT.mean())"
   ]
  },
  {
   "cell_type": "code",
   "execution_count": 279,
   "id": "67ae0608",
   "metadata": {},
   "outputs": [
    {
     "data": {
      "image/png": "[encoded data removed]",
      "text/plain": [
       "<Figure size 432x288 with 1 Axes>"
      ]
     },
     "metadata": {
      "needs_background": "light"
     },
     "output_type": "display_data"
    }
   ],
   "source": [
    "plt.plot(fpr,tpr,color = 'orange',label='ROC')\n",
    "plt.plot([0,1],[0,1],color = 'darkblue',linestyle='--')\n",
    "plt.xlabel('FAlse positive rate')\n",
    "plt.ylabel('True positive rate')\n",
    "plt.title('Receiver operating characterstics(ROC)curve')\n",
    "plt.legend()\n",
    "plt.show()"
   ]
  },
  {
   "cell_type": "code",
   "execution_count": 280,
   "id": "88d774ba",
   "metadata": {},
   "outputs": [
    {
     "name": "stdout",
     "output_type": "stream",
     "text": [
      "0.8168642951251647\n"
     ]
    }
   ],
   "source": [
    "# lets chk area it is covering(AUC)\n",
    "auc_score = roc_auc_score(y_test,pred_dt)\n",
    "print(auc_score)"
   ]
  },
  {
   "cell_type": "code",
   "execution_count": 281,
   "id": "513d48cd",
   "metadata": {},
   "outputs": [],
   "source": [
    "# now check with random forest classifier"
   ]
  },
  {
   "cell_type": "code",
   "execution_count": 282,
   "id": "af8adeed",
   "metadata": {},
   "outputs": [],
   "source": [
    "from sklearn.ensemble import RandomForestClassifier"
   ]
  },
  {
   "cell_type": "code",
   "execution_count": 283,
   "id": "db651121",
   "metadata": {},
   "outputs": [
    {
     "name": "stdout",
     "output_type": "stream",
     "text": [
      "Accuracy 83.92857142857143\n",
      "[[88 11]\n",
      " [16 53]]\n",
      "              precision    recall  f1-score   support\n",
      "\n",
      "           0       0.85      0.89      0.87        99\n",
      "           1       0.83      0.77      0.80        69\n",
      "\n",
      "    accuracy                           0.84       168\n",
      "   macro avg       0.84      0.83      0.83       168\n",
      "weighted avg       0.84      0.84      0.84       168\n",
      "\n"
     ]
    }
   ],
   "source": [
    "rf = RandomForestClassifier()\n",
    "rf.fit(x_train,y_train)\n",
    "pred_rf=rf.predict(x_test)\n",
    "print(\"Accuracy\",accuracy_score(y_test,pred_rf)*100)\n",
    "print(confusion_matrix(y_test,pred_rf))\n",
    "print(classification_report(y_test,pred_rf))"
   ]
  },
  {
   "cell_type": "code",
   "execution_count": 284,
   "id": "b3279054",
   "metadata": {},
   "outputs": [
    {
     "name": "stdout",
     "output_type": "stream",
     "text": [
      "0.8285024154589371\n"
     ]
    }
   ],
   "source": [
    "# lets chk area it is covering(AUC)\n",
    "auc_score = roc_auc_score(y_test,pred_rf)\n",
    "print(auc_score)"
   ]
  },
  {
   "cell_type": "code",
   "execution_count": 288,
   "id": "ef0359bc",
   "metadata": {},
   "outputs": [
    {
     "name": "stdout",
     "output_type": "stream",
     "text": [
      "Cross Validation Score of Random Forest model is :- 0.7938266324493869\n"
     ]
    }
   ],
   "source": [
    "scr_rf = cross_val_score(rf,x,y,cv=5)\n",
    "print(\"Cross Validation Score of Random Forest model is :-\",scr_rf.mean())"
   ]
  },
  {
   "cell_type": "code",
   "execution_count": 285,
   "id": "1732c84b",
   "metadata": {},
   "outputs": [],
   "source": [
    "\n",
    "# now with SVC algo"
   ]
  },
  {
   "cell_type": "code",
   "execution_count": 286,
   "id": "989bf260",
   "metadata": {},
   "outputs": [
    {
     "name": "stdout",
     "output_type": "stream",
     "text": [
      "Accuracy 63.095238095238095\n",
      "[[98  1]\n",
      " [61  8]]\n",
      "              precision    recall  f1-score   support\n",
      "\n",
      "           0       0.62      0.99      0.76        99\n",
      "           1       0.89      0.12      0.21        69\n",
      "\n",
      "    accuracy                           0.63       168\n",
      "   macro avg       0.75      0.55      0.48       168\n",
      "weighted avg       0.73      0.63      0.53       168\n",
      "\n"
     ]
    }
   ],
   "source": [
    "from sklearn.svm import SVC\n",
    "\n",
    "sv = SVC()\n",
    "sv.fit(x_train,y_train)\n",
    "\n",
    "pred_sv=sv.predict(x_test)\n",
    "print(\"Accuracy\",accuracy_score(y_test,pred_sv)*100)\n",
    "print(confusion_matrix(y_test,pred_sv))\n",
    "print(classification_report(y_test,pred_sv))"
   ]
  },
  {
   "cell_type": "code",
   "execution_count": 287,
   "id": "a28c39f7",
   "metadata": {},
   "outputs": [
    {
     "name": "stdout",
     "output_type": "stream",
     "text": [
      "Cross Validation Score of SVC model is :- 0.6353150841174793\n"
     ]
    }
   ],
   "source": [
    "scr = cross_val_score(sv,x,y,cv=5)\n",
    "print(\"Cross Validation Score of SVC model is :-\",scr.mean())"
   ]
  },
  {
   "cell_type": "raw",
   "id": "67c223ad",
   "metadata": {},
   "source": [
    " Logistic Regression is performing better among all so we continue with with this algo."
   ]
  },
  {
   "cell_type": "code",
   "execution_count": 300,
   "id": "adfec8d2",
   "metadata": {},
   "outputs": [],
   "source": [
    "# hyper parameter tuning to increase the accuracy"
   ]
  },
  {
   "cell_type": "code",
   "execution_count": 303,
   "id": "b98ba39b",
   "metadata": {},
   "outputs": [],
   "source": [
    "from sklearn.model_selection import GridSearchCV"
   ]
  },
  {
   "cell_type": "code",
   "execution_count": 311,
   "id": "376a962c",
   "metadata": {},
   "outputs": [
    {
     "data": {
      "text/plain": [
       "GridSearchCV(cv=12, estimator=LogisticRegression(),\n",
       "             param_grid={'class_weight': ['None', 'balanced'],\n",
       "                         'multi_class': ['ovr', 'multinomial'],\n",
       "                         'solver': ['newton-cg', 'lbfgs', 'liblinear', 'sag']},\n",
       "             scoring='accuracy')"
      ]
     },
     "execution_count": 311,
     "metadata": {},
     "output_type": "execute_result"
    }
   ],
   "source": [
    "solver_options = ['newton-cg', 'lbfgs', 'liblinear', 'sag']\n",
    "multi_class_options = ['ovr', 'multinomial']\n",
    "class_weight_options = ['None', 'balanced']\n",
    "\n",
    "param_grid = dict(solver = solver_options, multi_class = multi_class_options, class_weight = class_weight_options)\n",
    "grid = GridSearchCV(lr, param_grid, cv=12, scoring = 'accuracy')\n",
    "grid.fit(x_train, y_train)\n"
   ]
  },
  {
   "cell_type": "code",
   "execution_count": 313,
   "id": "c20d80ee",
   "metadata": {},
   "outputs": [
    {
     "data": {
      "text/plain": [
       "{'class_weight': 'None', 'multi_class': 'ovr', 'solver': 'newton-cg'}"
      ]
     },
     "execution_count": 313,
     "metadata": {},
     "output_type": "execute_result"
    }
   ],
   "source": [
    "grid.best_params_"
   ]
  },
  {
   "cell_type": "code",
   "execution_count": 314,
   "id": "73e45eb6",
   "metadata": {},
   "outputs": [],
   "source": [
    "# we will use teh best parameters in our Regression model and chk the accuracy"
   ]
  },
  {
   "cell_type": "code",
   "execution_count": 315,
   "id": "02f47688",
   "metadata": {},
   "outputs": [
    {
     "data": {
      "text/plain": [
       "LogisticRegression()"
      ]
     },
     "execution_count": 315,
     "metadata": {},
     "output_type": "execute_result"
    }
   ],
   "source": [
    "lr.fit(x_train,y_train)"
   ]
  },
  {
   "cell_type": "code",
   "execution_count": 316,
   "id": "d02bc0c6",
   "metadata": {},
   "outputs": [],
   "source": [
    "y_pred = lr.predict(x_test)"
   ]
  },
  {
   "cell_type": "code",
   "execution_count": 317,
   "id": "dac02033",
   "metadata": {},
   "outputs": [
    {
     "data": {
      "text/plain": [
       "array([[89, 10],\n",
       "       [13, 56]], dtype=int64)"
      ]
     },
     "execution_count": 317,
     "metadata": {},
     "output_type": "execute_result"
    }
   ],
   "source": [
    "cfm = confusion_matrix(y_test,y_pred)\n",
    "cfm"
   ]
  },
  {
   "cell_type": "code",
   "execution_count": 318,
   "id": "d6d0e981",
   "metadata": {},
   "outputs": [
    {
     "name": "stdout",
     "output_type": "stream",
     "text": [
      "              precision    recall  f1-score   support\n",
      "\n",
      "           0       0.87      0.90      0.89        99\n",
      "           1       0.85      0.81      0.83        69\n",
      "\n",
      "    accuracy                           0.86       168\n",
      "   macro avg       0.86      0.86      0.86       168\n",
      "weighted avg       0.86      0.86      0.86       168\n",
      "\n"
     ]
    }
   ],
   "source": [
    "print(classification_report(y_test,y_pred,digits=2))"
   ]
  },
  {
   "cell_type": "code",
   "execution_count": 319,
   "id": "1d3af0be",
   "metadata": {},
   "outputs": [],
   "source": [
    "# so after tuning to its accuracy is not increase so we LR model to predict"
   ]
  },
  {
   "cell_type": "code",
   "execution_count": 320,
   "id": "ff2ac22c",
   "metadata": {},
   "outputs": [],
   "source": [
    "# saving the model for later prediction\n",
    "import pickle\n"
   ]
  },
  {
   "cell_type": "code",
   "execution_count": 321,
   "id": "aa62d7c4",
   "metadata": {},
   "outputs": [],
   "source": [
    "filename = 'abalone_model.pickle'\n",
    "pickle.dump(lr,open(filename,'wb'))"
   ]
  },
  {
   "cell_type": "code",
   "execution_count": 322,
   "id": "bdeb8a74",
   "metadata": {},
   "outputs": [],
   "source": [
    "# hence my model is comoleted and ready to predict"
   ]
  },
  {
   "cell_type": "code",
   "execution_count": null,
   "id": "918eea76",
   "metadata": {},
   "outputs": [],
   "source": []
  }
 ],
 "metadata": {
  "kernelspec": {
   "display_name": "Python 3 (ipykernel)",
   "language": "python",
   "name": "python3"
  },
  "language_info": {
   "codemirror_mode": {
    "name": "ipython",
    "version": 3
   },
   "file_extension": ".py",
   "mimetype": "text/x-python",
   "name": "python",
   "nbconvert_exporter": "python",
   "pygments_lexer": "ipython3",
   "version": "3.9.7"
  }
 },
 "nbformat": 4,
 "nbformat_minor": 5
}
