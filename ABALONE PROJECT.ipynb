{
 "cells": [
  {
   "cell_type": "code",
   "execution_count": 1,
   "id": "cc7ff469",
   "metadata": {},
   "outputs": [],
   "source": [
    "import pandas as pd \n",
    "import numpy as np\n",
    "import matplotlib.pyplot as plt\n",
    "import seaborn as sns\n",
    "\n",
    "import warnings\n",
    "warnings.filterwarnings('ignore')"
   ]
  },
  {
   "cell_type": "code",
   "execution_count": 2,
   "id": "bffdb58c",
   "metadata": {},
   "outputs": [
    {
     "data": {
      "text/html": [
       "<div>\n",
       "<style scoped>\n",
       "    .dataframe tbody tr th:only-of-type {\n",
       "        vertical-align: middle;\n",
       "    }\n",
       "\n",
       "    .dataframe tbody tr th {\n",
       "        vertical-align: top;\n",
       "    }\n",
       "\n",
       "    .dataframe thead th {\n",
       "        text-align: right;\n",
       "    }\n",
       "</style>\n",
       "<table border=\"1\" class=\"dataframe\">\n",
       "  <thead>\n",
       "    <tr style=\"text-align: right;\">\n",
       "      <th></th>\n",
       "      <th>Sex</th>\n",
       "      <th>Length</th>\n",
       "      <th>Diameter</th>\n",
       "      <th>Height</th>\n",
       "      <th>Whole weight</th>\n",
       "      <th>Shucked weight</th>\n",
       "      <th>Viscera weight</th>\n",
       "      <th>Shell weight</th>\n",
       "      <th>Rings</th>\n",
       "    </tr>\n",
       "  </thead>\n",
       "  <tbody>\n",
       "    <tr>\n",
       "      <th>0</th>\n",
       "      <td>M</td>\n",
       "      <td>0.455</td>\n",
       "      <td>0.365</td>\n",
       "      <td>0.095</td>\n",
       "      <td>0.5140</td>\n",
       "      <td>0.2245</td>\n",
       "      <td>0.1010</td>\n",
       "      <td>0.1500</td>\n",
       "      <td>15</td>\n",
       "    </tr>\n",
       "    <tr>\n",
       "      <th>1</th>\n",
       "      <td>M</td>\n",
       "      <td>0.350</td>\n",
       "      <td>0.265</td>\n",
       "      <td>0.090</td>\n",
       "      <td>0.2255</td>\n",
       "      <td>0.0995</td>\n",
       "      <td>0.0485</td>\n",
       "      <td>0.0700</td>\n",
       "      <td>7</td>\n",
       "    </tr>\n",
       "    <tr>\n",
       "      <th>2</th>\n",
       "      <td>F</td>\n",
       "      <td>0.530</td>\n",
       "      <td>0.420</td>\n",
       "      <td>0.135</td>\n",
       "      <td>0.6770</td>\n",
       "      <td>0.2565</td>\n",
       "      <td>0.1415</td>\n",
       "      <td>0.2100</td>\n",
       "      <td>9</td>\n",
       "    </tr>\n",
       "    <tr>\n",
       "      <th>3</th>\n",
       "      <td>M</td>\n",
       "      <td>0.440</td>\n",
       "      <td>0.365</td>\n",
       "      <td>0.125</td>\n",
       "      <td>0.5160</td>\n",
       "      <td>0.2155</td>\n",
       "      <td>0.1140</td>\n",
       "      <td>0.1550</td>\n",
       "      <td>10</td>\n",
       "    </tr>\n",
       "    <tr>\n",
       "      <th>4</th>\n",
       "      <td>I</td>\n",
       "      <td>0.330</td>\n",
       "      <td>0.255</td>\n",
       "      <td>0.080</td>\n",
       "      <td>0.2050</td>\n",
       "      <td>0.0895</td>\n",
       "      <td>0.0395</td>\n",
       "      <td>0.0550</td>\n",
       "      <td>7</td>\n",
       "    </tr>\n",
       "    <tr>\n",
       "      <th>...</th>\n",
       "      <td>...</td>\n",
       "      <td>...</td>\n",
       "      <td>...</td>\n",
       "      <td>...</td>\n",
       "      <td>...</td>\n",
       "      <td>...</td>\n",
       "      <td>...</td>\n",
       "      <td>...</td>\n",
       "      <td>...</td>\n",
       "    </tr>\n",
       "    <tr>\n",
       "      <th>4172</th>\n",
       "      <td>F</td>\n",
       "      <td>0.565</td>\n",
       "      <td>0.450</td>\n",
       "      <td>0.165</td>\n",
       "      <td>0.8870</td>\n",
       "      <td>0.3700</td>\n",
       "      <td>0.2390</td>\n",
       "      <td>0.2490</td>\n",
       "      <td>11</td>\n",
       "    </tr>\n",
       "    <tr>\n",
       "      <th>4173</th>\n",
       "      <td>M</td>\n",
       "      <td>0.590</td>\n",
       "      <td>0.440</td>\n",
       "      <td>0.135</td>\n",
       "      <td>0.9660</td>\n",
       "      <td>0.4390</td>\n",
       "      <td>0.2145</td>\n",
       "      <td>0.2605</td>\n",
       "      <td>10</td>\n",
       "    </tr>\n",
       "    <tr>\n",
       "      <th>4174</th>\n",
       "      <td>M</td>\n",
       "      <td>0.600</td>\n",
       "      <td>0.475</td>\n",
       "      <td>0.205</td>\n",
       "      <td>1.1760</td>\n",
       "      <td>0.5255</td>\n",
       "      <td>0.2875</td>\n",
       "      <td>0.3080</td>\n",
       "      <td>9</td>\n",
       "    </tr>\n",
       "    <tr>\n",
       "      <th>4175</th>\n",
       "      <td>F</td>\n",
       "      <td>0.625</td>\n",
       "      <td>0.485</td>\n",
       "      <td>0.150</td>\n",
       "      <td>1.0945</td>\n",
       "      <td>0.5310</td>\n",
       "      <td>0.2610</td>\n",
       "      <td>0.2960</td>\n",
       "      <td>10</td>\n",
       "    </tr>\n",
       "    <tr>\n",
       "      <th>4176</th>\n",
       "      <td>M</td>\n",
       "      <td>0.710</td>\n",
       "      <td>0.555</td>\n",
       "      <td>0.195</td>\n",
       "      <td>1.9485</td>\n",
       "      <td>0.9455</td>\n",
       "      <td>0.3765</td>\n",
       "      <td>0.4950</td>\n",
       "      <td>12</td>\n",
       "    </tr>\n",
       "  </tbody>\n",
       "</table>\n",
       "<p>4177 rows × 9 columns</p>\n",
       "</div>"
      ],
      "text/plain": [
       "     Sex  Length  Diameter  Height  Whole weight  Shucked weight  \\\n",
       "0      M   0.455     0.365   0.095        0.5140          0.2245   \n",
       "1      M   0.350     0.265   0.090        0.2255          0.0995   \n",
       "2      F   0.530     0.420   0.135        0.6770          0.2565   \n",
       "3      M   0.440     0.365   0.125        0.5160          0.2155   \n",
       "4      I   0.330     0.255   0.080        0.2050          0.0895   \n",
       "...   ..     ...       ...     ...           ...             ...   \n",
       "4172   F   0.565     0.450   0.165        0.8870          0.3700   \n",
       "4173   M   0.590     0.440   0.135        0.9660          0.4390   \n",
       "4174   M   0.600     0.475   0.205        1.1760          0.5255   \n",
       "4175   F   0.625     0.485   0.150        1.0945          0.5310   \n",
       "4176   M   0.710     0.555   0.195        1.9485          0.9455   \n",
       "\n",
       "      Viscera weight  Shell weight  Rings  \n",
       "0             0.1010        0.1500     15  \n",
       "1             0.0485        0.0700      7  \n",
       "2             0.1415        0.2100      9  \n",
       "3             0.1140        0.1550     10  \n",
       "4             0.0395        0.0550      7  \n",
       "...              ...           ...    ...  \n",
       "4172          0.2390        0.2490     11  \n",
       "4173          0.2145        0.2605     10  \n",
       "4174          0.2875        0.3080      9  \n",
       "4175          0.2610        0.2960     10  \n",
       "4176          0.3765        0.4950     12  \n",
       "\n",
       "[4177 rows x 9 columns]"
      ]
     },
     "execution_count": 2,
     "metadata": {},
     "output_type": "execute_result"
    }
   ],
   "source": [
    "data = pd.read_csv('https://raw.githubusercontent.com/dsrscientist/dataset1/master/abalone.csv')\n",
    "data"
   ]
  },
  {
   "cell_type": "code",
   "execution_count": 3,
   "id": "60c5331f",
   "metadata": {},
   "outputs": [
    {
     "data": {
      "text/plain": [
       "Sex               0\n",
       "Length            0\n",
       "Diameter          0\n",
       "Height            0\n",
       "Whole weight      0\n",
       "Shucked weight    0\n",
       "Viscera weight    0\n",
       "Shell weight      0\n",
       "Rings             0\n",
       "dtype: int64"
      ]
     },
     "execution_count": 3,
     "metadata": {},
     "output_type": "execute_result"
    }
   ],
   "source": [
    "data.isna().sum()"
   ]
  },
  {
   "cell_type": "code",
   "execution_count": 4,
   "id": "6a11f0d8",
   "metadata": {},
   "outputs": [
    {
     "name": "stdout",
     "output_type": "stream",
     "text": [
      "<class 'pandas.core.frame.DataFrame'>\n",
      "RangeIndex: 4177 entries, 0 to 4176\n",
      "Data columns (total 9 columns):\n",
      " #   Column          Non-Null Count  Dtype  \n",
      "---  ------          --------------  -----  \n",
      " 0   Sex             4177 non-null   object \n",
      " 1   Length          4177 non-null   float64\n",
      " 2   Diameter        4177 non-null   float64\n",
      " 3   Height          4177 non-null   float64\n",
      " 4   Whole weight    4177 non-null   float64\n",
      " 5   Shucked weight  4177 non-null   float64\n",
      " 6   Viscera weight  4177 non-null   float64\n",
      " 7   Shell weight    4177 non-null   float64\n",
      " 8   Rings           4177 non-null   int64  \n",
      "dtypes: float64(7), int64(1), object(1)\n",
      "memory usage: 293.8+ KB\n"
     ]
    }
   ],
   "source": [
    "data.info()"
   ]
  },
  {
   "cell_type": "code",
   "execution_count": 6,
   "id": "ef5dde33",
   "metadata": {},
   "outputs": [
    {
     "data": {
      "text/plain": [
       "Index(['Sex', 'Length', 'Diameter', 'Height', 'Whole weight', 'Shucked weight',\n",
       "       'Viscera weight', 'Shell weight', 'Rings'],\n",
       "      dtype='object')"
      ]
     },
     "execution_count": 6,
     "metadata": {},
     "output_type": "execute_result"
    }
   ],
   "source": [
    "data.columns"
   ]
  },
  {
   "cell_type": "code",
   "execution_count": 8,
   "id": "c32def63",
   "metadata": {},
   "outputs": [
    {
     "name": "stdout",
     "output_type": "stream",
     "text": [
      "M    1528\n",
      "I    1342\n",
      "F    1307\n",
      "Name: Sex, dtype: int64\n"
     ]
    },
    {
     "data": {
      "image/png": "[encoded data removed]",
      "text/plain": [
       "<Figure size 432x288 with 1 Axes>"
      ]
     },
     "metadata": {
      "needs_background": "light"
     },
     "output_type": "display_data"
    }
   ],
   "source": [
    "ax= sns.countplot(x='Sex',data = data)\n",
    "print(data['Sex'].value_counts())"
   ]
  },
  {
   "cell_type": "code",
   "execution_count": 9,
   "id": "c5425001",
   "metadata": {},
   "outputs": [],
   "source": [
    "# encoding of data frame\n",
    "\n",
    "from sklearn.preprocessing import OrdinalEncoder\n",
    "enc= OrdinalEncoder()"
   ]
  },
  {
   "cell_type": "code",
   "execution_count": 11,
   "id": "83b78d02",
   "metadata": {},
   "outputs": [],
   "source": [
    "for i in data.columns:\n",
    "    if data[i].dtypes == \"object\":\n",
    "        data[i]=enc.fit_transform(data[i].values.reshape(-1,1))"
   ]
  },
  {
   "cell_type": "code",
   "execution_count": 12,
   "id": "85281302",
   "metadata": {},
   "outputs": [
    {
     "data": {
      "text/html": [
       "<div>\n",
       "<style scoped>\n",
       "    .dataframe tbody tr th:only-of-type {\n",
       "        vertical-align: middle;\n",
       "    }\n",
       "\n",
       "    .dataframe tbody tr th {\n",
       "        vertical-align: top;\n",
       "    }\n",
       "\n",
       "    .dataframe thead th {\n",
       "        text-align: right;\n",
       "    }\n",
       "</style>\n",
       "<table border=\"1\" class=\"dataframe\">\n",
       "  <thead>\n",
       "    <tr style=\"text-align: right;\">\n",
       "      <th></th>\n",
       "      <th>Sex</th>\n",
       "      <th>Length</th>\n",
       "      <th>Diameter</th>\n",
       "      <th>Height</th>\n",
       "      <th>Whole weight</th>\n",
       "      <th>Shucked weight</th>\n",
       "      <th>Viscera weight</th>\n",
       "      <th>Shell weight</th>\n",
       "      <th>Rings</th>\n",
       "    </tr>\n",
       "  </thead>\n",
       "  <tbody>\n",
       "    <tr>\n",
       "      <th>0</th>\n",
       "      <td>2.0</td>\n",
       "      <td>0.455</td>\n",
       "      <td>0.365</td>\n",
       "      <td>0.095</td>\n",
       "      <td>0.5140</td>\n",
       "      <td>0.2245</td>\n",
       "      <td>0.1010</td>\n",
       "      <td>0.1500</td>\n",
       "      <td>15</td>\n",
       "    </tr>\n",
       "    <tr>\n",
       "      <th>1</th>\n",
       "      <td>2.0</td>\n",
       "      <td>0.350</td>\n",
       "      <td>0.265</td>\n",
       "      <td>0.090</td>\n",
       "      <td>0.2255</td>\n",
       "      <td>0.0995</td>\n",
       "      <td>0.0485</td>\n",
       "      <td>0.0700</td>\n",
       "      <td>7</td>\n",
       "    </tr>\n",
       "    <tr>\n",
       "      <th>2</th>\n",
       "      <td>0.0</td>\n",
       "      <td>0.530</td>\n",
       "      <td>0.420</td>\n",
       "      <td>0.135</td>\n",
       "      <td>0.6770</td>\n",
       "      <td>0.2565</td>\n",
       "      <td>0.1415</td>\n",
       "      <td>0.2100</td>\n",
       "      <td>9</td>\n",
       "    </tr>\n",
       "    <tr>\n",
       "      <th>3</th>\n",
       "      <td>2.0</td>\n",
       "      <td>0.440</td>\n",
       "      <td>0.365</td>\n",
       "      <td>0.125</td>\n",
       "      <td>0.5160</td>\n",
       "      <td>0.2155</td>\n",
       "      <td>0.1140</td>\n",
       "      <td>0.1550</td>\n",
       "      <td>10</td>\n",
       "    </tr>\n",
       "    <tr>\n",
       "      <th>4</th>\n",
       "      <td>1.0</td>\n",
       "      <td>0.330</td>\n",
       "      <td>0.255</td>\n",
       "      <td>0.080</td>\n",
       "      <td>0.2050</td>\n",
       "      <td>0.0895</td>\n",
       "      <td>0.0395</td>\n",
       "      <td>0.0550</td>\n",
       "      <td>7</td>\n",
       "    </tr>\n",
       "    <tr>\n",
       "      <th>...</th>\n",
       "      <td>...</td>\n",
       "      <td>...</td>\n",
       "      <td>...</td>\n",
       "      <td>...</td>\n",
       "      <td>...</td>\n",
       "      <td>...</td>\n",
       "      <td>...</td>\n",
       "      <td>...</td>\n",
       "      <td>...</td>\n",
       "    </tr>\n",
       "    <tr>\n",
       "      <th>4172</th>\n",
       "      <td>0.0</td>\n",
       "      <td>0.565</td>\n",
       "      <td>0.450</td>\n",
       "      <td>0.165</td>\n",
       "      <td>0.8870</td>\n",
       "      <td>0.3700</td>\n",
       "      <td>0.2390</td>\n",
       "      <td>0.2490</td>\n",
       "      <td>11</td>\n",
       "    </tr>\n",
       "    <tr>\n",
       "      <th>4173</th>\n",
       "      <td>2.0</td>\n",
       "      <td>0.590</td>\n",
       "      <td>0.440</td>\n",
       "      <td>0.135</td>\n",
       "      <td>0.9660</td>\n",
       "      <td>0.4390</td>\n",
       "      <td>0.2145</td>\n",
       "      <td>0.2605</td>\n",
       "      <td>10</td>\n",
       "    </tr>\n",
       "    <tr>\n",
       "      <th>4174</th>\n",
       "      <td>2.0</td>\n",
       "      <td>0.600</td>\n",
       "      <td>0.475</td>\n",
       "      <td>0.205</td>\n",
       "      <td>1.1760</td>\n",
       "      <td>0.5255</td>\n",
       "      <td>0.2875</td>\n",
       "      <td>0.3080</td>\n",
       "      <td>9</td>\n",
       "    </tr>\n",
       "    <tr>\n",
       "      <th>4175</th>\n",
       "      <td>0.0</td>\n",
       "      <td>0.625</td>\n",
       "      <td>0.485</td>\n",
       "      <td>0.150</td>\n",
       "      <td>1.0945</td>\n",
       "      <td>0.5310</td>\n",
       "      <td>0.2610</td>\n",
       "      <td>0.2960</td>\n",
       "      <td>10</td>\n",
       "    </tr>\n",
       "    <tr>\n",
       "      <th>4176</th>\n",
       "      <td>2.0</td>\n",
       "      <td>0.710</td>\n",
       "      <td>0.555</td>\n",
       "      <td>0.195</td>\n",
       "      <td>1.9485</td>\n",
       "      <td>0.9455</td>\n",
       "      <td>0.3765</td>\n",
       "      <td>0.4950</td>\n",
       "      <td>12</td>\n",
       "    </tr>\n",
       "  </tbody>\n",
       "</table>\n",
       "<p>4177 rows × 9 columns</p>\n",
       "</div>"
      ],
      "text/plain": [
       "      Sex  Length  Diameter  Height  Whole weight  Shucked weight  \\\n",
       "0     2.0   0.455     0.365   0.095        0.5140          0.2245   \n",
       "1     2.0   0.350     0.265   0.090        0.2255          0.0995   \n",
       "2     0.0   0.530     0.420   0.135        0.6770          0.2565   \n",
       "3     2.0   0.440     0.365   0.125        0.5160          0.2155   \n",
       "4     1.0   0.330     0.255   0.080        0.2050          0.0895   \n",
       "...   ...     ...       ...     ...           ...             ...   \n",
       "4172  0.0   0.565     0.450   0.165        0.8870          0.3700   \n",
       "4173  2.0   0.590     0.440   0.135        0.9660          0.4390   \n",
       "4174  2.0   0.600     0.475   0.205        1.1760          0.5255   \n",
       "4175  0.0   0.625     0.485   0.150        1.0945          0.5310   \n",
       "4176  2.0   0.710     0.555   0.195        1.9485          0.9455   \n",
       "\n",
       "      Viscera weight  Shell weight  Rings  \n",
       "0             0.1010        0.1500     15  \n",
       "1             0.0485        0.0700      7  \n",
       "2             0.1415        0.2100      9  \n",
       "3             0.1140        0.1550     10  \n",
       "4             0.0395        0.0550      7  \n",
       "...              ...           ...    ...  \n",
       "4172          0.2390        0.2490     11  \n",
       "4173          0.2145        0.2605     10  \n",
       "4174          0.2875        0.3080      9  \n",
       "4175          0.2610        0.2960     10  \n",
       "4176          0.3765        0.4950     12  \n",
       "\n",
       "[4177 rows x 9 columns]"
      ]
     },
     "execution_count": 12,
     "metadata": {},
     "output_type": "execute_result"
    }
   ],
   "source": [
    "data"
   ]
  },
  {
   "cell_type": "code",
   "execution_count": 13,
   "id": "869a4ac9",
   "metadata": {},
   "outputs": [
    {
     "data": {
      "text/html": [
       "<div>\n",
       "<style scoped>\n",
       "    .dataframe tbody tr th:only-of-type {\n",
       "        vertical-align: middle;\n",
       "    }\n",
       "\n",
       "    .dataframe tbody tr th {\n",
       "        vertical-align: top;\n",
       "    }\n",
       "\n",
       "    .dataframe thead th {\n",
       "        text-align: right;\n",
       "    }\n",
       "</style>\n",
       "<table border=\"1\" class=\"dataframe\">\n",
       "  <thead>\n",
       "    <tr style=\"text-align: right;\">\n",
       "      <th></th>\n",
       "      <th>Sex</th>\n",
       "      <th>Length</th>\n",
       "      <th>Diameter</th>\n",
       "      <th>Height</th>\n",
       "      <th>Whole weight</th>\n",
       "      <th>Shucked weight</th>\n",
       "      <th>Viscera weight</th>\n",
       "      <th>Shell weight</th>\n",
       "      <th>Rings</th>\n",
       "    </tr>\n",
       "  </thead>\n",
       "  <tbody>\n",
       "    <tr>\n",
       "      <th>count</th>\n",
       "      <td>4177.000000</td>\n",
       "      <td>4177.000000</td>\n",
       "      <td>4177.000000</td>\n",
       "      <td>4177.000000</td>\n",
       "      <td>4177.000000</td>\n",
       "      <td>4177.000000</td>\n",
       "      <td>4177.000000</td>\n",
       "      <td>4177.000000</td>\n",
       "      <td>4177.000000</td>\n",
       "    </tr>\n",
       "    <tr>\n",
       "      <th>mean</th>\n",
       "      <td>1.052909</td>\n",
       "      <td>0.523992</td>\n",
       "      <td>0.407881</td>\n",
       "      <td>0.139516</td>\n",
       "      <td>0.828742</td>\n",
       "      <td>0.359367</td>\n",
       "      <td>0.180594</td>\n",
       "      <td>0.238831</td>\n",
       "      <td>9.933684</td>\n",
       "    </tr>\n",
       "    <tr>\n",
       "      <th>std</th>\n",
       "      <td>0.822240</td>\n",
       "      <td>0.120093</td>\n",
       "      <td>0.099240</td>\n",
       "      <td>0.041827</td>\n",
       "      <td>0.490389</td>\n",
       "      <td>0.221963</td>\n",
       "      <td>0.109614</td>\n",
       "      <td>0.139203</td>\n",
       "      <td>3.224169</td>\n",
       "    </tr>\n",
       "    <tr>\n",
       "      <th>min</th>\n",
       "      <td>0.000000</td>\n",
       "      <td>0.075000</td>\n",
       "      <td>0.055000</td>\n",
       "      <td>0.000000</td>\n",
       "      <td>0.002000</td>\n",
       "      <td>0.001000</td>\n",
       "      <td>0.000500</td>\n",
       "      <td>0.001500</td>\n",
       "      <td>1.000000</td>\n",
       "    </tr>\n",
       "    <tr>\n",
       "      <th>25%</th>\n",
       "      <td>0.000000</td>\n",
       "      <td>0.450000</td>\n",
       "      <td>0.350000</td>\n",
       "      <td>0.115000</td>\n",
       "      <td>0.441500</td>\n",
       "      <td>0.186000</td>\n",
       "      <td>0.093500</td>\n",
       "      <td>0.130000</td>\n",
       "      <td>8.000000</td>\n",
       "    </tr>\n",
       "    <tr>\n",
       "      <th>50%</th>\n",
       "      <td>1.000000</td>\n",
       "      <td>0.545000</td>\n",
       "      <td>0.425000</td>\n",
       "      <td>0.140000</td>\n",
       "      <td>0.799500</td>\n",
       "      <td>0.336000</td>\n",
       "      <td>0.171000</td>\n",
       "      <td>0.234000</td>\n",
       "      <td>9.000000</td>\n",
       "    </tr>\n",
       "    <tr>\n",
       "      <th>75%</th>\n",
       "      <td>2.000000</td>\n",
       "      <td>0.615000</td>\n",
       "      <td>0.480000</td>\n",
       "      <td>0.165000</td>\n",
       "      <td>1.153000</td>\n",
       "      <td>0.502000</td>\n",
       "      <td>0.253000</td>\n",
       "      <td>0.329000</td>\n",
       "      <td>11.000000</td>\n",
       "    </tr>\n",
       "    <tr>\n",
       "      <th>max</th>\n",
       "      <td>2.000000</td>\n",
       "      <td>0.815000</td>\n",
       "      <td>0.650000</td>\n",
       "      <td>1.130000</td>\n",
       "      <td>2.825500</td>\n",
       "      <td>1.488000</td>\n",
       "      <td>0.760000</td>\n",
       "      <td>1.005000</td>\n",
       "      <td>29.000000</td>\n",
       "    </tr>\n",
       "  </tbody>\n",
       "</table>\n",
       "</div>"
      ],
      "text/plain": [
       "               Sex       Length     Diameter       Height  Whole weight  \\\n",
       "count  4177.000000  4177.000000  4177.000000  4177.000000   4177.000000   \n",
       "mean      1.052909     0.523992     0.407881     0.139516      0.828742   \n",
       "std       0.822240     0.120093     0.099240     0.041827      0.490389   \n",
       "min       0.000000     0.075000     0.055000     0.000000      0.002000   \n",
       "25%       0.000000     0.450000     0.350000     0.115000      0.441500   \n",
       "50%       1.000000     0.545000     0.425000     0.140000      0.799500   \n",
       "75%       2.000000     0.615000     0.480000     0.165000      1.153000   \n",
       "max       2.000000     0.815000     0.650000     1.130000      2.825500   \n",
       "\n",
       "       Shucked weight  Viscera weight  Shell weight        Rings  \n",
       "count     4177.000000     4177.000000   4177.000000  4177.000000  \n",
       "mean         0.359367        0.180594      0.238831     9.933684  \n",
       "std          0.221963        0.109614      0.139203     3.224169  \n",
       "min          0.001000        0.000500      0.001500     1.000000  \n",
       "25%          0.186000        0.093500      0.130000     8.000000  \n",
       "50%          0.336000        0.171000      0.234000     9.000000  \n",
       "75%          0.502000        0.253000      0.329000    11.000000  \n",
       "max          1.488000        0.760000      1.005000    29.000000  "
      ]
     },
     "execution_count": 13,
     "metadata": {},
     "output_type": "execute_result"
    }
   ],
   "source": [
    "data.describe()"
   ]
  },
  {
   "cell_type": "code",
   "execution_count": 14,
   "id": "8bfce0bd",
   "metadata": {},
   "outputs": [],
   "source": [
    "# in the column height there are some zeroes are present so first treat them "
   ]
  },
  {
   "cell_type": "code",
   "execution_count": 15,
   "id": "863c2278",
   "metadata": {},
   "outputs": [],
   "source": [
    "data['Height'] = data['Height'].replace(0,data['Height'] .mean())"
   ]
  },
  {
   "cell_type": "code",
   "execution_count": 16,
   "id": "ca0a551c",
   "metadata": {},
   "outputs": [
    {
     "data": {
      "text/html": [
       "<div>\n",
       "<style scoped>\n",
       "    .dataframe tbody tr th:only-of-type {\n",
       "        vertical-align: middle;\n",
       "    }\n",
       "\n",
       "    .dataframe tbody tr th {\n",
       "        vertical-align: top;\n",
       "    }\n",
       "\n",
       "    .dataframe thead th {\n",
       "        text-align: right;\n",
       "    }\n",
       "</style>\n",
       "<table border=\"1\" class=\"dataframe\">\n",
       "  <thead>\n",
       "    <tr style=\"text-align: right;\">\n",
       "      <th></th>\n",
       "      <th>Sex</th>\n",
       "      <th>Length</th>\n",
       "      <th>Diameter</th>\n",
       "      <th>Height</th>\n",
       "      <th>Whole weight</th>\n",
       "      <th>Shucked weight</th>\n",
       "      <th>Viscera weight</th>\n",
       "      <th>Shell weight</th>\n",
       "      <th>Rings</th>\n",
       "    </tr>\n",
       "  </thead>\n",
       "  <tbody>\n",
       "    <tr>\n",
       "      <th>Sex</th>\n",
       "      <td>1.000000</td>\n",
       "      <td>-0.036066</td>\n",
       "      <td>-0.038874</td>\n",
       "      <td>-0.042293</td>\n",
       "      <td>-0.021391</td>\n",
       "      <td>-0.001373</td>\n",
       "      <td>-0.032067</td>\n",
       "      <td>-0.034854</td>\n",
       "      <td>-0.034627</td>\n",
       "    </tr>\n",
       "    <tr>\n",
       "      <th>Length</th>\n",
       "      <td>-0.036066</td>\n",
       "      <td>1.000000</td>\n",
       "      <td>0.986812</td>\n",
       "      <td>0.827748</td>\n",
       "      <td>0.925261</td>\n",
       "      <td>0.897914</td>\n",
       "      <td>0.903018</td>\n",
       "      <td>0.897706</td>\n",
       "      <td>0.556720</td>\n",
       "    </tr>\n",
       "    <tr>\n",
       "      <th>Diameter</th>\n",
       "      <td>-0.038874</td>\n",
       "      <td>0.986812</td>\n",
       "      <td>1.000000</td>\n",
       "      <td>0.833931</td>\n",
       "      <td>0.925452</td>\n",
       "      <td>0.893162</td>\n",
       "      <td>0.899724</td>\n",
       "      <td>0.905330</td>\n",
       "      <td>0.574660</td>\n",
       "    </tr>\n",
       "    <tr>\n",
       "      <th>Height</th>\n",
       "      <td>-0.042293</td>\n",
       "      <td>0.827748</td>\n",
       "      <td>0.833931</td>\n",
       "      <td>1.000000</td>\n",
       "      <td>0.819624</td>\n",
       "      <td>0.775406</td>\n",
       "      <td>0.798653</td>\n",
       "      <td>0.819455</td>\n",
       "      <td>0.557502</td>\n",
       "    </tr>\n",
       "    <tr>\n",
       "      <th>Whole weight</th>\n",
       "      <td>-0.021391</td>\n",
       "      <td>0.925261</td>\n",
       "      <td>0.925452</td>\n",
       "      <td>0.819624</td>\n",
       "      <td>1.000000</td>\n",
       "      <td>0.969405</td>\n",
       "      <td>0.966375</td>\n",
       "      <td>0.955355</td>\n",
       "      <td>0.540390</td>\n",
       "    </tr>\n",
       "    <tr>\n",
       "      <th>Shucked weight</th>\n",
       "      <td>-0.001373</td>\n",
       "      <td>0.897914</td>\n",
       "      <td>0.893162</td>\n",
       "      <td>0.775406</td>\n",
       "      <td>0.969405</td>\n",
       "      <td>1.000000</td>\n",
       "      <td>0.931961</td>\n",
       "      <td>0.882617</td>\n",
       "      <td>0.420884</td>\n",
       "    </tr>\n",
       "    <tr>\n",
       "      <th>Viscera weight</th>\n",
       "      <td>-0.032067</td>\n",
       "      <td>0.903018</td>\n",
       "      <td>0.899724</td>\n",
       "      <td>0.798653</td>\n",
       "      <td>0.966375</td>\n",
       "      <td>0.931961</td>\n",
       "      <td>1.000000</td>\n",
       "      <td>0.907656</td>\n",
       "      <td>0.503819</td>\n",
       "    </tr>\n",
       "    <tr>\n",
       "      <th>Shell weight</th>\n",
       "      <td>-0.034854</td>\n",
       "      <td>0.897706</td>\n",
       "      <td>0.905330</td>\n",
       "      <td>0.819455</td>\n",
       "      <td>0.955355</td>\n",
       "      <td>0.882617</td>\n",
       "      <td>0.907656</td>\n",
       "      <td>1.000000</td>\n",
       "      <td>0.627574</td>\n",
       "    </tr>\n",
       "    <tr>\n",
       "      <th>Rings</th>\n",
       "      <td>-0.034627</td>\n",
       "      <td>0.556720</td>\n",
       "      <td>0.574660</td>\n",
       "      <td>0.557502</td>\n",
       "      <td>0.540390</td>\n",
       "      <td>0.420884</td>\n",
       "      <td>0.503819</td>\n",
       "      <td>0.627574</td>\n",
       "      <td>1.000000</td>\n",
       "    </tr>\n",
       "  </tbody>\n",
       "</table>\n",
       "</div>"
      ],
      "text/plain": [
       "                     Sex    Length  Diameter    Height  Whole weight  \\\n",
       "Sex             1.000000 -0.036066 -0.038874 -0.042293     -0.021391   \n",
       "Length         -0.036066  1.000000  0.986812  0.827748      0.925261   \n",
       "Diameter       -0.038874  0.986812  1.000000  0.833931      0.925452   \n",
       "Height         -0.042293  0.827748  0.833931  1.000000      0.819624   \n",
       "Whole weight   -0.021391  0.925261  0.925452  0.819624      1.000000   \n",
       "Shucked weight -0.001373  0.897914  0.893162  0.775406      0.969405   \n",
       "Viscera weight -0.032067  0.903018  0.899724  0.798653      0.966375   \n",
       "Shell weight   -0.034854  0.897706  0.905330  0.819455      0.955355   \n",
       "Rings          -0.034627  0.556720  0.574660  0.557502      0.540390   \n",
       "\n",
       "                Shucked weight  Viscera weight  Shell weight     Rings  \n",
       "Sex                  -0.001373       -0.032067     -0.034854 -0.034627  \n",
       "Length                0.897914        0.903018      0.897706  0.556720  \n",
       "Diameter              0.893162        0.899724      0.905330  0.574660  \n",
       "Height                0.775406        0.798653      0.819455  0.557502  \n",
       "Whole weight          0.969405        0.966375      0.955355  0.540390  \n",
       "Shucked weight        1.000000        0.931961      0.882617  0.420884  \n",
       "Viscera weight        0.931961        1.000000      0.907656  0.503819  \n",
       "Shell weight          0.882617        0.907656      1.000000  0.627574  \n",
       "Rings                 0.420884        0.503819      0.627574  1.000000  "
      ]
     },
     "execution_count": 16,
     "metadata": {},
     "output_type": "execute_result"
    }
   ],
   "source": [
    "data.corr()"
   ]
  },
  {
   "cell_type": "code",
   "execution_count": 19,
   "id": "2b0d80d0",
   "metadata": {},
   "outputs": [
    {
     "data": {
      "text/plain": [
       "<AxesSubplot:>"
      ]
     },
     "execution_count": 19,
     "metadata": {},
     "output_type": "execute_result"
    },
    {
     "data": {
      "image/png": "[encoded data removed]",
      "text/plain": [
       "<Figure size 1008x720 with 2 Axes>"
      ]
     },
     "metadata": {
      "needs_background": "light"
     },
     "output_type": "display_data"
    }
   ],
   "source": [
    "import matplotlib.pyplot as plt\n",
    "plt.figure(figsize=(14,10))\n",
    "sns.heatmap(data.corr(),annot= True,linewidth=0.1,linecolor='black',fmt=\"0.2f\")"
   ]
  },
  {
   "cell_type": "code",
   "execution_count": 20,
   "id": "555646d6",
   "metadata": {},
   "outputs": [],
   "source": [
    "# from the heatmap it looks that there coulb be chance of the multicollinearity but firstly we are checking the skewness and the ouyliers"
   ]
  },
  {
   "cell_type": "code",
   "execution_count": 21,
   "id": "2c436509",
   "metadata": {},
   "outputs": [
    {
     "data": {
      "text/plain": [
       "Sex              -0.098155\n",
       "Length           -0.639873\n",
       "Diameter         -0.609198\n",
       "Height            3.167124\n",
       "Whole weight      0.530959\n",
       "Shucked weight    0.719098\n",
       "Viscera weight    0.591852\n",
       "Shell weight      0.620927\n",
       "Rings             1.114102\n",
       "dtype: float64"
      ]
     },
     "execution_count": 21,
     "metadata": {},
     "output_type": "execute_result"
    }
   ],
   "source": [
    "# some skewness are present so to remove first \n",
    "data.skew()"
   ]
  },
  {
   "cell_type": "code",
   "execution_count": 22,
   "id": "36965d7e",
   "metadata": {},
   "outputs": [
    {
     "data": {
      "image/png": "[encoded data removed]",
      "text/plain": [
       "<Figure size 1440x1800 with 9 Axes>"
      ]
     },
     "metadata": {},
     "output_type": "display_data"
    }
   ],
   "source": [
    "plt.figure(figsize = (20,25),facecolor = \"red\")\n",
    "plotnumber = 1\n",
    "for column in data:\n",
    "    if plotnumber<=12:\n",
    "        ax=plt.subplot(4,3,plotnumber)\n",
    "        sns.distplot(data[column])\n",
    "        plt.xlabel(column,fontsize=14)\n",
    "        \n",
    "    plotnumber+=1\n",
    "plt.show()"
   ]
  },
  {
   "cell_type": "code",
   "execution_count": 24,
   "id": "78dddd64",
   "metadata": {},
   "outputs": [],
   "source": [
    "df_features = data.drop('Rings',axis=1)"
   ]
  },
  {
   "cell_type": "code",
   "execution_count": 29,
   "id": "8d108acf",
   "metadata": {
    "collapsed": true
   },
   "outputs": [
    {
     "data": {
      "image/png": "[encoded data removed]",
      "text/plain": [
       "<Figure size 936x576 with 8 Axes>"
      ]
     },
     "metadata": {
      "needs_background": "light"
     },
     "output_type": "display_data"
    }
   ],
   "source": [
    "plt.figure(figsize = (13,8))\n",
    "plotnumber = 1\n",
    "for column in df_features:\n",
    "    if plotnumber<=8:\n",
    "        plt.subplot(2,4,plotnumber)\n",
    "        ax=sns.boxplot(data=df_features[column])\n",
    "        plt.xlabel(column,fontsize=15)\n",
    "        \n",
    "    plotnumber+=1\n",
    "plt.show()"
   ]
  },
  {
   "cell_type": "code",
   "execution_count": 30,
   "id": "318a9c6b",
   "metadata": {},
   "outputs": [
    {
     "data": {
      "text/plain": [
       "(4177, 9)"
      ]
     },
     "execution_count": 30,
     "metadata": {},
     "output_type": "execute_result"
    }
   ],
   "source": [
    "data.shape"
   ]
  },
  {
   "cell_type": "code",
   "execution_count": 31,
   "id": "3825579c",
   "metadata": {},
   "outputs": [],
   "source": [
    "from scipy.stats import zscore"
   ]
  },
  {
   "cell_type": "code",
   "execution_count": 32,
   "id": "9f8c0095",
   "metadata": {},
   "outputs": [
    {
     "data": {
      "text/plain": [
       "(array([  81,  129,  163,  164,  165,  165,  165,  166,  168,  170,  236,\n",
       "         236,  236,  237,  237,  238,  238,  239,  277,  334,  358,  358,\n",
       "         526,  526,  694,  696,  696,  719,  719,  720,  720,  891,  891,\n",
       "         891, 1048, 1051, 1051, 1052, 1193, 1197, 1199, 1202, 1204, 1206,\n",
       "        1206, 1207, 1207, 1207, 1207, 1209, 1209, 1417, 1417, 1418, 1422,\n",
       "        1426, 1427, 1427, 1427, 1428, 1429, 1429, 1528, 1754, 1756, 1757,\n",
       "        1759, 1761, 1762, 1762, 1762, 1763, 1763, 1763, 1821, 1982, 1986,\n",
       "        1987, 1987, 2051, 2090, 2108, 2114, 2114, 2157, 2161, 2208, 2274,\n",
       "        2334, 2334, 2368, 2381, 2544, 2623, 2624, 2624, 2624, 2625, 2709,\n",
       "        2710, 2710, 2810, 2810, 2811, 2811, 2811, 2862, 2863, 2863, 2863,\n",
       "        3007, 3008, 3148, 3149, 3151, 3188, 3427, 3427, 3427, 3599, 3599,\n",
       "        3628, 3713, 3715, 3715, 3715, 3715, 3800, 3837, 3899, 3899, 3902,\n",
       "        3961, 3962, 4145, 4148], dtype=int64),\n",
       " array([6, 6, 6, 6, 3, 4, 6, 6, 6, 5, 0, 1, 2, 0, 1, 0, 1, 0, 6, 6, 3, 6,\n",
       "        0, 1, 1, 0, 1, 0, 1, 0, 1, 3, 4, 6, 5, 3, 4, 3, 4, 4, 4, 4, 5, 4,\n",
       "        5, 3, 4, 5, 6, 3, 4, 2, 4, 4, 5, 4, 3, 4, 5, 6, 0, 1, 4, 4, 4, 5,\n",
       "        5, 4, 3, 4, 5, 3, 4, 5, 4, 4, 0, 0, 1, 2, 6, 6, 0, 1, 6, 6, 6, 6,\n",
       "        3, 5, 6, 0, 4, 3, 3, 4, 5, 4, 5, 4, 5, 4, 5, 3, 4, 5, 4, 3, 4, 5,\n",
       "        4, 6, 6, 6, 6, 6, 3, 4, 5, 3, 4, 5, 4, 3, 4, 5, 6, 3, 1, 0, 1, 0,\n",
       "        4, 4, 6, 5], dtype=int64))"
      ]
     },
     "execution_count": 32,
     "metadata": {},
     "output_type": "execute_result"
    }
   ],
   "source": [
    "z_score = zscore(data[['Length','Diameter','Height','Whole weight','Shucked weight','Viscera weight','Shell weight']])\n",
    "abs_z_score = np.abs(z_score)\n",
    "threshold=3\n",
    "np.where(abs_z_score>3)"
   ]
  },
  {
   "cell_type": "code",
   "execution_count": 33,
   "id": "2bb8166e",
   "metadata": {},
   "outputs": [
    {
     "data": {
      "text/html": [
       "<div>\n",
       "<style scoped>\n",
       "    .dataframe tbody tr th:only-of-type {\n",
       "        vertical-align: middle;\n",
       "    }\n",
       "\n",
       "    .dataframe tbody tr th {\n",
       "        vertical-align: top;\n",
       "    }\n",
       "\n",
       "    .dataframe thead th {\n",
       "        text-align: right;\n",
       "    }\n",
       "</style>\n",
       "<table border=\"1\" class=\"dataframe\">\n",
       "  <thead>\n",
       "    <tr style=\"text-align: right;\">\n",
       "      <th></th>\n",
       "      <th>Sex</th>\n",
       "      <th>Length</th>\n",
       "      <th>Diameter</th>\n",
       "      <th>Height</th>\n",
       "      <th>Whole weight</th>\n",
       "      <th>Shucked weight</th>\n",
       "      <th>Viscera weight</th>\n",
       "      <th>Shell weight</th>\n",
       "      <th>Rings</th>\n",
       "    </tr>\n",
       "  </thead>\n",
       "  <tbody>\n",
       "    <tr>\n",
       "      <th>0</th>\n",
       "      <td>2.0</td>\n",
       "      <td>0.455</td>\n",
       "      <td>0.365</td>\n",
       "      <td>0.095</td>\n",
       "      <td>0.5140</td>\n",
       "      <td>0.2245</td>\n",
       "      <td>0.1010</td>\n",
       "      <td>0.1500</td>\n",
       "      <td>15</td>\n",
       "    </tr>\n",
       "    <tr>\n",
       "      <th>1</th>\n",
       "      <td>2.0</td>\n",
       "      <td>0.350</td>\n",
       "      <td>0.265</td>\n",
       "      <td>0.090</td>\n",
       "      <td>0.2255</td>\n",
       "      <td>0.0995</td>\n",
       "      <td>0.0485</td>\n",
       "      <td>0.0700</td>\n",
       "      <td>7</td>\n",
       "    </tr>\n",
       "    <tr>\n",
       "      <th>2</th>\n",
       "      <td>0.0</td>\n",
       "      <td>0.530</td>\n",
       "      <td>0.420</td>\n",
       "      <td>0.135</td>\n",
       "      <td>0.6770</td>\n",
       "      <td>0.2565</td>\n",
       "      <td>0.1415</td>\n",
       "      <td>0.2100</td>\n",
       "      <td>9</td>\n",
       "    </tr>\n",
       "    <tr>\n",
       "      <th>3</th>\n",
       "      <td>2.0</td>\n",
       "      <td>0.440</td>\n",
       "      <td>0.365</td>\n",
       "      <td>0.125</td>\n",
       "      <td>0.5160</td>\n",
       "      <td>0.2155</td>\n",
       "      <td>0.1140</td>\n",
       "      <td>0.1550</td>\n",
       "      <td>10</td>\n",
       "    </tr>\n",
       "    <tr>\n",
       "      <th>4</th>\n",
       "      <td>1.0</td>\n",
       "      <td>0.330</td>\n",
       "      <td>0.255</td>\n",
       "      <td>0.080</td>\n",
       "      <td>0.2050</td>\n",
       "      <td>0.0895</td>\n",
       "      <td>0.0395</td>\n",
       "      <td>0.0550</td>\n",
       "      <td>7</td>\n",
       "    </tr>\n",
       "    <tr>\n",
       "      <th>...</th>\n",
       "      <td>...</td>\n",
       "      <td>...</td>\n",
       "      <td>...</td>\n",
       "      <td>...</td>\n",
       "      <td>...</td>\n",
       "      <td>...</td>\n",
       "      <td>...</td>\n",
       "      <td>...</td>\n",
       "      <td>...</td>\n",
       "    </tr>\n",
       "    <tr>\n",
       "      <th>4172</th>\n",
       "      <td>0.0</td>\n",
       "      <td>0.565</td>\n",
       "      <td>0.450</td>\n",
       "      <td>0.165</td>\n",
       "      <td>0.8870</td>\n",
       "      <td>0.3700</td>\n",
       "      <td>0.2390</td>\n",
       "      <td>0.2490</td>\n",
       "      <td>11</td>\n",
       "    </tr>\n",
       "    <tr>\n",
       "      <th>4173</th>\n",
       "      <td>2.0</td>\n",
       "      <td>0.590</td>\n",
       "      <td>0.440</td>\n",
       "      <td>0.135</td>\n",
       "      <td>0.9660</td>\n",
       "      <td>0.4390</td>\n",
       "      <td>0.2145</td>\n",
       "      <td>0.2605</td>\n",
       "      <td>10</td>\n",
       "    </tr>\n",
       "    <tr>\n",
       "      <th>4174</th>\n",
       "      <td>2.0</td>\n",
       "      <td>0.600</td>\n",
       "      <td>0.475</td>\n",
       "      <td>0.205</td>\n",
       "      <td>1.1760</td>\n",
       "      <td>0.5255</td>\n",
       "      <td>0.2875</td>\n",
       "      <td>0.3080</td>\n",
       "      <td>9</td>\n",
       "    </tr>\n",
       "    <tr>\n",
       "      <th>4175</th>\n",
       "      <td>0.0</td>\n",
       "      <td>0.625</td>\n",
       "      <td>0.485</td>\n",
       "      <td>0.150</td>\n",
       "      <td>1.0945</td>\n",
       "      <td>0.5310</td>\n",
       "      <td>0.2610</td>\n",
       "      <td>0.2960</td>\n",
       "      <td>10</td>\n",
       "    </tr>\n",
       "    <tr>\n",
       "      <th>4176</th>\n",
       "      <td>2.0</td>\n",
       "      <td>0.710</td>\n",
       "      <td>0.555</td>\n",
       "      <td>0.195</td>\n",
       "      <td>1.9485</td>\n",
       "      <td>0.9455</td>\n",
       "      <td>0.3765</td>\n",
       "      <td>0.4950</td>\n",
       "      <td>12</td>\n",
       "    </tr>\n",
       "  </tbody>\n",
       "</table>\n",
       "<p>4086 rows × 9 columns</p>\n",
       "</div>"
      ],
      "text/plain": [
       "      Sex  Length  Diameter  Height  Whole weight  Shucked weight  \\\n",
       "0     2.0   0.455     0.365   0.095        0.5140          0.2245   \n",
       "1     2.0   0.350     0.265   0.090        0.2255          0.0995   \n",
       "2     0.0   0.530     0.420   0.135        0.6770          0.2565   \n",
       "3     2.0   0.440     0.365   0.125        0.5160          0.2155   \n",
       "4     1.0   0.330     0.255   0.080        0.2050          0.0895   \n",
       "...   ...     ...       ...     ...           ...             ...   \n",
       "4172  0.0   0.565     0.450   0.165        0.8870          0.3700   \n",
       "4173  2.0   0.590     0.440   0.135        0.9660          0.4390   \n",
       "4174  2.0   0.600     0.475   0.205        1.1760          0.5255   \n",
       "4175  0.0   0.625     0.485   0.150        1.0945          0.5310   \n",
       "4176  2.0   0.710     0.555   0.195        1.9485          0.9455   \n",
       "\n",
       "      Viscera weight  Shell weight  Rings  \n",
       "0             0.1010        0.1500     15  \n",
       "1             0.0485        0.0700      7  \n",
       "2             0.1415        0.2100      9  \n",
       "3             0.1140        0.1550     10  \n",
       "4             0.0395        0.0550      7  \n",
       "...              ...           ...    ...  \n",
       "4172          0.2390        0.2490     11  \n",
       "4173          0.2145        0.2605     10  \n",
       "4174          0.2875        0.3080      9  \n",
       "4175          0.2610        0.2960     10  \n",
       "4176          0.3765        0.4950     12  \n",
       "\n",
       "[4086 rows x 9 columns]"
      ]
     },
     "execution_count": 33,
     "metadata": {},
     "output_type": "execute_result"
    }
   ],
   "source": [
    "fil_entry = (abs_z_score<3).all(axis=1)\n",
    "data = data[fil_entry]\n",
    "data"
   ]
  },
  {
   "cell_type": "code",
   "execution_count": 34,
   "id": "9bc3c6d2",
   "metadata": {},
   "outputs": [
    {
     "data": {
      "image/png": "[encoded data removed]",
      "text/plain": [
       "<Figure size 1440x1800 with 9 Axes>"
      ]
     },
     "metadata": {},
     "output_type": "display_data"
    }
   ],
   "source": [
    "plt.figure(figsize = (20,25),facecolor = \"white\")\n",
    "plotnumber = 1\n",
    "for column in data:\n",
    "    if plotnumber<=12:\n",
    "        ax=plt.subplot(4,3,plotnumber)\n",
    "        sns.distplot(data[column])\n",
    "        plt.xlabel(column,fontsize=14)\n",
    "        \n",
    "    plotnumber+=1\n",
    "plt.show()"
   ]
  },
  {
   "cell_type": "code",
   "execution_count": 35,
   "id": "06574b9e",
   "metadata": {},
   "outputs": [
    {
     "data": {
      "text/plain": [
       "2.178597079243476"
      ]
     },
     "execution_count": 35,
     "metadata": {},
     "output_type": "execute_result"
    }
   ],
   "source": [
    "data_loss = (4177-4086)/4177*100\n",
    "data_loss"
   ]
  },
  {
   "cell_type": "code",
   "execution_count": 37,
   "id": "00da820f",
   "metadata": {},
   "outputs": [],
   "source": [
    "# seprating the columns into features and target\n",
    "x= data.drop(\"Rings\",axis=1)\n",
    "y= data[\"Rings\"]"
   ]
  },
  {
   "cell_type": "code",
   "execution_count": 70,
   "id": "518ce699",
   "metadata": {},
   "outputs": [],
   "source": [
    "from statsmodels.stats.outliers_influence import variance_inflation_factor"
   ]
  },
  {
   "cell_type": "code",
   "execution_count": 71,
   "id": "dcd76e31",
   "metadata": {},
   "outputs": [],
   "source": [
    "from sklearn.preprocessing import StandardScaler\n",
    "sc = StandardScaler()\n",
    "x_scaled= sc.fit_transform(x)"
   ]
  },
  {
   "cell_type": "code",
   "execution_count": 72,
   "id": "a9036d12",
   "metadata": {},
   "outputs": [
    {
     "data": {
      "text/plain": [
       "6"
      ]
     },
     "execution_count": 72,
     "metadata": {},
     "output_type": "execute_result"
    }
   ],
   "source": [
    "x_scaled.shape[1]"
   ]
  },
  {
   "cell_type": "code",
   "execution_count": 73,
   "id": "4365b01c",
   "metadata": {},
   "outputs": [
    {
     "data": {
      "text/html": [
       "<div>\n",
       "<style scoped>\n",
       "    .dataframe tbody tr th:only-of-type {\n",
       "        vertical-align: middle;\n",
       "    }\n",
       "\n",
       "    .dataframe tbody tr th {\n",
       "        vertical-align: top;\n",
       "    }\n",
       "\n",
       "    .dataframe thead th {\n",
       "        text-align: right;\n",
       "    }\n",
       "</style>\n",
       "<table border=\"1\" class=\"dataframe\">\n",
       "  <thead>\n",
       "    <tr style=\"text-align: right;\">\n",
       "      <th></th>\n",
       "      <th>vif</th>\n",
       "      <th>features</th>\n",
       "    </tr>\n",
       "  </thead>\n",
       "  <tbody>\n",
       "    <tr>\n",
       "      <th>0</th>\n",
       "      <td>1.008644</td>\n",
       "      <td>Sex</td>\n",
       "    </tr>\n",
       "    <tr>\n",
       "      <th>1</th>\n",
       "      <td>9.530447</td>\n",
       "      <td>Length</td>\n",
       "    </tr>\n",
       "    <tr>\n",
       "      <th>2</th>\n",
       "      <td>6.354559</td>\n",
       "      <td>Height</td>\n",
       "    </tr>\n",
       "    <tr>\n",
       "      <th>3</th>\n",
       "      <td>9.098124</td>\n",
       "      <td>Shucked weight</td>\n",
       "    </tr>\n",
       "    <tr>\n",
       "      <th>4</th>\n",
       "      <td>10.593417</td>\n",
       "      <td>Viscera weight</td>\n",
       "    </tr>\n",
       "    <tr>\n",
       "      <th>5</th>\n",
       "      <td>9.174266</td>\n",
       "      <td>Shell weight</td>\n",
       "    </tr>\n",
       "  </tbody>\n",
       "</table>\n",
       "</div>"
      ],
      "text/plain": [
       "         vif        features\n",
       "0   1.008644             Sex\n",
       "1   9.530447          Length\n",
       "2   6.354559          Height\n",
       "3   9.098124  Shucked weight\n",
       "4  10.593417  Viscera weight\n",
       "5   9.174266    Shell weight"
      ]
     },
     "execution_count": 73,
     "metadata": {},
     "output_type": "execute_result"
    }
   ],
   "source": [
    "vif = pd.DataFrame()\n",
    "vif[\"vif\"] = [variance_inflation_factor(x_scaled,i) for i in range(x_scaled.shape[1])]\n",
    "vif[\"features\"] = x.columns\n",
    "\n",
    "vif\n"
   ]
  },
  {
   "cell_type": "code",
   "execution_count": 42,
   "id": "a13b8ad5",
   "metadata": {},
   "outputs": [],
   "source": [
    "# there is toooo much of multicollinearity present in the features as the vif values are much higher for mnay colunbs\n",
    "# so either we drop these columns but we cant afforf of that much loss of data "
   ]
  },
  {
   "cell_type": "code",
   "execution_count": 74,
   "id": "f18b102b",
   "metadata": {},
   "outputs": [
    {
     "data": {
      "text/html": [
       "<div>\n",
       "<style scoped>\n",
       "    .dataframe tbody tr th:only-of-type {\n",
       "        vertical-align: middle;\n",
       "    }\n",
       "\n",
       "    .dataframe tbody tr th {\n",
       "        vertical-align: top;\n",
       "    }\n",
       "\n",
       "    .dataframe thead th {\n",
       "        text-align: right;\n",
       "    }\n",
       "</style>\n",
       "<table border=\"1\" class=\"dataframe\">\n",
       "  <thead>\n",
       "    <tr style=\"text-align: right;\">\n",
       "      <th></th>\n",
       "      <th>Sex</th>\n",
       "      <th>Length</th>\n",
       "      <th>Height</th>\n",
       "      <th>Shucked weight</th>\n",
       "      <th>Shell weight</th>\n",
       "    </tr>\n",
       "  </thead>\n",
       "  <tbody>\n",
       "    <tr>\n",
       "      <th>0</th>\n",
       "      <td>2.0</td>\n",
       "      <td>0.455</td>\n",
       "      <td>0.095</td>\n",
       "      <td>0.2245</td>\n",
       "      <td>0.1500</td>\n",
       "    </tr>\n",
       "    <tr>\n",
       "      <th>1</th>\n",
       "      <td>2.0</td>\n",
       "      <td>0.350</td>\n",
       "      <td>0.090</td>\n",
       "      <td>0.0995</td>\n",
       "      <td>0.0700</td>\n",
       "    </tr>\n",
       "    <tr>\n",
       "      <th>2</th>\n",
       "      <td>0.0</td>\n",
       "      <td>0.530</td>\n",
       "      <td>0.135</td>\n",
       "      <td>0.2565</td>\n",
       "      <td>0.2100</td>\n",
       "    </tr>\n",
       "    <tr>\n",
       "      <th>3</th>\n",
       "      <td>2.0</td>\n",
       "      <td>0.440</td>\n",
       "      <td>0.125</td>\n",
       "      <td>0.2155</td>\n",
       "      <td>0.1550</td>\n",
       "    </tr>\n",
       "    <tr>\n",
       "      <th>4</th>\n",
       "      <td>1.0</td>\n",
       "      <td>0.330</td>\n",
       "      <td>0.080</td>\n",
       "      <td>0.0895</td>\n",
       "      <td>0.0550</td>\n",
       "    </tr>\n",
       "    <tr>\n",
       "      <th>...</th>\n",
       "      <td>...</td>\n",
       "      <td>...</td>\n",
       "      <td>...</td>\n",
       "      <td>...</td>\n",
       "      <td>...</td>\n",
       "    </tr>\n",
       "    <tr>\n",
       "      <th>4172</th>\n",
       "      <td>0.0</td>\n",
       "      <td>0.565</td>\n",
       "      <td>0.165</td>\n",
       "      <td>0.3700</td>\n",
       "      <td>0.2490</td>\n",
       "    </tr>\n",
       "    <tr>\n",
       "      <th>4173</th>\n",
       "      <td>2.0</td>\n",
       "      <td>0.590</td>\n",
       "      <td>0.135</td>\n",
       "      <td>0.4390</td>\n",
       "      <td>0.2605</td>\n",
       "    </tr>\n",
       "    <tr>\n",
       "      <th>4174</th>\n",
       "      <td>2.0</td>\n",
       "      <td>0.600</td>\n",
       "      <td>0.205</td>\n",
       "      <td>0.5255</td>\n",
       "      <td>0.3080</td>\n",
       "    </tr>\n",
       "    <tr>\n",
       "      <th>4175</th>\n",
       "      <td>0.0</td>\n",
       "      <td>0.625</td>\n",
       "      <td>0.150</td>\n",
       "      <td>0.5310</td>\n",
       "      <td>0.2960</td>\n",
       "    </tr>\n",
       "    <tr>\n",
       "      <th>4176</th>\n",
       "      <td>2.0</td>\n",
       "      <td>0.710</td>\n",
       "      <td>0.195</td>\n",
       "      <td>0.9455</td>\n",
       "      <td>0.4950</td>\n",
       "    </tr>\n",
       "  </tbody>\n",
       "</table>\n",
       "<p>4086 rows × 5 columns</p>\n",
       "</div>"
      ],
      "text/plain": [
       "      Sex  Length  Height  Shucked weight  Shell weight\n",
       "0     2.0   0.455   0.095          0.2245        0.1500\n",
       "1     2.0   0.350   0.090          0.0995        0.0700\n",
       "2     0.0   0.530   0.135          0.2565        0.2100\n",
       "3     2.0   0.440   0.125          0.2155        0.1550\n",
       "4     1.0   0.330   0.080          0.0895        0.0550\n",
       "...   ...     ...     ...             ...           ...\n",
       "4172  0.0   0.565   0.165          0.3700        0.2490\n",
       "4173  2.0   0.590   0.135          0.4390        0.2605\n",
       "4174  2.0   0.600   0.205          0.5255        0.3080\n",
       "4175  0.0   0.625   0.150          0.5310        0.2960\n",
       "4176  2.0   0.710   0.195          0.9455        0.4950\n",
       "\n",
       "[4086 rows x 5 columns]"
      ]
     },
     "execution_count": 74,
     "metadata": {},
     "output_type": "execute_result"
    }
   ],
   "source": [
    "x=x.drop([\"Viscera weight\"],axis=1)\n",
    "x"
   ]
  },
  {
   "cell_type": "code",
   "execution_count": 75,
   "id": "253826a3",
   "metadata": {},
   "outputs": [],
   "source": [
    "from sklearn.linear_model import LinearRegression\n",
    "lr = LinearRegression()\n",
    "from sklearn.metrics import r2_score\n",
    "from sklearn.model_selection import train_test_split"
   ]
  },
  {
   "cell_type": "code",
   "execution_count": 45,
   "id": "eca03da1",
   "metadata": {},
   "outputs": [
    {
     "name": "stdout",
     "output_type": "stream",
     "text": [
      "At random state 0 the training accuracy is {0.5076945403230337}\n",
      "At random state 0 the testing accuracy is {0.47958187114110173}\n",
      "\n",
      "\n",
      "At random state 1 the training accuracy is {0.49923587678812953}\n",
      "At random state 1 the testing accuracy is {0.5123726717221286}\n",
      "\n",
      "\n",
      "At random state 2 the training accuracy is {0.5025315577592433}\n",
      "At random state 2 the testing accuracy is {0.49894931198233183}\n",
      "\n",
      "\n",
      "At random state 3 the training accuracy is {0.5015466721617443}\n",
      "At random state 3 the testing accuracy is {0.5004338997545068}\n",
      "\n",
      "\n",
      "At random state 4 the training accuracy is {0.5047069305627562}\n",
      "At random state 4 the testing accuracy is {0.490072652927385}\n",
      "\n",
      "\n",
      "At random state 5 the training accuracy is {0.5064972935577162}\n",
      "At random state 5 the testing accuracy is {0.48367525124785327}\n",
      "\n",
      "\n",
      "At random state 6 the training accuracy is {0.5164777967409597}\n",
      "At random state 6 the testing accuracy is {0.44587359231530865}\n",
      "\n",
      "\n",
      "At random state 7 the training accuracy is {0.5022210257338056}\n",
      "At random state 7 the testing accuracy is {0.4991803221280715}\n",
      "\n",
      "\n",
      "At random state 8 the training accuracy is {0.5066588494934632}\n",
      "At random state 8 the testing accuracy is {0.4801862128083604}\n",
      "\n",
      "\n",
      "At random state 9 the training accuracy is {0.5037971477527242}\n",
      "At random state 9 the testing accuracy is {0.49367880827858757}\n",
      "\n",
      "\n",
      "At random state 10 the training accuracy is {0.5030970584418306}\n",
      "At random state 10 the testing accuracy is {0.49747242721401896}\n",
      "\n",
      "\n",
      "At random state 11 the training accuracy is {0.49389932597251907}\n",
      "At random state 11 the testing accuracy is {0.5324849368606436}\n",
      "\n",
      "\n",
      "At random state 12 the training accuracy is {0.4966493521473885}\n",
      "At random state 12 the testing accuracy is {0.5223229477254032}\n",
      "\n",
      "\n",
      "At random state 13 the training accuracy is {0.506587426490464}\n",
      "At random state 13 the testing accuracy is {0.4819949259533385}\n",
      "\n",
      "\n",
      "At random state 14 the training accuracy is {0.5120510393682451}\n",
      "At random state 14 the testing accuracy is {0.46535598206924644}\n",
      "\n",
      "\n",
      "At random state 15 the training accuracy is {0.5043937382574017}\n",
      "At random state 15 the testing accuracy is {0.49230354508295215}\n",
      "\n",
      "\n",
      "At random state 16 the training accuracy is {0.4973572289402436}\n",
      "At random state 16 the testing accuracy is {0.5167734903665784}\n",
      "\n",
      "\n",
      "At random state 17 the training accuracy is {0.5037823088238906}\n",
      "At random state 17 the testing accuracy is {0.4954297760990929}\n",
      "\n",
      "\n",
      "At random state 18 the training accuracy is {0.5031003528673552}\n",
      "At random state 18 the testing accuracy is {0.4964493206328652}\n",
      "\n",
      "\n",
      "At random state 19 the training accuracy is {0.5127371170413033}\n",
      "At random state 19 the testing accuracy is {0.45852327202441534}\n",
      "\n",
      "\n",
      "At random state 20 the training accuracy is {0.5025513851406683}\n",
      "At random state 20 the testing accuracy is {0.5002897463215905}\n",
      "\n",
      "\n",
      "At random state 21 the training accuracy is {0.501828848443385}\n",
      "At random state 21 the testing accuracy is {0.5020783687792671}\n",
      "\n",
      "\n",
      "At random state 22 the training accuracy is {0.5127744368164264}\n",
      "At random state 22 the testing accuracy is {0.45908208789902893}\n",
      "\n",
      "\n",
      "At random state 23 the training accuracy is {0.5091258142790562}\n",
      "At random state 23 the testing accuracy is {0.4637976889086426}\n",
      "\n",
      "\n",
      "At random state 24 the training accuracy is {0.504430981950573}\n",
      "At random state 24 the testing accuracy is {0.4894898905166428}\n",
      "\n",
      "\n",
      "At random state 25 the training accuracy is {0.504925357616834}\n",
      "At random state 25 the testing accuracy is {0.4904754431054825}\n",
      "\n",
      "\n",
      "At random state 26 the training accuracy is {0.5054012621208392}\n",
      "At random state 26 the testing accuracy is {0.48747868694789664}\n",
      "\n",
      "\n",
      "At random state 27 the training accuracy is {0.5153038544336723}\n",
      "At random state 27 the testing accuracy is {0.45061251677828673}\n",
      "\n",
      "\n",
      "At random state 28 the training accuracy is {0.5034723361415256}\n",
      "At random state 28 the testing accuracy is {0.49433147818281853}\n",
      "\n",
      "\n",
      "At random state 29 the training accuracy is {0.4955187379522763}\n",
      "At random state 29 the testing accuracy is {0.5278285854893259}\n",
      "\n",
      "\n",
      "At random state 30 the training accuracy is {0.5064758334189579}\n",
      "At random state 30 the testing accuracy is {0.47642417080539456}\n",
      "\n",
      "\n",
      "At random state 31 the training accuracy is {0.49980914940710497}\n",
      "At random state 31 the testing accuracy is {0.5100711145585728}\n",
      "\n",
      "\n",
      "At random state 32 the training accuracy is {0.5008197988325795}\n",
      "At random state 32 the testing accuracy is {0.5065869892824293}\n",
      "\n",
      "\n",
      "At random state 33 the training accuracy is {0.5113484088742652}\n",
      "At random state 33 the testing accuracy is {0.4617460613499087}\n",
      "\n",
      "\n",
      "At random state 34 the training accuracy is {0.50334766622752}\n",
      "At random state 34 the testing accuracy is {0.496302125100719}\n",
      "\n",
      "\n",
      "At random state 35 the training accuracy is {0.5047638842927749}\n",
      "At random state 35 the testing accuracy is {0.4888493491739935}\n",
      "\n",
      "\n",
      "At random state 36 the training accuracy is {0.5018792091019717}\n",
      "At random state 36 the testing accuracy is {0.5013256691711496}\n",
      "\n",
      "\n",
      "At random state 37 the training accuracy is {0.49723361585753967}\n",
      "At random state 37 the testing accuracy is {0.5204970370363735}\n",
      "\n",
      "\n",
      "At random state 38 the training accuracy is {0.5073924271101796}\n",
      "At random state 38 the testing accuracy is {0.4789515389041913}\n",
      "\n",
      "\n",
      "At random state 39 the training accuracy is {0.49976732286932013}\n",
      "At random state 39 the testing accuracy is {0.5094325426274162}\n",
      "\n",
      "\n",
      "At random state 40 the training accuracy is {0.5061670042760242}\n",
      "At random state 40 the testing accuracy is {0.4845797776164612}\n",
      "\n",
      "\n",
      "At random state 41 the training accuracy is {0.5095618680354079}\n",
      "At random state 41 the testing accuracy is {0.46046137272324694}\n",
      "\n",
      "\n",
      "At random state 42 the training accuracy is {0.5087659709675442}\n",
      "At random state 42 the testing accuracy is {0.4760661248920507}\n",
      "\n",
      "\n",
      "At random state 43 the training accuracy is {0.5055568311598089}\n",
      "At random state 43 the testing accuracy is {0.48889816562808563}\n",
      "\n",
      "\n",
      "At random state 44 the training accuracy is {0.5083637943640502}\n",
      "At random state 44 the testing accuracy is {0.47853626531117854}\n",
      "\n",
      "\n",
      "At random state 45 the training accuracy is {0.48977654479921584}\n",
      "At random state 45 the testing accuracy is {0.5437619949785804}\n",
      "\n",
      "\n",
      "At random state 46 the training accuracy is {0.510349309986929}\n",
      "At random state 46 the testing accuracy is {0.4688373735003629}\n",
      "\n",
      "\n",
      "At random state 47 the training accuracy is {0.508665570954464}\n",
      "At random state 47 the testing accuracy is {0.4731709326169722}\n",
      "\n",
      "\n",
      "At random state 48 the training accuracy is {0.5127834193265404}\n",
      "At random state 48 the testing accuracy is {0.45686754707311794}\n",
      "\n",
      "\n",
      "At random state 49 the training accuracy is {0.4956508765349844}\n",
      "At random state 49 the testing accuracy is {0.5274196942920861}\n",
      "\n",
      "\n",
      "At random state 50 the training accuracy is {0.4954378183232595}\n",
      "At random state 50 the testing accuracy is {0.5284816708139467}\n",
      "\n",
      "\n",
      "At random state 51 the training accuracy is {0.5032410665915341}\n",
      "At random state 51 the testing accuracy is {0.49780714342292887}\n",
      "\n",
      "\n",
      "At random state 52 the training accuracy is {0.5078768300182683}\n",
      "At random state 52 the testing accuracy is {0.4761746059555503}\n",
      "\n",
      "\n",
      "At random state 53 the training accuracy is {0.5017494145132553}\n",
      "At random state 53 the testing accuracy is {0.5030812795963175}\n",
      "\n",
      "\n",
      "At random state 54 the training accuracy is {0.5000071376529907}\n",
      "At random state 54 the testing accuracy is {0.5101750125926152}\n",
      "\n",
      "\n",
      "At random state 55 the training accuracy is {0.514211808657322}\n",
      "At random state 55 the testing accuracy is {0.4547481576674627}\n",
      "\n",
      "\n",
      "At random state 56 the training accuracy is {0.5069725839096861}\n",
      "At random state 56 the testing accuracy is {0.48133837655635003}\n",
      "\n",
      "\n",
      "At random state 57 the training accuracy is {0.5016740316589117}\n",
      "At random state 57 the testing accuracy is {0.5018411149617614}\n",
      "\n",
      "\n",
      "At random state 58 the training accuracy is {0.5023894708259589}\n",
      "At random state 58 the testing accuracy is {0.5007658328637874}\n",
      "\n",
      "\n",
      "At random state 59 the training accuracy is {0.5023160085149507}\n",
      "At random state 59 the testing accuracy is {0.5008339230073628}\n",
      "\n",
      "\n",
      "At random state 60 the training accuracy is {0.507639461230316}\n",
      "At random state 60 the testing accuracy is {0.4770967689469736}\n",
      "\n",
      "\n",
      "At random state 61 the training accuracy is {0.504951890717865}\n",
      "At random state 61 the testing accuracy is {0.49066108904286876}\n",
      "\n",
      "\n",
      "At random state 62 the training accuracy is {0.502828368926376}\n",
      "At random state 62 the testing accuracy is {0.4979835953909225}\n",
      "\n",
      "\n",
      "At random state 63 the training accuracy is {0.5046745000605718}\n",
      "At random state 63 the testing accuracy is {0.49080072304927347}\n",
      "\n",
      "\n",
      "At random state 64 the training accuracy is {0.5049887183429201}\n",
      "At random state 64 the testing accuracy is {0.4880915267799396}\n",
      "\n",
      "\n",
      "At random state 65 the training accuracy is {0.5011541886178981}\n",
      "At random state 65 the testing accuracy is {0.5046452901076321}\n",
      "\n",
      "\n",
      "At random state 66 the training accuracy is {0.5110148957227579}\n",
      "At random state 66 the testing accuracy is {0.46967913475746714}\n",
      "\n",
      "\n",
      "At random state 67 the training accuracy is {0.5147196200487356}\n",
      "At random state 67 the testing accuracy is {0.44886981155973127}\n",
      "\n",
      "\n",
      "At random state 68 the training accuracy is {0.5146620379664664}\n",
      "At random state 68 the testing accuracy is {0.44593165314026184}\n",
      "\n",
      "\n",
      "At random state 69 the training accuracy is {0.49822393744913507}\n",
      "At random state 69 the testing accuracy is {0.5160398386380147}\n",
      "\n",
      "\n",
      "At random state 70 the training accuracy is {0.4975455240112493}\n",
      "At random state 70 the testing accuracy is {0.5210088453421724}\n",
      "\n",
      "\n",
      "At random state 71 the training accuracy is {0.4989180423366074}\n",
      "At random state 71 the testing accuracy is {0.5122308053111106}\n",
      "\n",
      "\n",
      "At random state 72 the training accuracy is {0.5128217331471926}\n",
      "At random state 72 the testing accuracy is {0.4562857793393825}\n",
      "\n",
      "\n",
      "At random state 73 the training accuracy is {0.4994647688970877}\n",
      "At random state 73 the testing accuracy is {0.5119438103500189}\n",
      "\n",
      "\n",
      "At random state 74 the training accuracy is {0.5073866725530358}\n",
      "At random state 74 the testing accuracy is {0.47827357442116847}\n",
      "\n",
      "\n",
      "At random state 75 the training accuracy is {0.5117523128266341}\n",
      "At random state 75 the testing accuracy is {0.4582184472294776}\n",
      "\n",
      "\n",
      "At random state 76 the training accuracy is {0.5067353189113468}\n",
      "At random state 76 the testing accuracy is {0.4820800069540764}\n",
      "\n",
      "\n",
      "At random state 77 the training accuracy is {0.4980469862490653}\n",
      "At random state 77 the testing accuracy is {0.518690326610952}\n",
      "\n",
      "\n",
      "At random state 78 the training accuracy is {0.5053494071296047}\n",
      "At random state 78 the testing accuracy is {0.48929590536265033}\n",
      "\n",
      "\n",
      "At random state 79 the training accuracy is {0.4975007880224763}\n",
      "At random state 79 the testing accuracy is {0.5192405181353096}\n",
      "\n",
      "\n",
      "At random state 80 the training accuracy is {0.49388364738540247}\n",
      "At random state 80 the testing accuracy is {0.5303678271727772}\n",
      "\n",
      "\n",
      "At random state 81 the training accuracy is {0.5041221832527175}\n",
      "At random state 81 the testing accuracy is {0.49254982232860234}\n",
      "\n",
      "\n",
      "At random state 82 the training accuracy is {0.5135793623072102}\n",
      "At random state 82 the testing accuracy is {0.44612770813979097}\n",
      "\n",
      "\n",
      "At random state 83 the training accuracy is {0.4975650822345389}\n",
      "At random state 83 the testing accuracy is {0.5203457698109066}\n",
      "\n",
      "\n",
      "At random state 84 the training accuracy is {0.5088656835949861}\n",
      "At random state 84 the testing accuracy is {0.47519779852502986}\n",
      "\n",
      "\n",
      "At random state 85 the training accuracy is {0.5041749597795366}\n",
      "At random state 85 the testing accuracy is {0.49113378768631366}\n",
      "\n",
      "\n",
      "At random state 86 the training accuracy is {0.5010084930819456}\n",
      "At random state 86 the testing accuracy is {0.5054076201152077}\n",
      "\n",
      "\n",
      "At random state 87 the training accuracy is {0.5043696949681087}\n",
      "At random state 87 the testing accuracy is {0.49021080903308134}\n",
      "\n",
      "\n",
      "At random state 88 the training accuracy is {0.5096810549038211}\n",
      "At random state 88 the testing accuracy is {0.4673016647249192}\n",
      "\n",
      "\n",
      "At random state 89 the training accuracy is {0.5033645083353002}\n",
      "At random state 89 the testing accuracy is {0.49671062340379113}\n",
      "\n",
      "\n",
      "At random state 90 the training accuracy is {0.4927900457082036}\n",
      "At random state 90 the testing accuracy is {0.536989286018954}\n",
      "\n",
      "\n",
      "At random state 91 the training accuracy is {0.5024059961197566}\n",
      "At random state 91 the testing accuracy is {0.5003137007605885}\n",
      "\n",
      "\n",
      "At random state 92 the training accuracy is {0.5095571956619207}\n",
      "At random state 92 the testing accuracy is {0.4729826248168225}\n",
      "\n",
      "\n",
      "At random state 93 the training accuracy is {0.4994271670269539}\n",
      "At random state 93 the testing accuracy is {0.5111558704469595}\n",
      "\n",
      "\n",
      "At random state 94 the training accuracy is {0.5137126687468437}\n",
      "At random state 94 the testing accuracy is {0.44936470950103835}\n",
      "\n",
      "\n",
      "At random state 95 the training accuracy is {0.49351999360464627}\n",
      "At random state 95 the testing accuracy is {0.5341864586640347}\n",
      "\n",
      "\n",
      "At random state 96 the training accuracy is {0.5100043459955887}\n",
      "At random state 96 the testing accuracy is {0.4668708448168234}\n",
      "\n",
      "\n",
      "At random state 97 the training accuracy is {0.5037144348453029}\n",
      "At random state 97 the testing accuracy is {0.4947790283362966}\n",
      "\n",
      "\n",
      "At random state 98 the training accuracy is {0.5011823016193626}\n",
      "At random state 98 the testing accuracy is {0.5041644255892992}\n",
      "\n",
      "\n",
      "At random state 99 the training accuracy is {0.4946487930169666}\n",
      "At random state 99 the testing accuracy is {0.5365283658983482}\n",
      "\n",
      "\n"
     ]
    }
   ],
   "source": [
    "for i in range(0,100):\n",
    "    x_train,x_test,y_train,y_test=train_test_split(x,y,test_size=0.2,random_state=i)\n",
    "    lr.fit(x_train,y_train)\n",
    "    pred_train = lr.predict(x_train)\n",
    "    pred_test = lr.predict(x_test)\n",
    "    print(\"At random state\",i , \"the training accuracy is\",  {r2_score(y_train,pred_train)})\n",
    "    \n",
    "    print(\"At random state\",i , \"the testing accuracy is\" , {r2_score(y_test,pred_test)})\n",
    "    print(\"\\n\")"
   ]
  },
  {
   "cell_type": "code",
   "execution_count": 76,
   "id": "61e14610",
   "metadata": {},
   "outputs": [],
   "source": [
    "x_train,x_test,y_train,y_test=train_test_split(x,y,test_size=0.2,random_state=10)"
   ]
  },
  {
   "cell_type": "code",
   "execution_count": 77,
   "id": "f5b9ecda",
   "metadata": {},
   "outputs": [
    {
     "data": {
      "text/plain": [
       "LinearRegression()"
      ]
     },
     "execution_count": 77,
     "metadata": {},
     "output_type": "execute_result"
    }
   ],
   "source": [
    "lr.fit(x_train,y_train)"
   ]
  },
  {
   "cell_type": "code",
   "execution_count": 78,
   "id": "5af6e4fe",
   "metadata": {},
   "outputs": [],
   "source": [
    "pred_test = lr.predict(x_test)"
   ]
  },
  {
   "cell_type": "code",
   "execution_count": 79,
   "id": "52e66432",
   "metadata": {},
   "outputs": [
    {
     "name": "stdout",
     "output_type": "stream",
     "text": [
      "0.4977374789080671\n"
     ]
    }
   ],
   "source": [
    "print(r2_score(y_test,pred_test))"
   ]
  },
  {
   "cell_type": "code",
   "execution_count": 80,
   "id": "d1d260a7",
   "metadata": {},
   "outputs": [],
   "source": [
    "Train_accuracy = r2_score(y_train,pred_train)\n"
   ]
  },
  {
   "cell_type": "code",
   "execution_count": 81,
   "id": "5147f1a9",
   "metadata": {},
   "outputs": [],
   "source": [
    "Test_accuracy = r2_score(y_test,pred_test)"
   ]
  },
  {
   "cell_type": "code",
   "execution_count": 82,
   "id": "5c9f84d7",
   "metadata": {},
   "outputs": [],
   "source": [
    "from sklearn.model_selection import cross_val_score"
   ]
  },
  {
   "cell_type": "code",
   "execution_count": 83,
   "id": "f2c79257",
   "metadata": {},
   "outputs": [
    {
     "name": "stdout",
     "output_type": "stream",
     "text": [
      "At cross fold 3 the cv score is 0.46890468925673295 and accuracy score for training is -0.49493423877604603 and accuracy score for testing is 0.4977374789080671\n",
      "\n",
      "\n",
      "At cross fold 4 the cv score is 0.37413698410406715 and accuracy score for training is -0.49493423877604603 and accuracy score for testing is 0.4977374789080671\n",
      "\n",
      "\n",
      "At cross fold 5 the cv score is 0.3717646604497297 and accuracy score for training is -0.49493423877604603 and accuracy score for testing is 0.4977374789080671\n",
      "\n",
      "\n",
      "At cross fold 6 the cv score is 0.3732804946347093 and accuracy score for training is -0.49493423877604603 and accuracy score for testing is 0.4977374789080671\n",
      "\n",
      "\n",
      "At cross fold 7 the cv score is 0.398269896530379 and accuracy score for training is -0.49493423877604603 and accuracy score for testing is 0.4977374789080671\n",
      "\n",
      "\n",
      "At cross fold 8 the cv score is 0.3308016588477504 and accuracy score for training is -0.49493423877604603 and accuracy score for testing is 0.4977374789080671\n",
      "\n",
      "\n",
      "At cross fold 9 the cv score is 0.37583796915582285 and accuracy score for training is -0.49493423877604603 and accuracy score for testing is 0.4977374789080671\n",
      "\n",
      "\n"
     ]
    }
   ],
   "source": [
    "for j in range(3,10):\n",
    "    cv_score = cross_val_score(lr,x,y,cv=j)\n",
    "    cv_mean = cv_score.mean()\n",
    "    print(\"At cross fold\",j, \"the cv score is\",cv_mean,\"and accuracy score for training is\",Train_accuracy,\"and accuracy score for testing is\", Test_accuracy)\n",
    "    print(\"\\n\")   "
   ]
  },
  {
   "cell_type": "code",
   "execution_count": 84,
   "id": "b64d1b73",
   "metadata": {},
   "outputs": [
    {
     "data": {
      "image/png": "[encoded data removed]",
      "text/plain": [
       "<Figure size 576x432 with 1 Axes>"
      ]
     },
     "metadata": {
      "needs_background": "light"
     },
     "output_type": "display_data"
    }
   ],
   "source": [
    "plt.figure(figsize = (8,6))\n",
    "plt.scatter(x=y_test,y=pred_test,color='r')\n",
    "plt.plot(y_test,y_test,color = 'b')\n",
    "plt.xlabel('Actual salary',fontsize=14)\n",
    "plt.ylabel('Predicted salary',fontsize=14)\n",
    "plt.title('Linear Regression',fontsize=18)\n",
    "plt.show()"
   ]
  },
  {
   "cell_type": "code",
   "execution_count": 85,
   "id": "dab29833",
   "metadata": {},
   "outputs": [],
   "source": [
    "from sklearn.model_selection import GridSearchCV"
   ]
  },
  {
   "cell_type": "code",
   "execution_count": 86,
   "id": "7705475f",
   "metadata": {},
   "outputs": [
    {
     "name": "stdout",
     "output_type": "stream",
     "text": [
      "{'alpha': 0.0001, 'random_state': 2}\n"
     ]
    }
   ],
   "source": [
    "from sklearn.linear_model import Lasso\n",
    "parameters = {'alpha':[.0001,.001,.01,.1,1,10],'random_state':list(range(2,10))}\n",
    "\n",
    "ls = Lasso()\n",
    "clf = GridSearchCV(ls,parameters)\n",
    "clf.fit(x_train,y_train)\n",
    "\n",
    "print(clf.best_params_)\n",
    "\n"
   ]
  },
  {
   "cell_type": "code",
   "execution_count": 87,
   "id": "7b78f0a8",
   "metadata": {},
   "outputs": [],
   "source": [
    "ls = Lasso(alpha=0.0001,random_state=2)\n",
    "ls.fit(x_train,y_train)\n",
    "ls.score(x_train,y_train)\n",
    "pred_ls = ls.predict(x_test)\n",
    "\n"
   ]
  },
  {
   "cell_type": "code",
   "execution_count": 88,
   "id": "fe9ba9fe",
   "metadata": {},
   "outputs": [
    {
     "data": {
      "text/plain": [
       "0.49795519300630453"
      ]
     },
     "execution_count": 88,
     "metadata": {},
     "output_type": "execute_result"
    }
   ],
   "source": [
    "lss = r2_score(y_test,pred_ls)\n",
    "lss"
   ]
  },
  {
   "cell_type": "code",
   "execution_count": 89,
   "id": "e381a1d9",
   "metadata": {},
   "outputs": [
    {
     "data": {
      "text/plain": [
       "0.46891567460327277"
      ]
     },
     "execution_count": 89,
     "metadata": {},
     "output_type": "execute_result"
    }
   ],
   "source": [
    "cv_score = cross_val_score(ls,x,y,cv=3)\n",
    "cv_mean = cv_score.mean()\n",
    "cv_mean"
   ]
  },
  {
   "cell_type": "code",
   "execution_count": 90,
   "id": "b86acabd",
   "metadata": {},
   "outputs": [],
   "source": [
    "# ensemble techniques"
   ]
  },
  {
   "cell_type": "code",
   "execution_count": 91,
   "id": "b90abee3",
   "metadata": {},
   "outputs": [],
   "source": [
    "from sklearn.ensemble import RandomForestRegressor"
   ]
  },
  {
   "cell_type": "code",
   "execution_count": 92,
   "id": "94e04519",
   "metadata": {},
   "outputs": [
    {
     "name": "stdout",
     "output_type": "stream",
     "text": [
      "{'criterion': 'mse', 'max_depth': 7, 'max_features': 'auto', 'min_samples_leaf': 10}\n"
     ]
    }
   ],
   "source": [
    "parameter = {'criterion':['mse','mae'],'max_features':[\"auto\",\"sqrt\",\"log2\"],'max_depth':[2,7],'min_samples_leaf':[2,10]}\n",
    "rf = RandomForestRegressor()\n",
    "clf = GridSearchCV(rf,parameter)\n",
    "clf.fit(x_train,y_train)\n",
    "\n",
    "print(clf.best_params_)"
   ]
  },
  {
   "cell_type": "code",
   "execution_count": 93,
   "id": "d39700fe",
   "metadata": {},
   "outputs": [],
   "source": [
    "rf = RandomForestRegressor(criterion=\"mse\",max_features=\"auto\",max_depth=7,min_samples_leaf=10)\n",
    "rf.fit(x_train,y_train)\n",
    "rf.score(x_train,y_train)\n",
    "pred_dec = rf.predict(x_test)"
   ]
  },
  {
   "cell_type": "code",
   "execution_count": 102,
   "id": "8dc86ee3",
   "metadata": {},
   "outputs": [
    {
     "name": "stdout",
     "output_type": "stream",
     "text": [
      "R2 Score: 51.60078574803284\n",
      "Cross val Score : 45.7546185411723\n"
     ]
    }
   ],
   "source": [
    "rfs = r2_score(y_test,pred_dec)\n",
    "print('R2 Score:',rfs*100)\n",
    "rf_score = cross_val_score(rf,x,y,cv=7)\n",
    "rfc = rf_score.mean()\n",
    "print(\"Cross val Score :\",rfc*100)"
   ]
  },
  {
   "cell_type": "code",
   "execution_count": 103,
   "id": "9e02225a",
   "metadata": {},
   "outputs": [],
   "source": [
    "# hyper tuning"
   ]
  },
  {
   "cell_type": "code",
   "execution_count": 107,
   "id": "4828efb7",
   "metadata": {},
   "outputs": [],
   "source": [
    "from sklearn.model_selection import RandomizedSearchCV\n",
    "from sklearn.ensemble import AdaBoostRegressor\n",
    "ada = AdaBoostRegressor\n"
   ]
  },
  {
   "cell_type": "code",
   "execution_count": 105,
   "id": "c2d4faef",
   "metadata": {},
   "outputs": [],
   "source": [
    "params = {'n_estimators':[47,50,60,70],'learning_rate':[0.25,0.30,0.40]}"
   ]
  },
  {
   "cell_type": "code",
   "execution_count": 108,
   "id": "38b81c72",
   "metadata": {},
   "outputs": [],
   "source": [
    "rnd_srch = RandomizedSearchCV(AdaBoostRegressor(),cv=3,param_distributions=params)"
   ]
  },
  {
   "cell_type": "code",
   "execution_count": 109,
   "id": "7b9f1ff3",
   "metadata": {},
   "outputs": [
    {
     "data": {
      "text/plain": [
       "RandomizedSearchCV(cv=3, estimator=AdaBoostRegressor(),\n",
       "                   param_distributions={'learning_rate': [0.25, 0.3, 0.4],\n",
       "                                        'n_estimators': [47, 50, 60, 70]})"
      ]
     },
     "execution_count": 109,
     "metadata": {},
     "output_type": "execute_result"
    }
   ],
   "source": [
    "rnd_srch.fit(x_train,y_train)"
   ]
  },
  {
   "cell_type": "code",
   "execution_count": 110,
   "id": "7a42d05b",
   "metadata": {},
   "outputs": [
    {
     "data": {
      "text/plain": [
       "AdaBoostRegressor(learning_rate=0.25)"
      ]
     },
     "execution_count": 110,
     "metadata": {},
     "output_type": "execute_result"
    }
   ],
   "source": [
    "rnd_srch.best_estimator_"
   ]
  },
  {
   "cell_type": "code",
   "execution_count": 126,
   "id": "95a55afc",
   "metadata": {},
   "outputs": [],
   "source": [
    "ada = AdaBoostRegressor(learning_rate=0.25,n_estimators=5)"
   ]
  },
  {
   "cell_type": "code",
   "execution_count": 127,
   "id": "f5699667",
   "metadata": {},
   "outputs": [
    {
     "data": {
      "text/plain": [
       "AdaBoostRegressor(learning_rate=0.25, n_estimators=5)"
      ]
     },
     "execution_count": 127,
     "metadata": {},
     "output_type": "execute_result"
    }
   ],
   "source": [
    "ada.fit(x_train,y_train)"
   ]
  },
  {
   "cell_type": "code",
   "execution_count": 128,
   "id": "76f0462d",
   "metadata": {},
   "outputs": [
    {
     "name": "stdout",
     "output_type": "stream",
     "text": [
      "0.42288253289989874\n"
     ]
    }
   ],
   "source": [
    "y_pred = ada.predict(x_test)\n",
    "\n",
    "print(r2_score(y_test,y_pred))"
   ]
  },
  {
   "cell_type": "code",
   "execution_count": 129,
   "id": "8419d001",
   "metadata": {},
   "outputs": [],
   "source": [
    "#lets try with decision tree algo"
   ]
  },
  {
   "cell_type": "code",
   "execution_count": 130,
   "id": "15bd013e",
   "metadata": {},
   "outputs": [],
   "source": [
    "from sklearn.model_selection import train_test_split,GridSearchCV\n",
    "from sklearn.tree import DecisionTreeClassifier\n",
    "from sklearn.preprocessing import StandardScaler\n",
    "from sklearn.metrics import accuracy_score,confusion_matrix,roc_curve,roc_auc_score\n"
   ]
  },
  {
   "cell_type": "code",
   "execution_count": 131,
   "id": "f9f48257",
   "metadata": {},
   "outputs": [],
   "source": [
    "x_train,x_test,y_train,y_test=train_test_split(x,y,test_size=0.25,random_state=10)"
   ]
  },
  {
   "cell_type": "code",
   "execution_count": 132,
   "id": "4f016a7e",
   "metadata": {},
   "outputs": [],
   "source": [
    "clf = DecisionTreeClassifier()"
   ]
  },
  {
   "cell_type": "code",
   "execution_count": 133,
   "id": "2cc4effd",
   "metadata": {},
   "outputs": [
    {
     "data": {
      "text/plain": [
       "DecisionTreeClassifier()"
      ]
     },
     "execution_count": 133,
     "metadata": {},
     "output_type": "execute_result"
    }
   ],
   "source": [
    "clf.fit(x_train,y_train)"
   ]
  },
  {
   "cell_type": "code",
   "execution_count": 134,
   "id": "7d536f1d",
   "metadata": {},
   "outputs": [
    {
     "data": {
      "text/plain": [
       "1.0"
      ]
     },
     "execution_count": 134,
     "metadata": {},
     "output_type": "execute_result"
    }
   ],
   "source": [
    "clf.score(x_train,y_train)"
   ]
  },
  {
   "cell_type": "code",
   "execution_count": 135,
   "id": "9d5baa1f",
   "metadata": {},
   "outputs": [],
   "source": [
    "y_pred = clf.predict(x_test)"
   ]
  },
  {
   "cell_type": "code",
   "execution_count": 136,
   "id": "9357acf5",
   "metadata": {},
   "outputs": [
    {
     "data": {
      "text/plain": [
       "0.18297455968688844"
      ]
     },
     "execution_count": 136,
     "metadata": {},
     "output_type": "execute_result"
    }
   ],
   "source": [
    "# check the accuracy\n",
    "accuracy_score(y_test,y_pred)"
   ]
  },
  {
   "cell_type": "code",
   "execution_count": 137,
   "id": "80cd9d72",
   "metadata": {},
   "outputs": [],
   "source": [
    "grid_param = {'criterion':['gini','entropy'],'max_depth':range(2,10),'min_samples_leaf':range(4,10),'min_samples_split':range(3,10),'max_leaf_nodes':range(2,10)}"
   ]
  },
  {
   "cell_type": "code",
   "execution_count": 138,
   "id": "3c31a574",
   "metadata": {},
   "outputs": [],
   "source": [
    "grid_search = GridSearchCV(estimator=clf,param_grid=grid_param,cv=5,n_jobs = -1)"
   ]
  },
  {
   "cell_type": "code",
   "execution_count": 139,
   "id": "3cc66ba7",
   "metadata": {},
   "outputs": [
    {
     "data": {
      "text/plain": [
       "GridSearchCV(cv=5, estimator=DecisionTreeClassifier(), n_jobs=-1,\n",
       "             param_grid={'criterion': ['gini', 'entropy'],\n",
       "                         'max_depth': range(2, 10),\n",
       "                         'max_leaf_nodes': range(2, 10),\n",
       "                         'min_samples_leaf': range(4, 10),\n",
       "                         'min_samples_split': range(3, 10)})"
      ]
     },
     "execution_count": 139,
     "metadata": {},
     "output_type": "execute_result"
    }
   ],
   "source": [
    "grid_search.fit(x_train,y_train)"
   ]
  },
  {
   "cell_type": "code",
   "execution_count": 140,
   "id": "45ca563f",
   "metadata": {},
   "outputs": [
    {
     "name": "stdout",
     "output_type": "stream",
     "text": [
      "{'criterion': 'entropy', 'max_depth': 4, 'max_leaf_nodes': 8, 'min_samples_leaf': 4, 'min_samples_split': 3}\n"
     ]
    }
   ],
   "source": [
    "best_parameters = grid_search.best_params_\n",
    "print(best_parameters)"
   ]
  },
  {
   "cell_type": "code",
   "execution_count": 141,
   "id": "ee4defa4",
   "metadata": {},
   "outputs": [
    {
     "data": {
      "text/plain": [
       "DecisionTreeClassifier(criterion='entropy', max_depth=4, max_leaf_nodes=8,\n",
       "                       min_samples_leaf=4, min_samples_split=3)"
      ]
     },
     "execution_count": 141,
     "metadata": {},
     "output_type": "execute_result"
    }
   ],
   "source": [
    "clf=DecisionTreeClassifier(criterion= 'entropy', max_depth= 4, min_samples_leaf= 4, min_samples_split= 3,max_leaf_nodes=8)\n",
    "\n",
    "clf.fit(x_train,y_train)"
   ]
  },
  {
   "cell_type": "code",
   "execution_count": 142,
   "id": "48a8968b",
   "metadata": {},
   "outputs": [],
   "source": [
    "y_pred = clf.predict(x_test)"
   ]
  },
  {
   "cell_type": "code",
   "execution_count": 143,
   "id": "c7421a6d",
   "metadata": {},
   "outputs": [
    {
     "data": {
      "text/plain": [
       "0.24951076320939333"
      ]
     },
     "execution_count": 143,
     "metadata": {},
     "output_type": "execute_result"
    }
   ],
   "source": [
    "# checking the accuracy\n",
    "accuracy_score(y_test,y_pred)"
   ]
  },
  {
   "cell_type": "code",
   "execution_count": 144,
   "id": "ba81792d",
   "metadata": {},
   "outputs": [],
   "source": [
    "# not a good so we use our LR model to predict without tuning cz it gives more wiyhput tuning"
   ]
  },
  {
   "cell_type": "code",
   "execution_count": 147,
   "id": "aeab75da",
   "metadata": {},
   "outputs": [],
   "source": [
    "# saving the model for later prediction\n",
    "import pickle\n"
   ]
  },
  {
   "cell_type": "code",
   "execution_count": 150,
   "id": "6d4a48e1",
   "metadata": {},
   "outputs": [],
   "source": [
    "filename = 'abalone_model.pickle'\n",
    "pickle.dump(lr,open(filename,'wb'))"
   ]
  },
  {
   "cell_type": "code",
   "execution_count": 151,
   "id": "f1ead88d",
   "metadata": {},
   "outputs": [],
   "source": [
    "# hence my model is comoleted and ready to predict"
   ]
  }
 ],
 "metadata": {
  "kernelspec": {
   "display_name": "Python 3 (ipykernel)",
   "language": "python",
   "name": "python3"
  },
  "language_info": {
   "codemirror_mode": {
    "name": "ipython",
    "version": 3
   },
   "file_extension": ".py",
   "mimetype": "text/x-python",
   "name": "python",
   "nbconvert_exporter": "python",
   "pygments_lexer": "ipython3",
   "version": "3.9.7"
  }
 },
 "nbformat": 4,
 "nbformat_minor": 5
}
