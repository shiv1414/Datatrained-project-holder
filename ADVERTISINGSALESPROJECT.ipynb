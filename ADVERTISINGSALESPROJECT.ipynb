{
 "cells": [
  {
   "cell_type": "code",
   "execution_count": 11,
   "id": "8673e75b",
   "metadata": {},
   "outputs": [],
   "source": [
    "import pandas as pd \n",
    "import numpy as np\n",
    "import matplotlib.pyplot as plt\n",
    "import seaborn as sns\n",
    "\n",
    "import warnings\n",
    "warnings.filterwarnings('ignore')"
   ]
  },
  {
   "cell_type": "code",
   "execution_count": 12,
   "id": "5ee46732",
   "metadata": {},
   "outputs": [
    {
     "data": {
      "text/html": [
       "<div>\n",
       "<style scoped>\n",
       "    .dataframe tbody tr th:only-of-type {\n",
       "        vertical-align: middle;\n",
       "    }\n",
       "\n",
       "    .dataframe tbody tr th {\n",
       "        vertical-align: top;\n",
       "    }\n",
       "\n",
       "    .dataframe thead th {\n",
       "        text-align: right;\n",
       "    }\n",
       "</style>\n",
       "<table border=\"1\" class=\"dataframe\">\n",
       "  <thead>\n",
       "    <tr style=\"text-align: right;\">\n",
       "      <th></th>\n",
       "      <th>Unnamed: 0</th>\n",
       "      <th>TV</th>\n",
       "      <th>radio</th>\n",
       "      <th>newspaper</th>\n",
       "      <th>sales</th>\n",
       "    </tr>\n",
       "  </thead>\n",
       "  <tbody>\n",
       "    <tr>\n",
       "      <th>0</th>\n",
       "      <td>1</td>\n",
       "      <td>230.1</td>\n",
       "      <td>37.8</td>\n",
       "      <td>69.2</td>\n",
       "      <td>22.1</td>\n",
       "    </tr>\n",
       "    <tr>\n",
       "      <th>1</th>\n",
       "      <td>2</td>\n",
       "      <td>44.5</td>\n",
       "      <td>39.3</td>\n",
       "      <td>45.1</td>\n",
       "      <td>10.4</td>\n",
       "    </tr>\n",
       "    <tr>\n",
       "      <th>2</th>\n",
       "      <td>3</td>\n",
       "      <td>17.2</td>\n",
       "      <td>45.9</td>\n",
       "      <td>69.3</td>\n",
       "      <td>9.3</td>\n",
       "    </tr>\n",
       "    <tr>\n",
       "      <th>3</th>\n",
       "      <td>4</td>\n",
       "      <td>151.5</td>\n",
       "      <td>41.3</td>\n",
       "      <td>58.5</td>\n",
       "      <td>18.5</td>\n",
       "    </tr>\n",
       "    <tr>\n",
       "      <th>4</th>\n",
       "      <td>5</td>\n",
       "      <td>180.8</td>\n",
       "      <td>10.8</td>\n",
       "      <td>58.4</td>\n",
       "      <td>12.9</td>\n",
       "    </tr>\n",
       "    <tr>\n",
       "      <th>...</th>\n",
       "      <td>...</td>\n",
       "      <td>...</td>\n",
       "      <td>...</td>\n",
       "      <td>...</td>\n",
       "      <td>...</td>\n",
       "    </tr>\n",
       "    <tr>\n",
       "      <th>195</th>\n",
       "      <td>196</td>\n",
       "      <td>38.2</td>\n",
       "      <td>3.7</td>\n",
       "      <td>13.8</td>\n",
       "      <td>7.6</td>\n",
       "    </tr>\n",
       "    <tr>\n",
       "      <th>196</th>\n",
       "      <td>197</td>\n",
       "      <td>94.2</td>\n",
       "      <td>4.9</td>\n",
       "      <td>8.1</td>\n",
       "      <td>9.7</td>\n",
       "    </tr>\n",
       "    <tr>\n",
       "      <th>197</th>\n",
       "      <td>198</td>\n",
       "      <td>177.0</td>\n",
       "      <td>9.3</td>\n",
       "      <td>6.4</td>\n",
       "      <td>12.8</td>\n",
       "    </tr>\n",
       "    <tr>\n",
       "      <th>198</th>\n",
       "      <td>199</td>\n",
       "      <td>283.6</td>\n",
       "      <td>42.0</td>\n",
       "      <td>66.2</td>\n",
       "      <td>25.5</td>\n",
       "    </tr>\n",
       "    <tr>\n",
       "      <th>199</th>\n",
       "      <td>200</td>\n",
       "      <td>232.1</td>\n",
       "      <td>8.6</td>\n",
       "      <td>8.7</td>\n",
       "      <td>13.4</td>\n",
       "    </tr>\n",
       "  </tbody>\n",
       "</table>\n",
       "<p>200 rows × 5 columns</p>\n",
       "</div>"
      ],
      "text/plain": [
       "     Unnamed: 0     TV  radio  newspaper  sales\n",
       "0             1  230.1   37.8       69.2   22.1\n",
       "1             2   44.5   39.3       45.1   10.4\n",
       "2             3   17.2   45.9       69.3    9.3\n",
       "3             4  151.5   41.3       58.5   18.5\n",
       "4             5  180.8   10.8       58.4   12.9\n",
       "..          ...    ...    ...        ...    ...\n",
       "195         196   38.2    3.7       13.8    7.6\n",
       "196         197   94.2    4.9        8.1    9.7\n",
       "197         198  177.0    9.3        6.4   12.8\n",
       "198         199  283.6   42.0       66.2   25.5\n",
       "199         200  232.1    8.6        8.7   13.4\n",
       "\n",
       "[200 rows x 5 columns]"
      ]
     },
     "execution_count": 12,
     "metadata": {},
     "output_type": "execute_result"
    }
   ],
   "source": [
    "data = pd.read_csv('https://raw.githubusercontent.com/dsrscientist/DSData/master/Advertising.csv')\n",
    "data"
   ]
  },
  {
   "cell_type": "code",
   "execution_count": 13,
   "id": "4be86b45",
   "metadata": {},
   "outputs": [
    {
     "data": {
      "text/html": [
       "<div>\n",
       "<style scoped>\n",
       "    .dataframe tbody tr th:only-of-type {\n",
       "        vertical-align: middle;\n",
       "    }\n",
       "\n",
       "    .dataframe tbody tr th {\n",
       "        vertical-align: top;\n",
       "    }\n",
       "\n",
       "    .dataframe thead th {\n",
       "        text-align: right;\n",
       "    }\n",
       "</style>\n",
       "<table border=\"1\" class=\"dataframe\">\n",
       "  <thead>\n",
       "    <tr style=\"text-align: right;\">\n",
       "      <th></th>\n",
       "      <th>TV</th>\n",
       "      <th>radio</th>\n",
       "      <th>newspaper</th>\n",
       "      <th>sales</th>\n",
       "    </tr>\n",
       "  </thead>\n",
       "  <tbody>\n",
       "    <tr>\n",
       "      <th>0</th>\n",
       "      <td>230.1</td>\n",
       "      <td>37.8</td>\n",
       "      <td>69.2</td>\n",
       "      <td>22.1</td>\n",
       "    </tr>\n",
       "    <tr>\n",
       "      <th>1</th>\n",
       "      <td>44.5</td>\n",
       "      <td>39.3</td>\n",
       "      <td>45.1</td>\n",
       "      <td>10.4</td>\n",
       "    </tr>\n",
       "    <tr>\n",
       "      <th>2</th>\n",
       "      <td>17.2</td>\n",
       "      <td>45.9</td>\n",
       "      <td>69.3</td>\n",
       "      <td>9.3</td>\n",
       "    </tr>\n",
       "    <tr>\n",
       "      <th>3</th>\n",
       "      <td>151.5</td>\n",
       "      <td>41.3</td>\n",
       "      <td>58.5</td>\n",
       "      <td>18.5</td>\n",
       "    </tr>\n",
       "    <tr>\n",
       "      <th>4</th>\n",
       "      <td>180.8</td>\n",
       "      <td>10.8</td>\n",
       "      <td>58.4</td>\n",
       "      <td>12.9</td>\n",
       "    </tr>\n",
       "    <tr>\n",
       "      <th>...</th>\n",
       "      <td>...</td>\n",
       "      <td>...</td>\n",
       "      <td>...</td>\n",
       "      <td>...</td>\n",
       "    </tr>\n",
       "    <tr>\n",
       "      <th>195</th>\n",
       "      <td>38.2</td>\n",
       "      <td>3.7</td>\n",
       "      <td>13.8</td>\n",
       "      <td>7.6</td>\n",
       "    </tr>\n",
       "    <tr>\n",
       "      <th>196</th>\n",
       "      <td>94.2</td>\n",
       "      <td>4.9</td>\n",
       "      <td>8.1</td>\n",
       "      <td>9.7</td>\n",
       "    </tr>\n",
       "    <tr>\n",
       "      <th>197</th>\n",
       "      <td>177.0</td>\n",
       "      <td>9.3</td>\n",
       "      <td>6.4</td>\n",
       "      <td>12.8</td>\n",
       "    </tr>\n",
       "    <tr>\n",
       "      <th>198</th>\n",
       "      <td>283.6</td>\n",
       "      <td>42.0</td>\n",
       "      <td>66.2</td>\n",
       "      <td>25.5</td>\n",
       "    </tr>\n",
       "    <tr>\n",
       "      <th>199</th>\n",
       "      <td>232.1</td>\n",
       "      <td>8.6</td>\n",
       "      <td>8.7</td>\n",
       "      <td>13.4</td>\n",
       "    </tr>\n",
       "  </tbody>\n",
       "</table>\n",
       "<p>200 rows × 4 columns</p>\n",
       "</div>"
      ],
      "text/plain": [
       "        TV  radio  newspaper  sales\n",
       "0    230.1   37.8       69.2   22.1\n",
       "1     44.5   39.3       45.1   10.4\n",
       "2     17.2   45.9       69.3    9.3\n",
       "3    151.5   41.3       58.5   18.5\n",
       "4    180.8   10.8       58.4   12.9\n",
       "..     ...    ...        ...    ...\n",
       "195   38.2    3.7       13.8    7.6\n",
       "196   94.2    4.9        8.1    9.7\n",
       "197  177.0    9.3        6.4   12.8\n",
       "198  283.6   42.0       66.2   25.5\n",
       "199  232.1    8.6        8.7   13.4\n",
       "\n",
       "[200 rows x 4 columns]"
      ]
     },
     "execution_count": 13,
     "metadata": {},
     "output_type": "execute_result"
    }
   ],
   "source": [
    "# drop the column \n",
    "data = data.drop([\"Unnamed: 0\"],axis=1)\n",
    "data"
   ]
  },
  {
   "cell_type": "code",
   "execution_count": 14,
   "id": "42d7db80",
   "metadata": {},
   "outputs": [
    {
     "data": {
      "text/plain": [
       "TV           0\n",
       "radio        0\n",
       "newspaper    0\n",
       "sales        0\n",
       "dtype: int64"
      ]
     },
     "execution_count": 14,
     "metadata": {},
     "output_type": "execute_result"
    }
   ],
   "source": [
    "data.isna().sum()"
   ]
  },
  {
   "cell_type": "code",
   "execution_count": 15,
   "id": "12b46ba9",
   "metadata": {},
   "outputs": [
    {
     "name": "stdout",
     "output_type": "stream",
     "text": [
      "<class 'pandas.core.frame.DataFrame'>\n",
      "RangeIndex: 200 entries, 0 to 199\n",
      "Data columns (total 4 columns):\n",
      " #   Column     Non-Null Count  Dtype  \n",
      "---  ------     --------------  -----  \n",
      " 0   TV         200 non-null    float64\n",
      " 1   radio      200 non-null    float64\n",
      " 2   newspaper  200 non-null    float64\n",
      " 3   sales      200 non-null    float64\n",
      "dtypes: float64(4)\n",
      "memory usage: 6.4 KB\n"
     ]
    }
   ],
   "source": [
    "data.info()"
   ]
  },
  {
   "cell_type": "code",
   "execution_count": 16,
   "id": "b620b9ee",
   "metadata": {},
   "outputs": [
    {
     "data": {
      "text/plain": [
       "Index(['TV', 'radio', 'newspaper', 'sales'], dtype='object')"
      ]
     },
     "execution_count": 16,
     "metadata": {},
     "output_type": "execute_result"
    }
   ],
   "source": [
    "data.columns"
   ]
  },
  {
   "cell_type": "code",
   "execution_count": 17,
   "id": "9c411eb6",
   "metadata": {},
   "outputs": [
    {
     "data": {
      "text/html": [
       "<div>\n",
       "<style scoped>\n",
       "    .dataframe tbody tr th:only-of-type {\n",
       "        vertical-align: middle;\n",
       "    }\n",
       "\n",
       "    .dataframe tbody tr th {\n",
       "        vertical-align: top;\n",
       "    }\n",
       "\n",
       "    .dataframe thead th {\n",
       "        text-align: right;\n",
       "    }\n",
       "</style>\n",
       "<table border=\"1\" class=\"dataframe\">\n",
       "  <thead>\n",
       "    <tr style=\"text-align: right;\">\n",
       "      <th></th>\n",
       "      <th>TV</th>\n",
       "      <th>radio</th>\n",
       "      <th>newspaper</th>\n",
       "      <th>sales</th>\n",
       "    </tr>\n",
       "  </thead>\n",
       "  <tbody>\n",
       "    <tr>\n",
       "      <th>count</th>\n",
       "      <td>200.000000</td>\n",
       "      <td>200.000000</td>\n",
       "      <td>200.000000</td>\n",
       "      <td>200.000000</td>\n",
       "    </tr>\n",
       "    <tr>\n",
       "      <th>mean</th>\n",
       "      <td>147.042500</td>\n",
       "      <td>23.264000</td>\n",
       "      <td>30.554000</td>\n",
       "      <td>14.022500</td>\n",
       "    </tr>\n",
       "    <tr>\n",
       "      <th>std</th>\n",
       "      <td>85.854236</td>\n",
       "      <td>14.846809</td>\n",
       "      <td>21.778621</td>\n",
       "      <td>5.217457</td>\n",
       "    </tr>\n",
       "    <tr>\n",
       "      <th>min</th>\n",
       "      <td>0.700000</td>\n",
       "      <td>0.000000</td>\n",
       "      <td>0.300000</td>\n",
       "      <td>1.600000</td>\n",
       "    </tr>\n",
       "    <tr>\n",
       "      <th>25%</th>\n",
       "      <td>74.375000</td>\n",
       "      <td>9.975000</td>\n",
       "      <td>12.750000</td>\n",
       "      <td>10.375000</td>\n",
       "    </tr>\n",
       "    <tr>\n",
       "      <th>50%</th>\n",
       "      <td>149.750000</td>\n",
       "      <td>22.900000</td>\n",
       "      <td>25.750000</td>\n",
       "      <td>12.900000</td>\n",
       "    </tr>\n",
       "    <tr>\n",
       "      <th>75%</th>\n",
       "      <td>218.825000</td>\n",
       "      <td>36.525000</td>\n",
       "      <td>45.100000</td>\n",
       "      <td>17.400000</td>\n",
       "    </tr>\n",
       "    <tr>\n",
       "      <th>max</th>\n",
       "      <td>296.400000</td>\n",
       "      <td>49.600000</td>\n",
       "      <td>114.000000</td>\n",
       "      <td>27.000000</td>\n",
       "    </tr>\n",
       "  </tbody>\n",
       "</table>\n",
       "</div>"
      ],
      "text/plain": [
       "               TV       radio   newspaper       sales\n",
       "count  200.000000  200.000000  200.000000  200.000000\n",
       "mean   147.042500   23.264000   30.554000   14.022500\n",
       "std     85.854236   14.846809   21.778621    5.217457\n",
       "min      0.700000    0.000000    0.300000    1.600000\n",
       "25%     74.375000    9.975000   12.750000   10.375000\n",
       "50%    149.750000   22.900000   25.750000   12.900000\n",
       "75%    218.825000   36.525000   45.100000   17.400000\n",
       "max    296.400000   49.600000  114.000000   27.000000"
      ]
     },
     "execution_count": 17,
     "metadata": {},
     "output_type": "execute_result"
    }
   ],
   "source": [
    "data.describe()"
   ]
  },
  {
   "cell_type": "code",
   "execution_count": 18,
   "id": "02546c87",
   "metadata": {},
   "outputs": [],
   "source": [
    "# hence there might be skewness and outliers present as we show in the describe that there is high variance "
   ]
  },
  {
   "cell_type": "code",
   "execution_count": 19,
   "id": "75fda8a9",
   "metadata": {},
   "outputs": [],
   "source": [
    "# in the column  radio there are some zeroes are present so first treat them "
   ]
  },
  {
   "cell_type": "code",
   "execution_count": 20,
   "id": "f24ce038",
   "metadata": {},
   "outputs": [],
   "source": [
    "data['radio'] = data['radio'].replace(0,data['radio'] .mean())"
   ]
  },
  {
   "cell_type": "code",
   "execution_count": 21,
   "id": "9779043f",
   "metadata": {},
   "outputs": [
    {
     "data": {
      "text/html": [
       "<div>\n",
       "<style scoped>\n",
       "    .dataframe tbody tr th:only-of-type {\n",
       "        vertical-align: middle;\n",
       "    }\n",
       "\n",
       "    .dataframe tbody tr th {\n",
       "        vertical-align: top;\n",
       "    }\n",
       "\n",
       "    .dataframe thead th {\n",
       "        text-align: right;\n",
       "    }\n",
       "</style>\n",
       "<table border=\"1\" class=\"dataframe\">\n",
       "  <thead>\n",
       "    <tr style=\"text-align: right;\">\n",
       "      <th></th>\n",
       "      <th>TV</th>\n",
       "      <th>radio</th>\n",
       "      <th>newspaper</th>\n",
       "      <th>sales</th>\n",
       "    </tr>\n",
       "  </thead>\n",
       "  <tbody>\n",
       "    <tr>\n",
       "      <th>TV</th>\n",
       "      <td>1.000000</td>\n",
       "      <td>0.048983</td>\n",
       "      <td>0.056648</td>\n",
       "      <td>0.782224</td>\n",
       "    </tr>\n",
       "    <tr>\n",
       "      <th>radio</th>\n",
       "      <td>0.048983</td>\n",
       "      <td>1.000000</td>\n",
       "      <td>0.348551</td>\n",
       "      <td>0.571898</td>\n",
       "    </tr>\n",
       "    <tr>\n",
       "      <th>newspaper</th>\n",
       "      <td>0.056648</td>\n",
       "      <td>0.348551</td>\n",
       "      <td>1.000000</td>\n",
       "      <td>0.228299</td>\n",
       "    </tr>\n",
       "    <tr>\n",
       "      <th>sales</th>\n",
       "      <td>0.782224</td>\n",
       "      <td>0.571898</td>\n",
       "      <td>0.228299</td>\n",
       "      <td>1.000000</td>\n",
       "    </tr>\n",
       "  </tbody>\n",
       "</table>\n",
       "</div>"
      ],
      "text/plain": [
       "                 TV     radio  newspaper     sales\n",
       "TV         1.000000  0.048983   0.056648  0.782224\n",
       "radio      0.048983  1.000000   0.348551  0.571898\n",
       "newspaper  0.056648  0.348551   1.000000  0.228299\n",
       "sales      0.782224  0.571898   0.228299  1.000000"
      ]
     },
     "execution_count": 21,
     "metadata": {},
     "output_type": "execute_result"
    }
   ],
   "source": [
    "data.corr()"
   ]
  },
  {
   "cell_type": "code",
   "execution_count": 22,
   "id": "0b5c1159",
   "metadata": {},
   "outputs": [
    {
     "data": {
      "text/plain": [
       "<AxesSubplot:>"
      ]
     },
     "execution_count": 22,
     "metadata": {},
     "output_type": "execute_result"
    },
    {
     "data": {
      "image/png": "[encoded data removed]",
      "text/plain": [
       "<Figure size 864x648 with 2 Axes>"
      ]
     },
     "metadata": {
      "needs_background": "light"
     },
     "output_type": "display_data"
    }
   ],
   "source": [
    "import matplotlib.pyplot as plt\n",
    "plt.figure(figsize=(12,9))\n",
    "sns.heatmap(data.corr(),annot= True,linewidth=0.1,linecolor='black',fmt=\"0.2f\")"
   ]
  },
  {
   "cell_type": "code",
   "execution_count": 23,
   "id": "95382c26",
   "metadata": {},
   "outputs": [
    {
     "data": {
      "image/png": "[encoded data removed]",
      "text/plain": [
       "<Figure size 1080x720 with 4 Axes>"
      ]
     },
     "metadata": {},
     "output_type": "display_data"
    }
   ],
   "source": [
    "plt.figure(figsize = (15,10),facecolor = \"red\")\n",
    "plotnumber = 1\n",
    "for column in data:\n",
    "    if plotnumber<=4:\n",
    "        ax=plt.subplot(2,2,plotnumber)\n",
    "        sns.distplot(data[column])\n",
    "        plt.xlabel(column,fontsize=14)\n",
    "        \n",
    "    plotnumber+=1\n",
    "plt.show()"
   ]
  },
  {
   "cell_type": "code",
   "execution_count": 24,
   "id": "409fc00b",
   "metadata": {},
   "outputs": [],
   "source": [
    "df_features = data.drop('sales',axis=1)"
   ]
  },
  {
   "cell_type": "code",
   "execution_count": 89,
   "id": "af5e09e7",
   "metadata": {},
   "outputs": [
    {
     "data": {
      "text/plain": [
       "TV          -0.082332\n",
       "radio        0.112591\n",
       "newspaper    0.650112\n",
       "sales        0.407130\n",
       "dtype: float64"
      ]
     },
     "execution_count": 89,
     "metadata": {},
     "output_type": "execute_result"
    }
   ],
   "source": [
    "data.skew()"
   ]
  },
  {
   "cell_type": "code",
   "execution_count": 91,
   "id": "cc86e752",
   "metadata": {},
   "outputs": [
    {
     "data": {
      "text/plain": [
       "array([[ 9.55983058e-01,  9.68421234e-01,  1.60419650e+00],\n",
       "       [-1.19200349e+00,  1.04658008e+00,  8.31044006e-01],\n",
       "       [-1.64612530e+00,  1.37782855e+00,  1.60705249e+00],\n",
       "       [ 1.42934281e-01,  1.14905167e+00,  1.28376774e+00],\n",
       "       [ 4.56452411e-01, -7.54643734e-01,  1.28062154e+00],\n",
       "       [-1.82040080e+00,  1.52233283e+00,  1.76610727e+00],\n",
       "       [-1.00349358e+00,  6.98938753e-01, -1.02053455e-01],\n",
       "       [-2.09960489e-01, -1.01103002e-01, -8.49688954e-01],\n",
       "       [-1.82264543e+00, -1.65432900e+00, -2.09866461e+00],\n",
       "       [ 6.52694004e-01, -1.58616573e+00, -2.26499330e-01],\n",
       "       [-8.84827613e-01, -1.21549249e+00, -6.55338235e-02],\n",
       "       [ 8.03220284e-01,  1.83240419e-01, -1.59608414e+00],\n",
       "       [-1.52567125e+00,  8.24702137e-01,  1.50859232e+00],\n",
       "       [-4.80903084e-01, -1.03790158e+00, -1.23269654e+00],\n",
       "       [ 6.96423742e-01,  7.04474706e-01,  8.63674550e-01],\n",
       "       [ 6.07694561e-01,  1.46494855e+00,  1.10260830e+00],\n",
       "       [ 1.44702338e+00,  1.06207500e+00,  1.19771741e+00],\n",
       "       [-8.43041085e-01, -4.11527609e-02, -3.94587754e-01],\n",
       "       [ 9.67615123e-02,  1.77006159e-01, -3.46833997e-01],\n",
       "       [ 8.40174791e-01,  4.07505006e-01,  1.11921444e+00],\n",
       "       [ 1.02746612e+00, -1.28941588e+00, -1.02053455e-01],\n",
       "       [-1.72466475e+00, -3.59140670e-01,  9.90697773e-01],\n",
       "       [ 9.38267420e-01, -2.87399519e-01,  3.56758030e-02],\n",
       "       [-9.36741865e-01, -6.08609107e-01, -3.94587754e-01],\n",
       "       [ 1.27285397e+00, -1.47214115e+00, -3.23369976e-01],\n",
       "       [ 4.80238801e-02,  5.00960161e-01, -7.74054797e-01],\n",
       "       [ 1.05376032e+00, -3.01620300e-01, -1.33840511e-01],\n",
       "       [ 1.13797152e+00,  3.71938859e-01, -1.33840511e-01],\n",
       "       [-8.24327694e-01, -3.51893513e-01,  6.69803474e-01],\n",
       "       [ 1.55379249e+00,  4.42782759e-01,  7.60923127e-01],\n",
       "       [-2.95525393e-01, -2.52115624e-01,  5.83572839e-01],\n",
       "       [-4.84586083e-01, -1.74208859e+00,  2.16697020e-01],\n",
       "       [ 1.29846636e+00, -7.43350771e-02, -2.27584640e+00],\n",
       "       [-5.03045189e-01, -1.75748044e+00, -1.21299201e+00],\n",
       "       [ 1.53345233e+00, -1.40104574e+00, -1.10919482e+00],\n",
       "       [ 1.31077419e+00,  1.27452501e+00, -1.47085980e+00],\n",
       "       [-7.70061569e-01,  1.54608405e+00,  8.52838274e-01],\n",
       "       [-1.21308859e+00,  3.48063651e-01,  4.40459727e-01],\n",
       "       [ 9.35311305e-01,  9.63169184e-01,  3.06820567e-01],\n",
       "       [ 6.80180313e-01,  7.58924792e-02,  2.89054607e-01],\n",
       "       [ 4.16577398e-01,  7.32059654e-01,  5.87551818e-01],\n",
       "       [ 1.56025605e+00,  4.07505006e-01, -1.93614969e+00],\n",
       "       [ 7.24770763e-01, -9.63703172e-01,  4.55561165e-02],\n",
       "       [-1.50299171e+00,  2.87780536e-01,  7.64656783e-01],\n",
       "       [ 3.96557056e-01,  8.86763509e-02,  2.84593396e-01],\n",
       "       [-5.77642501e-01, -8.30903729e-01,  4.65547418e-01],\n",
       "       [ 1.05181524e+00,  1.15919394e+00, -3.82543336e-01],\n",
       "       [ 9.27423407e-01, -3.66404545e-01,  1.00104316e+00],\n",
       "       [-8.73996819e-01, -6.80617978e-01,  5.10931130e-01],\n",
       "       [ 6.52694004e-01, -1.52160469e+00,  4.19368022e-01],\n",
       "       [-4.45449379e-01, -8.56863852e-01, -1.65023317e+00],\n",
       "       [ 8.20219674e-01,  1.16931764e+00,  6.23104064e-01],\n",
       "       [ 4.75264815e-01,  1.39243779e+00,  1.29005095e+00],\n",
       "       [ 1.27095405e+00,  4.71966494e-01, -5.45151871e-01],\n",
       "       [ 6.43510597e-01,  1.54608405e+00,  1.33059751e+00],\n",
       "       [-1.85241088e+00,  4.31055039e-01,  6.92861903e-01],\n",
       "       [-2.69424634e-02, -1.28074112e-01, -5.00022982e-01],\n",
       "       [ 7.64089395e-01,  1.55555883e+00,  5.47496864e-01],\n",
       "       [ 7.63083589e-01,  5.12505387e-01, -1.03801781e+00],\n",
       "       [-1.06021399e+00, -1.66846215e+00, -2.15389488e-01],\n",
       "       [ 1.25764412e+00,  1.21966180e+00,  1.16198054e+00],\n",
       "       [ 1.04597746e+00, -3.88297875e-01,  8.95079934e-02],\n",
       "       [-4.17518113e-01,  5.18266942e-01, -1.11833294e+00],\n",
       "       [-8.46453587e-02,  1.22467142e+00,  1.65686579e-01],\n",
       "       [-8.45722309e-01, -8.83111713e-01, -2.12148202e+00],\n",
       "       [-1.39528628e+00,  2.20444071e-01, -1.86501000e+00],\n",
       "       [ 7.85901566e-03, -4.62422111e-01, -9.61676392e-01],\n",
       "       [ 1.02746612e+00,  3.95682083e-01, -8.96751774e-01],\n",
       "       [ 8.24214502e-01,  1.27948642e+00,  8.46648515e-02],\n",
       "       [ 6.45552281e-01,  5.75484869e-01,  5.87551818e-01],\n",
       "       [-3.32289453e-01, -4.77467990e-01,  2.93507892e-01],\n",
       "       [-1.47377148e+00,  7.10004303e-01, -3.35068479e-01],\n",
       "       [-1.04007607e-01, -1.22586496e+00,  2.75647037e-01],\n",
       "       [ 7.90197248e-01,  2.20444071e-01, -7.37445183e-01],\n",
       "       [-1.65184774e+00,  1.26955929e+00,  2.13937255e+00],\n",
       "       [-1.46187563e+00, -1.72693470e+00, -2.54530313e-01],\n",
       "       [-2.06473264e-01,  4.54479346e-01, -6.59471053e-01],\n",
       "       [-1.89822804e+00,  5.35507775e-01, -1.02934918e+00],\n",
       "       [-2.59020528e-01, -1.02848406e+00, -1.23193945e-01],\n",
       "       [-7.47786505e-01,  3.48063651e-01, -1.66093666e-01],\n",
       "       [ 1.05084254e+00, -1.40104574e+00,  5.15018742e-01],\n",
       "       [-7.62185079e-01, -5.43892417e-02,  3.28853334e-01],\n",
       "       [-8.53777962e-01,  1.30916499e+00,  4.61382738e-01],\n",
       "       [ 7.91199747e-01,  1.23467731e+00,  3.85260976e-01],\n",
       "       [ 5.85096748e-01, -1.82648610e-01,  1.50271112e+00],\n",
       "       [-7.49093259e-01,  3.95682083e-01, -5.38639377e-01],\n",
       "       [-3.21588787e-01,  1.11340571e+00,  1.42831665e+00],\n",
       "       [-5.95230843e-01,  2.75619087e-01,  1.72217946e+00],\n",
       "       [-3.32289453e-01,  1.46975145e+00,  1.05224719e+00],\n",
       "       [-4.83733557e-02, -1.31113490e+00, -1.03801781e+00],\n",
       "       [-1.44333425e+00, -1.74208859e+00,  3.50696260e-01],\n",
       "       [ 8.33195900e-01,  7.37557860e-01,  1.29945293e+00],\n",
       "       [ 1.15818339e+00,  8.99726635e-01,  1.69166052e+00],\n",
       "       [-3.60935766e-01, -5.00181225e-01, -9.04727257e-01],\n",
       "       [ 2.70930405e-01,  6.32001879e-01,  1.10260830e+00],\n",
       "       [ 6.30226675e-01, -1.47214115e+00, -1.36815587e+00],\n",
       "       [ 4.99233291e-01, -8.26962211e-03, -1.82400952e-01],\n",
       "       [ 1.52419364e+00,  1.19957854e+00,  1.04546953e+00],\n",
       "       [-3.82121960e-02,  1.16931764e+00,  8.60066925e-01],\n",
       "       [ 8.79943885e-01, -1.37808188e+00,  9.97598637e-01],\n",
       "       [ 1.43581778e+00, -8.13751398e-01, -2.15389488e-01],\n",
       "       [ 5.30381051e-01, -2.66183817e-01, -4.18895537e-01],\n",
       "       [ 1.03526502e+00,  7.81322283e-01, -1.43568966e+00],\n",
       "       [-7.83276627e-03,  1.40215720e+00,  1.29945293e+00],\n",
       "       [-1.50472569e+00, -7.38008742e-01,  2.02890585e-01],\n",
       "       [-5.68874824e-01, -1.94791705e+00, -1.17889867e-01],\n",
       "       [-1.72669682e+00, -1.92850280e+00,  5.77961414e-03],\n",
       "       [ 1.20134779e+00,  3.60017917e-01, -1.41277956e+00],\n",
       "       [ 9.13602262e-01, -9.82014353e-01,  1.22025052e+00],\n",
       "       [ 1.06930594e+00,  9.78909547e-01, -1.17889867e-01],\n",
       "       [ 4.02885307e-01, -3.95630027e-01, -1.83137048e+00],\n",
       "       [ 7.52011554e-01, -3.45525074e-02, -9.20795602e-01],\n",
       "       [-7.24339293e-01,  1.42154825e+00,  4.15129109e-01],\n",
       "       [-7.64808781e-01,  8.19300277e-01,  1.09594084e+00],\n",
       "       [ 6.73952813e-03, -4.77467990e-01,  5.77961414e-03],\n",
       "       [-7.47786505e-01, -1.85572329e+00, -6.18314434e-01],\n",
       "       [-1.46377645e-01,  9.20960824e-01,  1.87892616e+00],\n",
       "       [-1.60487761e+00, -3.51893513e-01, -1.66093666e-01],\n",
       "       [ 3.02054628e-02,  3.54044970e-01,  8.70876472e-01],\n",
       "       [-1.61600701e+00,  3.72819698e-02,  1.01820721e+00],\n",
       "       [ 8.95799585e-01, -1.61295840e+00, -5.64824479e-01],\n",
       "       [-1.76343635e-01,  7.97634148e-01, -7.88916953e-01],\n",
       "       [ 9.50081843e-01,  6.71162733e-01,  1.74421110e+00],\n",
       "       [-6.09100568e-01, -6.72521010e-01,  2.07760351e-02],\n",
       "       [-1.84082856e+00,  1.02585014e+00,  1.02504572e+00],\n",
       "       [-6.98448651e-01,  1.37125583e-01, -1.04673537e+00],\n",
       "       [ 8.59088401e-01,  1.52709047e+00, -1.70718676e+00],\n",
       "       [-9.74121042e-01, -6.56400599e-01,  7.57184572e-01],\n",
       "       [-2.03323356e+00,  1.06207500e+00, -1.09108448e+00],\n",
       "       [ 1.29467620e+00, -1.54703933e+00,  7.53441098e-01],\n",
       "       [-1.82715302e+00,  3.77886937e-01, -1.88228781e+00],\n",
       "       [ 8.54115242e-01,  7.37557860e-01,  8.31044006e-01],\n",
       "       [-1.30867028e+00,  1.01024953e+00,  1.49976669e+00],\n",
       "       [-1.13560137e+00,  1.43122007e+00, -1.10919482e+00],\n",
       "       [-1.49434751e+00,  1.03104018e+00, -1.03801781e+00],\n",
       "       [ 1.37490294e+00,  4.77780291e-01,  1.32128542e+00],\n",
       "       [-1.21460127e+00,  2.99906562e-01, -2.65847496e-01],\n",
       "       [ 4.99233291e-01,  1.27948642e+00, -1.95484304e+00],\n",
       "       [-7.87183238e-01, -2.80312342e-01, -7.51997248e-01],\n",
       "       [ 5.90238432e-01,  8.40872862e-01,  1.78244184e+00],\n",
       "       [ 8.61076847e-01,  7.21044535e-01,  5.55555441e-01],\n",
       "       [-3.94565765e-01, -1.22586496e+00,  4.10883268e-01],\n",
       "       [-4.96883939e-01, -4.39994275e-01,  5.95492378e-01],\n",
       "       [ 1.90425158e-02, -1.68277999e+00, -1.06432036e+00],\n",
       "       [ 1.05376032e+00, -1.06641342e+00, -1.09108448e+00],\n",
       "       [ 1.08385578e+00,  1.52709047e+00,  8.01727595e-01],\n",
       "       [-1.29143203e+00,  1.09805745e+00, -8.26644287e-01],\n",
       "       [-1.18900520e+00,  2.93847954e-01, -2.60181310e-01],\n",
       "       [ 1.44048829e+00, -5.07791525e-01,  5.19100106e-01],\n",
       "       [-2.00666192e-01, -9.63703172e-01,  9.59446523e-01],\n",
       "       [ 6.30226675e-01,  1.39393760e-01, -6.59471053e-01],\n",
       "       [ 3.56346926e-01,  1.06723006e+00,  5.47496864e-01],\n",
       "       [ 5.29344873e-01, -1.72805881e-03, -1.02072873e+00],\n",
       "       [-1.93163495e+00, -6.88739811e-01, -1.39027462e+00],\n",
       "       [-5.25294689e-01,  1.25961485e+00,  1.02162839e+00],\n",
       "       [ 1.24285632e-01, -1.77312416e+00, -6.03649631e-02],\n",
       "       [-1.75555556e+00,  9.20960824e-01,  8.34687756e-01],\n",
       "       [-7.78271156e-02, -1.82648610e-01,  4.19368022e-01],\n",
       "       [ 3.69069534e-01, -2.03339142e-01,  2.48613642e-01],\n",
       "       [-6.28086545e-01,  8.62353327e-01,  9.80316762e-01],\n",
       "       [ 5.35559799e-01, -2.03339142e-01,  5.77961414e-03],\n",
       "       [ 2.73078805e-01,  9.15660492e-01, -1.21299201e+00],\n",
       "       [-2.44957339e-01, -4.47451645e-01, -1.42418272e+00],\n",
       "       [ 9.99137820e-01, -1.48434077e+00,  2.02414625e+00],\n",
       "       [-1.63286723e+00,  9.57911847e-01, -2.04337008e-01],\n",
       "       [ 7.23760085e-01, -1.27866050e+00, -3.29210916e-01],\n",
       "       [ 8.10224235e-01,  1.58244615e-01,  1.25534066e+00],\n",
       "       [ 1.47405264e+00, -7.71388889e-01, -1.31443661e+00],\n",
       "       [-1.11073781e+00, -6.88739811e-01, -3.88556546e-01],\n",
       "       [ 2.83810642e-01, -1.48227746e-02,  9.13720990e-01],\n",
       "       [-1.60118681e+00, -6.76742104e-02, -4.74701160e-01],\n",
       "       [ 3.25505056e-01, -1.08564462e+00, -7.59318821e-01],\n",
       "       [ 8.79943885e-01, -1.48434077e+00, -7.37445183e-01],\n",
       "       [ 1.40493806e+00,  1.52233283e+00,  7.08129257e-01],\n",
       "       [ 1.13411664e+00,  5.52683548e-01, -2.77225880e-01],\n",
       "       [ 3.44664290e-01, -1.01910860e+00,  4.44657707e-01],\n",
       "       [ 1.40306351e+00, -1.62658447e+00, -9.15582196e-02],\n",
       "       [ 2.95596216e-01, -8.22312383e-01, -4.37322778e-01],\n",
       "       [ 1.98559462e-01, -1.58616573e+00, -1.12752759e+00],\n",
       "       [ 8.41171303e-01, -1.25735029e+00,  9.43412236e-02],\n",
       "       [-1.02181379e+00, -1.22586496e+00,  2.02890585e-01],\n",
       "       [ 1.50472337e+00,  1.23467731e+00,  1.67770049e+00],\n",
       "       [ 1.18602318e+00,  1.13205905e-02,  2.16697020e-01],\n",
       "       [ 7.05546191e-01,  1.33869155e+00, -3.17545531e-01],\n",
       "       [ 1.00973688e-02, -1.65432900e+00,  5.53947058e-02],\n",
       "       [ 5.63463957e-01,  4.66145094e-01, -4.00637106e-01],\n",
       "       [ 1.48986416e+00, -5.07791525e-01, -1.63644784e+00],\n",
       "       [-1.61787038e+00, -6.48376632e-01, -1.07319704e-01],\n",
       "       [-1.26812741e+00,  1.13889071e+00, -1.37916810e+00],\n",
       "       [-7.59563165e-01, -7.54643734e-01, -1.35723580e+00],\n",
       "       [-1.64612530e+00, -1.40104574e+00,  2.89054607e-01],\n",
       "       [ 3.08430163e-01,  1.18446864e+00, -1.65023317e+00],\n",
       "       [ 1.23186956e-01,  8.51624522e-01, -1.35723580e+00],\n",
       "       [-1.28831146e+00, -1.44805412e+00, -6.87434548e-01],\n",
       "       [-5.21578873e-01, -1.31113490e+00, -1.14609038e+00],\n",
       "       [ 4.16577398e-01, -8.83111713e-01, -1.31443661e+00],\n",
       "       [ 1.46753490e+00,  1.18446864e+00,  1.51739504e+00],\n",
       "       [ 9.75625093e-01, -9.45543094e-01, -1.09108448e+00]])"
      ]
     },
     "execution_count": 91,
     "metadata": {},
     "output_type": "execute_result"
    }
   ],
   "source": [
    "from sklearn.preprocessing import power_transform\n",
    "x= power_transform(x,method='yeo-johnson')\n",
    "x"
   ]
  },
  {
   "cell_type": "code",
   "execution_count": null,
   "id": "8adb883d",
   "metadata": {},
   "outputs": [],
   "source": []
  },
  {
   "cell_type": "code",
   "execution_count": 92,
   "id": "eb3d98b9",
   "metadata": {},
   "outputs": [
    {
     "data": {
      "image/png": "[encoded data removed]",
      "text/plain": [
       "<Figure size 936x576 with 3 Axes>"
      ]
     },
     "metadata": {
      "needs_background": "light"
     },
     "output_type": "display_data"
    }
   ],
   "source": [
    "plt.figure(figsize = (13,8))\n",
    "plotnumber = 1\n",
    "for column in df_features:\n",
    "    if plotnumber<=3:\n",
    "        plt.subplot(1,3,plotnumber)\n",
    "        ax=sns.boxplot(data=df_features[column])\n",
    "        plt.xlabel(column,fontsize=15)\n",
    "        \n",
    "    plotnumber+=1\n",
    "plt.show()"
   ]
  },
  {
   "cell_type": "code",
   "execution_count": 93,
   "id": "fbc71213",
   "metadata": {},
   "outputs": [
    {
     "data": {
      "text/plain": [
       "(198, 4)"
      ]
     },
     "execution_count": 93,
     "metadata": {},
     "output_type": "execute_result"
    }
   ],
   "source": [
    "data.shape"
   ]
  },
  {
   "cell_type": "code",
   "execution_count": 94,
   "id": "db80510f",
   "metadata": {},
   "outputs": [],
   "source": [
    "from scipy.stats import zscore"
   ]
  },
  {
   "cell_type": "code",
   "execution_count": 95,
   "id": "ba47aa8b",
   "metadata": {},
   "outputs": [
    {
     "data": {
      "text/plain": [
       "(array([], dtype=int64), array([], dtype=int64))"
      ]
     },
     "execution_count": 95,
     "metadata": {},
     "output_type": "execute_result"
    }
   ],
   "source": [
    "z_score = zscore(data[['TV','radio','newspaper']])\n",
    "abs_z_score = np.abs(z_score)\n",
    "threshold=3\n",
    "np.where(abs_z_score>3)"
   ]
  },
  {
   "cell_type": "code",
   "execution_count": 96,
   "id": "aca6bef8",
   "metadata": {},
   "outputs": [
    {
     "data": {
      "text/html": [
       "<div>\n",
       "<style scoped>\n",
       "    .dataframe tbody tr th:only-of-type {\n",
       "        vertical-align: middle;\n",
       "    }\n",
       "\n",
       "    .dataframe tbody tr th {\n",
       "        vertical-align: top;\n",
       "    }\n",
       "\n",
       "    .dataframe thead th {\n",
       "        text-align: right;\n",
       "    }\n",
       "</style>\n",
       "<table border=\"1\" class=\"dataframe\">\n",
       "  <thead>\n",
       "    <tr style=\"text-align: right;\">\n",
       "      <th></th>\n",
       "      <th>TV</th>\n",
       "      <th>radio</th>\n",
       "      <th>newspaper</th>\n",
       "      <th>sales</th>\n",
       "    </tr>\n",
       "  </thead>\n",
       "  <tbody>\n",
       "    <tr>\n",
       "      <th>0</th>\n",
       "      <td>230.1</td>\n",
       "      <td>37.8</td>\n",
       "      <td>69.2</td>\n",
       "      <td>22.1</td>\n",
       "    </tr>\n",
       "    <tr>\n",
       "      <th>1</th>\n",
       "      <td>44.5</td>\n",
       "      <td>39.3</td>\n",
       "      <td>45.1</td>\n",
       "      <td>10.4</td>\n",
       "    </tr>\n",
       "    <tr>\n",
       "      <th>2</th>\n",
       "      <td>17.2</td>\n",
       "      <td>45.9</td>\n",
       "      <td>69.3</td>\n",
       "      <td>9.3</td>\n",
       "    </tr>\n",
       "    <tr>\n",
       "      <th>3</th>\n",
       "      <td>151.5</td>\n",
       "      <td>41.3</td>\n",
       "      <td>58.5</td>\n",
       "      <td>18.5</td>\n",
       "    </tr>\n",
       "    <tr>\n",
       "      <th>4</th>\n",
       "      <td>180.8</td>\n",
       "      <td>10.8</td>\n",
       "      <td>58.4</td>\n",
       "      <td>12.9</td>\n",
       "    </tr>\n",
       "    <tr>\n",
       "      <th>...</th>\n",
       "      <td>...</td>\n",
       "      <td>...</td>\n",
       "      <td>...</td>\n",
       "      <td>...</td>\n",
       "    </tr>\n",
       "    <tr>\n",
       "      <th>195</th>\n",
       "      <td>38.2</td>\n",
       "      <td>3.7</td>\n",
       "      <td>13.8</td>\n",
       "      <td>7.6</td>\n",
       "    </tr>\n",
       "    <tr>\n",
       "      <th>196</th>\n",
       "      <td>94.2</td>\n",
       "      <td>4.9</td>\n",
       "      <td>8.1</td>\n",
       "      <td>9.7</td>\n",
       "    </tr>\n",
       "    <tr>\n",
       "      <th>197</th>\n",
       "      <td>177.0</td>\n",
       "      <td>9.3</td>\n",
       "      <td>6.4</td>\n",
       "      <td>12.8</td>\n",
       "    </tr>\n",
       "    <tr>\n",
       "      <th>198</th>\n",
       "      <td>283.6</td>\n",
       "      <td>42.0</td>\n",
       "      <td>66.2</td>\n",
       "      <td>25.5</td>\n",
       "    </tr>\n",
       "    <tr>\n",
       "      <th>199</th>\n",
       "      <td>232.1</td>\n",
       "      <td>8.6</td>\n",
       "      <td>8.7</td>\n",
       "      <td>13.4</td>\n",
       "    </tr>\n",
       "  </tbody>\n",
       "</table>\n",
       "<p>198 rows × 4 columns</p>\n",
       "</div>"
      ],
      "text/plain": [
       "        TV  radio  newspaper  sales\n",
       "0    230.1   37.8       69.2   22.1\n",
       "1     44.5   39.3       45.1   10.4\n",
       "2     17.2   45.9       69.3    9.3\n",
       "3    151.5   41.3       58.5   18.5\n",
       "4    180.8   10.8       58.4   12.9\n",
       "..     ...    ...        ...    ...\n",
       "195   38.2    3.7       13.8    7.6\n",
       "196   94.2    4.9        8.1    9.7\n",
       "197  177.0    9.3        6.4   12.8\n",
       "198  283.6   42.0       66.2   25.5\n",
       "199  232.1    8.6        8.7   13.4\n",
       "\n",
       "[198 rows x 4 columns]"
      ]
     },
     "execution_count": 96,
     "metadata": {},
     "output_type": "execute_result"
    }
   ],
   "source": [
    "fil_entry = (abs_z_score<3).all(axis=1)\n",
    "data = data[fil_entry]\n",
    "data"
   ]
  },
  {
   "cell_type": "code",
   "execution_count": 97,
   "id": "57f20287",
   "metadata": {},
   "outputs": [
    {
     "data": {
      "image/png": "[encoded data removed]",
      "text/plain": [
       "<Figure size 1080x720 with 3 Axes>"
      ]
     },
     "metadata": {},
     "output_type": "display_data"
    }
   ],
   "source": [
    "plt.figure(figsize = (15,10),facecolor = \"red\")\n",
    "plotnumber = 1\n",
    "for column in data:\n",
    "    if plotnumber<=3:\n",
    "        ax=plt.subplot(1,3,plotnumber)\n",
    "        sns.distplot(data[column])\n",
    "        plt.xlabel(column,fontsize=14)\n",
    "        \n",
    "    plotnumber+=1\n",
    "plt.show()"
   ]
  },
  {
   "cell_type": "code",
   "execution_count": 98,
   "id": "64719c3a",
   "metadata": {},
   "outputs": [],
   "source": [
    "# data looks good now we scaled the data"
   ]
  },
  {
   "cell_type": "code",
   "execution_count": 99,
   "id": "b6f87da9",
   "metadata": {},
   "outputs": [],
   "source": [
    "# seprating the columns into features and target\n",
    "x= data.drop(\"sales\",axis=1)\n",
    "y= data[\"sales\"]"
   ]
  },
  {
   "cell_type": "code",
   "execution_count": 100,
   "id": "484c2d6c",
   "metadata": {},
   "outputs": [],
   "source": [
    "from statsmodels.stats.outliers_influence import variance_inflation_factor"
   ]
  },
  {
   "cell_type": "code",
   "execution_count": 101,
   "id": "370f0a0e",
   "metadata": {},
   "outputs": [],
   "source": [
    "from sklearn.preprocessing import StandardScaler\n",
    "sc = StandardScaler()\n",
    "x_scaled= sc.fit_transform(x)"
   ]
  },
  {
   "cell_type": "code",
   "execution_count": 102,
   "id": "138ea07e",
   "metadata": {},
   "outputs": [
    {
     "data": {
      "text/plain": [
       "3"
      ]
     },
     "execution_count": 102,
     "metadata": {},
     "output_type": "execute_result"
    }
   ],
   "source": [
    "x_scaled.shape[1]"
   ]
  },
  {
   "cell_type": "code",
   "execution_count": 103,
   "id": "b20aa260",
   "metadata": {},
   "outputs": [
    {
     "data": {
      "text/html": [
       "<div>\n",
       "<style scoped>\n",
       "    .dataframe tbody tr th:only-of-type {\n",
       "        vertical-align: middle;\n",
       "    }\n",
       "\n",
       "    .dataframe tbody tr th {\n",
       "        vertical-align: top;\n",
       "    }\n",
       "\n",
       "    .dataframe thead th {\n",
       "        text-align: right;\n",
       "    }\n",
       "</style>\n",
       "<table border=\"1\" class=\"dataframe\">\n",
       "  <thead>\n",
       "    <tr style=\"text-align: right;\">\n",
       "      <th></th>\n",
       "      <th>vif</th>\n",
       "      <th>features</th>\n",
       "    </tr>\n",
       "  </thead>\n",
       "  <tbody>\n",
       "    <tr>\n",
       "      <th>0</th>\n",
       "      <td>1.003449</td>\n",
       "      <td>TV</td>\n",
       "    </tr>\n",
       "    <tr>\n",
       "      <th>1</th>\n",
       "      <td>1.132216</td>\n",
       "      <td>radio</td>\n",
       "    </tr>\n",
       "    <tr>\n",
       "      <th>2</th>\n",
       "      <td>1.132617</td>\n",
       "      <td>newspaper</td>\n",
       "    </tr>\n",
       "  </tbody>\n",
       "</table>\n",
       "</div>"
      ],
      "text/plain": [
       "        vif   features\n",
       "0  1.003449         TV\n",
       "1  1.132216      radio\n",
       "2  1.132617  newspaper"
      ]
     },
     "execution_count": 103,
     "metadata": {},
     "output_type": "execute_result"
    }
   ],
   "source": [
    "vif = pd.DataFrame()\n",
    "vif[\"vif\"] = [variance_inflation_factor(x_scaled,i) for i in range(x_scaled.shape[1])]\n",
    "vif[\"features\"] = x.columns\n",
    "\n",
    "vif\n"
   ]
  },
  {
   "cell_type": "code",
   "execution_count": 104,
   "id": "e66729b9",
   "metadata": {},
   "outputs": [],
   "source": [
    "# as the vif values is less it mns there is no multicollinearity"
   ]
  },
  {
   "cell_type": "code",
   "execution_count": 105,
   "id": "83f6c17b",
   "metadata": {},
   "outputs": [],
   "source": [
    "from sklearn.linear_model import LinearRegression\n",
    "lr = LinearRegression()\n",
    "from sklearn.metrics import r2_score\n",
    "from sklearn.model_selection import train_test_split"
   ]
  },
  {
   "cell_type": "code",
   "execution_count": 106,
   "id": "516beabb",
   "metadata": {},
   "outputs": [
    {
     "name": "stdout",
     "output_type": "stream",
     "text": [
      "At random state 0 the training accuracy is {0.8816401339267929}\n",
      "At random state 0 the testing accuracy is {0.9154813070637495}\n",
      "\n",
      "\n",
      "At random state 1 the training accuracy is {0.8916966321257536}\n",
      "At random state 1 the testing accuracy is {0.900714171048392}\n",
      "\n",
      "\n",
      "At random state 2 the training accuracy is {0.914062166521022}\n",
      "At random state 2 the testing accuracy is {0.8426918747158998}\n",
      "\n",
      "\n",
      "At random state 3 the training accuracy is {0.8858417749926291}\n",
      "At random state 3 the testing accuracy is {0.9152474245280903}\n",
      "\n",
      "\n",
      "At random state 4 the training accuracy is {0.9004366510685178}\n",
      "At random state 4 the testing accuracy is {0.8631584727054067}\n",
      "\n",
      "\n",
      "At random state 5 the training accuracy is {0.8999279843567308}\n",
      "At random state 5 the testing accuracy is {0.8675415683261554}\n",
      "\n",
      "\n",
      "At random state 6 the training accuracy is {0.8939592181936474}\n",
      "At random state 6 the testing accuracy is {0.893653586929126}\n",
      "\n",
      "\n",
      "At random state 7 the training accuracy is {0.8913212594482884}\n",
      "At random state 7 the testing accuracy is {0.9034904226766889}\n",
      "\n",
      "\n",
      "At random state 8 the training accuracy is {0.903241975337732}\n",
      "At random state 8 the testing accuracy is {0.8675054816705754}\n",
      "\n",
      "\n",
      "At random state 9 the training accuracy is {0.8858710894991494}\n",
      "At random state 9 the testing accuracy is {0.9183268662203224}\n",
      "\n",
      "\n",
      "At random state 10 the training accuracy is {0.9239580710485497}\n",
      "At random state 10 the testing accuracy is {0.796182877863918}\n",
      "\n",
      "\n",
      "At random state 11 the training accuracy is {0.8765725075271269}\n",
      "At random state 11 the testing accuracy is {0.9298265185899824}\n",
      "\n",
      "\n",
      "At random state 12 the training accuracy is {0.8929971568316202}\n",
      "At random state 12 the testing accuracy is {0.9005206530197812}\n",
      "\n",
      "\n",
      "At random state 13 the training accuracy is {0.9060765469082515}\n",
      "At random state 13 the testing accuracy is {0.8569716533251712}\n",
      "\n",
      "\n",
      "At random state 14 the training accuracy is {0.8857108449744242}\n",
      "At random state 14 the testing accuracy is {0.9111692371296718}\n",
      "\n",
      "\n",
      "At random state 15 the training accuracy is {0.8949681184849284}\n",
      "At random state 15 the testing accuracy is {0.8880720421865755}\n",
      "\n",
      "\n",
      "At random state 16 the training accuracy is {0.8930580242835812}\n",
      "At random state 16 the testing accuracy is {0.8990650552512357}\n",
      "\n",
      "\n",
      "At random state 17 the training accuracy is {0.8855265607362955}\n",
      "At random state 17 the testing accuracy is {0.9171534065453686}\n",
      "\n",
      "\n",
      "At random state 18 the training accuracy is {0.9079690672078268}\n",
      "At random state 18 the testing accuracy is {0.8548365515576527}\n",
      "\n",
      "\n",
      "At random state 19 the training accuracy is {0.8954406938458388}\n",
      "At random state 19 the testing accuracy is {0.8810357478392928}\n",
      "\n",
      "\n",
      "At random state 20 the training accuracy is {0.8868604199325014}\n",
      "At random state 20 the testing accuracy is {0.910402998207062}\n",
      "\n",
      "\n",
      "At random state 21 the training accuracy is {0.8826715980281994}\n",
      "At random state 21 the testing accuracy is {0.9260340993481879}\n",
      "\n",
      "\n",
      "At random state 22 the training accuracy is {0.8876396895290157}\n",
      "At random state 22 the testing accuracy is {0.9152598470286089}\n",
      "\n",
      "\n",
      "At random state 23 the training accuracy is {0.8855674704351217}\n",
      "At random state 23 the testing accuracy is {0.923481033788989}\n",
      "\n",
      "\n",
      "At random state 24 the training accuracy is {0.8866118542113203}\n",
      "At random state 24 the testing accuracy is {0.9192743002366319}\n",
      "\n",
      "\n",
      "At random state 25 the training accuracy is {0.8873907302261678}\n",
      "At random state 25 the testing accuracy is {0.9197786432660628}\n",
      "\n",
      "\n",
      "At random state 26 the training accuracy is {0.9018400634496877}\n",
      "At random state 26 the testing accuracy is {0.8608306308847871}\n",
      "\n",
      "\n",
      "At random state 27 the training accuracy is {0.9075654630635709}\n",
      "At random state 27 the testing accuracy is {0.8483677286394862}\n",
      "\n",
      "\n",
      "At random state 28 the training accuracy is {0.9138209360494204}\n",
      "At random state 28 the testing accuracy is {0.8408682933354548}\n",
      "\n",
      "\n",
      "At random state 29 the training accuracy is {0.9031335961443366}\n",
      "At random state 29 the testing accuracy is {0.8704564458673464}\n",
      "\n",
      "\n",
      "At random state 30 the training accuracy is {0.9070776141077194}\n",
      "At random state 30 the testing accuracy is {0.8609211982655769}\n",
      "\n",
      "\n",
      "At random state 31 the training accuracy is {0.8839752333246071}\n",
      "At random state 31 the testing accuracy is {0.9175813922134853}\n",
      "\n",
      "\n",
      "At random state 32 the training accuracy is {0.8777192292253955}\n",
      "At random state 32 the testing accuracy is {0.9310782697913266}\n",
      "\n",
      "\n",
      "At random state 33 the training accuracy is {0.8871101183714359}\n",
      "At random state 33 the testing accuracy is {0.9119368910658372}\n",
      "\n",
      "\n",
      "At random state 34 the training accuracy is {0.892823480554173}\n",
      "At random state 34 the testing accuracy is {0.9007799996830977}\n",
      "\n",
      "\n",
      "At random state 35 the training accuracy is {0.8879235081881384}\n",
      "At random state 35 the testing accuracy is {0.9136174728697322}\n",
      "\n",
      "\n",
      "At random state 36 the training accuracy is {0.8858482157210833}\n",
      "At random state 36 the testing accuracy is {0.9174974397074716}\n",
      "\n",
      "\n",
      "At random state 37 the training accuracy is {0.8923766818341853}\n",
      "At random state 37 the testing accuracy is {0.9077223933396035}\n",
      "\n",
      "\n",
      "At random state 38 the training accuracy is {0.8959549412049055}\n",
      "At random state 38 the testing accuracy is {0.8914203989002129}\n",
      "\n",
      "\n",
      "At random state 39 the training accuracy is {0.9203509800331059}\n",
      "At random state 39 the testing accuracy is {0.8221292072446474}\n",
      "\n",
      "\n"
     ]
    }
   ],
   "source": [
    "for i in range(0,40):\n",
    "    x_train,x_test,y_train,y_test=train_test_split(x,y,test_size=0.25,random_state=i)\n",
    "    lr.fit(x_train,y_train)\n",
    "    pred_train = lr.predict(x_train)\n",
    "    pred_test = lr.predict(x_test)\n",
    "    print(\"At random state\",i , \"the training accuracy is\",  {r2_score(y_train,pred_train)})\n",
    "    \n",
    "    print(\"At random state\",i , \"the testing accuracy is\" , {r2_score(y_test,pred_test)})\n",
    "    print(\"\\n\")"
   ]
  },
  {
   "cell_type": "code",
   "execution_count": 107,
   "id": "a57a1c44",
   "metadata": {},
   "outputs": [],
   "source": [
    "x_train,x_test,y_train,y_test=train_test_split(x,y,test_size=0.2,random_state=7)"
   ]
  },
  {
   "cell_type": "code",
   "execution_count": 108,
   "id": "c86bdf78",
   "metadata": {},
   "outputs": [
    {
     "data": {
      "text/plain": [
       "LinearRegression()"
      ]
     },
     "execution_count": 108,
     "metadata": {},
     "output_type": "execute_result"
    }
   ],
   "source": [
    "lr.fit(x_train,y_train)"
   ]
  },
  {
   "cell_type": "code",
   "execution_count": 109,
   "id": "cc5f27d2",
   "metadata": {},
   "outputs": [],
   "source": [
    "pred_test = lr.predict(x_test)"
   ]
  },
  {
   "cell_type": "code",
   "execution_count": 110,
   "id": "3b9ad34f",
   "metadata": {},
   "outputs": [
    {
     "name": "stdout",
     "output_type": "stream",
     "text": [
      "0.9076995959107258\n"
     ]
    }
   ],
   "source": [
    "print(r2_score(y_test,pred_test))"
   ]
  },
  {
   "cell_type": "code",
   "execution_count": 112,
   "id": "6c78ba81",
   "metadata": {},
   "outputs": [],
   "source": [
    "from sklearn.model_selection import cross_val_score"
   ]
  },
  {
   "cell_type": "code",
   "execution_count": 113,
   "id": "d71861e8",
   "metadata": {},
   "outputs": [
    {
     "name": "stdout",
     "output_type": "stream",
     "text": [
      "The accuracy of the model is  0.8892586315193295 at CV is 3\n",
      "The accuracy of the model is  0.8876374449575888 at CV is 4\n",
      "The accuracy of the model is  0.8843099056890475 at CV is 5\n",
      "The accuracy of the model is  0.8867003266093906 at CV is 6\n",
      "The accuracy of the model is  0.8833114798051881 at CV is 7\n",
      "The accuracy of the model is  0.8874455817821159 at CV is 8\n",
      "The accuracy of the model is  0.8807335866431436 at CV is 9\n"
     ]
    }
   ],
   "source": [
    "for j in range(3,10):\n",
    "    cv_score = cross_val_score(lr,x,y,cv=j)\n",
    "    cv_mean = cv_score.mean()\n",
    "    print(\"The accuracy of the model is \",cv_score.mean(),\"at CV is\", j)\n",
    "    \n",
    "     "
   ]
  },
  {
   "cell_type": "code",
   "execution_count": 114,
   "id": "5a7c0dd4",
   "metadata": {},
   "outputs": [
    {
     "data": {
      "image/png": "[encoded data removed]",
      "text/plain": [
       "<Figure size 576x432 with 1 Axes>"
      ]
     },
     "metadata": {
      "needs_background": "light"
     },
     "output_type": "display_data"
    }
   ],
   "source": [
    "plt.figure(figsize = (8,6))\n",
    "plt.scatter(x=y_test,y=pred_test,color='r')\n",
    "plt.plot(y_test,y_test,color = 'b')\n",
    "plt.xlabel('Actual sales',fontsize=14)\n",
    "plt.ylabel('Predicted sales',fontsize=14)\n",
    "plt.title('Linear Regression',fontsize=18)\n",
    "plt.show()"
   ]
  },
  {
   "cell_type": "code",
   "execution_count": 115,
   "id": "2834cab9",
   "metadata": {},
   "outputs": [],
   "source": [
    "from sklearn.model_selection import GridSearchCV"
   ]
  },
  {
   "cell_type": "code",
   "execution_count": 116,
   "id": "df604157",
   "metadata": {},
   "outputs": [
    {
     "name": "stdout",
     "output_type": "stream",
     "text": [
      "{'alpha': 0.1, 'random_state': 2}\n"
     ]
    }
   ],
   "source": [
    "from sklearn.linear_model import Lasso\n",
    "parameters = {'alpha':[.0001,.001,.01,.1,1,10],'random_state':list(range(2,10))}\n",
    "\n",
    "ls = Lasso()\n",
    "clf = GridSearchCV(ls,parameters)\n",
    "clf.fit(x_train,y_train)\n",
    "\n",
    "print(clf.best_params_)\n",
    "\n"
   ]
  },
  {
   "cell_type": "code",
   "execution_count": 117,
   "id": "f159e1a2",
   "metadata": {},
   "outputs": [],
   "source": [
    "ls = Lasso(alpha=0.1,random_state=2)\n",
    "ls.fit(x_train,y_train)\n",
    "ls.score(x_train,y_train)\n",
    "pred_ls = ls.predict(x_test)\n",
    "\n"
   ]
  },
  {
   "cell_type": "code",
   "execution_count": 118,
   "id": "125eafb1",
   "metadata": {},
   "outputs": [
    {
     "data": {
      "text/plain": [
       "0.9077881177691544"
      ]
     },
     "execution_count": 118,
     "metadata": {},
     "output_type": "execute_result"
    }
   ],
   "source": [
    "lss = r2_score(y_test,pred_ls)\n",
    "lss"
   ]
  },
  {
   "cell_type": "code",
   "execution_count": 119,
   "id": "0c80cf5f",
   "metadata": {},
   "outputs": [
    {
     "data": {
      "text/plain": [
       "0.8893639235073084"
      ]
     },
     "execution_count": 119,
     "metadata": {},
     "output_type": "execute_result"
    }
   ],
   "source": [
    "cv_score = cross_val_score(ls,x,y,cv=3)\n",
    "cv_mean = cv_score.mean()\n",
    "cv_mean"
   ]
  },
  {
   "cell_type": "code",
   "execution_count": 120,
   "id": "8e8eddc8",
   "metadata": {},
   "outputs": [],
   "source": [
    "# WITH RANDOM FOREST"
   ]
  },
  {
   "cell_type": "code",
   "execution_count": 121,
   "id": "7ed03b4d",
   "metadata": {},
   "outputs": [],
   "source": [
    "from sklearn.ensemble import RandomForestRegressor"
   ]
  },
  {
   "cell_type": "code",
   "execution_count": 122,
   "id": "20a4d639",
   "metadata": {},
   "outputs": [
    {
     "name": "stdout",
     "output_type": "stream",
     "text": [
      "{'criterion': 'mse', 'max_depth': 7, 'max_features': 'auto', 'min_samples_leaf': 2}\n"
     ]
    }
   ],
   "source": [
    "parameter = {'criterion':['mse','mae','rmse'],'max_features':[\"auto\",\"sqrt\",\"log2\"],'max_depth':[2,7],'min_samples_leaf':[2,10]}\n",
    "rf = RandomForestRegressor()\n",
    "clf = GridSearchCV(rf,parameter)\n",
    "clf.fit(x_train,y_train)\n",
    "\n",
    "print(clf.best_params_)"
   ]
  },
  {
   "cell_type": "code",
   "execution_count": 123,
   "id": "a4403fe7",
   "metadata": {},
   "outputs": [],
   "source": [
    "rf = RandomForestRegressor(criterion=\"mse\",max_features=\"auto\",max_depth=7,min_samples_leaf=2)\n",
    "rf.fit(x_train,y_train)\n",
    "rf.score(x_train,y_train)\n",
    "pred_dec = rf.predict(x_test)"
   ]
  },
  {
   "cell_type": "code",
   "execution_count": 124,
   "id": "7c386a07",
   "metadata": {},
   "outputs": [
    {
     "name": "stdout",
     "output_type": "stream",
     "text": [
      "R2 Score: 97.1863877271233\n",
      "Cross val Score : 96.6873509589344\n"
     ]
    }
   ],
   "source": [
    "rfs = r2_score(y_test,pred_dec)\n",
    "print('R2 Score:',rfs*100)\n",
    "rf_score = cross_val_score(rf,x,y,cv=3)\n",
    "rfc = rf_score.mean()\n",
    "print(\"Cross val Score :\",rfc*100)"
   ]
  },
  {
   "cell_type": "raw",
   "id": "61da2561",
   "metadata": {},
   "source": [
    "WITH ADABOOST"
   ]
  },
  {
   "cell_type": "code",
   "execution_count": 152,
   "id": "2b8fec22",
   "metadata": {},
   "outputs": [],
   "source": [
    "from sklearn.ensemble import AdaBoostRegressor\n",
    "from sklearn.model_selection import RandomizedSearchCV"
   ]
  },
  {
   "cell_type": "code",
   "execution_count": 129,
   "id": "56286389",
   "metadata": {},
   "outputs": [],
   "source": [
    "params = {'n_estimators':[47,50,60,70],'learning_rate':[0.25,0.30,0.40]}"
   ]
  },
  {
   "cell_type": "code",
   "execution_count": 130,
   "id": "de004b46",
   "metadata": {},
   "outputs": [],
   "source": [
    "rnd_srch = RandomizedSearchCV(AdaBoostRegressor(),cv=3,param_distributions=params)"
   ]
  },
  {
   "cell_type": "code",
   "execution_count": 131,
   "id": "7a05226f",
   "metadata": {},
   "outputs": [
    {
     "data": {
      "text/plain": [
       "RandomizedSearchCV(cv=3, estimator=AdaBoostRegressor(),\n",
       "                   param_distributions={'learning_rate': [0.25, 0.3, 0.4],\n",
       "                                        'n_estimators': [47, 50, 60, 70]})"
      ]
     },
     "execution_count": 131,
     "metadata": {},
     "output_type": "execute_result"
    }
   ],
   "source": [
    "rnd_srch.fit(x_train,y_train)"
   ]
  },
  {
   "cell_type": "code",
   "execution_count": 132,
   "id": "bf720f51",
   "metadata": {},
   "outputs": [
    {
     "data": {
      "text/plain": [
       "AdaBoostRegressor(learning_rate=0.4, n_estimators=70)"
      ]
     },
     "execution_count": 132,
     "metadata": {},
     "output_type": "execute_result"
    }
   ],
   "source": [
    "rnd_srch.best_estimator_"
   ]
  },
  {
   "cell_type": "code",
   "execution_count": 133,
   "id": "3e3e84ad",
   "metadata": {},
   "outputs": [],
   "source": [
    "ada = AdaBoostRegressor(learning_rate=0.4,n_estimators=70)"
   ]
  },
  {
   "cell_type": "code",
   "execution_count": 134,
   "id": "9b904928",
   "metadata": {},
   "outputs": [
    {
     "data": {
      "text/plain": [
       "AdaBoostRegressor(learning_rate=0.4, n_estimators=70)"
      ]
     },
     "execution_count": 134,
     "metadata": {},
     "output_type": "execute_result"
    }
   ],
   "source": [
    "ada.fit(x_train,y_train)"
   ]
  },
  {
   "cell_type": "code",
   "execution_count": 135,
   "id": "eb400dd4",
   "metadata": {},
   "outputs": [
    {
     "name": "stdout",
     "output_type": "stream",
     "text": [
      "0.9548257612820934\n"
     ]
    }
   ],
   "source": [
    "y_pred = ada.predict(x_test)\n",
    "\n",
    "print(r2_score(y_test,y_pred))"
   ]
  },
  {
   "cell_type": "code",
   "execution_count": 149,
   "id": "3f876cb3",
   "metadata": {},
   "outputs": [],
   "source": [
    "# so as the accuracy is best in the RANDOM FORERST ALGO so we used lr to predict our model"
   ]
  },
  {
   "cell_type": "code",
   "execution_count": 146,
   "id": "fc5e9b21",
   "metadata": {},
   "outputs": [],
   "source": [
    "# saving the model for later prediction\n",
    "import pickle"
   ]
  },
  {
   "cell_type": "code",
   "execution_count": 151,
   "id": "5fea6d29",
   "metadata": {},
   "outputs": [],
   "source": [
    "filename = 'advertise_sales.pickle'\n",
    "pickle.dump(rf,open(filename,'wb'))"
   ]
  },
  {
   "cell_type": "code",
   "execution_count": 148,
   "id": "4e2975e0",
   "metadata": {},
   "outputs": [],
   "source": [
    "# hence my model is comoleted and ready to predict"
   ]
  },
  {
   "cell_type": "code",
   "execution_count": null,
   "id": "3c672390",
   "metadata": {},
   "outputs": [],
   "source": []
  }
 ],
 "metadata": {
  "kernelspec": {
   "display_name": "Python 3 (ipykernel)",
   "language": "python",
   "name": "python3"
  },
  "language_info": {
   "codemirror_mode": {
    "name": "ipython",
    "version": 3
   },
   "file_extension": ".py",
   "mimetype": "text/x-python",
   "name": "python",
   "nbconvert_exporter": "python",
   "pygments_lexer": "ipython3",
   "version": "3.9.7"
  }
 },
 "nbformat": 4,
 "nbformat_minor": 5
}
