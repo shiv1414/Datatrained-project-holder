{
 "cells": [
  {
   "cell_type": "markdown",
   "id": "132a93d8",
   "metadata": {},
   "source": [
    "# DATASET:-\n",
    "# The Global Power Plant Database is a comprehensive, open source database of power plants around the world. It centralizes power plant data to make it easier to navigate, compare and draw insights for one’s own analysis. The database covers approximately 35,000 power plants from 167 countries and includes thermal plants (e.g. coal, gas, oil, nuclear, biomass, waste, geothermal) and renewables (e.g. hydro, wind, solar). Each power plant is geolocated and entries contain information on plant capacity, generation, ownership, and fuel type. It will be continuously updated as data becomes available."
   ]
  },
  {
   "cell_type": "code",
   "execution_count": 3,
   "id": "718701f8",
   "metadata": {},
   "outputs": [],
   "source": [
    "import pandas as pd \n",
    "import numpy as np\n",
    "import matplotlib.pyplot as plt\n",
    "import seaborn as sns\n",
    "\n",
    "import warnings\n",
    "warnings.filterwarnings('ignore')"
   ]
  },
  {
   "cell_type": "code",
   "execution_count": 4,
   "id": "d1dc3fe0",
   "metadata": {},
   "outputs": [],
   "source": [
    "# IMPORT THE LIBRARIES"
   ]
  },
  {
   "cell_type": "code",
   "execution_count": 15,
   "id": "00106eec",
   "metadata": {},
   "outputs": [
    {
     "data": {
      "text/html": [
       "<div>\n",
       "<style scoped>\n",
       "    .dataframe tbody tr th:only-of-type {\n",
       "        vertical-align: middle;\n",
       "    }\n",
       "\n",
       "    .dataframe tbody tr th {\n",
       "        vertical-align: top;\n",
       "    }\n",
       "\n",
       "    .dataframe thead th {\n",
       "        text-align: right;\n",
       "    }\n",
       "</style>\n",
       "<table border=\"1\" class=\"dataframe\">\n",
       "  <thead>\n",
       "    <tr style=\"text-align: right;\">\n",
       "      <th></th>\n",
       "      <th>country</th>\n",
       "      <th>country_long</th>\n",
       "      <th>name</th>\n",
       "      <th>gppd_idnr</th>\n",
       "      <th>capacity_mw</th>\n",
       "      <th>latitude</th>\n",
       "      <th>longitude</th>\n",
       "      <th>primary_fuel</th>\n",
       "      <th>other_fuel1</th>\n",
       "      <th>other_fuel2</th>\n",
       "      <th>...</th>\n",
       "      <th>year_of_capacity_data</th>\n",
       "      <th>generation_gwh_2013</th>\n",
       "      <th>generation_gwh_2014</th>\n",
       "      <th>generation_gwh_2015</th>\n",
       "      <th>generation_gwh_2016</th>\n",
       "      <th>generation_gwh_2017</th>\n",
       "      <th>generation_gwh_2018</th>\n",
       "      <th>generation_gwh_2019</th>\n",
       "      <th>generation_data_source</th>\n",
       "      <th>estimated_generation_gwh</th>\n",
       "    </tr>\n",
       "  </thead>\n",
       "  <tbody>\n",
       "    <tr>\n",
       "      <th>0</th>\n",
       "      <td>IND</td>\n",
       "      <td>India</td>\n",
       "      <td>ACME Solar Tower</td>\n",
       "      <td>WRI1020239</td>\n",
       "      <td>2.5</td>\n",
       "      <td>28.1839</td>\n",
       "      <td>73.2407</td>\n",
       "      <td>Solar</td>\n",
       "      <td>NaN</td>\n",
       "      <td>NaN</td>\n",
       "      <td>...</td>\n",
       "      <td>NaN</td>\n",
       "      <td>NaN</td>\n",
       "      <td>NaN</td>\n",
       "      <td>NaN</td>\n",
       "      <td>NaN</td>\n",
       "      <td>NaN</td>\n",
       "      <td>NaN</td>\n",
       "      <td>NaN</td>\n",
       "      <td>NaN</td>\n",
       "      <td>NaN</td>\n",
       "    </tr>\n",
       "    <tr>\n",
       "      <th>1</th>\n",
       "      <td>IND</td>\n",
       "      <td>India</td>\n",
       "      <td>ADITYA CEMENT WORKS</td>\n",
       "      <td>WRI1019881</td>\n",
       "      <td>98.0</td>\n",
       "      <td>24.7663</td>\n",
       "      <td>74.6090</td>\n",
       "      <td>Coal</td>\n",
       "      <td>NaN</td>\n",
       "      <td>NaN</td>\n",
       "      <td>...</td>\n",
       "      <td>NaN</td>\n",
       "      <td>NaN</td>\n",
       "      <td>NaN</td>\n",
       "      <td>NaN</td>\n",
       "      <td>NaN</td>\n",
       "      <td>NaN</td>\n",
       "      <td>NaN</td>\n",
       "      <td>NaN</td>\n",
       "      <td>NaN</td>\n",
       "      <td>NaN</td>\n",
       "    </tr>\n",
       "    <tr>\n",
       "      <th>2</th>\n",
       "      <td>IND</td>\n",
       "      <td>India</td>\n",
       "      <td>AES Saurashtra Windfarms</td>\n",
       "      <td>WRI1026669</td>\n",
       "      <td>39.2</td>\n",
       "      <td>21.9038</td>\n",
       "      <td>69.3732</td>\n",
       "      <td>Wind</td>\n",
       "      <td>NaN</td>\n",
       "      <td>NaN</td>\n",
       "      <td>...</td>\n",
       "      <td>NaN</td>\n",
       "      <td>NaN</td>\n",
       "      <td>NaN</td>\n",
       "      <td>NaN</td>\n",
       "      <td>NaN</td>\n",
       "      <td>NaN</td>\n",
       "      <td>NaN</td>\n",
       "      <td>NaN</td>\n",
       "      <td>NaN</td>\n",
       "      <td>NaN</td>\n",
       "    </tr>\n",
       "    <tr>\n",
       "      <th>3</th>\n",
       "      <td>IND</td>\n",
       "      <td>India</td>\n",
       "      <td>AGARTALA GT</td>\n",
       "      <td>IND0000001</td>\n",
       "      <td>135.0</td>\n",
       "      <td>23.8712</td>\n",
       "      <td>91.3602</td>\n",
       "      <td>Gas</td>\n",
       "      <td>NaN</td>\n",
       "      <td>NaN</td>\n",
       "      <td>...</td>\n",
       "      <td>2019.0</td>\n",
       "      <td>NaN</td>\n",
       "      <td>617.789264</td>\n",
       "      <td>843.747000</td>\n",
       "      <td>886.004428</td>\n",
       "      <td>663.774500</td>\n",
       "      <td>626.239128</td>\n",
       "      <td>NaN</td>\n",
       "      <td>Central Electricity Authority</td>\n",
       "      <td>NaN</td>\n",
       "    </tr>\n",
       "    <tr>\n",
       "      <th>4</th>\n",
       "      <td>IND</td>\n",
       "      <td>India</td>\n",
       "      <td>AKALTARA TPP</td>\n",
       "      <td>IND0000002</td>\n",
       "      <td>1800.0</td>\n",
       "      <td>21.9603</td>\n",
       "      <td>82.4091</td>\n",
       "      <td>Coal</td>\n",
       "      <td>Oil</td>\n",
       "      <td>NaN</td>\n",
       "      <td>...</td>\n",
       "      <td>2019.0</td>\n",
       "      <td>NaN</td>\n",
       "      <td>3035.550000</td>\n",
       "      <td>5916.370000</td>\n",
       "      <td>6243.000000</td>\n",
       "      <td>5385.579736</td>\n",
       "      <td>7279.000000</td>\n",
       "      <td>NaN</td>\n",
       "      <td>Central Electricity Authority</td>\n",
       "      <td>NaN</td>\n",
       "    </tr>\n",
       "    <tr>\n",
       "      <th>...</th>\n",
       "      <td>...</td>\n",
       "      <td>...</td>\n",
       "      <td>...</td>\n",
       "      <td>...</td>\n",
       "      <td>...</td>\n",
       "      <td>...</td>\n",
       "      <td>...</td>\n",
       "      <td>...</td>\n",
       "      <td>...</td>\n",
       "      <td>...</td>\n",
       "      <td>...</td>\n",
       "      <td>...</td>\n",
       "      <td>...</td>\n",
       "      <td>...</td>\n",
       "      <td>...</td>\n",
       "      <td>...</td>\n",
       "      <td>...</td>\n",
       "      <td>...</td>\n",
       "      <td>...</td>\n",
       "      <td>...</td>\n",
       "      <td>...</td>\n",
       "    </tr>\n",
       "    <tr>\n",
       "      <th>902</th>\n",
       "      <td>IND</td>\n",
       "      <td>India</td>\n",
       "      <td>YERMARUS TPP</td>\n",
       "      <td>IND0000513</td>\n",
       "      <td>1600.0</td>\n",
       "      <td>16.2949</td>\n",
       "      <td>77.3568</td>\n",
       "      <td>Coal</td>\n",
       "      <td>Oil</td>\n",
       "      <td>NaN</td>\n",
       "      <td>...</td>\n",
       "      <td>2019.0</td>\n",
       "      <td>NaN</td>\n",
       "      <td>NaN</td>\n",
       "      <td>0.994875</td>\n",
       "      <td>233.596650</td>\n",
       "      <td>865.400000</td>\n",
       "      <td>686.500000</td>\n",
       "      <td>NaN</td>\n",
       "      <td>Central Electricity Authority</td>\n",
       "      <td>NaN</td>\n",
       "    </tr>\n",
       "    <tr>\n",
       "      <th>903</th>\n",
       "      <td>IND</td>\n",
       "      <td>India</td>\n",
       "      <td>Yelesandra Solar Power Plant</td>\n",
       "      <td>WRI1026222</td>\n",
       "      <td>3.0</td>\n",
       "      <td>12.8932</td>\n",
       "      <td>78.1654</td>\n",
       "      <td>Solar</td>\n",
       "      <td>NaN</td>\n",
       "      <td>NaN</td>\n",
       "      <td>...</td>\n",
       "      <td>NaN</td>\n",
       "      <td>NaN</td>\n",
       "      <td>NaN</td>\n",
       "      <td>NaN</td>\n",
       "      <td>NaN</td>\n",
       "      <td>NaN</td>\n",
       "      <td>NaN</td>\n",
       "      <td>NaN</td>\n",
       "      <td>NaN</td>\n",
       "      <td>NaN</td>\n",
       "    </tr>\n",
       "    <tr>\n",
       "      <th>904</th>\n",
       "      <td>IND</td>\n",
       "      <td>India</td>\n",
       "      <td>Yelisirur wind power project</td>\n",
       "      <td>WRI1026776</td>\n",
       "      <td>25.5</td>\n",
       "      <td>15.2758</td>\n",
       "      <td>75.5811</td>\n",
       "      <td>Wind</td>\n",
       "      <td>NaN</td>\n",
       "      <td>NaN</td>\n",
       "      <td>...</td>\n",
       "      <td>NaN</td>\n",
       "      <td>NaN</td>\n",
       "      <td>NaN</td>\n",
       "      <td>NaN</td>\n",
       "      <td>NaN</td>\n",
       "      <td>NaN</td>\n",
       "      <td>NaN</td>\n",
       "      <td>NaN</td>\n",
       "      <td>NaN</td>\n",
       "      <td>NaN</td>\n",
       "    </tr>\n",
       "    <tr>\n",
       "      <th>905</th>\n",
       "      <td>IND</td>\n",
       "      <td>India</td>\n",
       "      <td>ZAWAR MINES</td>\n",
       "      <td>WRI1019901</td>\n",
       "      <td>80.0</td>\n",
       "      <td>24.3500</td>\n",
       "      <td>73.7477</td>\n",
       "      <td>Coal</td>\n",
       "      <td>NaN</td>\n",
       "      <td>NaN</td>\n",
       "      <td>...</td>\n",
       "      <td>NaN</td>\n",
       "      <td>NaN</td>\n",
       "      <td>NaN</td>\n",
       "      <td>NaN</td>\n",
       "      <td>NaN</td>\n",
       "      <td>NaN</td>\n",
       "      <td>NaN</td>\n",
       "      <td>NaN</td>\n",
       "      <td>NaN</td>\n",
       "      <td>NaN</td>\n",
       "    </tr>\n",
       "    <tr>\n",
       "      <th>906</th>\n",
       "      <td>IND</td>\n",
       "      <td>India</td>\n",
       "      <td>iEnergy Theni Wind Farm</td>\n",
       "      <td>WRI1026761</td>\n",
       "      <td>16.5</td>\n",
       "      <td>9.9344</td>\n",
       "      <td>77.4768</td>\n",
       "      <td>Wind</td>\n",
       "      <td>NaN</td>\n",
       "      <td>NaN</td>\n",
       "      <td>...</td>\n",
       "      <td>NaN</td>\n",
       "      <td>NaN</td>\n",
       "      <td>NaN</td>\n",
       "      <td>NaN</td>\n",
       "      <td>NaN</td>\n",
       "      <td>NaN</td>\n",
       "      <td>NaN</td>\n",
       "      <td>NaN</td>\n",
       "      <td>NaN</td>\n",
       "      <td>NaN</td>\n",
       "    </tr>\n",
       "  </tbody>\n",
       "</table>\n",
       "<p>907 rows × 27 columns</p>\n",
       "</div>"
      ],
      "text/plain": [
       "    country country_long                          name   gppd_idnr  \\\n",
       "0       IND        India              ACME Solar Tower  WRI1020239   \n",
       "1       IND        India           ADITYA CEMENT WORKS  WRI1019881   \n",
       "2       IND        India      AES Saurashtra Windfarms  WRI1026669   \n",
       "3       IND        India                   AGARTALA GT  IND0000001   \n",
       "4       IND        India                  AKALTARA TPP  IND0000002   \n",
       "..      ...          ...                           ...         ...   \n",
       "902     IND        India                  YERMARUS TPP  IND0000513   \n",
       "903     IND        India  Yelesandra Solar Power Plant  WRI1026222   \n",
       "904     IND        India  Yelisirur wind power project  WRI1026776   \n",
       "905     IND        India                   ZAWAR MINES  WRI1019901   \n",
       "906     IND        India       iEnergy Theni Wind Farm  WRI1026761   \n",
       "\n",
       "     capacity_mw  latitude  longitude primary_fuel other_fuel1 other_fuel2  \\\n",
       "0            2.5   28.1839    73.2407        Solar         NaN         NaN   \n",
       "1           98.0   24.7663    74.6090         Coal         NaN         NaN   \n",
       "2           39.2   21.9038    69.3732         Wind         NaN         NaN   \n",
       "3          135.0   23.8712    91.3602          Gas         NaN         NaN   \n",
       "4         1800.0   21.9603    82.4091         Coal         Oil         NaN   \n",
       "..           ...       ...        ...          ...         ...         ...   \n",
       "902       1600.0   16.2949    77.3568         Coal         Oil         NaN   \n",
       "903          3.0   12.8932    78.1654        Solar         NaN         NaN   \n",
       "904         25.5   15.2758    75.5811         Wind         NaN         NaN   \n",
       "905         80.0   24.3500    73.7477         Coal         NaN         NaN   \n",
       "906         16.5    9.9344    77.4768         Wind         NaN         NaN   \n",
       "\n",
       "     ...  year_of_capacity_data  generation_gwh_2013 generation_gwh_2014  \\\n",
       "0    ...                    NaN                  NaN                 NaN   \n",
       "1    ...                    NaN                  NaN                 NaN   \n",
       "2    ...                    NaN                  NaN                 NaN   \n",
       "3    ...                 2019.0                  NaN          617.789264   \n",
       "4    ...                 2019.0                  NaN         3035.550000   \n",
       "..   ...                    ...                  ...                 ...   \n",
       "902  ...                 2019.0                  NaN                 NaN   \n",
       "903  ...                    NaN                  NaN                 NaN   \n",
       "904  ...                    NaN                  NaN                 NaN   \n",
       "905  ...                    NaN                  NaN                 NaN   \n",
       "906  ...                    NaN                  NaN                 NaN   \n",
       "\n",
       "    generation_gwh_2015 generation_gwh_2016 generation_gwh_2017  \\\n",
       "0                   NaN                 NaN                 NaN   \n",
       "1                   NaN                 NaN                 NaN   \n",
       "2                   NaN                 NaN                 NaN   \n",
       "3            843.747000          886.004428          663.774500   \n",
       "4           5916.370000         6243.000000         5385.579736   \n",
       "..                  ...                 ...                 ...   \n",
       "902            0.994875          233.596650          865.400000   \n",
       "903                 NaN                 NaN                 NaN   \n",
       "904                 NaN                 NaN                 NaN   \n",
       "905                 NaN                 NaN                 NaN   \n",
       "906                 NaN                 NaN                 NaN   \n",
       "\n",
       "     generation_gwh_2018  generation_gwh_2019         generation_data_source  \\\n",
       "0                    NaN                  NaN                            NaN   \n",
       "1                    NaN                  NaN                            NaN   \n",
       "2                    NaN                  NaN                            NaN   \n",
       "3             626.239128                  NaN  Central Electricity Authority   \n",
       "4            7279.000000                  NaN  Central Electricity Authority   \n",
       "..                   ...                  ...                            ...   \n",
       "902           686.500000                  NaN  Central Electricity Authority   \n",
       "903                  NaN                  NaN                            NaN   \n",
       "904                  NaN                  NaN                            NaN   \n",
       "905                  NaN                  NaN                            NaN   \n",
       "906                  NaN                  NaN                            NaN   \n",
       "\n",
       "     estimated_generation_gwh  \n",
       "0                         NaN  \n",
       "1                         NaN  \n",
       "2                         NaN  \n",
       "3                         NaN  \n",
       "4                         NaN  \n",
       "..                        ...  \n",
       "902                       NaN  \n",
       "903                       NaN  \n",
       "904                       NaN  \n",
       "905                       NaN  \n",
       "906                       NaN  \n",
       "\n",
       "[907 rows x 27 columns]"
      ]
     },
     "execution_count": 15,
     "metadata": {},
     "output_type": "execute_result"
    }
   ],
   "source": [
    "data = pd.read_csv('https://raw.githubusercontent.com/wri/global-power-plant-database/master/source_databases_csv/database_IND.csv')\n",
    "data"
   ]
  },
  {
   "cell_type": "code",
   "execution_count": 16,
   "id": "f4a2dd16",
   "metadata": {},
   "outputs": [
    {
     "data": {
      "text/plain": [
       "Index(['country', 'country_long', 'name', 'gppd_idnr', 'capacity_mw',\n",
       "       'latitude', 'longitude', 'primary_fuel', 'other_fuel1', 'other_fuel2',\n",
       "       'other_fuel3', 'commissioning_year', 'owner', 'source', 'url',\n",
       "       'geolocation_source', 'wepp_id', 'year_of_capacity_data',\n",
       "       'generation_gwh_2013', 'generation_gwh_2014', 'generation_gwh_2015',\n",
       "       'generation_gwh_2016', 'generation_gwh_2017', 'generation_gwh_2018',\n",
       "       'generation_gwh_2019', 'generation_data_source',\n",
       "       'estimated_generation_gwh'],\n",
       "      dtype='object')"
      ]
     },
     "execution_count": 16,
     "metadata": {},
     "output_type": "execute_result"
    }
   ],
   "source": [
    "data.columns"
   ]
  },
  {
   "cell_type": "code",
   "execution_count": 6,
   "id": "ab850ee4",
   "metadata": {},
   "outputs": [
    {
     "name": "stdout",
     "output_type": "stream",
     "text": [
      "<class 'pandas.core.frame.DataFrame'>\n",
      "RangeIndex: 907 entries, 0 to 906\n",
      "Data columns (total 27 columns):\n",
      " #   Column                    Non-Null Count  Dtype  \n",
      "---  ------                    --------------  -----  \n",
      " 0   country                   907 non-null    object \n",
      " 1   country_long              907 non-null    object \n",
      " 2   name                      907 non-null    object \n",
      " 3   gppd_idnr                 907 non-null    object \n",
      " 4   capacity_mw               907 non-null    float64\n",
      " 5   latitude                  861 non-null    float64\n",
      " 6   longitude                 861 non-null    float64\n",
      " 7   primary_fuel              907 non-null    object \n",
      " 8   other_fuel1               198 non-null    object \n",
      " 9   other_fuel2               1 non-null      object \n",
      " 10  other_fuel3               0 non-null      float64\n",
      " 11  commissioning_year        527 non-null    float64\n",
      " 12  owner                     342 non-null    object \n",
      " 13  source                    907 non-null    object \n",
      " 14  url                       907 non-null    object \n",
      " 15  geolocation_source        888 non-null    object \n",
      " 16  wepp_id                   0 non-null      float64\n",
      " 17  year_of_capacity_data     519 non-null    float64\n",
      " 18  generation_gwh_2013       0 non-null      float64\n",
      " 19  generation_gwh_2014       398 non-null    float64\n",
      " 20  generation_gwh_2015       422 non-null    float64\n",
      " 21  generation_gwh_2016       434 non-null    float64\n",
      " 22  generation_gwh_2017       440 non-null    float64\n",
      " 23  generation_gwh_2018       448 non-null    float64\n",
      " 24  generation_gwh_2019       0 non-null      float64\n",
      " 25  generation_data_source    449 non-null    object \n",
      " 26  estimated_generation_gwh  0 non-null      float64\n",
      "dtypes: float64(15), object(12)\n",
      "memory usage: 191.4+ KB\n"
     ]
    }
   ],
   "source": [
    "data.info()"
   ]
  },
  {
   "cell_type": "markdown",
   "id": "2c3618c2",
   "metadata": {},
   "source": [
    "12 objects that of object types and rest are of float type"
   ]
  },
  {
   "cell_type": "code",
   "execution_count": 7,
   "id": "d1579fec",
   "metadata": {},
   "outputs": [
    {
     "data": {
      "text/html": [
       "<div>\n",
       "<style scoped>\n",
       "    .dataframe tbody tr th:only-of-type {\n",
       "        vertical-align: middle;\n",
       "    }\n",
       "\n",
       "    .dataframe tbody tr th {\n",
       "        vertical-align: top;\n",
       "    }\n",
       "\n",
       "    .dataframe thead th {\n",
       "        text-align: right;\n",
       "    }\n",
       "</style>\n",
       "<table border=\"1\" class=\"dataframe\">\n",
       "  <thead>\n",
       "    <tr style=\"text-align: right;\">\n",
       "      <th></th>\n",
       "      <th>capacity_mw</th>\n",
       "      <th>latitude</th>\n",
       "      <th>longitude</th>\n",
       "      <th>other_fuel3</th>\n",
       "      <th>commissioning_year</th>\n",
       "      <th>wepp_id</th>\n",
       "      <th>year_of_capacity_data</th>\n",
       "      <th>generation_gwh_2013</th>\n",
       "      <th>generation_gwh_2014</th>\n",
       "      <th>generation_gwh_2015</th>\n",
       "      <th>generation_gwh_2016</th>\n",
       "      <th>generation_gwh_2017</th>\n",
       "      <th>generation_gwh_2018</th>\n",
       "      <th>generation_gwh_2019</th>\n",
       "      <th>estimated_generation_gwh</th>\n",
       "    </tr>\n",
       "  </thead>\n",
       "  <tbody>\n",
       "    <tr>\n",
       "      <th>count</th>\n",
       "      <td>907.000000</td>\n",
       "      <td>861.000000</td>\n",
       "      <td>861.000000</td>\n",
       "      <td>0.0</td>\n",
       "      <td>527.000000</td>\n",
       "      <td>0.0</td>\n",
       "      <td>519.0</td>\n",
       "      <td>0.0</td>\n",
       "      <td>398.000000</td>\n",
       "      <td>422.000000</td>\n",
       "      <td>434.000000</td>\n",
       "      <td>440.000000</td>\n",
       "      <td>448.000000</td>\n",
       "      <td>0.0</td>\n",
       "      <td>0.0</td>\n",
       "    </tr>\n",
       "    <tr>\n",
       "      <th>mean</th>\n",
       "      <td>326.223755</td>\n",
       "      <td>21.197918</td>\n",
       "      <td>77.464907</td>\n",
       "      <td>NaN</td>\n",
       "      <td>1997.091082</td>\n",
       "      <td>NaN</td>\n",
       "      <td>2019.0</td>\n",
       "      <td>NaN</td>\n",
       "      <td>2431.823590</td>\n",
       "      <td>2428.226946</td>\n",
       "      <td>2467.936859</td>\n",
       "      <td>2547.759305</td>\n",
       "      <td>2600.804099</td>\n",
       "      <td>NaN</td>\n",
       "      <td>NaN</td>\n",
       "    </tr>\n",
       "    <tr>\n",
       "      <th>std</th>\n",
       "      <td>590.085456</td>\n",
       "      <td>6.239612</td>\n",
       "      <td>4.939316</td>\n",
       "      <td>NaN</td>\n",
       "      <td>17.082868</td>\n",
       "      <td>NaN</td>\n",
       "      <td>0.0</td>\n",
       "      <td>NaN</td>\n",
       "      <td>4026.440035</td>\n",
       "      <td>4194.596959</td>\n",
       "      <td>4162.884308</td>\n",
       "      <td>4196.991169</td>\n",
       "      <td>4314.880456</td>\n",
       "      <td>NaN</td>\n",
       "      <td>NaN</td>\n",
       "    </tr>\n",
       "    <tr>\n",
       "      <th>min</th>\n",
       "      <td>0.000000</td>\n",
       "      <td>8.168900</td>\n",
       "      <td>68.644700</td>\n",
       "      <td>NaN</td>\n",
       "      <td>1927.000000</td>\n",
       "      <td>NaN</td>\n",
       "      <td>2019.0</td>\n",
       "      <td>NaN</td>\n",
       "      <td>0.000000</td>\n",
       "      <td>0.000000</td>\n",
       "      <td>0.000000</td>\n",
       "      <td>0.000000</td>\n",
       "      <td>0.000000</td>\n",
       "      <td>NaN</td>\n",
       "      <td>NaN</td>\n",
       "    </tr>\n",
       "    <tr>\n",
       "      <th>25%</th>\n",
       "      <td>16.725000</td>\n",
       "      <td>16.773900</td>\n",
       "      <td>74.256200</td>\n",
       "      <td>NaN</td>\n",
       "      <td>1988.000000</td>\n",
       "      <td>NaN</td>\n",
       "      <td>2019.0</td>\n",
       "      <td>NaN</td>\n",
       "      <td>223.557672</td>\n",
       "      <td>176.381063</td>\n",
       "      <td>188.285252</td>\n",
       "      <td>177.874930</td>\n",
       "      <td>193.378250</td>\n",
       "      <td>NaN</td>\n",
       "      <td>NaN</td>\n",
       "    </tr>\n",
       "    <tr>\n",
       "      <th>50%</th>\n",
       "      <td>59.200000</td>\n",
       "      <td>21.780000</td>\n",
       "      <td>76.719500</td>\n",
       "      <td>NaN</td>\n",
       "      <td>2001.000000</td>\n",
       "      <td>NaN</td>\n",
       "      <td>2019.0</td>\n",
       "      <td>NaN</td>\n",
       "      <td>801.123775</td>\n",
       "      <td>711.181225</td>\n",
       "      <td>737.205450</td>\n",
       "      <td>817.977250</td>\n",
       "      <td>751.644375</td>\n",
       "      <td>NaN</td>\n",
       "      <td>NaN</td>\n",
       "    </tr>\n",
       "    <tr>\n",
       "      <th>75%</th>\n",
       "      <td>385.250000</td>\n",
       "      <td>25.512400</td>\n",
       "      <td>79.440800</td>\n",
       "      <td>NaN</td>\n",
       "      <td>2012.000000</td>\n",
       "      <td>NaN</td>\n",
       "      <td>2019.0</td>\n",
       "      <td>NaN</td>\n",
       "      <td>3035.306250</td>\n",
       "      <td>3084.121250</td>\n",
       "      <td>3282.861313</td>\n",
       "      <td>3275.690475</td>\n",
       "      <td>3143.535900</td>\n",
       "      <td>NaN</td>\n",
       "      <td>NaN</td>\n",
       "    </tr>\n",
       "    <tr>\n",
       "      <th>max</th>\n",
       "      <td>4760.000000</td>\n",
       "      <td>34.649000</td>\n",
       "      <td>95.408000</td>\n",
       "      <td>NaN</td>\n",
       "      <td>2018.000000</td>\n",
       "      <td>NaN</td>\n",
       "      <td>2019.0</td>\n",
       "      <td>NaN</td>\n",
       "      <td>28127.000000</td>\n",
       "      <td>30539.000000</td>\n",
       "      <td>30015.000000</td>\n",
       "      <td>35116.000000</td>\n",
       "      <td>35136.000000</td>\n",
       "      <td>NaN</td>\n",
       "      <td>NaN</td>\n",
       "    </tr>\n",
       "  </tbody>\n",
       "</table>\n",
       "</div>"
      ],
      "text/plain": [
       "       capacity_mw    latitude   longitude  other_fuel3  commissioning_year  \\\n",
       "count   907.000000  861.000000  861.000000          0.0          527.000000   \n",
       "mean    326.223755   21.197918   77.464907          NaN         1997.091082   \n",
       "std     590.085456    6.239612    4.939316          NaN           17.082868   \n",
       "min       0.000000    8.168900   68.644700          NaN         1927.000000   \n",
       "25%      16.725000   16.773900   74.256200          NaN         1988.000000   \n",
       "50%      59.200000   21.780000   76.719500          NaN         2001.000000   \n",
       "75%     385.250000   25.512400   79.440800          NaN         2012.000000   \n",
       "max    4760.000000   34.649000   95.408000          NaN         2018.000000   \n",
       "\n",
       "       wepp_id  year_of_capacity_data  generation_gwh_2013  \\\n",
       "count      0.0                  519.0                  0.0   \n",
       "mean       NaN                 2019.0                  NaN   \n",
       "std        NaN                    0.0                  NaN   \n",
       "min        NaN                 2019.0                  NaN   \n",
       "25%        NaN                 2019.0                  NaN   \n",
       "50%        NaN                 2019.0                  NaN   \n",
       "75%        NaN                 2019.0                  NaN   \n",
       "max        NaN                 2019.0                  NaN   \n",
       "\n",
       "       generation_gwh_2014  generation_gwh_2015  generation_gwh_2016  \\\n",
       "count           398.000000           422.000000           434.000000   \n",
       "mean           2431.823590          2428.226946          2467.936859   \n",
       "std            4026.440035          4194.596959          4162.884308   \n",
       "min               0.000000             0.000000             0.000000   \n",
       "25%             223.557672           176.381063           188.285252   \n",
       "50%             801.123775           711.181225           737.205450   \n",
       "75%            3035.306250          3084.121250          3282.861313   \n",
       "max           28127.000000         30539.000000         30015.000000   \n",
       "\n",
       "       generation_gwh_2017  generation_gwh_2018  generation_gwh_2019  \\\n",
       "count           440.000000           448.000000                  0.0   \n",
       "mean           2547.759305          2600.804099                  NaN   \n",
       "std            4196.991169          4314.880456                  NaN   \n",
       "min               0.000000             0.000000                  NaN   \n",
       "25%             177.874930           193.378250                  NaN   \n",
       "50%             817.977250           751.644375                  NaN   \n",
       "75%            3275.690475          3143.535900                  NaN   \n",
       "max           35116.000000         35136.000000                  NaN   \n",
       "\n",
       "       estimated_generation_gwh  \n",
       "count                       0.0  \n",
       "mean                        NaN  \n",
       "std                         NaN  \n",
       "min                         NaN  \n",
       "25%                         NaN  \n",
       "50%                         NaN  \n",
       "75%                         NaN  \n",
       "max                         NaN  "
      ]
     },
     "execution_count": 7,
     "metadata": {},
     "output_type": "execute_result"
    }
   ],
   "source": [
    "data.describe()"
   ]
  },
  {
   "cell_type": "markdown",
   "id": "c95738c8",
   "metadata": {},
   "source": [
    "# as we can see in the colummns generation_gwh_2014\tgeneration_gwh_2015\tgeneration_gwh_2016\tgeneration_gwh_2017\tgeneration_gwh_2018, they have highly variance"
   ]
  },
  {
   "cell_type": "code",
   "execution_count": 10,
   "id": "b2ab8ea2",
   "metadata": {},
   "outputs": [
    {
     "data": {
      "text/plain": [
       "country                       0\n",
       "country_long                  0\n",
       "name                          0\n",
       "gppd_idnr                     0\n",
       "capacity_mw                   0\n",
       "latitude                     46\n",
       "longitude                    46\n",
       "primary_fuel                  0\n",
       "other_fuel1                 709\n",
       "other_fuel2                 906\n",
       "other_fuel3                 907\n",
       "commissioning_year          380\n",
       "owner                       565\n",
       "source                        0\n",
       "url                           0\n",
       "geolocation_source           19\n",
       "wepp_id                     907\n",
       "year_of_capacity_data       388\n",
       "generation_gwh_2013         907\n",
       "generation_gwh_2014         509\n",
       "generation_gwh_2015         485\n",
       "generation_gwh_2016         473\n",
       "generation_gwh_2017         467\n",
       "generation_gwh_2018         459\n",
       "generation_gwh_2019         907\n",
       "generation_data_source      458\n",
       "estimated_generation_gwh    907\n",
       "dtype: int64"
      ]
     },
     "execution_count": 10,
     "metadata": {},
     "output_type": "execute_result"
    }
   ],
   "source": [
    "data.isnull().sum()"
   ]
  },
  {
   "cell_type": "markdown",
   "id": "c2284037",
   "metadata": {},
   "source": [
    "we can drop some of columns as they are full of null values"
   ]
  },
  {
   "cell_type": "code",
   "execution_count": 17,
   "id": "cbd7e363",
   "metadata": {},
   "outputs": [],
   "source": [
    "data = data.drop(['other_fuel1','other_fuel2','other_fuel3','wepp_id','generation_gwh_2013','generation_gwh_2019','estimated_generation_gwh','generation_gwh_2014'],axis=1)"
   ]
  },
  {
   "cell_type": "code",
   "execution_count": 18,
   "id": "b6cabb07",
   "metadata": {},
   "outputs": [
    {
     "data": {
      "text/plain": [
       "(907, 19)"
      ]
     },
     "execution_count": 18,
     "metadata": {},
     "output_type": "execute_result"
    }
   ],
   "source": [
    "data.shape"
   ]
  },
  {
   "cell_type": "code",
   "execution_count": 20,
   "id": "bced34d7",
   "metadata": {},
   "outputs": [
    {
     "data": {
      "text/plain": [
       "country                    object\n",
       "country_long               object\n",
       "name                       object\n",
       "gppd_idnr                  object\n",
       "capacity_mw               float64\n",
       "latitude                  float64\n",
       "longitude                 float64\n",
       "primary_fuel               object\n",
       "commissioning_year        float64\n",
       "owner                      object\n",
       "source                     object\n",
       "url                        object\n",
       "geolocation_source         object\n",
       "year_of_capacity_data     float64\n",
       "generation_gwh_2015       float64\n",
       "generation_gwh_2016       float64\n",
       "generation_gwh_2017       float64\n",
       "generation_gwh_2018       float64\n",
       "generation_data_source     object\n",
       "dtype: object"
      ]
     },
     "execution_count": 20,
     "metadata": {},
     "output_type": "execute_result"
    }
   ],
   "source": [
    "data.dtypes"
   ]
  },
  {
   "cell_type": "code",
   "execution_count": 21,
   "id": "61c5c97d",
   "metadata": {},
   "outputs": [
    {
     "data": {
      "text/html": [
       "<div>\n",
       "<style scoped>\n",
       "    .dataframe tbody tr th:only-of-type {\n",
       "        vertical-align: middle;\n",
       "    }\n",
       "\n",
       "    .dataframe tbody tr th {\n",
       "        vertical-align: top;\n",
       "    }\n",
       "\n",
       "    .dataframe thead th {\n",
       "        text-align: right;\n",
       "    }\n",
       "</style>\n",
       "<table border=\"1\" class=\"dataframe\">\n",
       "  <thead>\n",
       "    <tr style=\"text-align: right;\">\n",
       "      <th></th>\n",
       "      <th>country</th>\n",
       "      <th>country_long</th>\n",
       "      <th>name</th>\n",
       "      <th>gppd_idnr</th>\n",
       "      <th>capacity_mw</th>\n",
       "      <th>latitude</th>\n",
       "      <th>longitude</th>\n",
       "      <th>primary_fuel</th>\n",
       "      <th>commissioning_year</th>\n",
       "      <th>owner</th>\n",
       "      <th>source</th>\n",
       "      <th>url</th>\n",
       "      <th>geolocation_source</th>\n",
       "      <th>year_of_capacity_data</th>\n",
       "      <th>generation_gwh_2015</th>\n",
       "      <th>generation_gwh_2016</th>\n",
       "      <th>generation_gwh_2017</th>\n",
       "      <th>generation_gwh_2018</th>\n",
       "      <th>generation_data_source</th>\n",
       "    </tr>\n",
       "  </thead>\n",
       "  <tbody>\n",
       "    <tr>\n",
       "      <th>0</th>\n",
       "      <td>IND</td>\n",
       "      <td>India</td>\n",
       "      <td>ACME Solar Tower</td>\n",
       "      <td>WRI1020239</td>\n",
       "      <td>2.5</td>\n",
       "      <td>28.1839</td>\n",
       "      <td>73.2407</td>\n",
       "      <td>Solar</td>\n",
       "      <td>2011.0</td>\n",
       "      <td>Solar Paces</td>\n",
       "      <td>National Renewable Energy Laboratory</td>\n",
       "      <td>http://www.nrel.gov/csp/solarpaces/project_det...</td>\n",
       "      <td>National Renewable Energy Laboratory</td>\n",
       "      <td>NaN</td>\n",
       "      <td>NaN</td>\n",
       "      <td>NaN</td>\n",
       "      <td>NaN</td>\n",
       "      <td>NaN</td>\n",
       "      <td>NaN</td>\n",
       "    </tr>\n",
       "    <tr>\n",
       "      <th>1</th>\n",
       "      <td>IND</td>\n",
       "      <td>India</td>\n",
       "      <td>ADITYA CEMENT WORKS</td>\n",
       "      <td>WRI1019881</td>\n",
       "      <td>98.0</td>\n",
       "      <td>24.7663</td>\n",
       "      <td>74.6090</td>\n",
       "      <td>Coal</td>\n",
       "      <td>NaN</td>\n",
       "      <td>Ultratech Cement ltd</td>\n",
       "      <td>Ultratech Cement ltd</td>\n",
       "      <td>http://www.ultratechcement.com/</td>\n",
       "      <td>WRI</td>\n",
       "      <td>NaN</td>\n",
       "      <td>NaN</td>\n",
       "      <td>NaN</td>\n",
       "      <td>NaN</td>\n",
       "      <td>NaN</td>\n",
       "      <td>NaN</td>\n",
       "    </tr>\n",
       "    <tr>\n",
       "      <th>2</th>\n",
       "      <td>IND</td>\n",
       "      <td>India</td>\n",
       "      <td>AES Saurashtra Windfarms</td>\n",
       "      <td>WRI1026669</td>\n",
       "      <td>39.2</td>\n",
       "      <td>21.9038</td>\n",
       "      <td>69.3732</td>\n",
       "      <td>Wind</td>\n",
       "      <td>NaN</td>\n",
       "      <td>AES</td>\n",
       "      <td>CDM</td>\n",
       "      <td>https://cdm.unfccc.int/Projects/DB/DNV-CUK1328...</td>\n",
       "      <td>WRI</td>\n",
       "      <td>NaN</td>\n",
       "      <td>NaN</td>\n",
       "      <td>NaN</td>\n",
       "      <td>NaN</td>\n",
       "      <td>NaN</td>\n",
       "      <td>NaN</td>\n",
       "    </tr>\n",
       "    <tr>\n",
       "      <th>3</th>\n",
       "      <td>IND</td>\n",
       "      <td>India</td>\n",
       "      <td>AGARTALA GT</td>\n",
       "      <td>IND0000001</td>\n",
       "      <td>135.0</td>\n",
       "      <td>23.8712</td>\n",
       "      <td>91.3602</td>\n",
       "      <td>Gas</td>\n",
       "      <td>2004.0</td>\n",
       "      <td>NaN</td>\n",
       "      <td>Central Electricity Authority</td>\n",
       "      <td>http://www.cea.nic.in/</td>\n",
       "      <td>WRI</td>\n",
       "      <td>2019.0</td>\n",
       "      <td>843.747</td>\n",
       "      <td>886.004428</td>\n",
       "      <td>663.774500</td>\n",
       "      <td>626.239128</td>\n",
       "      <td>Central Electricity Authority</td>\n",
       "    </tr>\n",
       "    <tr>\n",
       "      <th>4</th>\n",
       "      <td>IND</td>\n",
       "      <td>India</td>\n",
       "      <td>AKALTARA TPP</td>\n",
       "      <td>IND0000002</td>\n",
       "      <td>1800.0</td>\n",
       "      <td>21.9603</td>\n",
       "      <td>82.4091</td>\n",
       "      <td>Coal</td>\n",
       "      <td>2015.0</td>\n",
       "      <td>NaN</td>\n",
       "      <td>Central Electricity Authority</td>\n",
       "      <td>http://www.cea.nic.in/</td>\n",
       "      <td>WRI</td>\n",
       "      <td>2019.0</td>\n",
       "      <td>5916.370</td>\n",
       "      <td>6243.000000</td>\n",
       "      <td>5385.579736</td>\n",
       "      <td>7279.000000</td>\n",
       "      <td>Central Electricity Authority</td>\n",
       "    </tr>\n",
       "  </tbody>\n",
       "</table>\n",
       "</div>"
      ],
      "text/plain": [
       "  country country_long                      name   gppd_idnr  capacity_mw  \\\n",
       "0     IND        India          ACME Solar Tower  WRI1020239          2.5   \n",
       "1     IND        India       ADITYA CEMENT WORKS  WRI1019881         98.0   \n",
       "2     IND        India  AES Saurashtra Windfarms  WRI1026669         39.2   \n",
       "3     IND        India               AGARTALA GT  IND0000001        135.0   \n",
       "4     IND        India              AKALTARA TPP  IND0000002       1800.0   \n",
       "\n",
       "   latitude  longitude primary_fuel  commissioning_year                 owner  \\\n",
       "0   28.1839    73.2407        Solar              2011.0           Solar Paces   \n",
       "1   24.7663    74.6090         Coal                 NaN  Ultratech Cement ltd   \n",
       "2   21.9038    69.3732         Wind                 NaN                   AES   \n",
       "3   23.8712    91.3602          Gas              2004.0                   NaN   \n",
       "4   21.9603    82.4091         Coal              2015.0                   NaN   \n",
       "\n",
       "                                 source  \\\n",
       "0  National Renewable Energy Laboratory   \n",
       "1                  Ultratech Cement ltd   \n",
       "2                                   CDM   \n",
       "3         Central Electricity Authority   \n",
       "4         Central Electricity Authority   \n",
       "\n",
       "                                                 url  \\\n",
       "0  http://www.nrel.gov/csp/solarpaces/project_det...   \n",
       "1                    http://www.ultratechcement.com/   \n",
       "2  https://cdm.unfccc.int/Projects/DB/DNV-CUK1328...   \n",
       "3                             http://www.cea.nic.in/   \n",
       "4                             http://www.cea.nic.in/   \n",
       "\n",
       "                     geolocation_source  year_of_capacity_data  \\\n",
       "0  National Renewable Energy Laboratory                    NaN   \n",
       "1                                   WRI                    NaN   \n",
       "2                                   WRI                    NaN   \n",
       "3                                   WRI                 2019.0   \n",
       "4                                   WRI                 2019.0   \n",
       "\n",
       "   generation_gwh_2015  generation_gwh_2016  generation_gwh_2017  \\\n",
       "0                  NaN                  NaN                  NaN   \n",
       "1                  NaN                  NaN                  NaN   \n",
       "2                  NaN                  NaN                  NaN   \n",
       "3              843.747           886.004428           663.774500   \n",
       "4             5916.370          6243.000000          5385.579736   \n",
       "\n",
       "   generation_gwh_2018         generation_data_source  \n",
       "0                  NaN                            NaN  \n",
       "1                  NaN                            NaN  \n",
       "2                  NaN                            NaN  \n",
       "3           626.239128  Central Electricity Authority  \n",
       "4          7279.000000  Central Electricity Authority  "
      ]
     },
     "execution_count": 21,
     "metadata": {},
     "output_type": "execute_result"
    }
   ],
   "source": [
    "data.head()"
   ]
  },
  {
   "cell_type": "markdown",
   "id": "f8a5b469",
   "metadata": {},
   "source": [
    "lets check the data of oject type and see which data is more required for us or not"
   ]
  },
  {
   "cell_type": "code",
   "execution_count": 26,
   "id": "442060bf",
   "metadata": {},
   "outputs": [
    {
     "data": {
      "text/plain": [
       "<AxesSubplot:xlabel='country', ylabel='count'>"
      ]
     },
     "execution_count": 26,
     "metadata": {},
     "output_type": "execute_result"
    },
    {
     "data": {
      "image/png": "[encoded data removed]",
      "text/plain": [
       "<Figure size 360x216 with 1 Axes>"
      ]
     },
     "metadata": {
      "needs_background": "light"
     },
     "output_type": "display_data"
    }
   ],
   "source": [
    "plt.figure(figsize=(5,3))\n",
    "sns.countplot('country',data=data)"
   ]
  },
  {
   "cell_type": "markdown",
   "id": "ab207e54",
   "metadata": {},
   "source": [
    "as there only one country present in the country columns.."
   ]
  },
  {
   "cell_type": "code",
   "execution_count": 25,
   "id": "5439bd60",
   "metadata": {},
   "outputs": [
    {
     "data": {
      "text/plain": [
       "<AxesSubplot:xlabel='country_long', ylabel='count'>"
      ]
     },
     "execution_count": 25,
     "metadata": {},
     "output_type": "execute_result"
    },
    {
     "data": {
      "image/png": "[encoded data removed]",
      "text/plain": [
       "<Figure size 360x216 with 1 Axes>"
      ]
     },
     "metadata": {
      "needs_background": "light"
     },
     "output_type": "display_data"
    }
   ],
   "source": [
    "plt.figure(figsize=(5,3))\n",
    "sns.countplot('country_long',data=data)"
   ]
  },
  {
   "cell_type": "markdown",
   "id": "130fc438",
   "metadata": {},
   "source": [
    "as the country_long column hve only one data i.e india which is also a object type"
   ]
  },
  {
   "cell_type": "code",
   "execution_count": 28,
   "id": "4414d94a",
   "metadata": {},
   "outputs": [
    {
     "data": {
      "text/plain": [
       "<AxesSubplot:xlabel='primary_fuel', ylabel='count'>"
      ]
     },
     "execution_count": 28,
     "metadata": {},
     "output_type": "execute_result"
    },
    {
     "data": {
      "image/png": "[encoded data removed]",
      "text/plain": [
       "<Figure size 504x360 with 1 Axes>"
      ]
     },
     "metadata": {
      "needs_background": "light"
     },
     "output_type": "display_data"
    }
   ],
   "source": [
    "plt.figure(figsize=(7,5))\n",
    "sns.countplot('primary_fuel',data=data,palette = 'twilight')"
   ]
  },
  {
   "cell_type": "markdown",
   "id": "0e78c507",
   "metadata": {},
   "source": [
    "so clearly graph shows that the Coal and Hydro fuel are the energy source used in primary electricity generation or export"
   ]
  },
  {
   "cell_type": "code",
   "execution_count": 33,
   "id": "fb9a74d1",
   "metadata": {},
   "outputs": [
    {
     "data": {
      "text/plain": [
       "Central Electricity Authority                                  519\n",
       "CDM                                                            124\n",
       "Lancosola                                                       10\n",
       "National Renewable Energy Laboratory                             8\n",
       "National Thermal Power Corporation (NTPC)                        6\n",
       "                                                              ... \n",
       "Harsha Engineers Limited                                         1\n",
       "Godawari Energy ltd                                              1\n",
       "Sunkon Energy Private Limited                                    1\n",
       "West Bengal Energy Development Corporation Limited (WBEDCL)      1\n",
       "Yashwantrao Krishna ssk                                          1\n",
       "Name: source, Length: 191, dtype: int64"
      ]
     },
     "execution_count": 33,
     "metadata": {},
     "output_type": "execute_result"
    }
   ],
   "source": [
    "data['source'].value_counts()"
   ]
  },
  {
   "cell_type": "code",
   "execution_count": 34,
   "id": "7815f262",
   "metadata": {},
   "outputs": [
    {
     "data": {
      "text/plain": [
       "<AxesSubplot:xlabel='geolocation_source', ylabel='count'>"
      ]
     },
     "execution_count": 34,
     "metadata": {},
     "output_type": "execute_result"
    },
    {
     "data": {
      "image/png": "[encoded data removed]",
      "text/plain": [
       "<Figure size 504x360 with 1 Axes>"
      ]
     },
     "metadata": {
      "needs_background": "light"
     },
     "output_type": "display_data"
    }
   ],
   "source": [
    "plt.figure(figsize=(7,5))\n",
    "sns.countplot('geolocation_source',data=data,palette = 'twilight')"
   ]
  },
  {
   "cell_type": "markdown",
   "id": "cd4d91bb",
   "metadata": {},
   "source": [
    "WRI attribute is the most highly goelocation soure "
   ]
  },
  {
   "cell_type": "code",
   "execution_count": 35,
   "id": "6ed00ee1",
   "metadata": {},
   "outputs": [
    {
     "data": {
      "text/plain": [
       "<AxesSubplot:xlabel='generation_data_source', ylabel='count'>"
      ]
     },
     "execution_count": 35,
     "metadata": {},
     "output_type": "execute_result"
    },
    {
     "data": {
      "image/png": "[encoded data removed]",
      "text/plain": [
       "<Figure size 504x360 with 1 Axes>"
      ]
     },
     "metadata": {
      "needs_background": "light"
     },
     "output_type": "display_data"
    }
   ],
   "source": [
    "plt.figure(figsize=(7,5))\n",
    "sns.countplot('generation_data_source',data=data,palette = 'twilight')"
   ]
  },
  {
   "cell_type": "markdown",
   "id": "a3eb7b0f",
   "metadata": {},
   "source": [
    "Central Electricity Authority  is the only authority who generate the information"
   ]
  },
  {
   "cell_type": "markdown",
   "id": "9b90ea6f",
   "metadata": {},
   "source": [
    "so clean some more data "
   ]
  },
  {
   "cell_type": "code",
   "execution_count": 36,
   "id": "dfbe3ace",
   "metadata": {},
   "outputs": [
    {
     "data": {
      "text/html": [
       "<div>\n",
       "<style scoped>\n",
       "    .dataframe tbody tr th:only-of-type {\n",
       "        vertical-align: middle;\n",
       "    }\n",
       "\n",
       "    .dataframe tbody tr th {\n",
       "        vertical-align: top;\n",
       "    }\n",
       "\n",
       "    .dataframe thead th {\n",
       "        text-align: right;\n",
       "    }\n",
       "</style>\n",
       "<table border=\"1\" class=\"dataframe\">\n",
       "  <thead>\n",
       "    <tr style=\"text-align: right;\">\n",
       "      <th></th>\n",
       "      <th>name</th>\n",
       "      <th>capacity_mw</th>\n",
       "      <th>latitude</th>\n",
       "      <th>longitude</th>\n",
       "      <th>primary_fuel</th>\n",
       "      <th>commissioning_year</th>\n",
       "      <th>source</th>\n",
       "      <th>url</th>\n",
       "      <th>geolocation_source</th>\n",
       "      <th>year_of_capacity_data</th>\n",
       "      <th>generation_gwh_2015</th>\n",
       "      <th>generation_gwh_2016</th>\n",
       "      <th>generation_gwh_2017</th>\n",
       "      <th>generation_gwh_2018</th>\n",
       "    </tr>\n",
       "  </thead>\n",
       "  <tbody>\n",
       "    <tr>\n",
       "      <th>0</th>\n",
       "      <td>ACME Solar Tower</td>\n",
       "      <td>2.5</td>\n",
       "      <td>28.1839</td>\n",
       "      <td>73.2407</td>\n",
       "      <td>Solar</td>\n",
       "      <td>2011.0</td>\n",
       "      <td>National Renewable Energy Laboratory</td>\n",
       "      <td>http://www.nrel.gov/csp/solarpaces/project_det...</td>\n",
       "      <td>National Renewable Energy Laboratory</td>\n",
       "      <td>NaN</td>\n",
       "      <td>NaN</td>\n",
       "      <td>NaN</td>\n",
       "      <td>NaN</td>\n",
       "      <td>NaN</td>\n",
       "    </tr>\n",
       "    <tr>\n",
       "      <th>1</th>\n",
       "      <td>ADITYA CEMENT WORKS</td>\n",
       "      <td>98.0</td>\n",
       "      <td>24.7663</td>\n",
       "      <td>74.6090</td>\n",
       "      <td>Coal</td>\n",
       "      <td>NaN</td>\n",
       "      <td>Ultratech Cement ltd</td>\n",
       "      <td>http://www.ultratechcement.com/</td>\n",
       "      <td>WRI</td>\n",
       "      <td>NaN</td>\n",
       "      <td>NaN</td>\n",
       "      <td>NaN</td>\n",
       "      <td>NaN</td>\n",
       "      <td>NaN</td>\n",
       "    </tr>\n",
       "    <tr>\n",
       "      <th>2</th>\n",
       "      <td>AES Saurashtra Windfarms</td>\n",
       "      <td>39.2</td>\n",
       "      <td>21.9038</td>\n",
       "      <td>69.3732</td>\n",
       "      <td>Wind</td>\n",
       "      <td>NaN</td>\n",
       "      <td>CDM</td>\n",
       "      <td>https://cdm.unfccc.int/Projects/DB/DNV-CUK1328...</td>\n",
       "      <td>WRI</td>\n",
       "      <td>NaN</td>\n",
       "      <td>NaN</td>\n",
       "      <td>NaN</td>\n",
       "      <td>NaN</td>\n",
       "      <td>NaN</td>\n",
       "    </tr>\n",
       "    <tr>\n",
       "      <th>3</th>\n",
       "      <td>AGARTALA GT</td>\n",
       "      <td>135.0</td>\n",
       "      <td>23.8712</td>\n",
       "      <td>91.3602</td>\n",
       "      <td>Gas</td>\n",
       "      <td>2004.0</td>\n",
       "      <td>Central Electricity Authority</td>\n",
       "      <td>http://www.cea.nic.in/</td>\n",
       "      <td>WRI</td>\n",
       "      <td>2019.0</td>\n",
       "      <td>843.747</td>\n",
       "      <td>886.004428</td>\n",
       "      <td>663.774500</td>\n",
       "      <td>626.239128</td>\n",
       "    </tr>\n",
       "    <tr>\n",
       "      <th>4</th>\n",
       "      <td>AKALTARA TPP</td>\n",
       "      <td>1800.0</td>\n",
       "      <td>21.9603</td>\n",
       "      <td>82.4091</td>\n",
       "      <td>Coal</td>\n",
       "      <td>2015.0</td>\n",
       "      <td>Central Electricity Authority</td>\n",
       "      <td>http://www.cea.nic.in/</td>\n",
       "      <td>WRI</td>\n",
       "      <td>2019.0</td>\n",
       "      <td>5916.370</td>\n",
       "      <td>6243.000000</td>\n",
       "      <td>5385.579736</td>\n",
       "      <td>7279.000000</td>\n",
       "    </tr>\n",
       "  </tbody>\n",
       "</table>\n",
       "</div>"
      ],
      "text/plain": [
       "                       name  capacity_mw  latitude  longitude primary_fuel  \\\n",
       "0          ACME Solar Tower          2.5   28.1839    73.2407        Solar   \n",
       "1       ADITYA CEMENT WORKS         98.0   24.7663    74.6090         Coal   \n",
       "2  AES Saurashtra Windfarms         39.2   21.9038    69.3732         Wind   \n",
       "3               AGARTALA GT        135.0   23.8712    91.3602          Gas   \n",
       "4              AKALTARA TPP       1800.0   21.9603    82.4091         Coal   \n",
       "\n",
       "   commissioning_year                                source  \\\n",
       "0              2011.0  National Renewable Energy Laboratory   \n",
       "1                 NaN                  Ultratech Cement ltd   \n",
       "2                 NaN                                   CDM   \n",
       "3              2004.0         Central Electricity Authority   \n",
       "4              2015.0         Central Electricity Authority   \n",
       "\n",
       "                                                 url  \\\n",
       "0  http://www.nrel.gov/csp/solarpaces/project_det...   \n",
       "1                    http://www.ultratechcement.com/   \n",
       "2  https://cdm.unfccc.int/Projects/DB/DNV-CUK1328...   \n",
       "3                             http://www.cea.nic.in/   \n",
       "4                             http://www.cea.nic.in/   \n",
       "\n",
       "                     geolocation_source  year_of_capacity_data  \\\n",
       "0  National Renewable Energy Laboratory                    NaN   \n",
       "1                                   WRI                    NaN   \n",
       "2                                   WRI                    NaN   \n",
       "3                                   WRI                 2019.0   \n",
       "4                                   WRI                 2019.0   \n",
       "\n",
       "   generation_gwh_2015  generation_gwh_2016  generation_gwh_2017  \\\n",
       "0                  NaN                  NaN                  NaN   \n",
       "1                  NaN                  NaN                  NaN   \n",
       "2                  NaN                  NaN                  NaN   \n",
       "3              843.747           886.004428           663.774500   \n",
       "4             5916.370          6243.000000          5385.579736   \n",
       "\n",
       "   generation_gwh_2018  \n",
       "0                  NaN  \n",
       "1                  NaN  \n",
       "2                  NaN  \n",
       "3           626.239128  \n",
       "4          7279.000000  "
      ]
     },
     "execution_count": 36,
     "metadata": {},
     "output_type": "execute_result"
    }
   ],
   "source": [
    "data = data.drop(['country','country_long','owner','generation_data_source','gppd_idnr'],axis=1)\n",
    "data.head()"
   ]
  },
  {
   "cell_type": "code",
   "execution_count": 38,
   "id": "6b64cce7",
   "metadata": {},
   "outputs": [],
   "source": [
    "data = data.drop(['url'],axis=1)"
   ]
  },
  {
   "cell_type": "code",
   "execution_count": 39,
   "id": "0701bef7",
   "metadata": {},
   "outputs": [
    {
     "data": {
      "text/plain": [
       "(907, 13)"
      ]
     },
     "execution_count": 39,
     "metadata": {},
     "output_type": "execute_result"
    }
   ],
   "source": [
    "data.shape"
   ]
  },
  {
   "cell_type": "code",
   "execution_count": 42,
   "id": "90323720",
   "metadata": {},
   "outputs": [
    {
     "data": {
      "text/plain": [
       "<AxesSubplot:xlabel='capacity_mw'>"
      ]
     },
     "execution_count": 42,
     "metadata": {},
     "output_type": "execute_result"
    },
    {
     "data": {
      "image/png": "[encoded data removed]",
      "text/plain": [
       "<Figure size 1080x864 with 1 Axes>"
      ]
     },
     "metadata": {
      "needs_background": "light"
     },
     "output_type": "display_data"
    }
   ],
   "source": [
    "plt.figure(figsize=(15,12))\n",
    "sns.boxplot(x='capacity_mw',data=data)"
   ]
  },
  {
   "cell_type": "markdown",
   "id": "fdc2d299",
   "metadata": {},
   "source": [
    "there are max no of data which looks like outliers but the data is the generating capacity of the plant"
   ]
  },
  {
   "cell_type": "code",
   "execution_count": 45,
   "id": "3130f909",
   "metadata": {},
   "outputs": [
    {
     "data": {
      "text/plain": [
       "<AxesSubplot:xlabel='latitude'>"
      ]
     },
     "execution_count": 45,
     "metadata": {},
     "output_type": "execute_result"
    },
    {
     "data": {
      "image/png": "[encoded data removed]",
      "text/plain": [
       "<Figure size 504x360 with 1 Axes>"
      ]
     },
     "metadata": {
      "needs_background": "light"
     },
     "output_type": "display_data"
    }
   ],
   "source": [
    "plt.figure(figsize=(7,5))\n",
    "sns.boxplot(x='latitude',data=data)"
   ]
  },
  {
   "cell_type": "markdown",
   "id": "e28296e5",
   "metadata": {},
   "source": [
    "latitudes data looks good and the max data are in the range btwn 16 to 27m"
   ]
  },
  {
   "cell_type": "code",
   "execution_count": 47,
   "id": "1a87db1a",
   "metadata": {},
   "outputs": [
    {
     "data": {
      "text/plain": [
       "<AxesSubplot:xlabel='longitude'>"
      ]
     },
     "execution_count": 47,
     "metadata": {},
     "output_type": "execute_result"
    },
    {
     "data": {
      "image/png": "[encoded data removed]",
      "text/plain": [
       "<Figure size 504x360 with 1 Axes>"
      ]
     },
     "metadata": {
      "needs_background": "light"
     },
     "output_type": "display_data"
    }
   ],
   "source": [
    "plt.figure(figsize=(7,5))\n",
    "sns.boxplot(x='longitude',data=data)"
   ]
  },
  {
   "cell_type": "markdown",
   "id": "4b3bac4f",
   "metadata": {},
   "source": [
    "migght some outliers present in the longitude data"
   ]
  },
  {
   "cell_type": "code",
   "execution_count": 50,
   "id": "5f1598cd",
   "metadata": {},
   "outputs": [
    {
     "data": {
      "text/plain": [
       "<AxesSubplot:xlabel='commissioning_year'>"
      ]
     },
     "execution_count": 50,
     "metadata": {},
     "output_type": "execute_result"
    },
    {
     "data": {
      "image/png": "[encoded data removed]",
      "text/plain": [
       "<Figure size 720x576 with 1 Axes>"
      ]
     },
     "metadata": {
      "needs_background": "light"
     },
     "output_type": "display_data"
    }
   ],
   "source": [
    "plt.figure(figsize=(10,8))\n",
    "sns.stripplot(x='commissioning_year',data=data)"
   ]
  },
  {
   "cell_type": "markdown",
   "id": "f74e17c0",
   "metadata": {},
   "source": [
    "most no of plants operation in between 2000-2020 years"
   ]
  },
  {
   "cell_type": "code",
   "execution_count": 51,
   "id": "c0b21d4d",
   "metadata": {},
   "outputs": [
    {
     "data": {
      "text/plain": [
       "WRI                                     765\n",
       "Industry About                          119\n",
       "National Renewable Energy Laboratory      4\n",
       "Name: geolocation_source, dtype: int64"
      ]
     },
     "execution_count": 51,
     "metadata": {},
     "output_type": "execute_result"
    }
   ],
   "source": [
    "data['geolocation_source'].value_counts()"
   ]
  },
  {
   "cell_type": "code",
   "execution_count": 52,
   "id": "cba85c97",
   "metadata": {},
   "outputs": [
    {
     "data": {
      "text/plain": [
       "2019.0    519\n",
       "Name: year_of_capacity_data, dtype: int64"
      ]
     },
     "execution_count": 52,
     "metadata": {},
     "output_type": "execute_result"
    }
   ],
   "source": [
    "data['year_of_capacity_data'].value_counts()"
   ]
  },
  {
   "cell_type": "code",
   "execution_count": 53,
   "id": "5e4759dc",
   "metadata": {},
   "outputs": [
    {
     "data": {
      "text/html": [
       "<div>\n",
       "<style scoped>\n",
       "    .dataframe tbody tr th:only-of-type {\n",
       "        vertical-align: middle;\n",
       "    }\n",
       "\n",
       "    .dataframe tbody tr th {\n",
       "        vertical-align: top;\n",
       "    }\n",
       "\n",
       "    .dataframe thead th {\n",
       "        text-align: right;\n",
       "    }\n",
       "</style>\n",
       "<table border=\"1\" class=\"dataframe\">\n",
       "  <thead>\n",
       "    <tr style=\"text-align: right;\">\n",
       "      <th></th>\n",
       "      <th>capacity_mw</th>\n",
       "      <th>latitude</th>\n",
       "      <th>longitude</th>\n",
       "      <th>commissioning_year</th>\n",
       "      <th>year_of_capacity_data</th>\n",
       "      <th>generation_gwh_2015</th>\n",
       "      <th>generation_gwh_2016</th>\n",
       "      <th>generation_gwh_2017</th>\n",
       "      <th>generation_gwh_2018</th>\n",
       "    </tr>\n",
       "  </thead>\n",
       "  <tbody>\n",
       "    <tr>\n",
       "      <th>count</th>\n",
       "      <td>907.000000</td>\n",
       "      <td>861.000000</td>\n",
       "      <td>861.000000</td>\n",
       "      <td>527.000000</td>\n",
       "      <td>519.0</td>\n",
       "      <td>422.000000</td>\n",
       "      <td>434.000000</td>\n",
       "      <td>440.000000</td>\n",
       "      <td>448.000000</td>\n",
       "    </tr>\n",
       "    <tr>\n",
       "      <th>mean</th>\n",
       "      <td>326.223755</td>\n",
       "      <td>21.197918</td>\n",
       "      <td>77.464907</td>\n",
       "      <td>1997.091082</td>\n",
       "      <td>2019.0</td>\n",
       "      <td>2428.226946</td>\n",
       "      <td>2467.936859</td>\n",
       "      <td>2547.759305</td>\n",
       "      <td>2600.804099</td>\n",
       "    </tr>\n",
       "    <tr>\n",
       "      <th>std</th>\n",
       "      <td>590.085456</td>\n",
       "      <td>6.239612</td>\n",
       "      <td>4.939316</td>\n",
       "      <td>17.082868</td>\n",
       "      <td>0.0</td>\n",
       "      <td>4194.596959</td>\n",
       "      <td>4162.884308</td>\n",
       "      <td>4196.991169</td>\n",
       "      <td>4314.880456</td>\n",
       "    </tr>\n",
       "    <tr>\n",
       "      <th>min</th>\n",
       "      <td>0.000000</td>\n",
       "      <td>8.168900</td>\n",
       "      <td>68.644700</td>\n",
       "      <td>1927.000000</td>\n",
       "      <td>2019.0</td>\n",
       "      <td>0.000000</td>\n",
       "      <td>0.000000</td>\n",
       "      <td>0.000000</td>\n",
       "      <td>0.000000</td>\n",
       "    </tr>\n",
       "    <tr>\n",
       "      <th>25%</th>\n",
       "      <td>16.725000</td>\n",
       "      <td>16.773900</td>\n",
       "      <td>74.256200</td>\n",
       "      <td>1988.000000</td>\n",
       "      <td>2019.0</td>\n",
       "      <td>176.381063</td>\n",
       "      <td>188.285252</td>\n",
       "      <td>177.874930</td>\n",
       "      <td>193.378250</td>\n",
       "    </tr>\n",
       "    <tr>\n",
       "      <th>50%</th>\n",
       "      <td>59.200000</td>\n",
       "      <td>21.780000</td>\n",
       "      <td>76.719500</td>\n",
       "      <td>2001.000000</td>\n",
       "      <td>2019.0</td>\n",
       "      <td>711.181225</td>\n",
       "      <td>737.205450</td>\n",
       "      <td>817.977250</td>\n",
       "      <td>751.644375</td>\n",
       "    </tr>\n",
       "    <tr>\n",
       "      <th>75%</th>\n",
       "      <td>385.250000</td>\n",
       "      <td>25.512400</td>\n",
       "      <td>79.440800</td>\n",
       "      <td>2012.000000</td>\n",
       "      <td>2019.0</td>\n",
       "      <td>3084.121250</td>\n",
       "      <td>3282.861313</td>\n",
       "      <td>3275.690475</td>\n",
       "      <td>3143.535900</td>\n",
       "    </tr>\n",
       "    <tr>\n",
       "      <th>max</th>\n",
       "      <td>4760.000000</td>\n",
       "      <td>34.649000</td>\n",
       "      <td>95.408000</td>\n",
       "      <td>2018.000000</td>\n",
       "      <td>2019.0</td>\n",
       "      <td>30539.000000</td>\n",
       "      <td>30015.000000</td>\n",
       "      <td>35116.000000</td>\n",
       "      <td>35136.000000</td>\n",
       "    </tr>\n",
       "  </tbody>\n",
       "</table>\n",
       "</div>"
      ],
      "text/plain": [
       "       capacity_mw    latitude   longitude  commissioning_year  \\\n",
       "count   907.000000  861.000000  861.000000          527.000000   \n",
       "mean    326.223755   21.197918   77.464907         1997.091082   \n",
       "std     590.085456    6.239612    4.939316           17.082868   \n",
       "min       0.000000    8.168900   68.644700         1927.000000   \n",
       "25%      16.725000   16.773900   74.256200         1988.000000   \n",
       "50%      59.200000   21.780000   76.719500         2001.000000   \n",
       "75%     385.250000   25.512400   79.440800         2012.000000   \n",
       "max    4760.000000   34.649000   95.408000         2018.000000   \n",
       "\n",
       "       year_of_capacity_data  generation_gwh_2015  generation_gwh_2016  \\\n",
       "count                  519.0           422.000000           434.000000   \n",
       "mean                  2019.0          2428.226946          2467.936859   \n",
       "std                      0.0          4194.596959          4162.884308   \n",
       "min                   2019.0             0.000000             0.000000   \n",
       "25%                   2019.0           176.381063           188.285252   \n",
       "50%                   2019.0           711.181225           737.205450   \n",
       "75%                   2019.0          3084.121250          3282.861313   \n",
       "max                   2019.0         30539.000000         30015.000000   \n",
       "\n",
       "       generation_gwh_2017  generation_gwh_2018  \n",
       "count           440.000000           448.000000  \n",
       "mean           2547.759305          2600.804099  \n",
       "std            4196.991169          4314.880456  \n",
       "min               0.000000             0.000000  \n",
       "25%             177.874930           193.378250  \n",
       "50%             817.977250           751.644375  \n",
       "75%            3275.690475          3143.535900  \n",
       "max           35116.000000         35136.000000  "
      ]
     },
     "execution_count": 53,
     "metadata": {},
     "output_type": "execute_result"
    }
   ],
   "source": [
    "data.describe()"
   ]
  },
  {
   "cell_type": "code",
   "execution_count": 54,
   "id": "7794d44d",
   "metadata": {},
   "outputs": [],
   "source": [
    "from sklearn.preprocessing import LabelEncoder"
   ]
  },
  {
   "cell_type": "code",
   "execution_count": 55,
   "id": "9f15bc5a",
   "metadata": {},
   "outputs": [
    {
     "data": {
      "text/html": [
       "<div>\n",
       "<style scoped>\n",
       "    .dataframe tbody tr th:only-of-type {\n",
       "        vertical-align: middle;\n",
       "    }\n",
       "\n",
       "    .dataframe tbody tr th {\n",
       "        vertical-align: top;\n",
       "    }\n",
       "\n",
       "    .dataframe thead th {\n",
       "        text-align: right;\n",
       "    }\n",
       "</style>\n",
       "<table border=\"1\" class=\"dataframe\">\n",
       "  <thead>\n",
       "    <tr style=\"text-align: right;\">\n",
       "      <th></th>\n",
       "      <th>name</th>\n",
       "      <th>capacity_mw</th>\n",
       "      <th>latitude</th>\n",
       "      <th>longitude</th>\n",
       "      <th>primary_fuel</th>\n",
       "      <th>commissioning_year</th>\n",
       "      <th>source</th>\n",
       "      <th>geolocation_source</th>\n",
       "      <th>year_of_capacity_data</th>\n",
       "      <th>generation_gwh_2015</th>\n",
       "      <th>generation_gwh_2016</th>\n",
       "      <th>generation_gwh_2017</th>\n",
       "      <th>generation_gwh_2018</th>\n",
       "    </tr>\n",
       "  </thead>\n",
       "  <tbody>\n",
       "    <tr>\n",
       "      <th>0</th>\n",
       "      <td>ACME Solar Tower</td>\n",
       "      <td>2.5</td>\n",
       "      <td>28.1839</td>\n",
       "      <td>73.2407</td>\n",
       "      <td>Solar</td>\n",
       "      <td>2011.0</td>\n",
       "      <td>National Renewable Energy Laboratory</td>\n",
       "      <td>National Renewable Energy Laboratory</td>\n",
       "      <td>NaN</td>\n",
       "      <td>NaN</td>\n",
       "      <td>NaN</td>\n",
       "      <td>NaN</td>\n",
       "      <td>NaN</td>\n",
       "    </tr>\n",
       "    <tr>\n",
       "      <th>1</th>\n",
       "      <td>ADITYA CEMENT WORKS</td>\n",
       "      <td>98.0</td>\n",
       "      <td>24.7663</td>\n",
       "      <td>74.6090</td>\n",
       "      <td>Coal</td>\n",
       "      <td>NaN</td>\n",
       "      <td>Ultratech Cement ltd</td>\n",
       "      <td>WRI</td>\n",
       "      <td>NaN</td>\n",
       "      <td>NaN</td>\n",
       "      <td>NaN</td>\n",
       "      <td>NaN</td>\n",
       "      <td>NaN</td>\n",
       "    </tr>\n",
       "    <tr>\n",
       "      <th>2</th>\n",
       "      <td>AES Saurashtra Windfarms</td>\n",
       "      <td>39.2</td>\n",
       "      <td>21.9038</td>\n",
       "      <td>69.3732</td>\n",
       "      <td>Wind</td>\n",
       "      <td>NaN</td>\n",
       "      <td>CDM</td>\n",
       "      <td>WRI</td>\n",
       "      <td>NaN</td>\n",
       "      <td>NaN</td>\n",
       "      <td>NaN</td>\n",
       "      <td>NaN</td>\n",
       "      <td>NaN</td>\n",
       "    </tr>\n",
       "    <tr>\n",
       "      <th>3</th>\n",
       "      <td>AGARTALA GT</td>\n",
       "      <td>135.0</td>\n",
       "      <td>23.8712</td>\n",
       "      <td>91.3602</td>\n",
       "      <td>Gas</td>\n",
       "      <td>2004.0</td>\n",
       "      <td>Central Electricity Authority</td>\n",
       "      <td>WRI</td>\n",
       "      <td>2019.0</td>\n",
       "      <td>843.747</td>\n",
       "      <td>886.004428</td>\n",
       "      <td>663.774500</td>\n",
       "      <td>626.239128</td>\n",
       "    </tr>\n",
       "    <tr>\n",
       "      <th>4</th>\n",
       "      <td>AKALTARA TPP</td>\n",
       "      <td>1800.0</td>\n",
       "      <td>21.9603</td>\n",
       "      <td>82.4091</td>\n",
       "      <td>Coal</td>\n",
       "      <td>2015.0</td>\n",
       "      <td>Central Electricity Authority</td>\n",
       "      <td>WRI</td>\n",
       "      <td>2019.0</td>\n",
       "      <td>5916.370</td>\n",
       "      <td>6243.000000</td>\n",
       "      <td>5385.579736</td>\n",
       "      <td>7279.000000</td>\n",
       "    </tr>\n",
       "  </tbody>\n",
       "</table>\n",
       "</div>"
      ],
      "text/plain": [
       "                       name  capacity_mw  latitude  longitude primary_fuel  \\\n",
       "0          ACME Solar Tower          2.5   28.1839    73.2407        Solar   \n",
       "1       ADITYA CEMENT WORKS         98.0   24.7663    74.6090         Coal   \n",
       "2  AES Saurashtra Windfarms         39.2   21.9038    69.3732         Wind   \n",
       "3               AGARTALA GT        135.0   23.8712    91.3602          Gas   \n",
       "4              AKALTARA TPP       1800.0   21.9603    82.4091         Coal   \n",
       "\n",
       "   commissioning_year                                source  \\\n",
       "0              2011.0  National Renewable Energy Laboratory   \n",
       "1                 NaN                  Ultratech Cement ltd   \n",
       "2                 NaN                                   CDM   \n",
       "3              2004.0         Central Electricity Authority   \n",
       "4              2015.0         Central Electricity Authority   \n",
       "\n",
       "                     geolocation_source  year_of_capacity_data  \\\n",
       "0  National Renewable Energy Laboratory                    NaN   \n",
       "1                                   WRI                    NaN   \n",
       "2                                   WRI                    NaN   \n",
       "3                                   WRI                 2019.0   \n",
       "4                                   WRI                 2019.0   \n",
       "\n",
       "   generation_gwh_2015  generation_gwh_2016  generation_gwh_2017  \\\n",
       "0                  NaN                  NaN                  NaN   \n",
       "1                  NaN                  NaN                  NaN   \n",
       "2                  NaN                  NaN                  NaN   \n",
       "3              843.747           886.004428           663.774500   \n",
       "4             5916.370          6243.000000          5385.579736   \n",
       "\n",
       "   generation_gwh_2018  \n",
       "0                  NaN  \n",
       "1                  NaN  \n",
       "2                  NaN  \n",
       "3           626.239128  \n",
       "4          7279.000000  "
      ]
     },
     "execution_count": 55,
     "metadata": {},
     "output_type": "execute_result"
    }
   ],
   "source": [
    "data.head()"
   ]
  },
  {
   "cell_type": "code",
   "execution_count": 56,
   "id": "88093789",
   "metadata": {},
   "outputs": [],
   "source": [
    "le = LabelEncoder()\n",
    "var_mode = ['name','primary_fuel','source','geolocation_source',]\n",
    "\n",
    "for i in var_mode:\n",
    "    data[i] = le.fit_transform(data[i])"
   ]
  },
  {
   "cell_type": "code",
   "execution_count": 57,
   "id": "fa1cb688",
   "metadata": {},
   "outputs": [
    {
     "data": {
      "text/html": [
       "<div>\n",
       "<style scoped>\n",
       "    .dataframe tbody tr th:only-of-type {\n",
       "        vertical-align: middle;\n",
       "    }\n",
       "\n",
       "    .dataframe tbody tr th {\n",
       "        vertical-align: top;\n",
       "    }\n",
       "\n",
       "    .dataframe thead th {\n",
       "        text-align: right;\n",
       "    }\n",
       "</style>\n",
       "<table border=\"1\" class=\"dataframe\">\n",
       "  <thead>\n",
       "    <tr style=\"text-align: right;\">\n",
       "      <th></th>\n",
       "      <th>name</th>\n",
       "      <th>capacity_mw</th>\n",
       "      <th>latitude</th>\n",
       "      <th>longitude</th>\n",
       "      <th>primary_fuel</th>\n",
       "      <th>commissioning_year</th>\n",
       "      <th>source</th>\n",
       "      <th>geolocation_source</th>\n",
       "      <th>year_of_capacity_data</th>\n",
       "      <th>generation_gwh_2015</th>\n",
       "      <th>generation_gwh_2016</th>\n",
       "      <th>generation_gwh_2017</th>\n",
       "      <th>generation_gwh_2018</th>\n",
       "    </tr>\n",
       "  </thead>\n",
       "  <tbody>\n",
       "    <tr>\n",
       "      <th>0</th>\n",
       "      <td>0</td>\n",
       "      <td>2.5</td>\n",
       "      <td>28.1839</td>\n",
       "      <td>73.2407</td>\n",
       "      <td>6</td>\n",
       "      <td>2011.0</td>\n",
       "      <td>109</td>\n",
       "      <td>1</td>\n",
       "      <td>NaN</td>\n",
       "      <td>NaN</td>\n",
       "      <td>NaN</td>\n",
       "      <td>NaN</td>\n",
       "      <td>NaN</td>\n",
       "    </tr>\n",
       "    <tr>\n",
       "      <th>1</th>\n",
       "      <td>1</td>\n",
       "      <td>98.0</td>\n",
       "      <td>24.7663</td>\n",
       "      <td>74.6090</td>\n",
       "      <td>1</td>\n",
       "      <td>NaN</td>\n",
       "      <td>174</td>\n",
       "      <td>2</td>\n",
       "      <td>NaN</td>\n",
       "      <td>NaN</td>\n",
       "      <td>NaN</td>\n",
       "      <td>NaN</td>\n",
       "      <td>NaN</td>\n",
       "    </tr>\n",
       "    <tr>\n",
       "      <th>2</th>\n",
       "      <td>2</td>\n",
       "      <td>39.2</td>\n",
       "      <td>21.9038</td>\n",
       "      <td>69.3732</td>\n",
       "      <td>7</td>\n",
       "      <td>NaN</td>\n",
       "      <td>21</td>\n",
       "      <td>2</td>\n",
       "      <td>NaN</td>\n",
       "      <td>NaN</td>\n",
       "      <td>NaN</td>\n",
       "      <td>NaN</td>\n",
       "      <td>NaN</td>\n",
       "    </tr>\n",
       "    <tr>\n",
       "      <th>3</th>\n",
       "      <td>3</td>\n",
       "      <td>135.0</td>\n",
       "      <td>23.8712</td>\n",
       "      <td>91.3602</td>\n",
       "      <td>2</td>\n",
       "      <td>2004.0</td>\n",
       "      <td>22</td>\n",
       "      <td>2</td>\n",
       "      <td>2019.0</td>\n",
       "      <td>843.747</td>\n",
       "      <td>886.004428</td>\n",
       "      <td>663.774500</td>\n",
       "      <td>626.239128</td>\n",
       "    </tr>\n",
       "    <tr>\n",
       "      <th>4</th>\n",
       "      <td>4</td>\n",
       "      <td>1800.0</td>\n",
       "      <td>21.9603</td>\n",
       "      <td>82.4091</td>\n",
       "      <td>1</td>\n",
       "      <td>2015.0</td>\n",
       "      <td>22</td>\n",
       "      <td>2</td>\n",
       "      <td>2019.0</td>\n",
       "      <td>5916.370</td>\n",
       "      <td>6243.000000</td>\n",
       "      <td>5385.579736</td>\n",
       "      <td>7279.000000</td>\n",
       "    </tr>\n",
       "  </tbody>\n",
       "</table>\n",
       "</div>"
      ],
      "text/plain": [
       "   name  capacity_mw  latitude  longitude  primary_fuel  commissioning_year  \\\n",
       "0     0          2.5   28.1839    73.2407             6              2011.0   \n",
       "1     1         98.0   24.7663    74.6090             1                 NaN   \n",
       "2     2         39.2   21.9038    69.3732             7                 NaN   \n",
       "3     3        135.0   23.8712    91.3602             2              2004.0   \n",
       "4     4       1800.0   21.9603    82.4091             1              2015.0   \n",
       "\n",
       "   source  geolocation_source  year_of_capacity_data  generation_gwh_2015  \\\n",
       "0     109                   1                    NaN                  NaN   \n",
       "1     174                   2                    NaN                  NaN   \n",
       "2      21                   2                    NaN                  NaN   \n",
       "3      22                   2                 2019.0              843.747   \n",
       "4      22                   2                 2019.0             5916.370   \n",
       "\n",
       "   generation_gwh_2016  generation_gwh_2017  generation_gwh_2018  \n",
       "0                  NaN                  NaN                  NaN  \n",
       "1                  NaN                  NaN                  NaN  \n",
       "2                  NaN                  NaN                  NaN  \n",
       "3           886.004428           663.774500           626.239128  \n",
       "4          6243.000000          5385.579736          7279.000000  "
      ]
     },
     "execution_count": 57,
     "metadata": {},
     "output_type": "execute_result"
    }
   ],
   "source": [
    "data.head()"
   ]
  },
  {
   "cell_type": "code",
   "execution_count": 63,
   "id": "eaacddd8",
   "metadata": {},
   "outputs": [
    {
     "data": {
      "text/plain": [
       "2015.0    28\n",
       "2013.0    25\n",
       "2012.0    23\n",
       "2016.0    19\n",
       "2010.0    18\n",
       "          ..\n",
       "1946.0     1\n",
       "1956.0     1\n",
       "1937.0     1\n",
       "1949.0     1\n",
       "1953.0     1\n",
       "Name: commissioning_year, Length: 73, dtype: int64"
      ]
     },
     "execution_count": 63,
     "metadata": {},
     "output_type": "execute_result"
    }
   ],
   "source": [
    "data['commissioning_year'].value_counts()"
   ]
  },
  {
   "cell_type": "code",
   "execution_count": 58,
   "id": "d359e563",
   "metadata": {
    "scrolled": true
   },
   "outputs": [
    {
     "data": {
      "text/plain": [
       "name                       0\n",
       "capacity_mw                0\n",
       "latitude                  46\n",
       "longitude                 46\n",
       "primary_fuel               0\n",
       "commissioning_year       380\n",
       "source                     0\n",
       "geolocation_source         0\n",
       "year_of_capacity_data    388\n",
       "generation_gwh_2015      485\n",
       "generation_gwh_2016      473\n",
       "generation_gwh_2017      467\n",
       "generation_gwh_2018      459\n",
       "dtype: int64"
      ]
     },
     "execution_count": 58,
     "metadata": {},
     "output_type": "execute_result"
    }
   ],
   "source": [
    "data.isnull().sum()"
   ]
  },
  {
   "cell_type": "markdown",
   "id": "4565c439",
   "metadata": {},
   "source": [
    "now fill the nan"
   ]
  },
  {
   "cell_type": "code",
   "execution_count": 60,
   "id": "e01bbd58",
   "metadata": {},
   "outputs": [],
   "source": [
    "data['latitude'] = data['latitude'].fillna(data['latitude'].mean())"
   ]
  },
  {
   "cell_type": "code",
   "execution_count": 62,
   "id": "2da2e8c5",
   "metadata": {},
   "outputs": [],
   "source": [
    "data['longitude'] = data['longitude'].fillna(data['longitude'].mean())"
   ]
  },
  {
   "cell_type": "code",
   "execution_count": 64,
   "id": "861ef23e",
   "metadata": {},
   "outputs": [],
   "source": [
    "data['commissioning_year'] = data['commissioning_year'].fillna(data['commissioning_year'].mean())"
   ]
  },
  {
   "cell_type": "code",
   "execution_count": 65,
   "id": "121010fc",
   "metadata": {},
   "outputs": [],
   "source": [
    "data['year_of_capacity_data'] = data['year_of_capacity_data'].fillna(2019)"
   ]
  },
  {
   "cell_type": "code",
   "execution_count": 66,
   "id": "782c0653",
   "metadata": {},
   "outputs": [
    {
     "data": {
      "text/plain": [
       "2019.0    907\n",
       "Name: year_of_capacity_data, dtype: int64"
      ]
     },
     "execution_count": 66,
     "metadata": {},
     "output_type": "execute_result"
    }
   ],
   "source": [
    "data['year_of_capacity_data'].value_counts()"
   ]
  },
  {
   "cell_type": "code",
   "execution_count": 70,
   "id": "74dc8539",
   "metadata": {},
   "outputs": [
    {
     "data": {
      "text/plain": [
       "name                       0\n",
       "capacity_mw                0\n",
       "latitude                   0\n",
       "longitude                  0\n",
       "primary_fuel               0\n",
       "commissioning_year         0\n",
       "source                     0\n",
       "geolocation_source         0\n",
       "year_of_capacity_data      0\n",
       "generation_gwh_2015      485\n",
       "generation_gwh_2016      473\n",
       "generation_gwh_2017      467\n",
       "generation_gwh_2018      459\n",
       "dtype: int64"
      ]
     },
     "execution_count": 70,
     "metadata": {},
     "output_type": "execute_result"
    }
   ],
   "source": [
    "data.isnull().sum()"
   ]
  },
  {
   "cell_type": "markdown",
   "id": "4ee27469",
   "metadata": {},
   "source": [
    "first we chk the correlation between thesw variables"
   ]
  },
  {
   "cell_type": "code",
   "execution_count": 71,
   "id": "6f56474e",
   "metadata": {},
   "outputs": [
    {
     "data": {
      "text/html": [
       "<div>\n",
       "<style scoped>\n",
       "    .dataframe tbody tr th:only-of-type {\n",
       "        vertical-align: middle;\n",
       "    }\n",
       "\n",
       "    .dataframe tbody tr th {\n",
       "        vertical-align: top;\n",
       "    }\n",
       "\n",
       "    .dataframe thead th {\n",
       "        text-align: right;\n",
       "    }\n",
       "</style>\n",
       "<table border=\"1\" class=\"dataframe\">\n",
       "  <thead>\n",
       "    <tr style=\"text-align: right;\">\n",
       "      <th></th>\n",
       "      <th>name</th>\n",
       "      <th>capacity_mw</th>\n",
       "      <th>latitude</th>\n",
       "      <th>longitude</th>\n",
       "      <th>primary_fuel</th>\n",
       "      <th>commissioning_year</th>\n",
       "      <th>source</th>\n",
       "      <th>geolocation_source</th>\n",
       "      <th>year_of_capacity_data</th>\n",
       "      <th>generation_gwh_2015</th>\n",
       "      <th>generation_gwh_2016</th>\n",
       "      <th>generation_gwh_2017</th>\n",
       "      <th>generation_gwh_2018</th>\n",
       "    </tr>\n",
       "  </thead>\n",
       "  <tbody>\n",
       "    <tr>\n",
       "      <th>name</th>\n",
       "      <td>1.000000</td>\n",
       "      <td>0.060240</td>\n",
       "      <td>-0.135247</td>\n",
       "      <td>0.020279</td>\n",
       "      <td>0.040753</td>\n",
       "      <td>-0.043569</td>\n",
       "      <td>-0.014640</td>\n",
       "      <td>0.045882</td>\n",
       "      <td>NaN</td>\n",
       "      <td>0.108726</td>\n",
       "      <td>0.096807</td>\n",
       "      <td>0.107317</td>\n",
       "      <td>0.096205</td>\n",
       "    </tr>\n",
       "    <tr>\n",
       "      <th>capacity_mw</th>\n",
       "      <td>0.060240</td>\n",
       "      <td>1.000000</td>\n",
       "      <td>0.050984</td>\n",
       "      <td>0.195882</td>\n",
       "      <td>-0.380395</td>\n",
       "      <td>0.274292</td>\n",
       "      <td>-0.242122</td>\n",
       "      <td>0.183419</td>\n",
       "      <td>NaN</td>\n",
       "      <td>0.844352</td>\n",
       "      <td>0.870620</td>\n",
       "      <td>0.886673</td>\n",
       "      <td>0.901918</td>\n",
       "    </tr>\n",
       "    <tr>\n",
       "      <th>latitude</th>\n",
       "      <td>-0.135247</td>\n",
       "      <td>0.050984</td>\n",
       "      <td>1.000000</td>\n",
       "      <td>0.036362</td>\n",
       "      <td>-0.010204</td>\n",
       "      <td>0.102069</td>\n",
       "      <td>0.055927</td>\n",
       "      <td>-0.178213</td>\n",
       "      <td>NaN</td>\n",
       "      <td>0.049134</td>\n",
       "      <td>0.041905</td>\n",
       "      <td>0.041711</td>\n",
       "      <td>0.041414</td>\n",
       "    </tr>\n",
       "    <tr>\n",
       "      <th>longitude</th>\n",
       "      <td>0.020279</td>\n",
       "      <td>0.195882</td>\n",
       "      <td>0.036362</td>\n",
       "      <td>1.000000</td>\n",
       "      <td>-0.347948</td>\n",
       "      <td>0.092331</td>\n",
       "      <td>-0.239333</td>\n",
       "      <td>0.244042</td>\n",
       "      <td>NaN</td>\n",
       "      <td>0.026404</td>\n",
       "      <td>0.054482</td>\n",
       "      <td>0.053761</td>\n",
       "      <td>0.050548</td>\n",
       "    </tr>\n",
       "    <tr>\n",
       "      <th>primary_fuel</th>\n",
       "      <td>0.040753</td>\n",
       "      <td>-0.380395</td>\n",
       "      <td>-0.010204</td>\n",
       "      <td>-0.347948</td>\n",
       "      <td>1.000000</td>\n",
       "      <td>-0.126650</td>\n",
       "      <td>0.053613</td>\n",
       "      <td>-0.420263</td>\n",
       "      <td>NaN</td>\n",
       "      <td>-0.393335</td>\n",
       "      <td>-0.408951</td>\n",
       "      <td>-0.421736</td>\n",
       "      <td>-0.421518</td>\n",
       "    </tr>\n",
       "    <tr>\n",
       "      <th>commissioning_year</th>\n",
       "      <td>-0.043569</td>\n",
       "      <td>0.274292</td>\n",
       "      <td>0.102069</td>\n",
       "      <td>0.092331</td>\n",
       "      <td>-0.126650</td>\n",
       "      <td>1.000000</td>\n",
       "      <td>0.021528</td>\n",
       "      <td>0.000606</td>\n",
       "      <td>NaN</td>\n",
       "      <td>0.170363</td>\n",
       "      <td>0.193743</td>\n",
       "      <td>0.191367</td>\n",
       "      <td>0.193694</td>\n",
       "    </tr>\n",
       "    <tr>\n",
       "      <th>source</th>\n",
       "      <td>-0.014640</td>\n",
       "      <td>-0.242122</td>\n",
       "      <td>0.055927</td>\n",
       "      <td>-0.239333</td>\n",
       "      <td>0.053613</td>\n",
       "      <td>0.021528</td>\n",
       "      <td>1.000000</td>\n",
       "      <td>-0.491984</td>\n",
       "      <td>NaN</td>\n",
       "      <td>NaN</td>\n",
       "      <td>NaN</td>\n",
       "      <td>NaN</td>\n",
       "      <td>NaN</td>\n",
       "    </tr>\n",
       "    <tr>\n",
       "      <th>geolocation_source</th>\n",
       "      <td>0.045882</td>\n",
       "      <td>0.183419</td>\n",
       "      <td>-0.178213</td>\n",
       "      <td>0.244042</td>\n",
       "      <td>-0.420263</td>\n",
       "      <td>0.000606</td>\n",
       "      <td>-0.491984</td>\n",
       "      <td>1.000000</td>\n",
       "      <td>NaN</td>\n",
       "      <td>NaN</td>\n",
       "      <td>NaN</td>\n",
       "      <td>NaN</td>\n",
       "      <td>NaN</td>\n",
       "    </tr>\n",
       "    <tr>\n",
       "      <th>year_of_capacity_data</th>\n",
       "      <td>NaN</td>\n",
       "      <td>NaN</td>\n",
       "      <td>NaN</td>\n",
       "      <td>NaN</td>\n",
       "      <td>NaN</td>\n",
       "      <td>NaN</td>\n",
       "      <td>NaN</td>\n",
       "      <td>NaN</td>\n",
       "      <td>NaN</td>\n",
       "      <td>NaN</td>\n",
       "      <td>NaN</td>\n",
       "      <td>NaN</td>\n",
       "      <td>NaN</td>\n",
       "    </tr>\n",
       "    <tr>\n",
       "      <th>generation_gwh_2015</th>\n",
       "      <td>0.108726</td>\n",
       "      <td>0.844352</td>\n",
       "      <td>0.049134</td>\n",
       "      <td>0.026404</td>\n",
       "      <td>-0.393335</td>\n",
       "      <td>0.170363</td>\n",
       "      <td>NaN</td>\n",
       "      <td>NaN</td>\n",
       "      <td>NaN</td>\n",
       "      <td>1.000000</td>\n",
       "      <td>0.974918</td>\n",
       "      <td>0.940191</td>\n",
       "      <td>0.934371</td>\n",
       "    </tr>\n",
       "    <tr>\n",
       "      <th>generation_gwh_2016</th>\n",
       "      <td>0.096807</td>\n",
       "      <td>0.870620</td>\n",
       "      <td>0.041905</td>\n",
       "      <td>0.054482</td>\n",
       "      <td>-0.408951</td>\n",
       "      <td>0.193743</td>\n",
       "      <td>NaN</td>\n",
       "      <td>NaN</td>\n",
       "      <td>NaN</td>\n",
       "      <td>0.974918</td>\n",
       "      <td>1.000000</td>\n",
       "      <td>0.972024</td>\n",
       "      <td>0.962073</td>\n",
       "    </tr>\n",
       "    <tr>\n",
       "      <th>generation_gwh_2017</th>\n",
       "      <td>0.107317</td>\n",
       "      <td>0.886673</td>\n",
       "      <td>0.041711</td>\n",
       "      <td>0.053761</td>\n",
       "      <td>-0.421736</td>\n",
       "      <td>0.191367</td>\n",
       "      <td>NaN</td>\n",
       "      <td>NaN</td>\n",
       "      <td>NaN</td>\n",
       "      <td>0.940191</td>\n",
       "      <td>0.972024</td>\n",
       "      <td>1.000000</td>\n",
       "      <td>0.985856</td>\n",
       "    </tr>\n",
       "    <tr>\n",
       "      <th>generation_gwh_2018</th>\n",
       "      <td>0.096205</td>\n",
       "      <td>0.901918</td>\n",
       "      <td>0.041414</td>\n",
       "      <td>0.050548</td>\n",
       "      <td>-0.421518</td>\n",
       "      <td>0.193694</td>\n",
       "      <td>NaN</td>\n",
       "      <td>NaN</td>\n",
       "      <td>NaN</td>\n",
       "      <td>0.934371</td>\n",
       "      <td>0.962073</td>\n",
       "      <td>0.985856</td>\n",
       "      <td>1.000000</td>\n",
       "    </tr>\n",
       "  </tbody>\n",
       "</table>\n",
       "</div>"
      ],
      "text/plain": [
       "                           name  capacity_mw  latitude  longitude  \\\n",
       "name                   1.000000     0.060240 -0.135247   0.020279   \n",
       "capacity_mw            0.060240     1.000000  0.050984   0.195882   \n",
       "latitude              -0.135247     0.050984  1.000000   0.036362   \n",
       "longitude              0.020279     0.195882  0.036362   1.000000   \n",
       "primary_fuel           0.040753    -0.380395 -0.010204  -0.347948   \n",
       "commissioning_year    -0.043569     0.274292  0.102069   0.092331   \n",
       "source                -0.014640    -0.242122  0.055927  -0.239333   \n",
       "geolocation_source     0.045882     0.183419 -0.178213   0.244042   \n",
       "year_of_capacity_data       NaN          NaN       NaN        NaN   \n",
       "generation_gwh_2015    0.108726     0.844352  0.049134   0.026404   \n",
       "generation_gwh_2016    0.096807     0.870620  0.041905   0.054482   \n",
       "generation_gwh_2017    0.107317     0.886673  0.041711   0.053761   \n",
       "generation_gwh_2018    0.096205     0.901918  0.041414   0.050548   \n",
       "\n",
       "                       primary_fuel  commissioning_year    source  \\\n",
       "name                       0.040753           -0.043569 -0.014640   \n",
       "capacity_mw               -0.380395            0.274292 -0.242122   \n",
       "latitude                  -0.010204            0.102069  0.055927   \n",
       "longitude                 -0.347948            0.092331 -0.239333   \n",
       "primary_fuel               1.000000           -0.126650  0.053613   \n",
       "commissioning_year        -0.126650            1.000000  0.021528   \n",
       "source                     0.053613            0.021528  1.000000   \n",
       "geolocation_source        -0.420263            0.000606 -0.491984   \n",
       "year_of_capacity_data           NaN                 NaN       NaN   \n",
       "generation_gwh_2015       -0.393335            0.170363       NaN   \n",
       "generation_gwh_2016       -0.408951            0.193743       NaN   \n",
       "generation_gwh_2017       -0.421736            0.191367       NaN   \n",
       "generation_gwh_2018       -0.421518            0.193694       NaN   \n",
       "\n",
       "                       geolocation_source  year_of_capacity_data  \\\n",
       "name                             0.045882                    NaN   \n",
       "capacity_mw                      0.183419                    NaN   \n",
       "latitude                        -0.178213                    NaN   \n",
       "longitude                        0.244042                    NaN   \n",
       "primary_fuel                    -0.420263                    NaN   \n",
       "commissioning_year               0.000606                    NaN   \n",
       "source                          -0.491984                    NaN   \n",
       "geolocation_source               1.000000                    NaN   \n",
       "year_of_capacity_data                 NaN                    NaN   \n",
       "generation_gwh_2015                   NaN                    NaN   \n",
       "generation_gwh_2016                   NaN                    NaN   \n",
       "generation_gwh_2017                   NaN                    NaN   \n",
       "generation_gwh_2018                   NaN                    NaN   \n",
       "\n",
       "                       generation_gwh_2015  generation_gwh_2016  \\\n",
       "name                              0.108726             0.096807   \n",
       "capacity_mw                       0.844352             0.870620   \n",
       "latitude                          0.049134             0.041905   \n",
       "longitude                         0.026404             0.054482   \n",
       "primary_fuel                     -0.393335            -0.408951   \n",
       "commissioning_year                0.170363             0.193743   \n",
       "source                                 NaN                  NaN   \n",
       "geolocation_source                     NaN                  NaN   \n",
       "year_of_capacity_data                  NaN                  NaN   \n",
       "generation_gwh_2015               1.000000             0.974918   \n",
       "generation_gwh_2016               0.974918             1.000000   \n",
       "generation_gwh_2017               0.940191             0.972024   \n",
       "generation_gwh_2018               0.934371             0.962073   \n",
       "\n",
       "                       generation_gwh_2017  generation_gwh_2018  \n",
       "name                              0.107317             0.096205  \n",
       "capacity_mw                       0.886673             0.901918  \n",
       "latitude                          0.041711             0.041414  \n",
       "longitude                         0.053761             0.050548  \n",
       "primary_fuel                     -0.421736            -0.421518  \n",
       "commissioning_year                0.191367             0.193694  \n",
       "source                                 NaN                  NaN  \n",
       "geolocation_source                     NaN                  NaN  \n",
       "year_of_capacity_data                  NaN                  NaN  \n",
       "generation_gwh_2015               0.940191             0.934371  \n",
       "generation_gwh_2016               0.972024             0.962073  \n",
       "generation_gwh_2017               1.000000             0.985856  \n",
       "generation_gwh_2018               0.985856             1.000000  "
      ]
     },
     "execution_count": 71,
     "metadata": {},
     "output_type": "execute_result"
    }
   ],
   "source": [
    "data.corr()"
   ]
  },
  {
   "cell_type": "code",
   "execution_count": 68,
   "id": "871c79e6",
   "metadata": {},
   "outputs": [
    {
     "data": {
      "text/plain": [
       "<AxesSubplot:>"
      ]
     },
     "execution_count": 68,
     "metadata": {},
     "output_type": "execute_result"
    },
    {
     "data": {
      "image/png": "[encoded data removed]",
      "text/plain": [
       "<Figure size 1440x648 with 2 Axes>"
      ]
     },
     "metadata": {
      "needs_background": "light"
     },
     "output_type": "display_data"
    }
   ],
   "source": [
    "plt.figure(figsize=(20,9))\n",
    "sns.heatmap(data.corr(),annot= True,linewidth=0.1,linecolor='black',fmt=\"0.2f\")"
   ]
  },
  {
   "cell_type": "markdown",
   "id": "c9b6c01e",
   "metadata": {},
   "source": [
    "clearly there are some column (geneartion_gwh_2015,2016,2017,2018) are highly correlated so lets drop someone "
   ]
  },
  {
   "cell_type": "code",
   "execution_count": 77,
   "id": "3b2f37d1",
   "metadata": {},
   "outputs": [
    {
     "data": {
      "text/html": [
       "<div>\n",
       "<style scoped>\n",
       "    .dataframe tbody tr th:only-of-type {\n",
       "        vertical-align: middle;\n",
       "    }\n",
       "\n",
       "    .dataframe tbody tr th {\n",
       "        vertical-align: top;\n",
       "    }\n",
       "\n",
       "    .dataframe thead th {\n",
       "        text-align: right;\n",
       "    }\n",
       "</style>\n",
       "<table border=\"1\" class=\"dataframe\">\n",
       "  <thead>\n",
       "    <tr style=\"text-align: right;\">\n",
       "      <th></th>\n",
       "      <th>name</th>\n",
       "      <th>capacity_mw</th>\n",
       "      <th>latitude</th>\n",
       "      <th>longitude</th>\n",
       "      <th>primary_fuel</th>\n",
       "      <th>commissioning_year</th>\n",
       "      <th>source</th>\n",
       "      <th>geolocation_source</th>\n",
       "      <th>year_of_capacity_data</th>\n",
       "    </tr>\n",
       "  </thead>\n",
       "  <tbody>\n",
       "    <tr>\n",
       "      <th>0</th>\n",
       "      <td>0</td>\n",
       "      <td>2.5</td>\n",
       "      <td>28.1839</td>\n",
       "      <td>73.2407</td>\n",
       "      <td>6</td>\n",
       "      <td>2011.000000</td>\n",
       "      <td>109</td>\n",
       "      <td>1</td>\n",
       "      <td>2019.0</td>\n",
       "    </tr>\n",
       "    <tr>\n",
       "      <th>1</th>\n",
       "      <td>1</td>\n",
       "      <td>98.0</td>\n",
       "      <td>24.7663</td>\n",
       "      <td>74.6090</td>\n",
       "      <td>1</td>\n",
       "      <td>1997.091082</td>\n",
       "      <td>174</td>\n",
       "      <td>2</td>\n",
       "      <td>2019.0</td>\n",
       "    </tr>\n",
       "    <tr>\n",
       "      <th>2</th>\n",
       "      <td>2</td>\n",
       "      <td>39.2</td>\n",
       "      <td>21.9038</td>\n",
       "      <td>69.3732</td>\n",
       "      <td>7</td>\n",
       "      <td>1997.091082</td>\n",
       "      <td>21</td>\n",
       "      <td>2</td>\n",
       "      <td>2019.0</td>\n",
       "    </tr>\n",
       "    <tr>\n",
       "      <th>3</th>\n",
       "      <td>3</td>\n",
       "      <td>135.0</td>\n",
       "      <td>23.8712</td>\n",
       "      <td>91.3602</td>\n",
       "      <td>2</td>\n",
       "      <td>2004.000000</td>\n",
       "      <td>22</td>\n",
       "      <td>2</td>\n",
       "      <td>2019.0</td>\n",
       "    </tr>\n",
       "    <tr>\n",
       "      <th>4</th>\n",
       "      <td>4</td>\n",
       "      <td>1800.0</td>\n",
       "      <td>21.9603</td>\n",
       "      <td>82.4091</td>\n",
       "      <td>1</td>\n",
       "      <td>2015.000000</td>\n",
       "      <td>22</td>\n",
       "      <td>2</td>\n",
       "      <td>2019.0</td>\n",
       "    </tr>\n",
       "  </tbody>\n",
       "</table>\n",
       "</div>"
      ],
      "text/plain": [
       "   name  capacity_mw  latitude  longitude  primary_fuel  commissioning_year  \\\n",
       "0     0          2.5   28.1839    73.2407             6         2011.000000   \n",
       "1     1         98.0   24.7663    74.6090             1         1997.091082   \n",
       "2     2         39.2   21.9038    69.3732             7         1997.091082   \n",
       "3     3        135.0   23.8712    91.3602             2         2004.000000   \n",
       "4     4       1800.0   21.9603    82.4091             1         2015.000000   \n",
       "\n",
       "   source  geolocation_source  year_of_capacity_data  \n",
       "0     109                   1                 2019.0  \n",
       "1     174                   2                 2019.0  \n",
       "2      21                   2                 2019.0  \n",
       "3      22                   2                 2019.0  \n",
       "4      22                   2                 2019.0  "
      ]
     },
     "execution_count": 77,
     "metadata": {},
     "output_type": "execute_result"
    }
   ],
   "source": [
    "data = data.drop(['generation_gwh_2017','generation_gwh_2018'],axis=1)\n",
    "data.head()"
   ]
  },
  {
   "cell_type": "code",
   "execution_count": 78,
   "id": "d2da31d6",
   "metadata": {},
   "outputs": [
    {
     "data": {
      "text/plain": [
       "name                     0.000000\n",
       "capacity_mw              3.123576\n",
       "latitude                -0.149698\n",
       "longitude                1.141881\n",
       "primary_fuel             0.472251\n",
       "commissioning_year      -1.399359\n",
       "source                   1.827373\n",
       "geolocation_source      -1.920302\n",
       "year_of_capacity_data    0.000000\n",
       "dtype: float64"
      ]
     },
     "execution_count": 78,
     "metadata": {},
     "output_type": "execute_result"
    }
   ],
   "source": [
    "data.skew()"
   ]
  },
  {
   "cell_type": "code",
   "execution_count": 79,
   "id": "16260296",
   "metadata": {},
   "outputs": [
    {
     "data": {
      "image/png": "[encoded data removed]",
      "text/plain": [
       "<Figure size 1440x1080 with 9 Axes>"
      ]
     },
     "metadata": {},
     "output_type": "display_data"
    }
   ],
   "source": [
    "plt.figure(figsize = (20,15),facecolor = \"red\")\n",
    "plotnumber = 1\n",
    "for column in data:\n",
    "    if plotnumber<=9:\n",
    "        ax=plt.subplot(3,3,plotnumber)\n",
    "        sns.distplot(data[column])\n",
    "        plt.xlabel(column,fontsize=14)\n",
    "        \n",
    "    plotnumber+=1\n",
    "plt.show()"
   ]
  },
  {
   "cell_type": "markdown",
   "id": "17118677",
   "metadata": {},
   "source": [
    "data looks good cz we have to predict two dataa and very much of data is already is removed "
   ]
  },
  {
   "cell_type": "code",
   "execution_count": 80,
   "id": "9e595158",
   "metadata": {},
   "outputs": [],
   "source": [
    "# seprating the columns into features and target\n",
    "\n",
    "x= data.drop(\"primary_fuel\",axis=1)\n",
    "y= data[\"primary_fuel\"]"
   ]
  },
  {
   "cell_type": "code",
   "execution_count": 81,
   "id": "7c5bd476",
   "metadata": {},
   "outputs": [],
   "source": [
    "from statsmodels.stats.outliers_influence import variance_inflation_factor"
   ]
  },
  {
   "cell_type": "code",
   "execution_count": 82,
   "id": "920701d8",
   "metadata": {},
   "outputs": [],
   "source": [
    "from sklearn.preprocessing import StandardScaler\n",
    "sc = StandardScaler()\n",
    "x_scaled= sc.fit_transform(x)"
   ]
  },
  {
   "cell_type": "code",
   "execution_count": 83,
   "id": "9ec689a4",
   "metadata": {},
   "outputs": [
    {
     "data": {
      "text/plain": [
       "8"
      ]
     },
     "execution_count": 83,
     "metadata": {},
     "output_type": "execute_result"
    }
   ],
   "source": [
    "x_scaled.shape[1]"
   ]
  },
  {
   "cell_type": "code",
   "execution_count": 84,
   "id": "60611686",
   "metadata": {},
   "outputs": [
    {
     "data": {
      "text/html": [
       "<div>\n",
       "<style scoped>\n",
       "    .dataframe tbody tr th:only-of-type {\n",
       "        vertical-align: middle;\n",
       "    }\n",
       "\n",
       "    .dataframe tbody tr th {\n",
       "        vertical-align: top;\n",
       "    }\n",
       "\n",
       "    .dataframe thead th {\n",
       "        text-align: right;\n",
       "    }\n",
       "</style>\n",
       "<table border=\"1\" class=\"dataframe\">\n",
       "  <thead>\n",
       "    <tr style=\"text-align: right;\">\n",
       "      <th></th>\n",
       "      <th>vif</th>\n",
       "      <th>features</th>\n",
       "    </tr>\n",
       "  </thead>\n",
       "  <tbody>\n",
       "    <tr>\n",
       "      <th>0</th>\n",
       "      <td>1.026694</td>\n",
       "      <td>name</td>\n",
       "    </tr>\n",
       "    <tr>\n",
       "      <th>1</th>\n",
       "      <td>1.189796</td>\n",
       "      <td>capacity_mw</td>\n",
       "    </tr>\n",
       "    <tr>\n",
       "      <th>2</th>\n",
       "      <td>1.071235</td>\n",
       "      <td>latitude</td>\n",
       "    </tr>\n",
       "    <tr>\n",
       "      <th>3</th>\n",
       "      <td>1.115033</td>\n",
       "      <td>longitude</td>\n",
       "    </tr>\n",
       "    <tr>\n",
       "      <th>4</th>\n",
       "      <td>1.105909</td>\n",
       "      <td>commissioning_year</td>\n",
       "    </tr>\n",
       "    <tr>\n",
       "      <th>5</th>\n",
       "      <td>1.392504</td>\n",
       "      <td>source</td>\n",
       "    </tr>\n",
       "    <tr>\n",
       "      <th>6</th>\n",
       "      <td>1.403094</td>\n",
       "      <td>geolocation_source</td>\n",
       "    </tr>\n",
       "    <tr>\n",
       "      <th>7</th>\n",
       "      <td>NaN</td>\n",
       "      <td>year_of_capacity_data</td>\n",
       "    </tr>\n",
       "  </tbody>\n",
       "</table>\n",
       "</div>"
      ],
      "text/plain": [
       "        vif               features\n",
       "0  1.026694                   name\n",
       "1  1.189796            capacity_mw\n",
       "2  1.071235               latitude\n",
       "3  1.115033              longitude\n",
       "4  1.105909     commissioning_year\n",
       "5  1.392504                 source\n",
       "6  1.403094     geolocation_source\n",
       "7       NaN  year_of_capacity_data"
      ]
     },
     "execution_count": 84,
     "metadata": {},
     "output_type": "execute_result"
    }
   ],
   "source": [
    "vif = pd.DataFrame()\n",
    "vif[\"vif\"] = [variance_inflation_factor(x_scaled,i) for i in range(x_scaled.shape[1])]\n",
    "vif[\"features\"] = x.columns\n",
    "\n",
    "vif"
   ]
  },
  {
   "cell_type": "markdown",
   "id": "a4e3469d",
   "metadata": {},
   "source": [
    "so there is no multucoolinearity as the vif value is less than 5"
   ]
  },
  {
   "cell_type": "code",
   "execution_count": 86,
   "id": "629d6b02",
   "metadata": {},
   "outputs": [],
   "source": [
    "# now data looks good for our model building"
   ]
  },
  {
   "cell_type": "code",
   "execution_count": 89,
   "id": "2c3635f5",
   "metadata": {},
   "outputs": [
    {
     "data": {
      "text/plain": [
       "0"
      ]
     },
     "execution_count": 89,
     "metadata": {},
     "output_type": "execute_result"
    }
   ],
   "source": [
    "data['year_of_capacity_data'].isnull().sum()"
   ]
  },
  {
   "cell_type": "markdown",
   "id": "315de0d4",
   "metadata": {},
   "source": [
    "# first uses classification ALGO FOR FINDING THE primary_fuel "
   ]
  },
  {
   "cell_type": "code",
   "execution_count": 90,
   "id": "3a4fa3d6",
   "metadata": {},
   "outputs": [],
   "source": [
    "from sklearn.linear_model import LogisticRegression\n",
    "lr = LogisticRegression()\n",
    "from sklearn.metrics import accuracy_score,confusion_matrix, roc_curve, roc_auc_score,classification_report\n",
    "from sklearn.model_selection import train_test_split"
   ]
  },
  {
   "cell_type": "code",
   "execution_count": 92,
   "id": "0d101556",
   "metadata": {},
   "outputs": [],
   "source": [
    "x_train, x_test, y_train, y_test=train_test_split(x,y,test_size=.25)"
   ]
  },
  {
   "cell_type": "code",
   "execution_count": 93,
   "id": "9c19021a",
   "metadata": {},
   "outputs": [
    {
     "name": "stdout",
     "output_type": "stream",
     "text": [
      "Accuracy 51.10132158590308\n",
      "-------------------\n",
      "[[ 0  0  0  2  0  0 11  1]\n",
      " [ 0 41  0 14  0  0  7  3]\n",
      " [ 0 10  0 10  0  0  0  0]\n",
      " [ 0  4  0 37  0  0  2 13]\n",
      " [ 0  1  0  0  0  0  0  0]\n",
      " [ 0  1  0  5  0  0  1  1]\n",
      " [ 0  6  0  1  0  0 21  2]\n",
      " [ 0  0  0 16  0  0  0 17]]\n",
      "              precision    recall  f1-score   support\n",
      "\n",
      "           0       0.00      0.00      0.00        14\n",
      "           1       0.65      0.63      0.64        65\n",
      "           2       0.00      0.00      0.00        20\n",
      "           3       0.44      0.66      0.52        56\n",
      "           4       0.00      0.00      0.00         1\n",
      "           5       0.00      0.00      0.00         8\n",
      "           6       0.50      0.70      0.58        30\n",
      "           7       0.46      0.52      0.49        33\n",
      "\n",
      "    accuracy                           0.51       227\n",
      "   macro avg       0.26      0.31      0.28       227\n",
      "weighted avg       0.43      0.51      0.46       227\n",
      "\n"
     ]
    }
   ],
   "source": [
    "lr = LogisticRegression()\n",
    "lr.fit(x_train,y_train)\n",
    "pred_lr=lr.predict(x_test)\n",
    "print(\"Accuracy\",accuracy_score(y_test,pred_lr)*100)\n",
    "print('-------------------')\n",
    "print(confusion_matrix(y_test,pred_lr))\n",
    "print(classification_report(y_test,pred_lr))"
   ]
  },
  {
   "cell_type": "code",
   "execution_count": 94,
   "id": "c73bae8c",
   "metadata": {},
   "outputs": [],
   "source": [
    "Test_accuracy = accuracy_score(y_test,pred_lr)"
   ]
  },
  {
   "cell_type": "code",
   "execution_count": 95,
   "id": "4d95b68c",
   "metadata": {},
   "outputs": [],
   "source": [
    "from sklearn.model_selection import cross_val_score"
   ]
  },
  {
   "cell_type": "code",
   "execution_count": 96,
   "id": "5e503112",
   "metadata": {},
   "outputs": [
    {
     "name": "stdout",
     "output_type": "stream",
     "text": [
      "Cross Validation Score of logistic regression model is :- 0.5612288264221965\n"
     ]
    }
   ],
   "source": [
    "scr_lr = cross_val_score(lr,x,y,cv=5)\n",
    "print(\"Cross Validation Score of logistic regression model is :-\",scr_lr.mean())"
   ]
  },
  {
   "cell_type": "code",
   "execution_count": 97,
   "id": "78027bf7",
   "metadata": {},
   "outputs": [],
   "source": [
    "# now we trying with Decision tree classifier "
   ]
  },
  {
   "cell_type": "code",
   "execution_count": 98,
   "id": "b5e2b573",
   "metadata": {},
   "outputs": [],
   "source": [
    "from sklearn.tree import DecisionTreeClassifier"
   ]
  },
  {
   "cell_type": "code",
   "execution_count": 99,
   "id": "c3c0b2ba",
   "metadata": {},
   "outputs": [
    {
     "name": "stdout",
     "output_type": "stream",
     "text": [
      "Accuracy 77.5330396475771\n",
      "-------------------------\n",
      "[[12  2  0  0  0  0  0  0]\n",
      " [ 1 46  6  6  4  2  0  0]\n",
      " [ 0  4  6  6  0  4  0  0]\n",
      " [ 0  6  1 46  2  1  0  0]\n",
      " [ 0  1  0  0  0  0  0  0]\n",
      " [ 0  1  1  3  0  3  0  0]\n",
      " [ 0  0  0  0  0  0 30  0]\n",
      " [ 0  0  0  0  0  0  0 33]]\n",
      "              precision    recall  f1-score   support\n",
      "\n",
      "           0       0.92      0.86      0.89        14\n",
      "           1       0.77      0.71      0.74        65\n",
      "           2       0.43      0.30      0.35        20\n",
      "           3       0.75      0.82      0.79        56\n",
      "           4       0.00      0.00      0.00         1\n",
      "           5       0.30      0.38      0.33         8\n",
      "           6       1.00      1.00      1.00        30\n",
      "           7       1.00      1.00      1.00        33\n",
      "\n",
      "    accuracy                           0.78       227\n",
      "   macro avg       0.65      0.63      0.64       227\n",
      "weighted avg       0.79      0.78      0.78       227\n",
      "\n"
     ]
    }
   ],
   "source": [
    "dt = DecisionTreeClassifier()\n",
    "dt.fit(x_train,y_train)\n",
    "pred_dt=dt.predict(x_test)\n",
    "print(\"Accuracy\",accuracy_score(y_test,pred_dt)*100)\n",
    "print('-------------------------')\n",
    "print(confusion_matrix(y_test,pred_dt))\n",
    "print(classification_report(y_test,pred_dt))"
   ]
  },
  {
   "cell_type": "code",
   "execution_count": 100,
   "id": "ce99fd7d",
   "metadata": {},
   "outputs": [
    {
     "name": "stdout",
     "output_type": "stream",
     "text": [
      "Cross Validation Score of Decision TREE model is :- 0.7839414728917491\n"
     ]
    }
   ],
   "source": [
    "scr_dt = cross_val_score(dt,x,y,cv=5)\n",
    "print(\"Cross Validation Score of Decision TREE model is :-\",scr_dt.mean())"
   ]
  },
  {
   "cell_type": "code",
   "execution_count": 101,
   "id": "0ebbd753",
   "metadata": {},
   "outputs": [],
   "source": [
    "# now check with random forest classifier"
   ]
  },
  {
   "cell_type": "code",
   "execution_count": 102,
   "id": "b9d34d60",
   "metadata": {},
   "outputs": [],
   "source": [
    "from sklearn.ensemble import RandomForestClassifier"
   ]
  },
  {
   "cell_type": "code",
   "execution_count": 103,
   "id": "2dcbb001",
   "metadata": {},
   "outputs": [
    {
     "name": "stdout",
     "output_type": "stream",
     "text": [
      "Accuracy 80.61674008810573\n",
      "=======================================\n",
      "[[12  2  0  0  0  0  0  0]\n",
      " [ 3 52  4  4  0  1  0  1]\n",
      " [ 0  6  6  6  0  2  0  0]\n",
      " [ 0  4  1 51  0  0  0  0]\n",
      " [ 0  1  0  0  0  0  0  0]\n",
      " [ 0  1  0  5  0  2  0  0]\n",
      " [ 0  3  0  0  0  0 27  0]\n",
      " [ 0  0  0  0  0  0  0 33]]\n",
      "              precision    recall  f1-score   support\n",
      "\n",
      "           0       0.80      0.86      0.83        14\n",
      "           1       0.75      0.80      0.78        65\n",
      "           2       0.55      0.30      0.39        20\n",
      "           3       0.77      0.91      0.84        56\n",
      "           4       0.00      0.00      0.00         1\n",
      "           5       0.40      0.25      0.31         8\n",
      "           6       1.00      0.90      0.95        30\n",
      "           7       0.97      1.00      0.99        33\n",
      "\n",
      "    accuracy                           0.81       227\n",
      "   macro avg       0.66      0.63      0.63       227\n",
      "weighted avg       0.79      0.81      0.79       227\n",
      "\n"
     ]
    }
   ],
   "source": [
    "rf = RandomForestClassifier()\n",
    "rf.fit(x_train,y_train)\n",
    "pred_rf=rf.predict(x_test)\n",
    "print(\"Accuracy\",accuracy_score(y_test,pred_rf)*100)\n",
    "print('=======================================')\n",
    "print(confusion_matrix(y_test,pred_rf))\n",
    "print(classification_report(y_test,pred_rf))"
   ]
  },
  {
   "cell_type": "code",
   "execution_count": 104,
   "id": "36394ef0",
   "metadata": {},
   "outputs": [
    {
     "name": "stdout",
     "output_type": "stream",
     "text": [
      "Cross Validation Score of RANDOM FOREST model is :- 0.8445388865278367\n"
     ]
    }
   ],
   "source": [
    "scr_rf = cross_val_score(rf,x,y,cv=5)\n",
    "print(\"Cross Validation Score of RANDOM FOREST model is :-\",scr_rf.mean())"
   ]
  },
  {
   "cell_type": "code",
   "execution_count": 105,
   "id": "ab5e9cfd",
   "metadata": {},
   "outputs": [],
   "source": [
    "# now with SVC algo"
   ]
  },
  {
   "cell_type": "code",
   "execution_count": 106,
   "id": "47be61cd",
   "metadata": {},
   "outputs": [
    {
     "name": "stdout",
     "output_type": "stream",
     "text": [
      "Accuracy 36.56387665198238\n",
      "=========================================\n",
      "[[ 0  0  0 14  0  0  0  0]\n",
      " [ 0 31  0 34  0  0  0  0]\n",
      " [ 0  3  0 17  0  0  0  0]\n",
      " [ 0  4  0 52  0  0  0  0]\n",
      " [ 0  1  0  0  0  0  0  0]\n",
      " [ 0  0  0  8  0  0  0  0]\n",
      " [ 0  1  0 29  0  0  0  0]\n",
      " [ 0  0  0 33  0  0  0  0]]\n",
      "              precision    recall  f1-score   support\n",
      "\n",
      "           0       0.00      0.00      0.00        14\n",
      "           1       0.78      0.48      0.59        65\n",
      "           2       0.00      0.00      0.00        20\n",
      "           3       0.28      0.93      0.43        56\n",
      "           4       0.00      0.00      0.00         1\n",
      "           5       0.00      0.00      0.00         8\n",
      "           6       0.00      0.00      0.00        30\n",
      "           7       0.00      0.00      0.00        33\n",
      "\n",
      "    accuracy                           0.37       227\n",
      "   macro avg       0.13      0.18      0.13       227\n",
      "weighted avg       0.29      0.37      0.27       227\n",
      "\n"
     ]
    }
   ],
   "source": [
    "from sklearn.svm import SVC\n",
    "\n",
    "sv = SVC()\n",
    "sv.fit(x_train,y_train)\n",
    "\n",
    "pred_sv=sv.predict(x_test)\n",
    "print(\"Accuracy\",accuracy_score(y_test,pred_sv)*100)\n",
    "\n",
    "print('=========================================')\n",
    "print(confusion_matrix(y_test,pred_sv))\n",
    "print(classification_report(y_test,pred_sv))"
   ]
  },
  {
   "cell_type": "code",
   "execution_count": 107,
   "id": "eec4a5ff",
   "metadata": {},
   "outputs": [
    {
     "name": "stdout",
     "output_type": "stream",
     "text": [
      "Cross Validation Score of SVC model is :- 0.41018760245279584\n"
     ]
    }
   ],
   "source": [
    "scr = cross_val_score(sv,x,y,cv=5)\n",
    "print(\"Cross Validation Score of SVC model is :-\",scr.mean())"
   ]
  },
  {
   "cell_type": "code",
   "execution_count": 108,
   "id": "2ad8a682",
   "metadata": {},
   "outputs": [],
   "source": [
    "# so the difference between the cross val score and the accuracy score is  minimun for the DECISION TREE ALGO SO WE USED THIS algo\n",
    "\n",
    "\n",
    "# BUT BEFORE USED HYPERPARAMETER TUNING WITH GRIDSEARCHCV"
   ]
  },
  {
   "cell_type": "code",
   "execution_count": 110,
   "id": "bc2c63f2",
   "metadata": {},
   "outputs": [],
   "source": [
    "from sklearn.model_selection import GridSearchCV"
   ]
  },
  {
   "cell_type": "code",
   "execution_count": 112,
   "id": "e2ae3d14",
   "metadata": {},
   "outputs": [
    {
     "name": "stdout",
     "output_type": "stream",
     "text": [
      "{'criterion': 'entropy', 'max_depth': 5, 'min_samples_leaf': 2, 'min_samples_split': 2}\n"
     ]
    }
   ],
   "source": [
    "parameters = {'criterion':['gini','entropy'],'max_depth':range(2,6),'min_samples_leaf':range(2,6),'min_samples_split':range(2,6),}\n",
    "\n",
    "clf = GridSearchCV(dt,parameters)\n",
    "clf.fit(x_train,y_train)\n",
    "\n",
    "print(clf.best_params_)"
   ]
  },
  {
   "cell_type": "code",
   "execution_count": 115,
   "id": "50e9d3c2",
   "metadata": {},
   "outputs": [],
   "source": [
    "dts = DecisionTreeClassifier(criterion='entropy',max_depth= 5, min_samples_leaf=2, min_samples_split= 2)"
   ]
  },
  {
   "cell_type": "code",
   "execution_count": 116,
   "id": "031cb4f0",
   "metadata": {},
   "outputs": [
    {
     "data": {
      "text/plain": [
       "DecisionTreeClassifier(criterion='entropy', max_depth=5, min_samples_leaf=2)"
      ]
     },
     "execution_count": 116,
     "metadata": {},
     "output_type": "execute_result"
    }
   ],
   "source": [
    "dts.fit(x_train,y_train)"
   ]
  },
  {
   "cell_type": "code",
   "execution_count": 117,
   "id": "1530b98a",
   "metadata": {},
   "outputs": [],
   "source": [
    "y_pred = dts.predict(x_test)"
   ]
  },
  {
   "cell_type": "code",
   "execution_count": 118,
   "id": "d72fa73d",
   "metadata": {},
   "outputs": [
    {
     "data": {
      "text/plain": [
       "array([[11,  3,  0,  0,  0,  0,  0,  0],\n",
       "       [ 4, 49,  0, 10,  0,  2,  0,  0],\n",
       "       [ 0,  8,  0,  9,  0,  3,  0,  0],\n",
       "       [ 0,  5,  0, 51,  0,  0,  0,  0],\n",
       "       [ 0,  1,  0,  0,  0,  0,  0,  0],\n",
       "       [ 0,  1,  0,  5,  0,  2,  0,  0],\n",
       "       [ 0,  3,  0,  0,  0,  0, 27,  0],\n",
       "       [ 0,  0,  0,  0,  0,  0,  0, 33]], dtype=int64)"
      ]
     },
     "execution_count": 118,
     "metadata": {},
     "output_type": "execute_result"
    }
   ],
   "source": [
    "cfm = confusion_matrix(y_test,y_pred)\n",
    "cfm"
   ]
  },
  {
   "cell_type": "code",
   "execution_count": 119,
   "id": "4904596b",
   "metadata": {},
   "outputs": [
    {
     "name": "stdout",
     "output_type": "stream",
     "text": [
      "              precision    recall  f1-score   support\n",
      "\n",
      "           0       0.73      0.79      0.76        14\n",
      "           1       0.70      0.75      0.73        65\n",
      "           2       0.00      0.00      0.00        20\n",
      "           3       0.68      0.91      0.78        56\n",
      "           4       0.00      0.00      0.00         1\n",
      "           5       0.29      0.25      0.27         8\n",
      "           6       1.00      0.90      0.95        30\n",
      "           7       1.00      1.00      1.00        33\n",
      "\n",
      "    accuracy                           0.76       227\n",
      "   macro avg       0.55      0.58      0.56       227\n",
      "weighted avg       0.70      0.76      0.73       227\n",
      "\n"
     ]
    }
   ],
   "source": [
    "print(classification_report(y_test,y_pred))"
   ]
  },
  {
   "cell_type": "code",
   "execution_count": 120,
   "id": "7cdc29e3",
   "metadata": {},
   "outputs": [
    {
     "name": "stdout",
     "output_type": "stream",
     "text": [
      "ACCURACY 0.762114537444934\n"
     ]
    }
   ],
   "source": [
    "print(\"ACCURACY\",accuracy_score(y_test,y_pred))"
   ]
  },
  {
   "cell_type": "code",
   "execution_count": 121,
   "id": "6f49f194",
   "metadata": {},
   "outputs": [],
   "source": [
    "# so after tuning, its accuracy is  not increased so now our Dt model is ready to predict"
   ]
  },
  {
   "cell_type": "code",
   "execution_count": 122,
   "id": "2b8d19ab",
   "metadata": {},
   "outputs": [],
   "source": [
    "# saving the model for later prediction\n",
    "import pickle"
   ]
  },
  {
   "cell_type": "code",
   "execution_count": 124,
   "id": "e3221fe1",
   "metadata": {},
   "outputs": [],
   "source": [
    "filename = 'primary_fuel of GLOBAL PLANT.pickle'\n",
    "pickle.dump(dt,open(filename,'wb'))"
   ]
  },
  {
   "cell_type": "markdown",
   "id": "475d06ff",
   "metadata": {},
   "source": [
    "# hence my model is completed and ready to predict the primary_fuel of GLOBAL POWER PLANT"
   ]
  },
  {
   "cell_type": "code",
   "execution_count": null,
   "id": "3d6ffd04",
   "metadata": {},
   "outputs": [],
   "source": []
  },
  {
   "cell_type": "code",
   "execution_count": null,
   "id": "72a33f42",
   "metadata": {},
   "outputs": [],
   "source": []
  },
  {
   "cell_type": "code",
   "execution_count": null,
   "id": "30b74799",
   "metadata": {},
   "outputs": [],
   "source": []
  },
  {
   "cell_type": "markdown",
   "id": "4e503101",
   "metadata": {},
   "source": [
    "# now second prediction for capacity_mw. now our label = capacity_mw"
   ]
  },
  {
   "cell_type": "markdown",
   "id": "e5a2e69c",
   "metadata": {},
   "source": [
    "#  Now uses regresssion ALGO FOR FINDING THE capacity_mw"
   ]
  },
  {
   "cell_type": "code",
   "execution_count": 126,
   "id": "23998812",
   "metadata": {},
   "outputs": [],
   "source": [
    "from sklearn.linear_model import LinearRegression\n",
    "lr = LinearRegression()\n",
    "from sklearn.metrics import r2_score\n",
    "from sklearn.model_selection import train_test_split"
   ]
  },
  {
   "cell_type": "code",
   "execution_count": 127,
   "id": "4bbb4390",
   "metadata": {},
   "outputs": [
    {
     "name": "stdout",
     "output_type": "stream",
     "text": [
      "At random state 0 the training accuracy is {0.39585298245289946}\n",
      "At random state 0 the testing accuracy is {0.37155047632204063}\n",
      "\n",
      "\n",
      "At random state 1 the training accuracy is {0.3874253657369813}\n",
      "At random state 1 the testing accuracy is {0.3677367631682029}\n",
      "\n",
      "\n",
      "At random state 2 the training accuracy is {0.4006022648022115}\n",
      "At random state 2 the testing accuracy is {0.3491216101929787}\n",
      "\n",
      "\n",
      "At random state 3 the training accuracy is {0.41631744179991026}\n",
      "At random state 3 the testing accuracy is {0.2949733690564297}\n",
      "\n",
      "\n",
      "At random state 4 the training accuracy is {0.3869629663439329}\n",
      "At random state 4 the testing accuracy is {0.39429802900983424}\n",
      "\n",
      "\n",
      "At random state 5 the training accuracy is {0.40022537208545983}\n",
      "At random state 5 the testing accuracy is {0.3498012790710672}\n",
      "\n",
      "\n",
      "At random state 6 the training accuracy is {0.38317392651856463}\n",
      "At random state 6 the testing accuracy is {0.40911020904618944}\n",
      "\n",
      "\n",
      "At random state 7 the training accuracy is {0.3786057609392782}\n",
      "At random state 7 the testing accuracy is {0.4059898585238483}\n",
      "\n",
      "\n",
      "At random state 8 the training accuracy is {0.39160642813463975}\n",
      "At random state 8 the testing accuracy is {0.37727928966728475}\n",
      "\n",
      "\n",
      "At random state 9 the training accuracy is {0.3889061472616865}\n",
      "At random state 9 the testing accuracy is {0.384701400107027}\n",
      "\n",
      "\n",
      "At random state 10 the training accuracy is {0.4039897041222399}\n",
      "At random state 10 the testing accuracy is {0.3388229380593618}\n",
      "\n",
      "\n",
      "At random state 11 the training accuracy is {0.4014733414549774}\n",
      "At random state 11 the testing accuracy is {0.33769738319014275}\n",
      "\n",
      "\n",
      "At random state 12 the training accuracy is {0.39198261290151437}\n",
      "At random state 12 the testing accuracy is {0.3834364436855985}\n",
      "\n",
      "\n",
      "At random state 13 the training accuracy is {0.3717776566247246}\n",
      "At random state 13 the testing accuracy is {0.4393747484863354}\n",
      "\n",
      "\n",
      "At random state 14 the training accuracy is {0.3709702588990573}\n",
      "At random state 14 the testing accuracy is {0.45620912254500046}\n",
      "\n",
      "\n",
      "At random state 15 the training accuracy is {0.38929598012779965}\n",
      "At random state 15 the testing accuracy is {0.3886283581326695}\n",
      "\n",
      "\n",
      "At random state 16 the training accuracy is {0.4016099220484264}\n",
      "At random state 16 the testing accuracy is {0.33392032566994745}\n",
      "\n",
      "\n",
      "At random state 17 the training accuracy is {0.4073908495622217}\n",
      "At random state 17 the testing accuracy is {0.3308861995087917}\n",
      "\n",
      "\n",
      "At random state 18 the training accuracy is {0.37736401349055537}\n",
      "At random state 18 the testing accuracy is {0.42145571143859606}\n",
      "\n",
      "\n",
      "At random state 19 the training accuracy is {0.4043731963352305}\n",
      "At random state 19 the testing accuracy is {0.34471014879094086}\n",
      "\n",
      "\n",
      "At random state 20 the training accuracy is {0.38054937075345185}\n",
      "At random state 20 the testing accuracy is {0.4193913149635834}\n",
      "\n",
      "\n",
      "At random state 21 the training accuracy is {0.3957847170858333}\n",
      "At random state 21 the testing accuracy is {0.3725171708263696}\n",
      "\n",
      "\n",
      "At random state 22 the training accuracy is {0.3825219536890627}\n",
      "At random state 22 the testing accuracy is {0.40921384360408775}\n",
      "\n",
      "\n",
      "At random state 23 the training accuracy is {0.3845609992551319}\n",
      "At random state 23 the testing accuracy is {0.4039819154658064}\n",
      "\n",
      "\n",
      "At random state 24 the training accuracy is {0.40228427678885226}\n",
      "At random state 24 the testing accuracy is {0.34609431931738577}\n",
      "\n",
      "\n",
      "At random state 25 the training accuracy is {0.3784839649240952}\n",
      "At random state 25 the testing accuracy is {0.4196666052510216}\n",
      "\n",
      "\n",
      "At random state 26 the training accuracy is {0.41061746949841815}\n",
      "At random state 26 the testing accuracy is {0.3184771800987898}\n",
      "\n",
      "\n",
      "At random state 27 the training accuracy is {0.3698316647680894}\n",
      "At random state 27 the testing accuracy is {0.4481964389791989}\n",
      "\n",
      "\n",
      "At random state 28 the training accuracy is {0.3961497141834073}\n",
      "At random state 28 the testing accuracy is {0.36505889667332003}\n",
      "\n",
      "\n",
      "At random state 29 the training accuracy is {0.3686497402033351}\n",
      "At random state 29 the testing accuracy is {0.4462444301322537}\n",
      "\n",
      "\n",
      "At random state 30 the training accuracy is {0.3860129347869887}\n",
      "At random state 30 the testing accuracy is {0.40070501854605134}\n",
      "\n",
      "\n",
      "At random state 31 the training accuracy is {0.386803294963205}\n",
      "At random state 31 the testing accuracy is {0.39546915945962013}\n",
      "\n",
      "\n",
      "At random state 32 the training accuracy is {0.3883777666962952}\n",
      "At random state 32 the testing accuracy is {0.3823448257026668}\n",
      "\n",
      "\n",
      "At random state 33 the training accuracy is {0.37357121998118836}\n",
      "At random state 33 the testing accuracy is {0.4309445252849651}\n",
      "\n",
      "\n",
      "At random state 34 the training accuracy is {0.39558951492286587}\n",
      "At random state 34 the testing accuracy is {0.3620834160037091}\n",
      "\n",
      "\n",
      "At random state 35 the training accuracy is {0.38191531969093406}\n",
      "At random state 35 the testing accuracy is {0.40691658412849696}\n",
      "\n",
      "\n",
      "At random state 36 the training accuracy is {0.399082846623681}\n",
      "At random state 36 the testing accuracy is {0.3591407034891413}\n",
      "\n",
      "\n",
      "At random state 37 the training accuracy is {0.37307541628164675}\n",
      "At random state 37 the testing accuracy is {0.43073284744556395}\n",
      "\n",
      "\n",
      "At random state 38 the training accuracy is {0.3908186521824075}\n",
      "At random state 38 the testing accuracy is {0.3854861680296664}\n",
      "\n",
      "\n",
      "At random state 39 the training accuracy is {0.39174648148595803}\n",
      "At random state 39 the testing accuracy is {0.383899493435799}\n",
      "\n",
      "\n",
      "At random state 40 the training accuracy is {0.387468979559198}\n",
      "At random state 40 the testing accuracy is {0.393893430925224}\n",
      "\n",
      "\n",
      "At random state 41 the training accuracy is {0.3923278642257978}\n",
      "At random state 41 the testing accuracy is {0.3788951715426161}\n",
      "\n",
      "\n",
      "At random state 42 the training accuracy is {0.4295807712051195}\n",
      "At random state 42 the testing accuracy is {0.24815054613671028}\n",
      "\n",
      "\n",
      "At random state 43 the training accuracy is {0.3813330139747886}\n",
      "At random state 43 the testing accuracy is {0.41296280685029685}\n",
      "\n",
      "\n",
      "At random state 44 the training accuracy is {0.3979629427118766}\n",
      "At random state 44 the testing accuracy is {0.35785789778009225}\n",
      "\n",
      "\n",
      "At random state 45 the training accuracy is {0.40042831160231107}\n",
      "At random state 45 the testing accuracy is {0.3533356354105289}\n",
      "\n",
      "\n",
      "At random state 46 the training accuracy is {0.37593194654591444}\n",
      "At random state 46 the testing accuracy is {0.4288446544926129}\n",
      "\n",
      "\n",
      "At random state 47 the training accuracy is {0.4004535543514681}\n",
      "At random state 47 the testing accuracy is {0.35115587924697345}\n",
      "\n",
      "\n",
      "At random state 48 the training accuracy is {0.39429914069927796}\n",
      "At random state 48 the testing accuracy is {0.3656271640430844}\n",
      "\n",
      "\n",
      "At random state 49 the training accuracy is {0.40508752540689064}\n",
      "At random state 49 the testing accuracy is {0.33888808914529833}\n",
      "\n",
      "\n",
      "At random state 50 the training accuracy is {0.38993153707057004}\n",
      "At random state 50 the testing accuracy is {0.3880394931968243}\n",
      "\n",
      "\n",
      "At random state 51 the training accuracy is {0.3819716329912124}\n",
      "At random state 51 the testing accuracy is {0.4001800694276507}\n",
      "\n",
      "\n",
      "At random state 52 the training accuracy is {0.3900427198748614}\n",
      "At random state 52 the testing accuracy is {0.3850956053902831}\n",
      "\n",
      "\n",
      "At random state 53 the training accuracy is {0.37935601127539287}\n",
      "At random state 53 the testing accuracy is {0.411972425173026}\n",
      "\n",
      "\n",
      "At random state 54 the training accuracy is {0.4282700720962743}\n",
      "At random state 54 the testing accuracy is {0.2732741733773921}\n",
      "\n",
      "\n",
      "At random state 55 the training accuracy is {0.389274399132031}\n",
      "At random state 55 the testing accuracy is {0.38590759137165587}\n",
      "\n",
      "\n",
      "At random state 56 the training accuracy is {0.3971865239207045}\n",
      "At random state 56 the testing accuracy is {0.3591985986289957}\n",
      "\n",
      "\n",
      "At random state 57 the training accuracy is {0.39939407015051975}\n",
      "At random state 57 the testing accuracy is {0.35442618021112593}\n",
      "\n",
      "\n",
      "At random state 58 the training accuracy is {0.3816159341403539}\n",
      "At random state 58 the testing accuracy is {0.4155873177720002}\n",
      "\n",
      "\n",
      "At random state 59 the training accuracy is {0.4270197006668387}\n",
      "At random state 59 the testing accuracy is {0.292731922022168}\n",
      "\n",
      "\n",
      "At random state 60 the training accuracy is {0.38780647880817687}\n",
      "At random state 60 the testing accuracy is {0.38964978533983763}\n",
      "\n",
      "\n",
      "At random state 61 the training accuracy is {0.3874509558938659}\n",
      "At random state 61 the testing accuracy is {0.394570990978088}\n",
      "\n",
      "\n",
      "At random state 62 the training accuracy is {0.3875214131271886}\n",
      "At random state 62 the testing accuracy is {0.3959328359576896}\n",
      "\n",
      "\n",
      "At random state 63 the training accuracy is {0.3982639406416164}\n",
      "At random state 63 the testing accuracy is {0.3615891544735734}\n",
      "\n",
      "\n",
      "At random state 64 the training accuracy is {0.3567140090209563}\n",
      "At random state 64 the testing accuracy is {0.468282645743317}\n",
      "\n",
      "\n",
      "At random state 65 the training accuracy is {0.38974532909602777}\n",
      "At random state 65 the testing accuracy is {0.37585964530520044}\n",
      "\n",
      "\n",
      "At random state 66 the training accuracy is {0.38308862624393114}\n",
      "At random state 66 the testing accuracy is {0.40008615334194797}\n",
      "\n",
      "\n",
      "At random state 67 the training accuracy is {0.3984320698596625}\n",
      "At random state 67 the testing accuracy is {0.34476293007963477}\n",
      "\n",
      "\n",
      "At random state 68 the training accuracy is {0.4096445992957941}\n",
      "At random state 68 the testing accuracy is {0.31854655526433295}\n",
      "\n",
      "\n",
      "At random state 69 the training accuracy is {0.4002601353165678}\n",
      "At random state 69 the testing accuracy is {0.3589069230187726}\n",
      "\n",
      "\n",
      "At random state 70 the training accuracy is {0.40015906342982077}\n",
      "At random state 70 the testing accuracy is {0.3504450363737849}\n",
      "\n",
      "\n",
      "At random state 71 the training accuracy is {0.37453111597622035}\n",
      "At random state 71 the testing accuracy is {0.43102675923947575}\n",
      "\n",
      "\n",
      "At random state 72 the training accuracy is {0.4267998959174155}\n",
      "At random state 72 the testing accuracy is {0.2807584036239661}\n",
      "\n",
      "\n",
      "At random state 73 the training accuracy is {0.4039097474052722}\n",
      "At random state 73 the testing accuracy is {0.3499845111454818}\n",
      "\n",
      "\n",
      "At random state 74 the training accuracy is {0.3966783573555215}\n",
      "At random state 74 the testing accuracy is {0.32964702171626703}\n",
      "\n",
      "\n",
      "At random state 75 the training accuracy is {0.3924279577337051}\n",
      "At random state 75 the testing accuracy is {0.3792451925191538}\n",
      "\n",
      "\n",
      "At random state 76 the training accuracy is {0.39643610824931697}\n",
      "At random state 76 the testing accuracy is {0.36652657752473194}\n",
      "\n",
      "\n",
      "At random state 77 the training accuracy is {0.3854761046237919}\n",
      "At random state 77 the testing accuracy is {0.3962168514305805}\n",
      "\n",
      "\n",
      "At random state 78 the training accuracy is {0.39107337016114385}\n",
      "At random state 78 the testing accuracy is {0.38642422181727354}\n",
      "\n",
      "\n",
      "At random state 79 the training accuracy is {0.40097205686139836}\n",
      "At random state 79 the testing accuracy is {0.35230289454922437}\n",
      "\n",
      "\n",
      "At random state 80 the training accuracy is {0.3939922278616129}\n",
      "At random state 80 the testing accuracy is {0.3744361636968073}\n",
      "\n",
      "\n",
      "At random state 81 the training accuracy is {0.4109899754461932}\n",
      "At random state 81 the testing accuracy is {0.32333573233330437}\n",
      "\n",
      "\n",
      "At random state 82 the training accuracy is {0.40407419969915337}\n",
      "At random state 82 the testing accuracy is {0.31838125949050344}\n",
      "\n",
      "\n",
      "At random state 83 the training accuracy is {0.4005524967471147}\n",
      "At random state 83 the testing accuracy is {0.35536696565355286}\n",
      "\n",
      "\n",
      "At random state 84 the training accuracy is {0.39814305124395655}\n",
      "At random state 84 the testing accuracy is {0.36323546053640743}\n",
      "\n",
      "\n",
      "At random state 85 the training accuracy is {0.40306134561031637}\n",
      "At random state 85 the testing accuracy is {0.3455846390295775}\n",
      "\n",
      "\n",
      "At random state 86 the training accuracy is {0.4008950719894462}\n",
      "At random state 86 the testing accuracy is {0.35316197483111067}\n",
      "\n",
      "\n",
      "At random state 87 the training accuracy is {0.39518634628913796}\n",
      "At random state 87 the testing accuracy is {0.3633642229623817}\n",
      "\n",
      "\n",
      "At random state 88 the training accuracy is {0.37266506235266195}\n",
      "At random state 88 the testing accuracy is {0.432603580102212}\n",
      "\n",
      "\n",
      "At random state 89 the training accuracy is {0.3870957012398869}\n",
      "At random state 89 the testing accuracy is {0.39029449364914615}\n",
      "\n",
      "\n",
      "At random state 90 the training accuracy is {0.39449773863275117}\n",
      "At random state 90 the testing accuracy is {0.36128016224427784}\n",
      "\n",
      "\n",
      "At random state 91 the training accuracy is {0.388249094460581}\n",
      "At random state 91 the testing accuracy is {0.3813916375891194}\n",
      "\n",
      "\n",
      "At random state 92 the training accuracy is {0.39410665274892687}\n",
      "At random state 92 the testing accuracy is {0.356479259046215}\n",
      "\n",
      "\n",
      "At random state 93 the training accuracy is {0.3792450748458026}\n",
      "At random state 93 the testing accuracy is {0.4144323181949926}\n",
      "\n",
      "\n",
      "At random state 94 the training accuracy is {0.37683124876302954}\n",
      "At random state 94 the testing accuracy is {0.4173960754944871}\n",
      "\n",
      "\n",
      "At random state 95 the training accuracy is {0.3830073924616856}\n",
      "At random state 95 the testing accuracy is {0.4075914687715346}\n",
      "\n",
      "\n",
      "At random state 96 the training accuracy is {0.3778976556361442}\n",
      "At random state 96 the testing accuracy is {0.4139140001395124}\n",
      "\n",
      "\n",
      "At random state 97 the training accuracy is {0.3793754647382296}\n",
      "At random state 97 the testing accuracy is {0.4184580731683455}\n",
      "\n",
      "\n",
      "At random state 98 the training accuracy is {0.3800286989019366}\n",
      "At random state 98 the testing accuracy is {0.3951986622240904}\n",
      "\n",
      "\n",
      "At random state 99 the training accuracy is {0.4042160216940519}\n",
      "At random state 99 the testing accuracy is {0.3389636577205709}\n",
      "\n",
      "\n"
     ]
    }
   ],
   "source": [
    "for i in range(0,100):\n",
    "    x_train,x_test,y_train,y_test=train_test_split(x,y,test_size=0.25,random_state=i)\n",
    "    lr.fit(x_train,y_train)\n",
    "    pred_train = lr.predict(x_train)\n",
    "    pred_test = lr.predict(x_test)\n",
    "    print(\"At random state\",i , \"the training accuracy is\",  {r2_score(y_train,pred_train)})\n",
    "    \n",
    "    print(\"At random state\",i , \"the testing accuracy is\" , {r2_score(y_test,pred_test)})\n",
    "    print(\"\\n\")"
   ]
  },
  {
   "cell_type": "code",
   "execution_count": 128,
   "id": "3cb86987",
   "metadata": {},
   "outputs": [],
   "source": [
    "x_train,x_test,y_train,y_test=train_test_split(x,y,test_size=0.25,random_state=64)"
   ]
  },
  {
   "cell_type": "code",
   "execution_count": 129,
   "id": "62c33740",
   "metadata": {},
   "outputs": [
    {
     "data": {
      "text/plain": [
       "LinearRegression()"
      ]
     },
     "execution_count": 129,
     "metadata": {},
     "output_type": "execute_result"
    }
   ],
   "source": [
    "lr.fit(x_train,y_train)"
   ]
  },
  {
   "cell_type": "code",
   "execution_count": 130,
   "id": "f946bc15",
   "metadata": {},
   "outputs": [],
   "source": [
    "pred_test = lr.predict(x_test)"
   ]
  },
  {
   "cell_type": "code",
   "execution_count": 132,
   "id": "54c23cad",
   "metadata": {},
   "outputs": [
    {
     "name": "stdout",
     "output_type": "stream",
     "text": [
      "0.468282645743317\n"
     ]
    }
   ],
   "source": [
    "print(r2_score(y_test,pred_test))"
   ]
  },
  {
   "cell_type": "code",
   "execution_count": 133,
   "id": "363b522b",
   "metadata": {},
   "outputs": [],
   "source": [
    "from sklearn.model_selection import cross_val_score"
   ]
  },
  {
   "cell_type": "code",
   "execution_count": 134,
   "id": "6c6c32fb",
   "metadata": {},
   "outputs": [
    {
     "data": {
      "text/plain": [
       "0.3676132435121353"
      ]
     },
     "execution_count": 134,
     "metadata": {},
     "output_type": "execute_result"
    }
   ],
   "source": [
    "cv_score = cross_val_score(lr,x,y,cv=7)\n",
    "cv_mean = cv_score.mean()\n",
    "cv_mean"
   ]
  },
  {
   "cell_type": "code",
   "execution_count": 135,
   "id": "3ba913f6",
   "metadata": {},
   "outputs": [],
   "source": [
    "from sklearn import metrics"
   ]
  },
  {
   "cell_type": "code",
   "execution_count": 136,
   "id": "a903a33e",
   "metadata": {},
   "outputs": [],
   "source": [
    "MAE = metrics.mean_absolute_error(y_test,pred_test)\n",
    "MSE = metrics.mean_squared_error(y_test,pred_test)"
   ]
  },
  {
   "cell_type": "code",
   "execution_count": 137,
   "id": "f963cab9",
   "metadata": {},
   "outputs": [
    {
     "name": "stdout",
     "output_type": "stream",
     "text": [
      "mean absolute error: 1.3732830168771084\n",
      "mean squared error: 2.955138713762074\n"
     ]
    }
   ],
   "source": [
    "print(\"mean absolute error:\",MAE)\n",
    "print(\"mean squared error:\",MSE)"
   ]
  },
  {
   "cell_type": "code",
   "execution_count": 138,
   "id": "8abcc177",
   "metadata": {},
   "outputs": [
    {
     "name": "stdout",
     "output_type": "stream",
     "text": [
      "Root Mean Squared Error: 1.7190516902531099\n"
     ]
    }
   ],
   "source": [
    "from math import sqrt\n",
    "rmse = sqrt(MSE)\n",
    "print(\"Root Mean Squared Error:\",rmse)"
   ]
  },
  {
   "cell_type": "code",
   "execution_count": 139,
   "id": "1bfcb0e2",
   "metadata": {},
   "outputs": [
    {
     "name": "stdout",
     "output_type": "stream",
     "text": [
      "{'alpha': 0.01, 'random_state': 2}\n"
     ]
    }
   ],
   "source": [
    "from sklearn.linear_model import Lasso\n",
    "parameters = {'alpha':[.0001,.001,.01,.1,1,10],'random_state':list(range(2,10))}\n",
    "\n",
    "ls = Lasso()\n",
    "clf = GridSearchCV(ls,parameters)\n",
    "clf.fit(x_train,y_train)\n",
    "\n",
    "print(clf.best_params_)"
   ]
  },
  {
   "cell_type": "code",
   "execution_count": 140,
   "id": "16213993",
   "metadata": {},
   "outputs": [],
   "source": [
    "ls = Lasso(alpha=0.0001,random_state=2)\n",
    "ls.fit(x_train,y_train)\n",
    "ls.score(x_train,y_train)\n",
    "pred_ls = ls.predict(x_test)\n"
   ]
  },
  {
   "cell_type": "code",
   "execution_count": 141,
   "id": "16ae9839",
   "metadata": {},
   "outputs": [
    {
     "data": {
      "text/plain": [
       "0.46825851006464314"
      ]
     },
     "execution_count": 141,
     "metadata": {},
     "output_type": "execute_result"
    }
   ],
   "source": [
    "lss = r2_score(y_test,pred_ls)\n",
    "lss"
   ]
  },
  {
   "cell_type": "code",
   "execution_count": 142,
   "id": "f8612762",
   "metadata": {},
   "outputs": [
    {
     "data": {
      "text/plain": [
       "0.36761282126960626"
      ]
     },
     "execution_count": 142,
     "metadata": {},
     "output_type": "execute_result"
    }
   ],
   "source": [
    "cv_score = cross_val_score(ls,x,y,cv=7)\n",
    "cv_mean = cv_score.mean()\n",
    "cv_mean"
   ]
  },
  {
   "cell_type": "code",
   "execution_count": 143,
   "id": "c0f14180",
   "metadata": {},
   "outputs": [],
   "source": [
    "# WITH RANDOM FOREST"
   ]
  },
  {
   "cell_type": "code",
   "execution_count": 144,
   "id": "01fba24f",
   "metadata": {},
   "outputs": [],
   "source": [
    "from sklearn.ensemble import RandomForestRegressor"
   ]
  },
  {
   "cell_type": "code",
   "execution_count": 145,
   "id": "13e9e131",
   "metadata": {},
   "outputs": [],
   "source": [
    "rf = RandomForestRegressor(criterion=\"mse\",max_features=\"auto\",max_depth=3,min_samples_leaf=2)\n",
    "rf.fit(x_train,y_train)\n",
    "rf.score(x_train,y_train)\n",
    "pred_dec = rf.predict(x_test)"
   ]
  },
  {
   "cell_type": "code",
   "execution_count": 147,
   "id": "32d09ebc",
   "metadata": {},
   "outputs": [
    {
     "name": "stdout",
     "output_type": "stream",
     "text": [
      "R2 Score: 85.08185380669939\n",
      "Cross val Score : 81.64452793797943\n"
     ]
    }
   ],
   "source": [
    "rfs = r2_score(y_test,pred_dec)\n",
    "print('R2 Score:',rfs*100)\n",
    "rf_score = cross_val_score(rf,x,y,cv=3)\n",
    "rfc = rf_score.mean()\n",
    "print(\"Cross val Score :\",rfc*100)"
   ]
  },
  {
   "cell_type": "code",
   "execution_count": 148,
   "id": "b96b8be3",
   "metadata": {},
   "outputs": [],
   "source": [
    "# WITH ADABOOST"
   ]
  },
  {
   "cell_type": "code",
   "execution_count": 149,
   "id": "bfd4273f",
   "metadata": {},
   "outputs": [],
   "source": [
    "from sklearn.ensemble import AdaBoostRegressor\n",
    "from sklearn.model_selection import RandomizedSearchCV"
   ]
  },
  {
   "cell_type": "code",
   "execution_count": 150,
   "id": "2960009e",
   "metadata": {},
   "outputs": [],
   "source": [
    "params = {'n_estimators':[47,50,60,70],'learning_rate':[0.25,0.30,0.40]}"
   ]
  },
  {
   "cell_type": "code",
   "execution_count": 151,
   "id": "4e598991",
   "metadata": {},
   "outputs": [],
   "source": [
    "rnd_srch = RandomizedSearchCV(AdaBoostRegressor(),cv=3,param_distributions=params)"
   ]
  },
  {
   "cell_type": "code",
   "execution_count": 152,
   "id": "48b9a548",
   "metadata": {},
   "outputs": [
    {
     "data": {
      "text/plain": [
       "RandomizedSearchCV(cv=3, estimator=AdaBoostRegressor(),\n",
       "                   param_distributions={'learning_rate': [0.25, 0.3, 0.4],\n",
       "                                        'n_estimators': [47, 50, 60, 70]})"
      ]
     },
     "execution_count": 152,
     "metadata": {},
     "output_type": "execute_result"
    }
   ],
   "source": [
    "rnd_srch.fit(x_train,y_train)"
   ]
  },
  {
   "cell_type": "code",
   "execution_count": 153,
   "id": "551ae6fe",
   "metadata": {},
   "outputs": [
    {
     "data": {
      "text/plain": [
       "AdaBoostRegressor(learning_rate=0.4, n_estimators=47)"
      ]
     },
     "execution_count": 153,
     "metadata": {},
     "output_type": "execute_result"
    }
   ],
   "source": [
    "rnd_srch.best_estimator_"
   ]
  },
  {
   "cell_type": "code",
   "execution_count": 155,
   "id": "e32b9c27",
   "metadata": {},
   "outputs": [],
   "source": [
    "ada = AdaBoostRegressor(learning_rate=0.4,n_estimators=47)"
   ]
  },
  {
   "cell_type": "code",
   "execution_count": 156,
   "id": "e534809a",
   "metadata": {},
   "outputs": [
    {
     "data": {
      "text/plain": [
       "AdaBoostRegressor(learning_rate=0.4, n_estimators=47)"
      ]
     },
     "execution_count": 156,
     "metadata": {},
     "output_type": "execute_result"
    }
   ],
   "source": [
    "ada.fit(x_train,y_train)"
   ]
  },
  {
   "cell_type": "code",
   "execution_count": 157,
   "id": "39923ca7",
   "metadata": {},
   "outputs": [
    {
     "name": "stdout",
     "output_type": "stream",
     "text": [
      "0.8220334332886585\n"
     ]
    }
   ],
   "source": [
    "y_pred = ada.predict(x_test)\n",
    "\n",
    "print(r2_score(y_test,y_pred))"
   ]
  },
  {
   "cell_type": "code",
   "execution_count": 158,
   "id": "08cd19ff",
   "metadata": {},
   "outputs": [
    {
     "data": {
      "text/plain": [
       "0.8057648283379856"
      ]
     },
     "execution_count": 158,
     "metadata": {},
     "output_type": "execute_result"
    }
   ],
   "source": [
    "cv_score = cross_val_score(ada,x,y,cv=7)\n",
    "cv_mean = cv_score.mean()\n",
    "cv_mean"
   ]
  },
  {
   "cell_type": "raw",
   "id": "c30223ee",
   "metadata": {},
   "source": [
    "# so as the diff between the r2 score and cross val score is less in ADABOOST REGRESSOR  ALGO so we used ada to predict our model"
   ]
  },
  {
   "cell_type": "code",
   "execution_count": 163,
   "id": "7f90ac16",
   "metadata": {},
   "outputs": [],
   "source": [
    "# to sav the model for later prediction with ada regressor algo"
   ]
  },
  {
   "cell_type": "code",
   "execution_count": 164,
   "id": "13a5b2f7",
   "metadata": {},
   "outputs": [],
   "source": [
    "filename = 'capacity_mw of GLOBAL PLANT.pickle'\n",
    "pickle.dump(ada,open(filename,'wb'))"
   ]
  },
  {
   "cell_type": "code",
   "execution_count": null,
   "id": "f8d15a67",
   "metadata": {},
   "outputs": [],
   "source": []
  },
  {
   "cell_type": "code",
   "execution_count": null,
   "id": "32cdba84",
   "metadata": {},
   "outputs": [],
   "source": []
  },
  {
   "cell_type": "markdown",
   "id": "d4a85f60",
   "metadata": {},
   "source": [
    "# Hence my model is completed and saved to predict both labels"
   ]
  }
 ],
 "metadata": {
  "kernelspec": {
   "display_name": "Python 3 (ipykernel)",
   "language": "python",
   "name": "python3"
  },
  "language_info": {
   "codemirror_mode": {
    "name": "ipython",
    "version": 3
   },
   "file_extension": ".py",
   "mimetype": "text/x-python",
   "name": "python",
   "nbconvert_exporter": "python",
   "pygments_lexer": "ipython3",
   "version": "3.9.7"
  }
 },
 "nbformat": 4,
 "nbformat_minor": 5
}
